{
 "cells": [
  {
   "cell_type": "markdown",
   "metadata": {
    "colab_type": "text",
    "id": "Y57RMM1LEQmR"
   },
   "source": [
    "#  <span style=\"color:black\">Binary Classification Tutorial - Level Beginner</span>"
   ]
  },
  {
   "cell_type": "markdown",
   "metadata": {
    "colab_type": "text",
    "id": "GM-nQ7LqEQma"
   },
   "source": [
    "**Created using:** PyCaret 3.0.0rc6 <br />\n",
    "**Date Updated:** January 8, 2023\n",
    "\n",
    "# Tutorial Objective\n",
    "Welcome to the Binary Classification Tutorial - Level Beginner. This tutorial assumes that you are new to PyCaret with no prior experience.\n",
    "\n",
    "In this tutorial you will learn:\n",
    "\n",
    "* **Install PyCaret:**  How to install PyCaret\n",
    "* **Introduction:** Introduction to Binary Classification\n",
    "* **Getting Data:**  How to get sample data from PyCaret dataset repository\n",
    "* **Setup:**  How to initialize experiment in PyCaret\n",
    "* **Create Model:**  How to train a model with cross-validation\n",
    "* **Tune Model:**  How to automatically tune the hyper-parameters of a model\n",
    "* **Plot Model:**  How to analyze model performance using visualizations\n",
    "* **Finalize Model:** How to finalize the best model at the end of the experiment\n",
    "* **Predict Model:**  How to make predictions on new / unseen data\n",
    "* **Save Model:**  How to save a model for future use\n",
    "* **Load Model:**  How to load a saved model from file\n",
    "\n",
    "**Read Time:** Approx. 45 Minutes <br />\n",
    "**Run Time:** <5 minutes\n",
    "\n",
    "\n",
    "# Install PyCaret\n",
    "You can install pycaret using pip. \n",
    "\n",
    "`pip install pycaret`  <br />\n",
    "\n",
    "To install the full version with all dependencies use: <br />\n",
    "\n",
    "`pip install pycaret[full]`\n",
    "\n",
    "\n",
    "# You may also be interested in:\n",
    "- [Binary Classification Tutorial - Intermediate Level](https://github.com/pycaret/pycaret/blob/master/tutorials/Binary%20Classification%20Tutorial%20Level%20Intermediate%20-%20CLF102.ipynb)\n",
    "- [Binary Classification Tutorial - Expert Level](https://github.com/pycaret/pycaret/blob/master/tutorials/Binary%20Classification%20Tutorial%20Level%20Expert%20-%20CLF103.ipynb)"
   ]
  },
  {
   "cell_type": "markdown",
   "metadata": {
    "colab_type": "text",
    "id": "2DJaOwC_EQme"
   },
   "source": [
    "# What is Binary Classification?\n",
    "Binary classification is a supervised machine learning technique where the goal is to predict categorical class labels which are discrete and unoredered such as Pass/Fail, Positive/Negative, Default/Not-Default etc. A few real world use cases for classification are listed below:\n",
    "\n",
    "- Medical testing to determine if a patient has a certain disease or not - the classification property is the presence of the disease.\n",
    "- A \"pass or fail\" test method or quality control in factories, i.e. deciding if a specification has or has not been met – a go/no-go classification.\n",
    "- Information retrieval, namely deciding whether a page or an article should be in the result set of a search or not – the classification property is the relevance of the article, or the usefulness to the user.\n",
    "\n",
    "[Learn More about Binary Classification](https://towardsdatascience.com/introduction-to-binary-classification-with-pycaret-a37b3e89ad8d)"
   ]
  },
  {
   "cell_type": "markdown",
   "metadata": {
    "colab_type": "text",
    "id": "aAKRo-EbEQml"
   },
   "source": [
    "# Dataset"
   ]
  },
  {
   "cell_type": "markdown",
   "metadata": {
    "colab_type": "text",
    "id": "VLKxlFjrEQmq"
   },
   "source": [
    "In this tutorial we will use a dataset from UCI called **Default of Credit Card Clients Dataset**. This dataset contains information on default payments, demographic factors, credit data, payment history, and billing statements of credit card clients in Taiwan from April 2005 to September 2005. There are 24,000 samples and 25 features. Short descriptions of each column are as follows:\n",
    "\n",
    "- **ID:** ID of each client\n",
    "- **LIMIT_BAL:** Amount of given credit in NT dollars (includes individual and family/supplementary credit)\n",
    "- **SEX:** Gender (1=male, 2=female)\n",
    "- **EDUCATION:** (1=graduate school, 2=university, 3=high school, 4=others, 5=unknown, 6=unknown)\n",
    "- **MARRIAGE:** Marital status (1=married, 2=single, 3=others)\n",
    "- **AGE:** Age in years\n",
    "- **PAY_1 to PAY_6:** Repayment status by n months ago (PAY_1 = last month ... PAY_6 = 6 months ago) (Labels: -1=pay duly, 1=payment delay for one month, 2=payment delay for two months, ... 8=payment delay for eight months, 9=payment delay for nine months and above)\n",
    "- **BILL_AMT1 to BILL_AMT6:** Amount of bill statement by n months ago ( BILL_AMT1 = last_month .. BILL_AMT6 = 6 months ago)\n",
    "- **PAY_AMT1 to PAY_AMT6:** Amount of payment by n months ago ( BILL_AMT1 = last_month .. BILL_AMT6 = 6 months ago)\n",
    "- **default:** Default payment (1=yes, 0=no) `Target Column`\n",
    "\n",
    "# Dataset Acknowledgement:\n",
    "Lichman, M. (2013). UCI Machine Learning Repository. Irvine, CA: University of California, School of Information and Computer Science.\n",
    "\n",
    "The original dataset and data dictionary can be [found here](https://archive.ics.uci.edu/ml/datasets/default+of+credit+card+clients)"
   ]
  },
  {
   "cell_type": "markdown",
   "metadata": {
    "colab_type": "text",
    "id": "Ui_rALqYEQmv"
   },
   "source": [
    "# Getting the Data"
   ]
  },
  {
   "cell_type": "markdown",
   "metadata": {
    "colab_type": "text",
    "id": "BfqIMeJNEQmz"
   },
   "source": [
    "You can use `get_data` function from `datasets` module to load the `credit` dataset. [Source](https://archive.ics.uci.edu/ml/datasets/default+of+credit+card+clients)"
   ]
  },
  {
   "cell_type": "code",
   "execution_count": 2,
   "metadata": {
    "colab": {
     "base_uri": "https://localhost:8080/",
     "height": 211
    },
    "colab_type": "code",
    "id": "lUvE187JEQm3",
    "outputId": "8741262c-0e33-4ec0-b54d-3c8fb41e52c0"
   },
   "outputs": [
    {
     "data": {
      "text/html": [
       "<div>\n",
       "<style scoped>\n",
       "    .dataframe tbody tr th:only-of-type {\n",
       "        vertical-align: middle;\n",
       "    }\n",
       "\n",
       "    .dataframe tbody tr th {\n",
       "        vertical-align: top;\n",
       "    }\n",
       "\n",
       "    .dataframe thead th {\n",
       "        text-align: right;\n",
       "    }\n",
       "</style>\n",
       "<table border=\"1\" class=\"dataframe\">\n",
       "  <thead>\n",
       "    <tr style=\"text-align: right;\">\n",
       "      <th></th>\n",
       "      <th>LIMIT_BAL</th>\n",
       "      <th>SEX</th>\n",
       "      <th>EDUCATION</th>\n",
       "      <th>MARRIAGE</th>\n",
       "      <th>AGE</th>\n",
       "      <th>PAY_1</th>\n",
       "      <th>PAY_2</th>\n",
       "      <th>PAY_3</th>\n",
       "      <th>PAY_4</th>\n",
       "      <th>PAY_5</th>\n",
       "      <th>...</th>\n",
       "      <th>BILL_AMT4</th>\n",
       "      <th>BILL_AMT5</th>\n",
       "      <th>BILL_AMT6</th>\n",
       "      <th>PAY_AMT1</th>\n",
       "      <th>PAY_AMT2</th>\n",
       "      <th>PAY_AMT3</th>\n",
       "      <th>PAY_AMT4</th>\n",
       "      <th>PAY_AMT5</th>\n",
       "      <th>PAY_AMT6</th>\n",
       "      <th>default</th>\n",
       "    </tr>\n",
       "  </thead>\n",
       "  <tbody>\n",
       "    <tr>\n",
       "      <th>0</th>\n",
       "      <td>20000</td>\n",
       "      <td>2</td>\n",
       "      <td>2</td>\n",
       "      <td>1</td>\n",
       "      <td>24</td>\n",
       "      <td>2</td>\n",
       "      <td>2</td>\n",
       "      <td>-1</td>\n",
       "      <td>-1</td>\n",
       "      <td>-2</td>\n",
       "      <td>...</td>\n",
       "      <td>0.0</td>\n",
       "      <td>0.0</td>\n",
       "      <td>0.0</td>\n",
       "      <td>0.0</td>\n",
       "      <td>689.0</td>\n",
       "      <td>0.0</td>\n",
       "      <td>0.0</td>\n",
       "      <td>0.0</td>\n",
       "      <td>0.0</td>\n",
       "      <td>1</td>\n",
       "    </tr>\n",
       "    <tr>\n",
       "      <th>1</th>\n",
       "      <td>90000</td>\n",
       "      <td>2</td>\n",
       "      <td>2</td>\n",
       "      <td>2</td>\n",
       "      <td>34</td>\n",
       "      <td>0</td>\n",
       "      <td>0</td>\n",
       "      <td>0</td>\n",
       "      <td>0</td>\n",
       "      <td>0</td>\n",
       "      <td>...</td>\n",
       "      <td>14331.0</td>\n",
       "      <td>14948.0</td>\n",
       "      <td>15549.0</td>\n",
       "      <td>1518.0</td>\n",
       "      <td>1500.0</td>\n",
       "      <td>1000.0</td>\n",
       "      <td>1000.0</td>\n",
       "      <td>1000.0</td>\n",
       "      <td>5000.0</td>\n",
       "      <td>0</td>\n",
       "    </tr>\n",
       "    <tr>\n",
       "      <th>2</th>\n",
       "      <td>50000</td>\n",
       "      <td>2</td>\n",
       "      <td>2</td>\n",
       "      <td>1</td>\n",
       "      <td>37</td>\n",
       "      <td>0</td>\n",
       "      <td>0</td>\n",
       "      <td>0</td>\n",
       "      <td>0</td>\n",
       "      <td>0</td>\n",
       "      <td>...</td>\n",
       "      <td>28314.0</td>\n",
       "      <td>28959.0</td>\n",
       "      <td>29547.0</td>\n",
       "      <td>2000.0</td>\n",
       "      <td>2019.0</td>\n",
       "      <td>1200.0</td>\n",
       "      <td>1100.0</td>\n",
       "      <td>1069.0</td>\n",
       "      <td>1000.0</td>\n",
       "      <td>0</td>\n",
       "    </tr>\n",
       "    <tr>\n",
       "      <th>3</th>\n",
       "      <td>50000</td>\n",
       "      <td>1</td>\n",
       "      <td>2</td>\n",
       "      <td>1</td>\n",
       "      <td>57</td>\n",
       "      <td>-1</td>\n",
       "      <td>0</td>\n",
       "      <td>-1</td>\n",
       "      <td>0</td>\n",
       "      <td>0</td>\n",
       "      <td>...</td>\n",
       "      <td>20940.0</td>\n",
       "      <td>19146.0</td>\n",
       "      <td>19131.0</td>\n",
       "      <td>2000.0</td>\n",
       "      <td>36681.0</td>\n",
       "      <td>10000.0</td>\n",
       "      <td>9000.0</td>\n",
       "      <td>689.0</td>\n",
       "      <td>679.0</td>\n",
       "      <td>0</td>\n",
       "    </tr>\n",
       "    <tr>\n",
       "      <th>4</th>\n",
       "      <td>50000</td>\n",
       "      <td>1</td>\n",
       "      <td>1</td>\n",
       "      <td>2</td>\n",
       "      <td>37</td>\n",
       "      <td>0</td>\n",
       "      <td>0</td>\n",
       "      <td>0</td>\n",
       "      <td>0</td>\n",
       "      <td>0</td>\n",
       "      <td>...</td>\n",
       "      <td>19394.0</td>\n",
       "      <td>19619.0</td>\n",
       "      <td>20024.0</td>\n",
       "      <td>2500.0</td>\n",
       "      <td>1815.0</td>\n",
       "      <td>657.0</td>\n",
       "      <td>1000.0</td>\n",
       "      <td>1000.0</td>\n",
       "      <td>800.0</td>\n",
       "      <td>0</td>\n",
       "    </tr>\n",
       "  </tbody>\n",
       "</table>\n",
       "<p>5 rows × 24 columns</p>\n",
       "</div>"
      ],
      "text/plain": [
       "   LIMIT_BAL  SEX  EDUCATION  MARRIAGE  AGE  PAY_1  PAY_2  PAY_3  PAY_4  \\\n",
       "0      20000    2          2         1   24      2      2     -1     -1   \n",
       "1      90000    2          2         2   34      0      0      0      0   \n",
       "2      50000    2          2         1   37      0      0      0      0   \n",
       "3      50000    1          2         1   57     -1      0     -1      0   \n",
       "4      50000    1          1         2   37      0      0      0      0   \n",
       "\n",
       "   PAY_5  ...  BILL_AMT4  BILL_AMT5  BILL_AMT6  PAY_AMT1  PAY_AMT2  PAY_AMT3  \\\n",
       "0     -2  ...        0.0        0.0        0.0       0.0     689.0       0.0   \n",
       "1      0  ...    14331.0    14948.0    15549.0    1518.0    1500.0    1000.0   \n",
       "2      0  ...    28314.0    28959.0    29547.0    2000.0    2019.0    1200.0   \n",
       "3      0  ...    20940.0    19146.0    19131.0    2000.0   36681.0   10000.0   \n",
       "4      0  ...    19394.0    19619.0    20024.0    2500.0    1815.0     657.0   \n",
       "\n",
       "   PAY_AMT4  PAY_AMT5  PAY_AMT6  default  \n",
       "0       0.0       0.0       0.0        1  \n",
       "1    1000.0    1000.0    5000.0        0  \n",
       "2    1100.0    1069.0    1000.0        0  \n",
       "3    9000.0     689.0     679.0        0  \n",
       "4    1000.0    1000.0     800.0        0  \n",
       "\n",
       "[5 rows x 24 columns]"
      ]
     },
     "metadata": {},
     "output_type": "display_data"
    }
   ],
   "source": [
    "from pycaret.datasets import get_data\n",
    "dataset = get_data('credit')"
   ]
  },
  {
   "cell_type": "code",
   "execution_count": 3,
   "metadata": {
    "colab": {
     "base_uri": "https://localhost:8080/",
     "height": 33
    },
    "colab_type": "code",
    "id": "kMqDGBkJEQnN",
    "outputId": "b2015b7a-4c1a-4377-d9cf-3e9ac5ce3ea2"
   },
   "outputs": [
    {
     "data": {
      "text/plain": [
       "(24000, 24)"
      ]
     },
     "execution_count": 3,
     "metadata": {},
     "output_type": "execute_result"
    }
   ],
   "source": [
    "#check the shape of data\n",
    "dataset.shape"
   ]
  },
  {
   "cell_type": "markdown",
   "metadata": {
    "colab_type": "text",
    "id": "LyGFryEhEQne"
   },
   "source": [
    "In order to demonstrate the use of the predict function in pycaret, a sample of 5% is withheld from the raw dataset."
   ]
  },
  {
   "cell_type": "code",
   "execution_count": 4,
   "metadata": {
    "colab": {
     "base_uri": "https://localhost:8080/",
     "height": 50
    },
    "colab_type": "code",
    "id": "hXmaL1xFEQnj",
    "outputId": "f1f62a7d-5d3d-4832-ee00-a4d20ee39c41"
   },
   "outputs": [
    {
     "name": "stdout",
     "output_type": "stream",
     "text": [
      "Data for Modeling: (22800, 24)\n",
      "Unseen Data For Predictions: (1200, 24)\n"
     ]
    }
   ],
   "source": [
    "# split data into 95% and 5%\n",
    "data = dataset.sample(frac=0.95, random_state=786)\n",
    "data_unseen = dataset.drop(data.index)\n",
    "data.reset_index(inplace=True, drop=True)\n",
    "data_unseen.reset_index(inplace=True, drop=True)\n",
    "print('Data for Modeling: ' + str(data.shape))\n",
    "print('Unseen Data For Predictions: ' + str(data_unseen.shape))"
   ]
  },
  {
   "cell_type": "markdown",
   "metadata": {
    "colab_type": "text",
    "id": "y9s9wNcjEQn0"
   },
   "source": [
    "# Initializing Setup"
   ]
  },
  {
   "cell_type": "markdown",
   "metadata": {
    "colab_type": "text",
    "id": "ZlA01j6NEQn7"
   },
   "source": [
    "The `setup` function initializes the experiment in PyCaret and creates the transformation pipeline based on all the parameters passed in the function. Setup function must be called before executing any other function. It takes two required parameters: `data` and `target`. All the other parameters are optional."
   ]
  },
  {
   "cell_type": "code",
   "execution_count": 5,
   "metadata": {
    "colab": {},
    "colab_type": "code",
    "id": "BOmRR0deEQoA"
   },
   "outputs": [],
   "source": [
    "from pycaret.classification import *"
   ]
  },
  {
   "cell_type": "code",
   "execution_count": 6,
   "metadata": {
    "colab": {
     "base_uri": "https://localhost:8080/",
     "height": 803
    },
    "colab_type": "code",
    "id": "k2IuvfDHEQoO",
    "outputId": "c7754ae9-b060-4218-b6f0-de65a815aa3a",
    "scrolled": false
   },
   "outputs": [
    {
     "data": {
      "text/html": [
       "<style type=\"text/css\">\n",
       "#T_4a71d_row8_col1 {\n",
       "  background-color: lightgreen;\n",
       "}\n",
       "</style>\n",
       "<table id=\"T_4a71d\">\n",
       "  <thead>\n",
       "    <tr>\n",
       "      <th class=\"blank level0\" >&nbsp;</th>\n",
       "      <th id=\"T_4a71d_level0_col0\" class=\"col_heading level0 col0\" >Description</th>\n",
       "      <th id=\"T_4a71d_level0_col1\" class=\"col_heading level0 col1\" >Value</th>\n",
       "    </tr>\n",
       "  </thead>\n",
       "  <tbody>\n",
       "    <tr>\n",
       "      <th id=\"T_4a71d_level0_row0\" class=\"row_heading level0 row0\" >0</th>\n",
       "      <td id=\"T_4a71d_row0_col0\" class=\"data row0 col0\" >Session id</td>\n",
       "      <td id=\"T_4a71d_row0_col1\" class=\"data row0 col1\" >123</td>\n",
       "    </tr>\n",
       "    <tr>\n",
       "      <th id=\"T_4a71d_level0_row1\" class=\"row_heading level0 row1\" >1</th>\n",
       "      <td id=\"T_4a71d_row1_col0\" class=\"data row1 col0\" >Target</td>\n",
       "      <td id=\"T_4a71d_row1_col1\" class=\"data row1 col1\" >default</td>\n",
       "    </tr>\n",
       "    <tr>\n",
       "      <th id=\"T_4a71d_level0_row2\" class=\"row_heading level0 row2\" >2</th>\n",
       "      <td id=\"T_4a71d_row2_col0\" class=\"data row2 col0\" >Target type</td>\n",
       "      <td id=\"T_4a71d_row2_col1\" class=\"data row2 col1\" >Binary</td>\n",
       "    </tr>\n",
       "    <tr>\n",
       "      <th id=\"T_4a71d_level0_row3\" class=\"row_heading level0 row3\" >3</th>\n",
       "      <td id=\"T_4a71d_row3_col0\" class=\"data row3 col0\" >Original data shape</td>\n",
       "      <td id=\"T_4a71d_row3_col1\" class=\"data row3 col1\" >(22800, 24)</td>\n",
       "    </tr>\n",
       "    <tr>\n",
       "      <th id=\"T_4a71d_level0_row4\" class=\"row_heading level0 row4\" >4</th>\n",
       "      <td id=\"T_4a71d_row4_col0\" class=\"data row4 col0\" >Transformed data shape</td>\n",
       "      <td id=\"T_4a71d_row4_col1\" class=\"data row4 col1\" >(22800, 24)</td>\n",
       "    </tr>\n",
       "    <tr>\n",
       "      <th id=\"T_4a71d_level0_row5\" class=\"row_heading level0 row5\" >5</th>\n",
       "      <td id=\"T_4a71d_row5_col0\" class=\"data row5 col0\" >Transformed train set shape</td>\n",
       "      <td id=\"T_4a71d_row5_col1\" class=\"data row5 col1\" >(15959, 24)</td>\n",
       "    </tr>\n",
       "    <tr>\n",
       "      <th id=\"T_4a71d_level0_row6\" class=\"row_heading level0 row6\" >6</th>\n",
       "      <td id=\"T_4a71d_row6_col0\" class=\"data row6 col0\" >Transformed test set shape</td>\n",
       "      <td id=\"T_4a71d_row6_col1\" class=\"data row6 col1\" >(6841, 24)</td>\n",
       "    </tr>\n",
       "    <tr>\n",
       "      <th id=\"T_4a71d_level0_row7\" class=\"row_heading level0 row7\" >7</th>\n",
       "      <td id=\"T_4a71d_row7_col0\" class=\"data row7 col0\" >Numeric features</td>\n",
       "      <td id=\"T_4a71d_row7_col1\" class=\"data row7 col1\" >23</td>\n",
       "    </tr>\n",
       "    <tr>\n",
       "      <th id=\"T_4a71d_level0_row8\" class=\"row_heading level0 row8\" >8</th>\n",
       "      <td id=\"T_4a71d_row8_col0\" class=\"data row8 col0\" >Preprocess</td>\n",
       "      <td id=\"T_4a71d_row8_col1\" class=\"data row8 col1\" >True</td>\n",
       "    </tr>\n",
       "    <tr>\n",
       "      <th id=\"T_4a71d_level0_row9\" class=\"row_heading level0 row9\" >9</th>\n",
       "      <td id=\"T_4a71d_row9_col0\" class=\"data row9 col0\" >Imputation type</td>\n",
       "      <td id=\"T_4a71d_row9_col1\" class=\"data row9 col1\" >simple</td>\n",
       "    </tr>\n",
       "    <tr>\n",
       "      <th id=\"T_4a71d_level0_row10\" class=\"row_heading level0 row10\" >10</th>\n",
       "      <td id=\"T_4a71d_row10_col0\" class=\"data row10 col0\" >Numeric imputation</td>\n",
       "      <td id=\"T_4a71d_row10_col1\" class=\"data row10 col1\" >mean</td>\n",
       "    </tr>\n",
       "    <tr>\n",
       "      <th id=\"T_4a71d_level0_row11\" class=\"row_heading level0 row11\" >11</th>\n",
       "      <td id=\"T_4a71d_row11_col0\" class=\"data row11 col0\" >Categorical imputation</td>\n",
       "      <td id=\"T_4a71d_row11_col1\" class=\"data row11 col1\" >mode</td>\n",
       "    </tr>\n",
       "    <tr>\n",
       "      <th id=\"T_4a71d_level0_row12\" class=\"row_heading level0 row12\" >12</th>\n",
       "      <td id=\"T_4a71d_row12_col0\" class=\"data row12 col0\" >Fold Generator</td>\n",
       "      <td id=\"T_4a71d_row12_col1\" class=\"data row12 col1\" >StratifiedKFold</td>\n",
       "    </tr>\n",
       "    <tr>\n",
       "      <th id=\"T_4a71d_level0_row13\" class=\"row_heading level0 row13\" >13</th>\n",
       "      <td id=\"T_4a71d_row13_col0\" class=\"data row13 col0\" >Fold Number</td>\n",
       "      <td id=\"T_4a71d_row13_col1\" class=\"data row13 col1\" >10</td>\n",
       "    </tr>\n",
       "    <tr>\n",
       "      <th id=\"T_4a71d_level0_row14\" class=\"row_heading level0 row14\" >14</th>\n",
       "      <td id=\"T_4a71d_row14_col0\" class=\"data row14 col0\" >CPU Jobs</td>\n",
       "      <td id=\"T_4a71d_row14_col1\" class=\"data row14 col1\" >-1</td>\n",
       "    </tr>\n",
       "    <tr>\n",
       "      <th id=\"T_4a71d_level0_row15\" class=\"row_heading level0 row15\" >15</th>\n",
       "      <td id=\"T_4a71d_row15_col0\" class=\"data row15 col0\" >Use GPU</td>\n",
       "      <td id=\"T_4a71d_row15_col1\" class=\"data row15 col1\" >False</td>\n",
       "    </tr>\n",
       "    <tr>\n",
       "      <th id=\"T_4a71d_level0_row16\" class=\"row_heading level0 row16\" >16</th>\n",
       "      <td id=\"T_4a71d_row16_col0\" class=\"data row16 col0\" >Log Experiment</td>\n",
       "      <td id=\"T_4a71d_row16_col1\" class=\"data row16 col1\" >False</td>\n",
       "    </tr>\n",
       "    <tr>\n",
       "      <th id=\"T_4a71d_level0_row17\" class=\"row_heading level0 row17\" >17</th>\n",
       "      <td id=\"T_4a71d_row17_col0\" class=\"data row17 col0\" >Experiment Name</td>\n",
       "      <td id=\"T_4a71d_row17_col1\" class=\"data row17 col1\" >clf-default-name</td>\n",
       "    </tr>\n",
       "    <tr>\n",
       "      <th id=\"T_4a71d_level0_row18\" class=\"row_heading level0 row18\" >18</th>\n",
       "      <td id=\"T_4a71d_row18_col0\" class=\"data row18 col0\" >USI</td>\n",
       "      <td id=\"T_4a71d_row18_col1\" class=\"data row18 col1\" >f3a0</td>\n",
       "    </tr>\n",
       "  </tbody>\n",
       "</table>\n"
      ],
      "text/plain": [
       "<pandas.io.formats.style.Styler at 0x19363081040>"
      ]
     },
     "metadata": {},
     "output_type": "display_data"
    }
   ],
   "source": [
    "exp_clf101 = setup(data = data, target = 'default', session_id = 123) "
   ]
  },
  {
   "cell_type": "markdown",
   "metadata": {
    "colab_type": "text",
    "id": "JJSOhIOxEQoY"
   },
   "source": [
    "Once the setup has been successfully executed it shows the information grid containing experiment level information. \n",
    "\n",
    "- **Session id:**  A pseudo-random number distributed as a seed in all functions for later reproducibility. If no `session_id` is passed, a random number is automatically generated that is distributed to all functions.<br/>\n",
    "<br/>\n",
    "- **Target type:**  Binary or Multiclass. The Target type is automatically detected. <br/>\n",
    "<br/>\n",
    "- **Label Encoding:**  When the Target variable is of type string (i.e. 'Yes' or 'No') instead of 1 or 0, it automatically encodes the label into 1 and 0 and displays the mapping (0 : No, 1 : Yes) for reference. In this tutorial, no label encoding is required since the target variable is of numeric type. <br/>\n",
    "<br/>\n",
    "- **Original data shape:**  Shape of the original data prior to any transformations. <br/>\n",
    "<br/>\n",
    "- **Transformed train set shape :**  Shape of transformed train set <br/>\n",
    "<br/>\n",
    "- **Transformed test set shape :**  Shape of transformed test set <br/>\n",
    "<br/>\n",
    "- **Numeric features :**  The number of features treated as numeric. In this tutorial, all features are treated as numeric. <br/>\n",
    "<br/>\n",
    "- **Categorical features :**  The number of features treated as categorical. In this tutorial, there is None. <br/>"
   ]
  },
  {
   "cell_type": "markdown",
   "metadata": {
    "colab_type": "text",
    "id": "it_nJo1IEQob"
   },
   "source": [
    "# Compare Models"
   ]
  },
  {
   "cell_type": "markdown",
   "metadata": {
    "colab_type": "text",
    "id": "apb_B9bBEQof"
   },
   "source": [
    "The `compare_models` function trains and evaluates the performance of all estimators available in the model library using cross-validation. The output of this function is a scoring grid with mean cross validation scores."
   ]
  },
  {
   "cell_type": "code",
   "execution_count": 7,
   "metadata": {
    "colab": {},
    "colab_type": "code",
    "id": "AsG0b1NIEQoj",
    "outputId": "a6e3a510-45a1-4782-8ffe-0ec138a64eed",
    "scrolled": false
   },
   "outputs": [
    {
     "data": {
      "text/html": [],
      "text/plain": [
       "<IPython.core.display.HTML object>"
      ]
     },
     "metadata": {},
     "output_type": "display_data"
    },
    {
     "data": {
      "text/html": [
       "<style type=\"text/css\">\n",
       "#T_e14d7 th {\n",
       "  text-align: left;\n",
       "}\n",
       "#T_e14d7_row0_col0, #T_e14d7_row0_col3, #T_e14d7_row0_col4, #T_e14d7_row0_col5, #T_e14d7_row1_col0, #T_e14d7_row1_col1, #T_e14d7_row1_col2, #T_e14d7_row1_col3, #T_e14d7_row1_col4, #T_e14d7_row1_col5, #T_e14d7_row1_col6, #T_e14d7_row1_col7, #T_e14d7_row2_col0, #T_e14d7_row2_col1, #T_e14d7_row2_col2, #T_e14d7_row2_col3, #T_e14d7_row2_col4, #T_e14d7_row2_col5, #T_e14d7_row2_col6, #T_e14d7_row2_col7, #T_e14d7_row3_col0, #T_e14d7_row3_col1, #T_e14d7_row3_col2, #T_e14d7_row3_col3, #T_e14d7_row3_col4, #T_e14d7_row3_col6, #T_e14d7_row3_col7, #T_e14d7_row4_col0, #T_e14d7_row4_col1, #T_e14d7_row4_col2, #T_e14d7_row4_col3, #T_e14d7_row4_col4, #T_e14d7_row4_col5, #T_e14d7_row4_col6, #T_e14d7_row4_col7, #T_e14d7_row5_col0, #T_e14d7_row5_col1, #T_e14d7_row5_col2, #T_e14d7_row5_col3, #T_e14d7_row5_col4, #T_e14d7_row5_col5, #T_e14d7_row5_col6, #T_e14d7_row5_col7, #T_e14d7_row6_col0, #T_e14d7_row6_col1, #T_e14d7_row6_col2, #T_e14d7_row6_col3, #T_e14d7_row6_col4, #T_e14d7_row6_col5, #T_e14d7_row6_col6, #T_e14d7_row6_col7, #T_e14d7_row7_col0, #T_e14d7_row7_col1, #T_e14d7_row7_col2, #T_e14d7_row7_col3, #T_e14d7_row7_col5, #T_e14d7_row7_col6, #T_e14d7_row7_col7, #T_e14d7_row8_col0, #T_e14d7_row8_col1, #T_e14d7_row8_col2, #T_e14d7_row8_col3, #T_e14d7_row8_col4, #T_e14d7_row8_col5, #T_e14d7_row8_col6, #T_e14d7_row8_col7, #T_e14d7_row9_col0, #T_e14d7_row9_col1, #T_e14d7_row9_col2, #T_e14d7_row9_col3, #T_e14d7_row9_col4, #T_e14d7_row9_col5, #T_e14d7_row9_col6, #T_e14d7_row9_col7, #T_e14d7_row10_col0, #T_e14d7_row10_col1, #T_e14d7_row10_col2, #T_e14d7_row10_col3, #T_e14d7_row10_col4, #T_e14d7_row10_col5, #T_e14d7_row10_col6, #T_e14d7_row10_col7, #T_e14d7_row11_col0, #T_e14d7_row11_col1, #T_e14d7_row11_col2, #T_e14d7_row11_col3, #T_e14d7_row11_col4, #T_e14d7_row11_col5, #T_e14d7_row11_col6, #T_e14d7_row11_col7, #T_e14d7_row12_col0, #T_e14d7_row12_col1, #T_e14d7_row12_col2, #T_e14d7_row12_col3, #T_e14d7_row12_col4, #T_e14d7_row12_col5, #T_e14d7_row12_col6, #T_e14d7_row12_col7, #T_e14d7_row13_col0, #T_e14d7_row13_col1, #T_e14d7_row13_col2, #T_e14d7_row13_col3, #T_e14d7_row13_col4, #T_e14d7_row13_col5, #T_e14d7_row13_col6, #T_e14d7_row13_col7, #T_e14d7_row14_col0, #T_e14d7_row14_col1, #T_e14d7_row14_col2, #T_e14d7_row14_col4, #T_e14d7_row14_col5, #T_e14d7_row14_col6, #T_e14d7_row14_col7 {\n",
       "  text-align: left;\n",
       "}\n",
       "#T_e14d7_row0_col1, #T_e14d7_row0_col2, #T_e14d7_row0_col6, #T_e14d7_row0_col7, #T_e14d7_row3_col5, #T_e14d7_row7_col4, #T_e14d7_row14_col3 {\n",
       "  text-align: left;\n",
       "  background-color: yellow;\n",
       "}\n",
       "#T_e14d7_row0_col8, #T_e14d7_row1_col8, #T_e14d7_row2_col8, #T_e14d7_row3_col8, #T_e14d7_row4_col8, #T_e14d7_row5_col8, #T_e14d7_row6_col8, #T_e14d7_row8_col8, #T_e14d7_row9_col8, #T_e14d7_row10_col8, #T_e14d7_row11_col8, #T_e14d7_row12_col8, #T_e14d7_row13_col8, #T_e14d7_row14_col8 {\n",
       "  text-align: left;\n",
       "  background-color: lightgrey;\n",
       "}\n",
       "#T_e14d7_row7_col8 {\n",
       "  text-align: left;\n",
       "  background-color: yellow;\n",
       "  background-color: lightgrey;\n",
       "}\n",
       "</style>\n",
       "<table id=\"T_e14d7\">\n",
       "  <thead>\n",
       "    <tr>\n",
       "      <th class=\"blank level0\" >&nbsp;</th>\n",
       "      <th id=\"T_e14d7_level0_col0\" class=\"col_heading level0 col0\" >Model</th>\n",
       "      <th id=\"T_e14d7_level0_col1\" class=\"col_heading level0 col1\" >Accuracy</th>\n",
       "      <th id=\"T_e14d7_level0_col2\" class=\"col_heading level0 col2\" >AUC</th>\n",
       "      <th id=\"T_e14d7_level0_col3\" class=\"col_heading level0 col3\" >Recall</th>\n",
       "      <th id=\"T_e14d7_level0_col4\" class=\"col_heading level0 col4\" >Prec.</th>\n",
       "      <th id=\"T_e14d7_level0_col5\" class=\"col_heading level0 col5\" >F1</th>\n",
       "      <th id=\"T_e14d7_level0_col6\" class=\"col_heading level0 col6\" >Kappa</th>\n",
       "      <th id=\"T_e14d7_level0_col7\" class=\"col_heading level0 col7\" >MCC</th>\n",
       "      <th id=\"T_e14d7_level0_col8\" class=\"col_heading level0 col8\" >TT (Sec)</th>\n",
       "    </tr>\n",
       "  </thead>\n",
       "  <tbody>\n",
       "    <tr>\n",
       "      <th id=\"T_e14d7_level0_row0\" class=\"row_heading level0 row0\" >gbc</th>\n",
       "      <td id=\"T_e14d7_row0_col0\" class=\"data row0 col0\" >Gradient Boosting Classifier</td>\n",
       "      <td id=\"T_e14d7_row0_col1\" class=\"data row0 col1\" >0.8225</td>\n",
       "      <td id=\"T_e14d7_row0_col2\" class=\"data row0 col2\" >0.7890</td>\n",
       "      <td id=\"T_e14d7_row0_col3\" class=\"data row0 col3\" >0.3759</td>\n",
       "      <td id=\"T_e14d7_row0_col4\" class=\"data row0 col4\" >0.6792</td>\n",
       "      <td id=\"T_e14d7_row0_col5\" class=\"data row0 col5\" >0.4837</td>\n",
       "      <td id=\"T_e14d7_row0_col6\" class=\"data row0 col6\" >0.3871</td>\n",
       "      <td id=\"T_e14d7_row0_col7\" class=\"data row0 col7\" >0.4120</td>\n",
       "      <td id=\"T_e14d7_row0_col8\" class=\"data row0 col8\" >1.3470</td>\n",
       "    </tr>\n",
       "    <tr>\n",
       "      <th id=\"T_e14d7_level0_row1\" class=\"row_heading level0 row1\" >lightgbm</th>\n",
       "      <td id=\"T_e14d7_row1_col0\" class=\"data row1 col0\" >Light Gradient Boosting Machine</td>\n",
       "      <td id=\"T_e14d7_row1_col1\" class=\"data row1 col1\" >0.8202</td>\n",
       "      <td id=\"T_e14d7_row1_col2\" class=\"data row1 col2\" >0.7842</td>\n",
       "      <td id=\"T_e14d7_row1_col3\" class=\"data row1 col3\" >0.3816</td>\n",
       "      <td id=\"T_e14d7_row1_col4\" class=\"data row1 col4\" >0.6630</td>\n",
       "      <td id=\"T_e14d7_row1_col5\" class=\"data row1 col5\" >0.4842</td>\n",
       "      <td id=\"T_e14d7_row1_col6\" class=\"data row1 col6\" >0.3848</td>\n",
       "      <td id=\"T_e14d7_row1_col7\" class=\"data row1 col7\" >0.4064</td>\n",
       "      <td id=\"T_e14d7_row1_col8\" class=\"data row1 col8\" >0.2500</td>\n",
       "    </tr>\n",
       "    <tr>\n",
       "      <th id=\"T_e14d7_level0_row2\" class=\"row_heading level0 row2\" >ada</th>\n",
       "      <td id=\"T_e14d7_row2_col0\" class=\"data row2 col0\" >Ada Boost Classifier</td>\n",
       "      <td id=\"T_e14d7_row2_col1\" class=\"data row2 col1\" >0.8200</td>\n",
       "      <td id=\"T_e14d7_row2_col2\" class=\"data row2 col2\" >0.7802</td>\n",
       "      <td id=\"T_e14d7_row2_col3\" class=\"data row2 col3\" >0.3476</td>\n",
       "      <td id=\"T_e14d7_row2_col4\" class=\"data row2 col4\" >0.6847</td>\n",
       "      <td id=\"T_e14d7_row2_col5\" class=\"data row2 col5\" >0.4604</td>\n",
       "      <td id=\"T_e14d7_row2_col6\" class=\"data row2 col6\" >0.3660</td>\n",
       "      <td id=\"T_e14d7_row2_col7\" class=\"data row2 col7\" >0.3966</td>\n",
       "      <td id=\"T_e14d7_row2_col8\" class=\"data row2 col8\" >0.3430</td>\n",
       "    </tr>\n",
       "    <tr>\n",
       "      <th id=\"T_e14d7_level0_row3\" class=\"row_heading level0 row3\" >rf</th>\n",
       "      <td id=\"T_e14d7_row3_col0\" class=\"data row3 col0\" >Random Forest Classifier</td>\n",
       "      <td id=\"T_e14d7_row3_col1\" class=\"data row3 col1\" >0.8193</td>\n",
       "      <td id=\"T_e14d7_row3_col2\" class=\"data row3 col2\" >0.7748</td>\n",
       "      <td id=\"T_e14d7_row3_col3\" class=\"data row3 col3\" >0.3870</td>\n",
       "      <td id=\"T_e14d7_row3_col4\" class=\"data row3 col4\" >0.6552</td>\n",
       "      <td id=\"T_e14d7_row3_col5\" class=\"data row3 col5\" >0.4864</td>\n",
       "      <td id=\"T_e14d7_row3_col6\" class=\"data row3 col6\" >0.3855</td>\n",
       "      <td id=\"T_e14d7_row3_col7\" class=\"data row3 col7\" >0.4053</td>\n",
       "      <td id=\"T_e14d7_row3_col8\" class=\"data row3 col8\" >0.7570</td>\n",
       "    </tr>\n",
       "    <tr>\n",
       "      <th id=\"T_e14d7_level0_row4\" class=\"row_heading level0 row4\" >xgboost</th>\n",
       "      <td id=\"T_e14d7_row4_col0\" class=\"data row4 col0\" >Extreme Gradient Boosting</td>\n",
       "      <td id=\"T_e14d7_row4_col1\" class=\"data row4 col1\" >0.8165</td>\n",
       "      <td id=\"T_e14d7_row4_col2\" class=\"data row4 col2\" >0.7668</td>\n",
       "      <td id=\"T_e14d7_row4_col3\" class=\"data row4 col3\" >0.3861</td>\n",
       "      <td id=\"T_e14d7_row4_col4\" class=\"data row4 col4\" >0.6420</td>\n",
       "      <td id=\"T_e14d7_row4_col5\" class=\"data row4 col5\" >0.4818</td>\n",
       "      <td id=\"T_e14d7_row4_col6\" class=\"data row4 col6\" >0.3787</td>\n",
       "      <td id=\"T_e14d7_row4_col7\" class=\"data row4 col7\" >0.3970</td>\n",
       "      <td id=\"T_e14d7_row4_col8\" class=\"data row4 col8\" >1.1300</td>\n",
       "    </tr>\n",
       "    <tr>\n",
       "      <th id=\"T_e14d7_level0_row5\" class=\"row_heading level0 row5\" >lda</th>\n",
       "      <td id=\"T_e14d7_row5_col0\" class=\"data row5 col0\" >Linear Discriminant Analysis</td>\n",
       "      <td id=\"T_e14d7_row5_col1\" class=\"data row5 col1\" >0.8151</td>\n",
       "      <td id=\"T_e14d7_row5_col2\" class=\"data row5 col2\" >0.7212</td>\n",
       "      <td id=\"T_e14d7_row5_col3\" class=\"data row5 col3\" >0.2739</td>\n",
       "      <td id=\"T_e14d7_row5_col4\" class=\"data row5 col4\" >0.7152</td>\n",
       "      <td id=\"T_e14d7_row5_col5\" class=\"data row5 col5\" >0.3958</td>\n",
       "      <td id=\"T_e14d7_row5_col6\" class=\"data row5 col6\" >0.3114</td>\n",
       "      <td id=\"T_e14d7_row5_col7\" class=\"data row5 col7\" >0.3618</td>\n",
       "      <td id=\"T_e14d7_row5_col8\" class=\"data row5 col8\" >0.0390</td>\n",
       "    </tr>\n",
       "    <tr>\n",
       "      <th id=\"T_e14d7_level0_row6\" class=\"row_heading level0 row6\" >et</th>\n",
       "      <td id=\"T_e14d7_row6_col0\" class=\"data row6 col0\" >Extra Trees Classifier</td>\n",
       "      <td id=\"T_e14d7_row6_col1\" class=\"data row6 col1\" >0.8130</td>\n",
       "      <td id=\"T_e14d7_row6_col2\" class=\"data row6 col2\" >0.7677</td>\n",
       "      <td id=\"T_e14d7_row6_col3\" class=\"data row6 col3\" >0.3793</td>\n",
       "      <td id=\"T_e14d7_row6_col4\" class=\"data row6 col4\" >0.6277</td>\n",
       "      <td id=\"T_e14d7_row6_col5\" class=\"data row6 col5\" >0.4728</td>\n",
       "      <td id=\"T_e14d7_row6_col6\" class=\"data row6 col6\" >0.3674</td>\n",
       "      <td id=\"T_e14d7_row6_col7\" class=\"data row6 col7\" >0.3847</td>\n",
       "      <td id=\"T_e14d7_row6_col8\" class=\"data row6 col8\" >0.5690</td>\n",
       "    </tr>\n",
       "    <tr>\n",
       "      <th id=\"T_e14d7_level0_row7\" class=\"row_heading level0 row7\" >ridge</th>\n",
       "      <td id=\"T_e14d7_row7_col0\" class=\"data row7 col0\" >Ridge Classifier</td>\n",
       "      <td id=\"T_e14d7_row7_col1\" class=\"data row7 col1\" >0.8007</td>\n",
       "      <td id=\"T_e14d7_row7_col2\" class=\"data row7 col2\" >0.0000</td>\n",
       "      <td id=\"T_e14d7_row7_col3\" class=\"data row7 col3\" >0.1558</td>\n",
       "      <td id=\"T_e14d7_row7_col4\" class=\"data row7 col4\" >0.7328</td>\n",
       "      <td id=\"T_e14d7_row7_col5\" class=\"data row7 col5\" >0.2567</td>\n",
       "      <td id=\"T_e14d7_row7_col6\" class=\"data row7 col6\" >0.1943</td>\n",
       "      <td id=\"T_e14d7_row7_col7\" class=\"data row7 col7\" >0.2735</td>\n",
       "      <td id=\"T_e14d7_row7_col8\" class=\"data row7 col8\" >0.0180</td>\n",
       "    </tr>\n",
       "    <tr>\n",
       "      <th id=\"T_e14d7_level0_row8\" class=\"row_heading level0 row8\" >dummy</th>\n",
       "      <td id=\"T_e14d7_row8_col0\" class=\"data row8 col0\" >Dummy Classifier</td>\n",
       "      <td id=\"T_e14d7_row8_col1\" class=\"data row8 col1\" >0.7788</td>\n",
       "      <td id=\"T_e14d7_row8_col2\" class=\"data row8 col2\" >0.5000</td>\n",
       "      <td id=\"T_e14d7_row8_col3\" class=\"data row8 col3\" >0.0000</td>\n",
       "      <td id=\"T_e14d7_row8_col4\" class=\"data row8 col4\" >0.0000</td>\n",
       "      <td id=\"T_e14d7_row8_col5\" class=\"data row8 col5\" >0.0000</td>\n",
       "      <td id=\"T_e14d7_row8_col6\" class=\"data row8 col6\" >0.0000</td>\n",
       "      <td id=\"T_e14d7_row8_col7\" class=\"data row8 col7\" >0.0000</td>\n",
       "      <td id=\"T_e14d7_row8_col8\" class=\"data row8 col8\" >0.0230</td>\n",
       "    </tr>\n",
       "    <tr>\n",
       "      <th id=\"T_e14d7_level0_row9\" class=\"row_heading level0 row9\" >lr</th>\n",
       "      <td id=\"T_e14d7_row9_col0\" class=\"data row9 col0\" >Logistic Regression</td>\n",
       "      <td id=\"T_e14d7_row9_col1\" class=\"data row9 col1\" >0.7786</td>\n",
       "      <td id=\"T_e14d7_row9_col2\" class=\"data row9 col2\" >0.6400</td>\n",
       "      <td id=\"T_e14d7_row9_col3\" class=\"data row9 col3\" >0.0000</td>\n",
       "      <td id=\"T_e14d7_row9_col4\" class=\"data row9 col4\" >0.0000</td>\n",
       "      <td id=\"T_e14d7_row9_col5\" class=\"data row9 col5\" >0.0000</td>\n",
       "      <td id=\"T_e14d7_row9_col6\" class=\"data row9 col6\" >-0.0004</td>\n",
       "      <td id=\"T_e14d7_row9_col7\" class=\"data row9 col7\" >-0.0032</td>\n",
       "      <td id=\"T_e14d7_row9_col8\" class=\"data row9 col8\" >0.9030</td>\n",
       "    </tr>\n",
       "    <tr>\n",
       "      <th id=\"T_e14d7_level0_row10\" class=\"row_heading level0 row10\" >knn</th>\n",
       "      <td id=\"T_e14d7_row10_col0\" class=\"data row10 col0\" >K Neighbors Classifier</td>\n",
       "      <td id=\"T_e14d7_row10_col1\" class=\"data row10 col1\" >0.7504</td>\n",
       "      <td id=\"T_e14d7_row10_col2\" class=\"data row10 col2\" >0.6099</td>\n",
       "      <td id=\"T_e14d7_row10_col3\" class=\"data row10 col3\" >0.1796</td>\n",
       "      <td id=\"T_e14d7_row10_col4\" class=\"data row10 col4\" >0.3689</td>\n",
       "      <td id=\"T_e14d7_row10_col5\" class=\"data row10 col5\" >0.2415</td>\n",
       "      <td id=\"T_e14d7_row10_col6\" class=\"data row10 col6\" >0.1129</td>\n",
       "      <td id=\"T_e14d7_row10_col7\" class=\"data row10 col7\" >0.1234</td>\n",
       "      <td id=\"T_e14d7_row10_col8\" class=\"data row10 col8\" >0.1190</td>\n",
       "    </tr>\n",
       "    <tr>\n",
       "      <th id=\"T_e14d7_level0_row11\" class=\"row_heading level0 row11\" >dt</th>\n",
       "      <td id=\"T_e14d7_row11_col0\" class=\"data row11 col0\" >Decision Tree Classifier</td>\n",
       "      <td id=\"T_e14d7_row11_col1\" class=\"data row11 col1\" >0.7295</td>\n",
       "      <td id=\"T_e14d7_row11_col2\" class=\"data row11 col2\" >0.6207</td>\n",
       "      <td id=\"T_e14d7_row11_col3\" class=\"data row11 col3\" >0.4244</td>\n",
       "      <td id=\"T_e14d7_row11_col4\" class=\"data row11 col4\" >0.3960</td>\n",
       "      <td id=\"T_e14d7_row11_col5\" class=\"data row11 col5\" >0.4096</td>\n",
       "      <td id=\"T_e14d7_row11_col6\" class=\"data row11 col6\" >0.2345</td>\n",
       "      <td id=\"T_e14d7_row11_col7\" class=\"data row11 col7\" >0.2348</td>\n",
       "      <td id=\"T_e14d7_row11_col8\" class=\"data row11 col8\" >0.0900</td>\n",
       "    </tr>\n",
       "    <tr>\n",
       "      <th id=\"T_e14d7_level0_row12\" class=\"row_heading level0 row12\" >svm</th>\n",
       "      <td id=\"T_e14d7_row12_col0\" class=\"data row12 col0\" >SVM - Linear Kernel</td>\n",
       "      <td id=\"T_e14d7_row12_col1\" class=\"data row12 col1\" >0.6188</td>\n",
       "      <td id=\"T_e14d7_row12_col2\" class=\"data row12 col2\" >0.0000</td>\n",
       "      <td id=\"T_e14d7_row12_col3\" class=\"data row12 col3\" >0.3895</td>\n",
       "      <td id=\"T_e14d7_row12_col4\" class=\"data row12 col4\" >0.2528</td>\n",
       "      <td id=\"T_e14d7_row12_col5\" class=\"data row12 col5\" >0.2759</td>\n",
       "      <td id=\"T_e14d7_row12_col6\" class=\"data row12 col6\" >0.0585</td>\n",
       "      <td id=\"T_e14d7_row12_col7\" class=\"data row12 col7\" >0.0654</td>\n",
       "      <td id=\"T_e14d7_row12_col8\" class=\"data row12 col8\" >0.0620</td>\n",
       "    </tr>\n",
       "    <tr>\n",
       "      <th id=\"T_e14d7_level0_row13\" class=\"row_heading level0 row13\" >qda</th>\n",
       "      <td id=\"T_e14d7_row13_col0\" class=\"data row13 col0\" >Quadratic Discriminant Analysis</td>\n",
       "      <td id=\"T_e14d7_row13_col1\" class=\"data row13 col1\" >0.5668</td>\n",
       "      <td id=\"T_e14d7_row13_col2\" class=\"data row13 col2\" >0.7254</td>\n",
       "      <td id=\"T_e14d7_row13_col3\" class=\"data row13 col3\" >0.7861</td>\n",
       "      <td id=\"T_e14d7_row13_col4\" class=\"data row13 col4\" >0.3143</td>\n",
       "      <td id=\"T_e14d7_row13_col5\" class=\"data row13 col5\" >0.4468</td>\n",
       "      <td id=\"T_e14d7_row13_col6\" class=\"data row13 col6\" >0.1910</td>\n",
       "      <td id=\"T_e14d7_row13_col7\" class=\"data row13 col7\" >0.2460</td>\n",
       "      <td id=\"T_e14d7_row13_col8\" class=\"data row13 col8\" >0.0320</td>\n",
       "    </tr>\n",
       "    <tr>\n",
       "      <th id=\"T_e14d7_level0_row14\" class=\"row_heading level0 row14\" >nb</th>\n",
       "      <td id=\"T_e14d7_row14_col0\" class=\"data row14 col0\" >Naive Bayes</td>\n",
       "      <td id=\"T_e14d7_row14_col1\" class=\"data row14 col1\" >0.3889</td>\n",
       "      <td id=\"T_e14d7_row14_col2\" class=\"data row14 col2\" >0.6816</td>\n",
       "      <td id=\"T_e14d7_row14_col3\" class=\"data row14 col3\" >0.8765</td>\n",
       "      <td id=\"T_e14d7_row14_col4\" class=\"data row14 col4\" >0.2493</td>\n",
       "      <td id=\"T_e14d7_row14_col5\" class=\"data row14 col5\" >0.3881</td>\n",
       "      <td id=\"T_e14d7_row14_col6\" class=\"data row14 col6\" >0.0668</td>\n",
       "      <td id=\"T_e14d7_row14_col7\" class=\"data row14 col7\" >0.1273</td>\n",
       "      <td id=\"T_e14d7_row14_col8\" class=\"data row14 col8\" >0.0250</td>\n",
       "    </tr>\n",
       "  </tbody>\n",
       "</table>\n"
      ],
      "text/plain": [
       "<pandas.io.formats.style.Styler at 0x19362d4beb0>"
      ]
     },
     "metadata": {},
     "output_type": "display_data"
    },
    {
     "data": {
      "text/html": [],
      "text/plain": [
       "<IPython.core.display.HTML object>"
      ]
     },
     "metadata": {},
     "output_type": "display_data"
    }
   ],
   "source": [
    "best_model = compare_models()"
   ]
  },
  {
   "cell_type": "code",
   "execution_count": 8,
   "metadata": {},
   "outputs": [
    {
     "name": "stdout",
     "output_type": "stream",
     "text": [
      "GradientBoostingClassifier(ccp_alpha=0.0, criterion='friedman_mse', init=None,\n",
      "                           learning_rate=0.1, loss='log_loss', max_depth=3,\n",
      "                           max_features=None, max_leaf_nodes=None,\n",
      "                           min_impurity_decrease=0.0, min_samples_leaf=1,\n",
      "                           min_samples_split=2, min_weight_fraction_leaf=0.0,\n",
      "                           n_estimators=100, n_iter_no_change=None,\n",
      "                           random_state=123, subsample=1.0, tol=0.0001,\n",
      "                           validation_fraction=0.1, verbose=0,\n",
      "                           warm_start=False)\n"
     ]
    }
   ],
   "source": [
    "print(best_model)"
   ]
  },
  {
   "cell_type": "markdown",
   "metadata": {
    "colab_type": "text",
    "id": "P5m2pciOEQo4"
   },
   "source": [
    "# Create Model"
   ]
  },
  {
   "cell_type": "markdown",
   "metadata": {
    "colab_type": "text",
    "id": "u_6cIilfEQo7"
   },
   "source": [
    "The `create_model` function trains and evaluates the performance of a given estimator using cross validation. The output of this function is a scoring grid with CV scores by fold. Available models can be accessed using the `models` function."
   ]
  },
  {
   "cell_type": "code",
   "execution_count": 9,
   "metadata": {},
   "outputs": [
    {
     "data": {
      "text/html": [
       "<div>\n",
       "<style scoped>\n",
       "    .dataframe tbody tr th:only-of-type {\n",
       "        vertical-align: middle;\n",
       "    }\n",
       "\n",
       "    .dataframe tbody tr th {\n",
       "        vertical-align: top;\n",
       "    }\n",
       "\n",
       "    .dataframe thead th {\n",
       "        text-align: right;\n",
       "    }\n",
       "</style>\n",
       "<table border=\"1\" class=\"dataframe\">\n",
       "  <thead>\n",
       "    <tr style=\"text-align: right;\">\n",
       "      <th></th>\n",
       "      <th>Name</th>\n",
       "      <th>Reference</th>\n",
       "      <th>Turbo</th>\n",
       "    </tr>\n",
       "    <tr>\n",
       "      <th>ID</th>\n",
       "      <th></th>\n",
       "      <th></th>\n",
       "      <th></th>\n",
       "    </tr>\n",
       "  </thead>\n",
       "  <tbody>\n",
       "    <tr>\n",
       "      <th>lr</th>\n",
       "      <td>Logistic Regression</td>\n",
       "      <td>sklearn.linear_model._logistic.LogisticRegression</td>\n",
       "      <td>True</td>\n",
       "    </tr>\n",
       "    <tr>\n",
       "      <th>knn</th>\n",
       "      <td>K Neighbors Classifier</td>\n",
       "      <td>sklearn.neighbors._classification.KNeighborsCl...</td>\n",
       "      <td>True</td>\n",
       "    </tr>\n",
       "    <tr>\n",
       "      <th>nb</th>\n",
       "      <td>Naive Bayes</td>\n",
       "      <td>sklearn.naive_bayes.GaussianNB</td>\n",
       "      <td>True</td>\n",
       "    </tr>\n",
       "    <tr>\n",
       "      <th>dt</th>\n",
       "      <td>Decision Tree Classifier</td>\n",
       "      <td>sklearn.tree._classes.DecisionTreeClassifier</td>\n",
       "      <td>True</td>\n",
       "    </tr>\n",
       "    <tr>\n",
       "      <th>svm</th>\n",
       "      <td>SVM - Linear Kernel</td>\n",
       "      <td>sklearn.linear_model._stochastic_gradient.SGDC...</td>\n",
       "      <td>True</td>\n",
       "    </tr>\n",
       "    <tr>\n",
       "      <th>rbfsvm</th>\n",
       "      <td>SVM - Radial Kernel</td>\n",
       "      <td>sklearn.svm._classes.SVC</td>\n",
       "      <td>False</td>\n",
       "    </tr>\n",
       "    <tr>\n",
       "      <th>gpc</th>\n",
       "      <td>Gaussian Process Classifier</td>\n",
       "      <td>sklearn.gaussian_process._gpc.GaussianProcessC...</td>\n",
       "      <td>False</td>\n",
       "    </tr>\n",
       "    <tr>\n",
       "      <th>mlp</th>\n",
       "      <td>MLP Classifier</td>\n",
       "      <td>sklearn.neural_network._multilayer_perceptron....</td>\n",
       "      <td>False</td>\n",
       "    </tr>\n",
       "    <tr>\n",
       "      <th>ridge</th>\n",
       "      <td>Ridge Classifier</td>\n",
       "      <td>sklearn.linear_model._ridge.RidgeClassifier</td>\n",
       "      <td>True</td>\n",
       "    </tr>\n",
       "    <tr>\n",
       "      <th>rf</th>\n",
       "      <td>Random Forest Classifier</td>\n",
       "      <td>sklearn.ensemble._forest.RandomForestClassifier</td>\n",
       "      <td>True</td>\n",
       "    </tr>\n",
       "    <tr>\n",
       "      <th>qda</th>\n",
       "      <td>Quadratic Discriminant Analysis</td>\n",
       "      <td>sklearn.discriminant_analysis.QuadraticDiscrim...</td>\n",
       "      <td>True</td>\n",
       "    </tr>\n",
       "    <tr>\n",
       "      <th>ada</th>\n",
       "      <td>Ada Boost Classifier</td>\n",
       "      <td>sklearn.ensemble._weight_boosting.AdaBoostClas...</td>\n",
       "      <td>True</td>\n",
       "    </tr>\n",
       "    <tr>\n",
       "      <th>gbc</th>\n",
       "      <td>Gradient Boosting Classifier</td>\n",
       "      <td>sklearn.ensemble._gb.GradientBoostingClassifier</td>\n",
       "      <td>True</td>\n",
       "    </tr>\n",
       "    <tr>\n",
       "      <th>lda</th>\n",
       "      <td>Linear Discriminant Analysis</td>\n",
       "      <td>sklearn.discriminant_analysis.LinearDiscrimina...</td>\n",
       "      <td>True</td>\n",
       "    </tr>\n",
       "    <tr>\n",
       "      <th>et</th>\n",
       "      <td>Extra Trees Classifier</td>\n",
       "      <td>sklearn.ensemble._forest.ExtraTreesClassifier</td>\n",
       "      <td>True</td>\n",
       "    </tr>\n",
       "    <tr>\n",
       "      <th>xgboost</th>\n",
       "      <td>Extreme Gradient Boosting</td>\n",
       "      <td>xgboost.sklearn.XGBClassifier</td>\n",
       "      <td>True</td>\n",
       "    </tr>\n",
       "    <tr>\n",
       "      <th>lightgbm</th>\n",
       "      <td>Light Gradient Boosting Machine</td>\n",
       "      <td>lightgbm.sklearn.LGBMClassifier</td>\n",
       "      <td>True</td>\n",
       "    </tr>\n",
       "    <tr>\n",
       "      <th>dummy</th>\n",
       "      <td>Dummy Classifier</td>\n",
       "      <td>sklearn.dummy.DummyClassifier</td>\n",
       "      <td>True</td>\n",
       "    </tr>\n",
       "  </tbody>\n",
       "</table>\n",
       "</div>"
      ],
      "text/plain": [
       "                                     Name  \\\n",
       "ID                                          \n",
       "lr                    Logistic Regression   \n",
       "knn                K Neighbors Classifier   \n",
       "nb                            Naive Bayes   \n",
       "dt               Decision Tree Classifier   \n",
       "svm                   SVM - Linear Kernel   \n",
       "rbfsvm                SVM - Radial Kernel   \n",
       "gpc           Gaussian Process Classifier   \n",
       "mlp                        MLP Classifier   \n",
       "ridge                    Ridge Classifier   \n",
       "rf               Random Forest Classifier   \n",
       "qda       Quadratic Discriminant Analysis   \n",
       "ada                  Ada Boost Classifier   \n",
       "gbc          Gradient Boosting Classifier   \n",
       "lda          Linear Discriminant Analysis   \n",
       "et                 Extra Trees Classifier   \n",
       "xgboost         Extreme Gradient Boosting   \n",
       "lightgbm  Light Gradient Boosting Machine   \n",
       "dummy                    Dummy Classifier   \n",
       "\n",
       "                                                  Reference  Turbo  \n",
       "ID                                                                  \n",
       "lr        sklearn.linear_model._logistic.LogisticRegression   True  \n",
       "knn       sklearn.neighbors._classification.KNeighborsCl...   True  \n",
       "nb                           sklearn.naive_bayes.GaussianNB   True  \n",
       "dt             sklearn.tree._classes.DecisionTreeClassifier   True  \n",
       "svm       sklearn.linear_model._stochastic_gradient.SGDC...   True  \n",
       "rbfsvm                             sklearn.svm._classes.SVC  False  \n",
       "gpc       sklearn.gaussian_process._gpc.GaussianProcessC...  False  \n",
       "mlp       sklearn.neural_network._multilayer_perceptron....  False  \n",
       "ridge           sklearn.linear_model._ridge.RidgeClassifier   True  \n",
       "rf          sklearn.ensemble._forest.RandomForestClassifier   True  \n",
       "qda       sklearn.discriminant_analysis.QuadraticDiscrim...   True  \n",
       "ada       sklearn.ensemble._weight_boosting.AdaBoostClas...   True  \n",
       "gbc         sklearn.ensemble._gb.GradientBoostingClassifier   True  \n",
       "lda       sklearn.discriminant_analysis.LinearDiscrimina...   True  \n",
       "et            sklearn.ensemble._forest.ExtraTreesClassifier   True  \n",
       "xgboost                       xgboost.sklearn.XGBClassifier   True  \n",
       "lightgbm                    lightgbm.sklearn.LGBMClassifier   True  \n",
       "dummy                         sklearn.dummy.DummyClassifier   True  "
      ]
     },
     "execution_count": 9,
     "metadata": {},
     "output_type": "execute_result"
    }
   ],
   "source": [
    "models()"
   ]
  },
  {
   "cell_type": "code",
   "execution_count": 10,
   "metadata": {
    "colab": {
     "base_uri": "https://localhost:8080/",
     "height": 392
    },
    "colab_type": "code",
    "id": "LP896uSIEQpD",
    "outputId": "d6d31562-feb5-4052-ee23-0a444fecaacf"
   },
   "outputs": [
    {
     "data": {
      "text/html": [],
      "text/plain": [
       "<IPython.core.display.HTML object>"
      ]
     },
     "metadata": {},
     "output_type": "display_data"
    },
    {
     "data": {
      "text/html": [
       "<style type=\"text/css\">\n",
       "#T_d7dce_row10_col0, #T_d7dce_row10_col1, #T_d7dce_row10_col2, #T_d7dce_row10_col3, #T_d7dce_row10_col4, #T_d7dce_row10_col5, #T_d7dce_row10_col6 {\n",
       "  background: yellow;\n",
       "}\n",
       "</style>\n",
       "<table id=\"T_d7dce\">\n",
       "  <thead>\n",
       "    <tr>\n",
       "      <th class=\"blank level0\" >&nbsp;</th>\n",
       "      <th id=\"T_d7dce_level0_col0\" class=\"col_heading level0 col0\" >Accuracy</th>\n",
       "      <th id=\"T_d7dce_level0_col1\" class=\"col_heading level0 col1\" >AUC</th>\n",
       "      <th id=\"T_d7dce_level0_col2\" class=\"col_heading level0 col2\" >Recall</th>\n",
       "      <th id=\"T_d7dce_level0_col3\" class=\"col_heading level0 col3\" >Prec.</th>\n",
       "      <th id=\"T_d7dce_level0_col4\" class=\"col_heading level0 col4\" >F1</th>\n",
       "      <th id=\"T_d7dce_level0_col5\" class=\"col_heading level0 col5\" >Kappa</th>\n",
       "      <th id=\"T_d7dce_level0_col6\" class=\"col_heading level0 col6\" >MCC</th>\n",
       "    </tr>\n",
       "    <tr>\n",
       "      <th class=\"index_name level0\" >Fold</th>\n",
       "      <th class=\"blank col0\" >&nbsp;</th>\n",
       "      <th class=\"blank col1\" >&nbsp;</th>\n",
       "      <th class=\"blank col2\" >&nbsp;</th>\n",
       "      <th class=\"blank col3\" >&nbsp;</th>\n",
       "      <th class=\"blank col4\" >&nbsp;</th>\n",
       "      <th class=\"blank col5\" >&nbsp;</th>\n",
       "      <th class=\"blank col6\" >&nbsp;</th>\n",
       "    </tr>\n",
       "  </thead>\n",
       "  <tbody>\n",
       "    <tr>\n",
       "      <th id=\"T_d7dce_level0_row0\" class=\"row_heading level0 row0\" >0</th>\n",
       "      <td id=\"T_d7dce_row0_col0\" class=\"data row0 col0\" >0.7356</td>\n",
       "      <td id=\"T_d7dce_row0_col1\" class=\"data row0 col1\" >0.6274</td>\n",
       "      <td id=\"T_d7dce_row0_col2\" class=\"data row0 col2\" >0.4334</td>\n",
       "      <td id=\"T_d7dce_row0_col3\" class=\"data row0 col3\" >0.4080</td>\n",
       "      <td id=\"T_d7dce_row0_col4\" class=\"data row0 col4\" >0.4203</td>\n",
       "      <td id=\"T_d7dce_row0_col5\" class=\"data row0 col5\" >0.2493</td>\n",
       "      <td id=\"T_d7dce_row0_col6\" class=\"data row0 col6\" >0.2495</td>\n",
       "    </tr>\n",
       "    <tr>\n",
       "      <th id=\"T_d7dce_level0_row1\" class=\"row_heading level0 row1\" >1</th>\n",
       "      <td id=\"T_d7dce_row1_col0\" class=\"data row1 col0\" >0.7237</td>\n",
       "      <td id=\"T_d7dce_row1_col1\" class=\"data row1 col1\" >0.6158</td>\n",
       "      <td id=\"T_d7dce_row1_col2\" class=\"data row1 col2\" >0.4193</td>\n",
       "      <td id=\"T_d7dce_row1_col3\" class=\"data row1 col3\" >0.3854</td>\n",
       "      <td id=\"T_d7dce_row1_col4\" class=\"data row1 col4\" >0.4016</td>\n",
       "      <td id=\"T_d7dce_row1_col5\" class=\"data row1 col5\" >0.2224</td>\n",
       "      <td id=\"T_d7dce_row1_col6\" class=\"data row1 col6\" >0.2227</td>\n",
       "    </tr>\n",
       "    <tr>\n",
       "      <th id=\"T_d7dce_level0_row2\" class=\"row_heading level0 row2\" >2</th>\n",
       "      <td id=\"T_d7dce_row2_col0\" class=\"data row2 col0\" >0.7444</td>\n",
       "      <td id=\"T_d7dce_row2_col1\" class=\"data row2 col1\" >0.6514</td>\n",
       "      <td id=\"T_d7dce_row2_col2\" class=\"data row2 col2\" >0.4816</td>\n",
       "      <td id=\"T_d7dce_row2_col3\" class=\"data row2 col3\" >0.4304</td>\n",
       "      <td id=\"T_d7dce_row2_col4\" class=\"data row2 col4\" >0.4545</td>\n",
       "      <td id=\"T_d7dce_row2_col5\" class=\"data row2 col5\" >0.2883</td>\n",
       "      <td id=\"T_d7dce_row2_col6\" class=\"data row2 col6\" >0.2891</td>\n",
       "    </tr>\n",
       "    <tr>\n",
       "      <th id=\"T_d7dce_level0_row3\" class=\"row_heading level0 row3\" >3</th>\n",
       "      <td id=\"T_d7dce_row3_col0\" class=\"data row3 col0\" >0.7199</td>\n",
       "      <td id=\"T_d7dce_row3_col1\" class=\"data row3 col1\" >0.6094</td>\n",
       "      <td id=\"T_d7dce_row3_col2\" class=\"data row3 col2\" >0.4079</td>\n",
       "      <td id=\"T_d7dce_row3_col3\" class=\"data row3 col3\" >0.3770</td>\n",
       "      <td id=\"T_d7dce_row3_col4\" class=\"data row3 col4\" >0.3918</td>\n",
       "      <td id=\"T_d7dce_row3_col5\" class=\"data row3 col5\" >0.2103</td>\n",
       "      <td id=\"T_d7dce_row3_col6\" class=\"data row3 col6\" >0.2106</td>\n",
       "    </tr>\n",
       "    <tr>\n",
       "      <th id=\"T_d7dce_level0_row4\" class=\"row_heading level0 row4\" >4</th>\n",
       "      <td id=\"T_d7dce_row4_col0\" class=\"data row4 col0\" >0.7419</td>\n",
       "      <td id=\"T_d7dce_row4_col1\" class=\"data row4 col1\" >0.6233</td>\n",
       "      <td id=\"T_d7dce_row4_col2\" class=\"data row4 col2\" >0.4108</td>\n",
       "      <td id=\"T_d7dce_row4_col3\" class=\"data row4 col3\" >0.4155</td>\n",
       "      <td id=\"T_d7dce_row4_col4\" class=\"data row4 col4\" >0.4131</td>\n",
       "      <td id=\"T_d7dce_row4_col5\" class=\"data row4 col5\" >0.2477</td>\n",
       "      <td id=\"T_d7dce_row4_col6\" class=\"data row4 col6\" >0.2477</td>\n",
       "    </tr>\n",
       "    <tr>\n",
       "      <th id=\"T_d7dce_level0_row5\" class=\"row_heading level0 row5\" >5</th>\n",
       "      <td id=\"T_d7dce_row5_col0\" class=\"data row5 col0\" >0.7299</td>\n",
       "      <td id=\"T_d7dce_row5_col1\" class=\"data row5 col1\" >0.6248</td>\n",
       "      <td id=\"T_d7dce_row5_col2\" class=\"data row5 col2\" >0.4363</td>\n",
       "      <td id=\"T_d7dce_row5_col3\" class=\"data row5 col3\" >0.3990</td>\n",
       "      <td id=\"T_d7dce_row5_col4\" class=\"data row5 col4\" >0.4168</td>\n",
       "      <td id=\"T_d7dce_row5_col5\" class=\"data row5 col5\" >0.2415</td>\n",
       "      <td id=\"T_d7dce_row5_col6\" class=\"data row5 col6\" >0.2419</td>\n",
       "    </tr>\n",
       "    <tr>\n",
       "      <th id=\"T_d7dce_level0_row6\" class=\"row_heading level0 row6\" >6</th>\n",
       "      <td id=\"T_d7dce_row6_col0\" class=\"data row6 col0\" >0.7174</td>\n",
       "      <td id=\"T_d7dce_row6_col1\" class=\"data row6 col1\" >0.6015</td>\n",
       "      <td id=\"T_d7dce_row6_col2\" class=\"data row6 col2\" >0.3938</td>\n",
       "      <td id=\"T_d7dce_row6_col3\" class=\"data row6 col3\" >0.3697</td>\n",
       "      <td id=\"T_d7dce_row6_col4\" class=\"data row6 col4\" >0.3813</td>\n",
       "      <td id=\"T_d7dce_row6_col5\" class=\"data row6 col5\" >0.1985</td>\n",
       "      <td id=\"T_d7dce_row6_col6\" class=\"data row6 col6\" >0.1986</td>\n",
       "    </tr>\n",
       "    <tr>\n",
       "      <th id=\"T_d7dce_level0_row7\" class=\"row_heading level0 row7\" >7</th>\n",
       "      <td id=\"T_d7dce_row7_col0\" class=\"data row7 col0\" >0.7325</td>\n",
       "      <td id=\"T_d7dce_row7_col1\" class=\"data row7 col1\" >0.6213</td>\n",
       "      <td id=\"T_d7dce_row7_col2\" class=\"data row7 col2\" >0.4221</td>\n",
       "      <td id=\"T_d7dce_row7_col3\" class=\"data row7 col3\" >0.4005</td>\n",
       "      <td id=\"T_d7dce_row7_col4\" class=\"data row7 col4\" >0.4110</td>\n",
       "      <td id=\"T_d7dce_row7_col5\" class=\"data row7 col5\" >0.2381</td>\n",
       "      <td id=\"T_d7dce_row7_col6\" class=\"data row7 col6\" >0.2382</td>\n",
       "    </tr>\n",
       "    <tr>\n",
       "      <th id=\"T_d7dce_level0_row8\" class=\"row_heading level0 row8\" >8</th>\n",
       "      <td id=\"T_d7dce_row8_col0\" class=\"data row8 col0\" >0.7268</td>\n",
       "      <td id=\"T_d7dce_row8_col1\" class=\"data row8 col1\" >0.6147</td>\n",
       "      <td id=\"T_d7dce_row8_col2\" class=\"data row8 col2\" >0.4136</td>\n",
       "      <td id=\"T_d7dce_row8_col3\" class=\"data row8 col3\" >0.3893</td>\n",
       "      <td id=\"T_d7dce_row8_col4\" class=\"data row8 col4\" >0.4011</td>\n",
       "      <td id=\"T_d7dce_row8_col5\" class=\"data row8 col5\" >0.2244</td>\n",
       "      <td id=\"T_d7dce_row8_col6\" class=\"data row8 col6\" >0.2245</td>\n",
       "    </tr>\n",
       "    <tr>\n",
       "      <th id=\"T_d7dce_level0_row9\" class=\"row_heading level0 row9\" >9</th>\n",
       "      <td id=\"T_d7dce_row9_col0\" class=\"data row9 col0\" >0.7229</td>\n",
       "      <td id=\"T_d7dce_row9_col1\" class=\"data row9 col1\" >0.6174</td>\n",
       "      <td id=\"T_d7dce_row9_col2\" class=\"data row9 col2\" >0.4249</td>\n",
       "      <td id=\"T_d7dce_row9_col3\" class=\"data row9 col3\" >0.3856</td>\n",
       "      <td id=\"T_d7dce_row9_col4\" class=\"data row9 col4\" >0.4043</td>\n",
       "      <td id=\"T_d7dce_row9_col5\" class=\"data row9 col5\" >0.2243</td>\n",
       "      <td id=\"T_d7dce_row9_col6\" class=\"data row9 col6\" >0.2248</td>\n",
       "    </tr>\n",
       "    <tr>\n",
       "      <th id=\"T_d7dce_level0_row10\" class=\"row_heading level0 row10\" >Mean</th>\n",
       "      <td id=\"T_d7dce_row10_col0\" class=\"data row10 col0\" >0.7295</td>\n",
       "      <td id=\"T_d7dce_row10_col1\" class=\"data row10 col1\" >0.6207</td>\n",
       "      <td id=\"T_d7dce_row10_col2\" class=\"data row10 col2\" >0.4244</td>\n",
       "      <td id=\"T_d7dce_row10_col3\" class=\"data row10 col3\" >0.3960</td>\n",
       "      <td id=\"T_d7dce_row10_col4\" class=\"data row10 col4\" >0.4096</td>\n",
       "      <td id=\"T_d7dce_row10_col5\" class=\"data row10 col5\" >0.2345</td>\n",
       "      <td id=\"T_d7dce_row10_col6\" class=\"data row10 col6\" >0.2348</td>\n",
       "    </tr>\n",
       "    <tr>\n",
       "      <th id=\"T_d7dce_level0_row11\" class=\"row_heading level0 row11\" >Std</th>\n",
       "      <td id=\"T_d7dce_row11_col0\" class=\"data row11 col0\" >0.0086</td>\n",
       "      <td id=\"T_d7dce_row11_col1\" class=\"data row11 col1\" >0.0126</td>\n",
       "      <td id=\"T_d7dce_row11_col2\" class=\"data row11 col2\" >0.0224</td>\n",
       "      <td id=\"T_d7dce_row11_col3\" class=\"data row11 col3\" >0.0175</td>\n",
       "      <td id=\"T_d7dce_row11_col4\" class=\"data row11 col4\" >0.0187</td>\n",
       "      <td id=\"T_d7dce_row11_col5\" class=\"data row11 col5\" >0.0236</td>\n",
       "      <td id=\"T_d7dce_row11_col6\" class=\"data row11 col6\" >0.0237</td>\n",
       "    </tr>\n",
       "  </tbody>\n",
       "</table>\n"
      ],
      "text/plain": [
       "<pandas.io.formats.style.Styler at 0x1936430a1f0>"
      ]
     },
     "metadata": {},
     "output_type": "display_data"
    },
    {
     "data": {
      "text/html": [],
      "text/plain": [
       "<IPython.core.display.HTML object>"
      ]
     },
     "metadata": {},
     "output_type": "display_data"
    }
   ],
   "source": [
    "# train a decision tree model\n",
    "dt = create_model('dt')"
   ]
  },
  {
   "cell_type": "code",
   "execution_count": 11,
   "metadata": {
    "colab": {},
    "colab_type": "code",
    "id": "FRat05yGEQpQ",
    "outputId": "c8e6a190-8bec-4646-d2c8-8a92b129c484"
   },
   "outputs": [
    {
     "name": "stdout",
     "output_type": "stream",
     "text": [
      "DecisionTreeClassifier(ccp_alpha=0.0, class_weight=None, criterion='gini',\n",
      "                       max_depth=None, max_features=None, max_leaf_nodes=None,\n",
      "                       min_impurity_decrease=0.0, min_samples_leaf=1,\n",
      "                       min_samples_split=2, min_weight_fraction_leaf=0.0,\n",
      "                       random_state=123, splitter='best')\n"
     ]
    }
   ],
   "source": [
    "print(dt)"
   ]
  },
  {
   "cell_type": "code",
   "execution_count": 12,
   "metadata": {},
   "outputs": [
    {
     "data": {
      "text/html": [],
      "text/plain": [
       "<IPython.core.display.HTML object>"
      ]
     },
     "metadata": {},
     "output_type": "display_data"
    },
    {
     "data": {
      "text/html": [
       "<style type=\"text/css\">\n",
       "#T_901e8_row10_col0, #T_901e8_row10_col1, #T_901e8_row10_col2, #T_901e8_row10_col3, #T_901e8_row10_col4, #T_901e8_row10_col5, #T_901e8_row10_col6 {\n",
       "  background: yellow;\n",
       "}\n",
       "</style>\n",
       "<table id=\"T_901e8\">\n",
       "  <thead>\n",
       "    <tr>\n",
       "      <th class=\"blank level0\" >&nbsp;</th>\n",
       "      <th id=\"T_901e8_level0_col0\" class=\"col_heading level0 col0\" >Accuracy</th>\n",
       "      <th id=\"T_901e8_level0_col1\" class=\"col_heading level0 col1\" >AUC</th>\n",
       "      <th id=\"T_901e8_level0_col2\" class=\"col_heading level0 col2\" >Recall</th>\n",
       "      <th id=\"T_901e8_level0_col3\" class=\"col_heading level0 col3\" >Prec.</th>\n",
       "      <th id=\"T_901e8_level0_col4\" class=\"col_heading level0 col4\" >F1</th>\n",
       "      <th id=\"T_901e8_level0_col5\" class=\"col_heading level0 col5\" >Kappa</th>\n",
       "      <th id=\"T_901e8_level0_col6\" class=\"col_heading level0 col6\" >MCC</th>\n",
       "    </tr>\n",
       "    <tr>\n",
       "      <th class=\"index_name level0\" >Fold</th>\n",
       "      <th class=\"blank col0\" >&nbsp;</th>\n",
       "      <th class=\"blank col1\" >&nbsp;</th>\n",
       "      <th class=\"blank col2\" >&nbsp;</th>\n",
       "      <th class=\"blank col3\" >&nbsp;</th>\n",
       "      <th class=\"blank col4\" >&nbsp;</th>\n",
       "      <th class=\"blank col5\" >&nbsp;</th>\n",
       "      <th class=\"blank col6\" >&nbsp;</th>\n",
       "    </tr>\n",
       "  </thead>\n",
       "  <tbody>\n",
       "    <tr>\n",
       "      <th id=\"T_901e8_level0_row0\" class=\"row_heading level0 row0\" >0</th>\n",
       "      <td id=\"T_901e8_row0_col0\" class=\"data row0 col0\" >0.7412</td>\n",
       "      <td id=\"T_901e8_row0_col1\" class=\"data row0 col1\" >0.5886</td>\n",
       "      <td id=\"T_901e8_row0_col2\" class=\"data row0 col2\" >0.1671</td>\n",
       "      <td id=\"T_901e8_row0_col3\" class=\"data row0 col3\" >0.3315</td>\n",
       "      <td id=\"T_901e8_row0_col4\" class=\"data row0 col4\" >0.2222</td>\n",
       "      <td id=\"T_901e8_row0_col5\" class=\"data row0 col5\" >0.0868</td>\n",
       "      <td id=\"T_901e8_row0_col6\" class=\"data row0 col6\" >0.0941</td>\n",
       "    </tr>\n",
       "    <tr>\n",
       "      <th id=\"T_901e8_level0_row1\" class=\"row_heading level0 row1\" >1</th>\n",
       "      <td id=\"T_901e8_row1_col0\" class=\"data row1 col0\" >0.7350</td>\n",
       "      <td id=\"T_901e8_row1_col1\" class=\"data row1 col1\" >0.5767</td>\n",
       "      <td id=\"T_901e8_row1_col2\" class=\"data row1 col2\" >0.1473</td>\n",
       "      <td id=\"T_901e8_row1_col3\" class=\"data row1 col3\" >0.2989</td>\n",
       "      <td id=\"T_901e8_row1_col4\" class=\"data row1 col4\" >0.1973</td>\n",
       "      <td id=\"T_901e8_row1_col5\" class=\"data row1 col5\" >0.0601</td>\n",
       "      <td id=\"T_901e8_row1_col6\" class=\"data row1 col6\" >0.0655</td>\n",
       "    </tr>\n",
       "    <tr>\n",
       "      <th id=\"T_901e8_level0_row2\" class=\"row_heading level0 row2\" >2</th>\n",
       "      <td id=\"T_901e8_row2_col0\" class=\"data row2 col0\" >0.7632</td>\n",
       "      <td id=\"T_901e8_row2_col1\" class=\"data row2 col1\" >0.6671</td>\n",
       "      <td id=\"T_901e8_row2_col2\" class=\"data row2 col2\" >0.2096</td>\n",
       "      <td id=\"T_901e8_row2_col3\" class=\"data row2 col3\" >0.4277</td>\n",
       "      <td id=\"T_901e8_row2_col4\" class=\"data row2 col4\" >0.2814</td>\n",
       "      <td id=\"T_901e8_row2_col5\" class=\"data row2 col5\" >0.1590</td>\n",
       "      <td id=\"T_901e8_row2_col6\" class=\"data row2 col6\" >0.1735</td>\n",
       "    </tr>\n",
       "    <tr>\n",
       "      <th id=\"T_901e8_level0_row3\" class=\"row_heading level0 row3\" >3</th>\n",
       "      <td id=\"T_901e8_row3_col0\" class=\"data row3 col0\" >0.7469</td>\n",
       "      <td id=\"T_901e8_row3_col1\" class=\"data row3 col1\" >0.5987</td>\n",
       "      <td id=\"T_901e8_row3_col2\" class=\"data row3 col2\" >0.1530</td>\n",
       "      <td id=\"T_901e8_row3_col3\" class=\"data row3 col3\" >0.3396</td>\n",
       "      <td id=\"T_901e8_row3_col4\" class=\"data row3 col4\" >0.2109</td>\n",
       "      <td id=\"T_901e8_row3_col5\" class=\"data row3 col5\" >0.0853</td>\n",
       "      <td id=\"T_901e8_row3_col6\" class=\"data row3 col6\" >0.0949</td>\n",
       "    </tr>\n",
       "    <tr>\n",
       "      <th id=\"T_901e8_level0_row4\" class=\"row_heading level0 row4\" >4</th>\n",
       "      <td id=\"T_901e8_row4_col0\" class=\"data row4 col0\" >0.7538</td>\n",
       "      <td id=\"T_901e8_row4_col1\" class=\"data row4 col1\" >0.6085</td>\n",
       "      <td id=\"T_901e8_row4_col2\" class=\"data row4 col2\" >0.1983</td>\n",
       "      <td id=\"T_901e8_row4_col3\" class=\"data row4 col3\" >0.3889</td>\n",
       "      <td id=\"T_901e8_row4_col4\" class=\"data row4 col4\" >0.2627</td>\n",
       "      <td id=\"T_901e8_row4_col5\" class=\"data row4 col5\" >0.1332</td>\n",
       "      <td id=\"T_901e8_row4_col6\" class=\"data row4 col6\" >0.1441</td>\n",
       "    </tr>\n",
       "    <tr>\n",
       "      <th id=\"T_901e8_level0_row5\" class=\"row_heading level0 row5\" >5</th>\n",
       "      <td id=\"T_901e8_row5_col0\" class=\"data row5 col0\" >0.7613</td>\n",
       "      <td id=\"T_901e8_row5_col1\" class=\"data row5 col1\" >0.6211</td>\n",
       "      <td id=\"T_901e8_row5_col2\" class=\"data row5 col2\" >0.1870</td>\n",
       "      <td id=\"T_901e8_row5_col3\" class=\"data row5 col3\" >0.4125</td>\n",
       "      <td id=\"T_901e8_row5_col4\" class=\"data row5 col4\" >0.2573</td>\n",
       "      <td id=\"T_901e8_row5_col5\" class=\"data row5 col5\" >0.1384</td>\n",
       "      <td id=\"T_901e8_row5_col6\" class=\"data row5 col6\" >0.1539</td>\n",
       "    </tr>\n",
       "    <tr>\n",
       "      <th id=\"T_901e8_level0_row6\" class=\"row_heading level0 row6\" >6</th>\n",
       "      <td id=\"T_901e8_row6_col0\" class=\"data row6 col0\" >0.7419</td>\n",
       "      <td id=\"T_901e8_row6_col1\" class=\"data row6 col1\" >0.5895</td>\n",
       "      <td id=\"T_901e8_row6_col2\" class=\"data row6 col2\" >0.1671</td>\n",
       "      <td id=\"T_901e8_row6_col3\" class=\"data row6 col3\" >0.3333</td>\n",
       "      <td id=\"T_901e8_row6_col4\" class=\"data row6 col4\" >0.2226</td>\n",
       "      <td id=\"T_901e8_row6_col5\" class=\"data row6 col5\" >0.0879</td>\n",
       "      <td id=\"T_901e8_row6_col6\" class=\"data row6 col6\" >0.0954</td>\n",
       "    </tr>\n",
       "    <tr>\n",
       "      <th id=\"T_901e8_level0_row7\" class=\"row_heading level0 row7\" >7</th>\n",
       "      <td id=\"T_901e8_row7_col0\" class=\"data row7 col0\" >0.7594</td>\n",
       "      <td id=\"T_901e8_row7_col1\" class=\"data row7 col1\" >0.6135</td>\n",
       "      <td id=\"T_901e8_row7_col2\" class=\"data row7 col2\" >0.1898</td>\n",
       "      <td id=\"T_901e8_row7_col3\" class=\"data row7 col3\" >0.4061</td>\n",
       "      <td id=\"T_901e8_row7_col4\" class=\"data row7 col4\" >0.2587</td>\n",
       "      <td id=\"T_901e8_row7_col5\" class=\"data row7 col5\" >0.1371</td>\n",
       "      <td id=\"T_901e8_row7_col6\" class=\"data row7 col6\" >0.1513</td>\n",
       "    </tr>\n",
       "    <tr>\n",
       "      <th id=\"T_901e8_level0_row8\" class=\"row_heading level0 row8\" >8</th>\n",
       "      <td id=\"T_901e8_row8_col0\" class=\"data row8 col0\" >0.7475</td>\n",
       "      <td id=\"T_901e8_row8_col1\" class=\"data row8 col1\" >0.6091</td>\n",
       "      <td id=\"T_901e8_row8_col2\" class=\"data row8 col2\" >0.1898</td>\n",
       "      <td id=\"T_901e8_row8_col3\" class=\"data row8 col3\" >0.3641</td>\n",
       "      <td id=\"T_901e8_row8_col4\" class=\"data row8 col4\" >0.2495</td>\n",
       "      <td id=\"T_901e8_row8_col5\" class=\"data row8 col5\" >0.1155</td>\n",
       "      <td id=\"T_901e8_row8_col6\" class=\"data row8 col6\" >0.1243</td>\n",
       "    </tr>\n",
       "    <tr>\n",
       "      <th id=\"T_901e8_level0_row9\" class=\"row_heading level0 row9\" >9</th>\n",
       "      <td id=\"T_901e8_row9_col0\" class=\"data row9 col0\" >0.7542</td>\n",
       "      <td id=\"T_901e8_row9_col1\" class=\"data row9 col1\" >0.6264</td>\n",
       "      <td id=\"T_901e8_row9_col2\" class=\"data row9 col2\" >0.1870</td>\n",
       "      <td id=\"T_901e8_row9_col3\" class=\"data row9 col3\" >0.3860</td>\n",
       "      <td id=\"T_901e8_row9_col4\" class=\"data row9 col4\" >0.2519</td>\n",
       "      <td id=\"T_901e8_row9_col5\" class=\"data row9 col5\" >0.1256</td>\n",
       "      <td id=\"T_901e8_row9_col6\" class=\"data row9 col6\" >0.1374</td>\n",
       "    </tr>\n",
       "    <tr>\n",
       "      <th id=\"T_901e8_level0_row10\" class=\"row_heading level0 row10\" >Mean</th>\n",
       "      <td id=\"T_901e8_row10_col0\" class=\"data row10 col0\" >0.7504</td>\n",
       "      <td id=\"T_901e8_row10_col1\" class=\"data row10 col1\" >0.6099</td>\n",
       "      <td id=\"T_901e8_row10_col2\" class=\"data row10 col2\" >0.1796</td>\n",
       "      <td id=\"T_901e8_row10_col3\" class=\"data row10 col3\" >0.3689</td>\n",
       "      <td id=\"T_901e8_row10_col4\" class=\"data row10 col4\" >0.2415</td>\n",
       "      <td id=\"T_901e8_row10_col5\" class=\"data row10 col5\" >0.1129</td>\n",
       "      <td id=\"T_901e8_row10_col6\" class=\"data row10 col6\" >0.1234</td>\n",
       "    </tr>\n",
       "    <tr>\n",
       "      <th id=\"T_901e8_level0_row11\" class=\"row_heading level0 row11\" >Std</th>\n",
       "      <td id=\"T_901e8_row11_col0\" class=\"data row11 col0\" >0.0090</td>\n",
       "      <td id=\"T_901e8_row11_col1\" class=\"data row11 col1\" >0.0241</td>\n",
       "      <td id=\"T_901e8_row11_col2\" class=\"data row11 col2\" >0.0191</td>\n",
       "      <td id=\"T_901e8_row11_col3\" class=\"data row11 col3\" >0.0399</td>\n",
       "      <td id=\"T_901e8_row11_col4\" class=\"data row11 col4\" >0.0252</td>\n",
       "      <td id=\"T_901e8_row11_col5\" class=\"data row11 col5\" >0.0297</td>\n",
       "      <td id=\"T_901e8_row11_col6\" class=\"data row11 col6\" >0.0326</td>\n",
       "    </tr>\n",
       "  </tbody>\n",
       "</table>\n"
      ],
      "text/plain": [
       "<pandas.io.formats.style.Styler at 0x193630b2dc0>"
      ]
     },
     "metadata": {},
     "output_type": "display_data"
    },
    {
     "data": {
      "text/html": [],
      "text/plain": [
       "<IPython.core.display.HTML object>"
      ]
     },
     "metadata": {},
     "output_type": "display_data"
    }
   ],
   "source": [
    "# train a k nearest neighbor model\n",
    "knn = create_model('knn')"
   ]
  },
  {
   "cell_type": "code",
   "execution_count": 13,
   "metadata": {
    "colab": {
     "base_uri": "https://localhost:8080/",
     "height": 392
    },
    "colab_type": "code",
    "id": "FGCoUiQpEQpz",
    "outputId": "212cb736-6dcb-4b77-e45b-14ad895bff43"
   },
   "outputs": [
    {
     "data": {
      "text/html": [],
      "text/plain": [
       "<IPython.core.display.HTML object>"
      ]
     },
     "metadata": {},
     "output_type": "display_data"
    },
    {
     "data": {
      "text/html": [
       "<style type=\"text/css\">\n",
       "#T_59166_row10_col0, #T_59166_row10_col1, #T_59166_row10_col2, #T_59166_row10_col3, #T_59166_row10_col4, #T_59166_row10_col5, #T_59166_row10_col6 {\n",
       "  background: yellow;\n",
       "}\n",
       "</style>\n",
       "<table id=\"T_59166\">\n",
       "  <thead>\n",
       "    <tr>\n",
       "      <th class=\"blank level0\" >&nbsp;</th>\n",
       "      <th id=\"T_59166_level0_col0\" class=\"col_heading level0 col0\" >Accuracy</th>\n",
       "      <th id=\"T_59166_level0_col1\" class=\"col_heading level0 col1\" >AUC</th>\n",
       "      <th id=\"T_59166_level0_col2\" class=\"col_heading level0 col2\" >Recall</th>\n",
       "      <th id=\"T_59166_level0_col3\" class=\"col_heading level0 col3\" >Prec.</th>\n",
       "      <th id=\"T_59166_level0_col4\" class=\"col_heading level0 col4\" >F1</th>\n",
       "      <th id=\"T_59166_level0_col5\" class=\"col_heading level0 col5\" >Kappa</th>\n",
       "      <th id=\"T_59166_level0_col6\" class=\"col_heading level0 col6\" >MCC</th>\n",
       "    </tr>\n",
       "    <tr>\n",
       "      <th class=\"index_name level0\" >Fold</th>\n",
       "      <th class=\"blank col0\" >&nbsp;</th>\n",
       "      <th class=\"blank col1\" >&nbsp;</th>\n",
       "      <th class=\"blank col2\" >&nbsp;</th>\n",
       "      <th class=\"blank col3\" >&nbsp;</th>\n",
       "      <th class=\"blank col4\" >&nbsp;</th>\n",
       "      <th class=\"blank col5\" >&nbsp;</th>\n",
       "      <th class=\"blank col6\" >&nbsp;</th>\n",
       "    </tr>\n",
       "  </thead>\n",
       "  <tbody>\n",
       "    <tr>\n",
       "      <th id=\"T_59166_level0_row0\" class=\"row_heading level0 row0\" >0</th>\n",
       "      <td id=\"T_59166_row0_col0\" class=\"data row0 col0\" >0.8227</td>\n",
       "      <td id=\"T_59166_row0_col1\" class=\"data row0 col1\" >0.7717</td>\n",
       "      <td id=\"T_59166_row0_col2\" class=\"data row0 col2\" >0.4108</td>\n",
       "      <td id=\"T_59166_row0_col3\" class=\"data row0 col3\" >0.6591</td>\n",
       "      <td id=\"T_59166_row0_col4\" class=\"data row0 col4\" >0.5061</td>\n",
       "      <td id=\"T_59166_row0_col5\" class=\"data row0 col5\" >0.4051</td>\n",
       "      <td id=\"T_59166_row0_col6\" class=\"data row0 col6\" >0.4219</td>\n",
       "    </tr>\n",
       "    <tr>\n",
       "      <th id=\"T_59166_level0_row1\" class=\"row_heading level0 row1\" >1</th>\n",
       "      <td id=\"T_59166_row1_col0\" class=\"data row1 col0\" >0.8271</td>\n",
       "      <td id=\"T_59166_row1_col1\" class=\"data row1 col1\" >0.7726</td>\n",
       "      <td id=\"T_59166_row1_col2\" class=\"data row1 col2\" >0.4023</td>\n",
       "      <td id=\"T_59166_row1_col3\" class=\"data row1 col3\" >0.6860</td>\n",
       "      <td id=\"T_59166_row1_col4\" class=\"data row1 col4\" >0.5071</td>\n",
       "      <td id=\"T_59166_row1_col5\" class=\"data row1 col5\" >0.4108</td>\n",
       "      <td id=\"T_59166_row1_col6\" class=\"data row1 col6\" >0.4323</td>\n",
       "    </tr>\n",
       "    <tr>\n",
       "      <th id=\"T_59166_level0_row2\" class=\"row_heading level0 row2\" >2</th>\n",
       "      <td id=\"T_59166_row2_col0\" class=\"data row2 col0\" >0.8233</td>\n",
       "      <td id=\"T_59166_row2_col1\" class=\"data row2 col1\" >0.8079</td>\n",
       "      <td id=\"T_59166_row2_col2\" class=\"data row2 col2\" >0.4108</td>\n",
       "      <td id=\"T_59166_row2_col3\" class=\"data row2 col3\" >0.6621</td>\n",
       "      <td id=\"T_59166_row2_col4\" class=\"data row2 col4\" >0.5070</td>\n",
       "      <td id=\"T_59166_row2_col5\" class=\"data row2 col5\" >0.4065</td>\n",
       "      <td id=\"T_59166_row2_col6\" class=\"data row2 col6\" >0.4237</td>\n",
       "    </tr>\n",
       "    <tr>\n",
       "      <th id=\"T_59166_level0_row3\" class=\"row_heading level0 row3\" >3</th>\n",
       "      <td id=\"T_59166_row3_col0\" class=\"data row3 col0\" >0.8120</td>\n",
       "      <td id=\"T_59166_row3_col1\" class=\"data row3 col1\" >0.7501</td>\n",
       "      <td id=\"T_59166_row3_col2\" class=\"data row3 col2\" >0.3711</td>\n",
       "      <td id=\"T_59166_row3_col3\" class=\"data row3 col3\" >0.6268</td>\n",
       "      <td id=\"T_59166_row3_col4\" class=\"data row3 col4\" >0.4662</td>\n",
       "      <td id=\"T_59166_row3_col5\" class=\"data row3 col5\" >0.3611</td>\n",
       "      <td id=\"T_59166_row3_col6\" class=\"data row3 col6\" >0.3794</td>\n",
       "    </tr>\n",
       "    <tr>\n",
       "      <th id=\"T_59166_level0_row4\" class=\"row_heading level0 row4\" >4</th>\n",
       "      <td id=\"T_59166_row4_col0\" class=\"data row4 col0\" >0.8139</td>\n",
       "      <td id=\"T_59166_row4_col1\" class=\"data row4 col1\" >0.7623</td>\n",
       "      <td id=\"T_59166_row4_col2\" class=\"data row4 col2\" >0.3541</td>\n",
       "      <td id=\"T_59166_row4_col3\" class=\"data row4 col3\" >0.6443</td>\n",
       "      <td id=\"T_59166_row4_col4\" class=\"data row4 col4\" >0.4570</td>\n",
       "      <td id=\"T_59166_row4_col5\" class=\"data row4 col5\" >0.3560</td>\n",
       "      <td id=\"T_59166_row4_col6\" class=\"data row4 col6\" >0.3793</td>\n",
       "    </tr>\n",
       "    <tr>\n",
       "      <th id=\"T_59166_level0_row5\" class=\"row_heading level0 row5\" >5</th>\n",
       "      <td id=\"T_59166_row5_col0\" class=\"data row5 col0\" >0.8221</td>\n",
       "      <td id=\"T_59166_row5_col1\" class=\"data row5 col1\" >0.7827</td>\n",
       "      <td id=\"T_59166_row5_col2\" class=\"data row5 col2\" >0.3909</td>\n",
       "      <td id=\"T_59166_row5_col3\" class=\"data row5 col3\" >0.6667</td>\n",
       "      <td id=\"T_59166_row5_col4\" class=\"data row5 col4\" >0.4929</td>\n",
       "      <td id=\"T_59166_row5_col5\" class=\"data row5 col5\" >0.3937</td>\n",
       "      <td id=\"T_59166_row5_col6\" class=\"data row5 col6\" >0.4144</td>\n",
       "    </tr>\n",
       "    <tr>\n",
       "      <th id=\"T_59166_level0_row6\" class=\"row_heading level0 row6\" >6</th>\n",
       "      <td id=\"T_59166_row6_col0\" class=\"data row6 col0\" >0.8120</td>\n",
       "      <td id=\"T_59166_row6_col1\" class=\"data row6 col1\" >0.7607</td>\n",
       "      <td id=\"T_59166_row6_col2\" class=\"data row6 col2\" >0.3711</td>\n",
       "      <td id=\"T_59166_row6_col3\" class=\"data row6 col3\" >0.6268</td>\n",
       "      <td id=\"T_59166_row6_col4\" class=\"data row6 col4\" >0.4662</td>\n",
       "      <td id=\"T_59166_row6_col5\" class=\"data row6 col5\" >0.3611</td>\n",
       "      <td id=\"T_59166_row6_col6\" class=\"data row6 col6\" >0.3794</td>\n",
       "    </tr>\n",
       "    <tr>\n",
       "      <th id=\"T_59166_level0_row7\" class=\"row_heading level0 row7\" >7</th>\n",
       "      <td id=\"T_59166_row7_col0\" class=\"data row7 col0\" >0.8258</td>\n",
       "      <td id=\"T_59166_row7_col1\" class=\"data row7 col1\" >0.7959</td>\n",
       "      <td id=\"T_59166_row7_col2\" class=\"data row7 col2\" >0.4023</td>\n",
       "      <td id=\"T_59166_row7_col3\" class=\"data row7 col3\" >0.6794</td>\n",
       "      <td id=\"T_59166_row7_col4\" class=\"data row7 col4\" >0.5053</td>\n",
       "      <td id=\"T_59166_row7_col5\" class=\"data row7 col5\" >0.4079</td>\n",
       "      <td id=\"T_59166_row7_col6\" class=\"data row7 col6\" >0.4286</td>\n",
       "    </tr>\n",
       "    <tr>\n",
       "      <th id=\"T_59166_level0_row8\" class=\"row_heading level0 row8\" >8</th>\n",
       "      <td id=\"T_59166_row8_col0\" class=\"data row8 col0\" >0.8208</td>\n",
       "      <td id=\"T_59166_row8_col1\" class=\"data row8 col1\" >0.7602</td>\n",
       "      <td id=\"T_59166_row8_col2\" class=\"data row8 col2\" >0.3739</td>\n",
       "      <td id=\"T_59166_row8_col3\" class=\"data row8 col3\" >0.6701</td>\n",
       "      <td id=\"T_59166_row8_col4\" class=\"data row8 col4\" >0.4800</td>\n",
       "      <td id=\"T_59166_row8_col5\" class=\"data row8 col5\" >0.3821</td>\n",
       "      <td id=\"T_59166_row8_col6\" class=\"data row8 col6\" >0.4058</td>\n",
       "    </tr>\n",
       "    <tr>\n",
       "      <th id=\"T_59166_level0_row9\" class=\"row_heading level0 row9\" >9</th>\n",
       "      <td id=\"T_59166_row9_col0\" class=\"data row9 col0\" >0.8138</td>\n",
       "      <td id=\"T_59166_row9_col1\" class=\"data row9 col1\" >0.7839</td>\n",
       "      <td id=\"T_59166_row9_col2\" class=\"data row9 col2\" >0.3824</td>\n",
       "      <td id=\"T_59166_row9_col3\" class=\"data row9 col3\" >0.6308</td>\n",
       "      <td id=\"T_59166_row9_col4\" class=\"data row9 col4\" >0.4762</td>\n",
       "      <td id=\"T_59166_row9_col5\" class=\"data row9 col5\" >0.3711</td>\n",
       "      <td id=\"T_59166_row9_col6\" class=\"data row9 col6\" >0.3883</td>\n",
       "    </tr>\n",
       "    <tr>\n",
       "      <th id=\"T_59166_level0_row10\" class=\"row_heading level0 row10\" >Mean</th>\n",
       "      <td id=\"T_59166_row10_col0\" class=\"data row10 col0\" >0.8193</td>\n",
       "      <td id=\"T_59166_row10_col1\" class=\"data row10 col1\" >0.7748</td>\n",
       "      <td id=\"T_59166_row10_col2\" class=\"data row10 col2\" >0.3870</td>\n",
       "      <td id=\"T_59166_row10_col3\" class=\"data row10 col3\" >0.6552</td>\n",
       "      <td id=\"T_59166_row10_col4\" class=\"data row10 col4\" >0.4864</td>\n",
       "      <td id=\"T_59166_row10_col5\" class=\"data row10 col5\" >0.3855</td>\n",
       "      <td id=\"T_59166_row10_col6\" class=\"data row10 col6\" >0.4053</td>\n",
       "    </tr>\n",
       "    <tr>\n",
       "      <th id=\"T_59166_level0_row11\" class=\"row_heading level0 row11\" >Std</th>\n",
       "      <td id=\"T_59166_row11_col0\" class=\"data row11 col0\" >0.0055</td>\n",
       "      <td id=\"T_59166_row11_col1\" class=\"data row11 col1\" >0.0170</td>\n",
       "      <td id=\"T_59166_row11_col2\" class=\"data row11 col2\" >0.0184</td>\n",
       "      <td id=\"T_59166_row11_col3\" class=\"data row11 col3\" >0.0207</td>\n",
       "      <td id=\"T_59166_row11_col4\" class=\"data row11 col4\" >0.0186</td>\n",
       "      <td id=\"T_59166_row11_col5\" class=\"data row11 col5\" >0.0208</td>\n",
       "      <td id=\"T_59166_row11_col6\" class=\"data row11 col6\" >0.0207</td>\n",
       "    </tr>\n",
       "  </tbody>\n",
       "</table>\n"
      ],
      "text/plain": [
       "<pandas.io.formats.style.Styler at 0x1936446d4c0>"
      ]
     },
     "metadata": {},
     "output_type": "display_data"
    },
    {
     "data": {
      "text/html": [],
      "text/plain": [
       "<IPython.core.display.HTML object>"
      ]
     },
     "metadata": {},
     "output_type": "display_data"
    }
   ],
   "source": [
    "# train a random forest model\n",
    "rf = create_model('rf')"
   ]
  },
  {
   "cell_type": "markdown",
   "metadata": {
    "colab_type": "text",
    "id": "z6F3Fk7TEQp8"
   },
   "source": [
    "The mean score here matches the performance seen in the output of `compare_models`. This is because the metrics printed in the `compare_models` score grid are the average scores across all CV folds."
   ]
  },
  {
   "cell_type": "markdown",
   "metadata": {
    "colab_type": "text",
    "id": "XvpjzbGQEQqB"
   },
   "source": [
    "# Tune Model"
   ]
  },
  {
   "cell_type": "markdown",
   "metadata": {
    "colab_type": "text",
    "id": "nc_GgksHEQqE"
   },
   "source": [
    "The `tune_model` function automatically tunes the hyperparameters of the model using a pre-defined grid. The output of this function is a scoring grid with cross-validated scores by fold. The best model is selected based on the metric defined in `optimize` parameter. To use the custom search grid, you can pass `custom_grid` parameter. Since the default method is `randomgridsearch` it is not guranteed that performance will always be improved by tuning. If the performance doesn't improve you can try increasing the `n_iter` parameter."
   ]
  },
  {
   "cell_type": "code",
   "execution_count": 14,
   "metadata": {
    "colab": {
     "base_uri": "https://localhost:8080/",
     "height": 392
    },
    "colab_type": "code",
    "id": "of46aj6vEQqJ",
    "outputId": "26f7f708-739a-489b-bb76-b33e0a800362"
   },
   "outputs": [
    {
     "data": {
      "text/html": [],
      "text/plain": [
       "<IPython.core.display.HTML object>"
      ]
     },
     "metadata": {},
     "output_type": "display_data"
    },
    {
     "data": {
      "text/html": [
       "<style type=\"text/css\">\n",
       "#T_1af6a_row10_col0, #T_1af6a_row10_col1, #T_1af6a_row10_col2, #T_1af6a_row10_col3, #T_1af6a_row10_col4, #T_1af6a_row10_col5, #T_1af6a_row10_col6 {\n",
       "  background: yellow;\n",
       "}\n",
       "</style>\n",
       "<table id=\"T_1af6a\">\n",
       "  <thead>\n",
       "    <tr>\n",
       "      <th class=\"blank level0\" >&nbsp;</th>\n",
       "      <th id=\"T_1af6a_level0_col0\" class=\"col_heading level0 col0\" >Accuracy</th>\n",
       "      <th id=\"T_1af6a_level0_col1\" class=\"col_heading level0 col1\" >AUC</th>\n",
       "      <th id=\"T_1af6a_level0_col2\" class=\"col_heading level0 col2\" >Recall</th>\n",
       "      <th id=\"T_1af6a_level0_col3\" class=\"col_heading level0 col3\" >Prec.</th>\n",
       "      <th id=\"T_1af6a_level0_col4\" class=\"col_heading level0 col4\" >F1</th>\n",
       "      <th id=\"T_1af6a_level0_col5\" class=\"col_heading level0 col5\" >Kappa</th>\n",
       "      <th id=\"T_1af6a_level0_col6\" class=\"col_heading level0 col6\" >MCC</th>\n",
       "    </tr>\n",
       "    <tr>\n",
       "      <th class=\"index_name level0\" >Fold</th>\n",
       "      <th class=\"blank col0\" >&nbsp;</th>\n",
       "      <th class=\"blank col1\" >&nbsp;</th>\n",
       "      <th class=\"blank col2\" >&nbsp;</th>\n",
       "      <th class=\"blank col3\" >&nbsp;</th>\n",
       "      <th class=\"blank col4\" >&nbsp;</th>\n",
       "      <th class=\"blank col5\" >&nbsp;</th>\n",
       "      <th class=\"blank col6\" >&nbsp;</th>\n",
       "    </tr>\n",
       "  </thead>\n",
       "  <tbody>\n",
       "    <tr>\n",
       "      <th id=\"T_1af6a_level0_row0\" class=\"row_heading level0 row0\" >0</th>\n",
       "      <td id=\"T_1af6a_row0_col0\" class=\"data row0 col0\" >0.8264</td>\n",
       "      <td id=\"T_1af6a_row0_col1\" class=\"data row0 col1\" >0.6573</td>\n",
       "      <td id=\"T_1af6a_row0_col2\" class=\"data row0 col2\" >0.3541</td>\n",
       "      <td id=\"T_1af6a_row0_col3\" class=\"data row0 col3\" >0.7184</td>\n",
       "      <td id=\"T_1af6a_row0_col4\" class=\"data row0 col4\" >0.4744</td>\n",
       "      <td id=\"T_1af6a_row0_col5\" class=\"data row0 col5\" >0.3845</td>\n",
       "      <td id=\"T_1af6a_row0_col6\" class=\"data row0 col6\" >0.4191</td>\n",
       "    </tr>\n",
       "    <tr>\n",
       "      <th id=\"T_1af6a_level0_row1\" class=\"row_heading level0 row1\" >1</th>\n",
       "      <td id=\"T_1af6a_row1_col0\" class=\"data row1 col0\" >0.8271</td>\n",
       "      <td id=\"T_1af6a_row1_col1\" class=\"data row1 col1\" >0.6527</td>\n",
       "      <td id=\"T_1af6a_row1_col2\" class=\"data row1 col2\" >0.3399</td>\n",
       "      <td id=\"T_1af6a_row1_col3\" class=\"data row1 col3\" >0.7362</td>\n",
       "      <td id=\"T_1af6a_row1_col4\" class=\"data row1 col4\" >0.4651</td>\n",
       "      <td id=\"T_1af6a_row1_col5\" class=\"data row1 col5\" >0.3782</td>\n",
       "      <td id=\"T_1af6a_row1_col6\" class=\"data row1 col6\" >0.4185</td>\n",
       "    </tr>\n",
       "    <tr>\n",
       "      <th id=\"T_1af6a_level0_row2\" class=\"row_heading level0 row2\" >2</th>\n",
       "      <td id=\"T_1af6a_row2_col0\" class=\"data row2 col0\" >0.8221</td>\n",
       "      <td id=\"T_1af6a_row2_col1\" class=\"data row2 col1\" >0.6515</td>\n",
       "      <td id=\"T_1af6a_row2_col2\" class=\"data row2 col2\" >0.3456</td>\n",
       "      <td id=\"T_1af6a_row2_col3\" class=\"data row2 col3\" >0.6971</td>\n",
       "      <td id=\"T_1af6a_row2_col4\" class=\"data row2 col4\" >0.4621</td>\n",
       "      <td id=\"T_1af6a_row2_col5\" class=\"data row2 col5\" >0.3697</td>\n",
       "      <td id=\"T_1af6a_row2_col6\" class=\"data row2 col6\" >0.4024</td>\n",
       "    </tr>\n",
       "    <tr>\n",
       "      <th id=\"T_1af6a_level0_row3\" class=\"row_heading level0 row3\" >3</th>\n",
       "      <td id=\"T_1af6a_row3_col0\" class=\"data row3 col0\" >0.8170</td>\n",
       "      <td id=\"T_1af6a_row3_col1\" class=\"data row3 col1\" >0.6432</td>\n",
       "      <td id=\"T_1af6a_row3_col2\" class=\"data row3 col2\" >0.3314</td>\n",
       "      <td id=\"T_1af6a_row3_col3\" class=\"data row3 col3\" >0.6763</td>\n",
       "      <td id=\"T_1af6a_row3_col4\" class=\"data row3 col4\" >0.4449</td>\n",
       "      <td id=\"T_1af6a_row3_col5\" class=\"data row3 col5\" >0.3503</td>\n",
       "      <td id=\"T_1af6a_row3_col6\" class=\"data row3 col6\" >0.3823</td>\n",
       "    </tr>\n",
       "    <tr>\n",
       "      <th id=\"T_1af6a_level0_row4\" class=\"row_heading level0 row4\" >4</th>\n",
       "      <td id=\"T_1af6a_row4_col0\" class=\"data row4 col0\" >0.8239</td>\n",
       "      <td id=\"T_1af6a_row4_col1\" class=\"data row4 col1\" >0.6486</td>\n",
       "      <td id=\"T_1af6a_row4_col2\" class=\"data row4 col2\" >0.3343</td>\n",
       "      <td id=\"T_1af6a_row4_col3\" class=\"data row4 col3\" >0.7195</td>\n",
       "      <td id=\"T_1af6a_row4_col4\" class=\"data row4 col4\" >0.4565</td>\n",
       "      <td id=\"T_1af6a_row4_col5\" class=\"data row4 col5\" >0.3678</td>\n",
       "      <td id=\"T_1af6a_row4_col6\" class=\"data row4 col6\" >0.4063</td>\n",
       "    </tr>\n",
       "    <tr>\n",
       "      <th id=\"T_1af6a_level0_row5\" class=\"row_heading level0 row5\" >5</th>\n",
       "      <td id=\"T_1af6a_row5_col0\" class=\"data row5 col0\" >0.8252</td>\n",
       "      <td id=\"T_1af6a_row5_col1\" class=\"data row5 col1\" >0.6474</td>\n",
       "      <td id=\"T_1af6a_row5_col2\" class=\"data row5 col2\" >0.3286</td>\n",
       "      <td id=\"T_1af6a_row5_col3\" class=\"data row5 col3\" >0.7342</td>\n",
       "      <td id=\"T_1af6a_row5_col4\" class=\"data row5 col4\" >0.4540</td>\n",
       "      <td id=\"T_1af6a_row5_col5\" class=\"data row5 col5\" >0.3675</td>\n",
       "      <td id=\"T_1af6a_row5_col6\" class=\"data row5 col6\" >0.4097</td>\n",
       "    </tr>\n",
       "    <tr>\n",
       "      <th id=\"T_1af6a_level0_row6\" class=\"row_heading level0 row6\" >6</th>\n",
       "      <td id=\"T_1af6a_row6_col0\" class=\"data row6 col0\" >0.8189</td>\n",
       "      <td id=\"T_1af6a_row6_col1\" class=\"data row6 col1\" >0.6434</td>\n",
       "      <td id=\"T_1af6a_row6_col2\" class=\"data row6 col2\" >0.3286</td>\n",
       "      <td id=\"T_1af6a_row6_col3\" class=\"data row6 col3\" >0.6905</td>\n",
       "      <td id=\"T_1af6a_row6_col4\" class=\"data row6 col4\" >0.4453</td>\n",
       "      <td id=\"T_1af6a_row6_col5\" class=\"data row6 col5\" >0.3530</td>\n",
       "      <td id=\"T_1af6a_row6_col6\" class=\"data row6 col6\" >0.3878</td>\n",
       "    </tr>\n",
       "    <tr>\n",
       "      <th id=\"T_1af6a_level0_row7\" class=\"row_heading level0 row7\" >7</th>\n",
       "      <td id=\"T_1af6a_row7_col0\" class=\"data row7 col0\" >0.8283</td>\n",
       "      <td id=\"T_1af6a_row7_col1\" class=\"data row7 col1\" >0.6494</td>\n",
       "      <td id=\"T_1af6a_row7_col2\" class=\"data row7 col2\" >0.3286</td>\n",
       "      <td id=\"T_1af6a_row7_col3\" class=\"data row7 col3\" >0.7582</td>\n",
       "      <td id=\"T_1af6a_row7_col4\" class=\"data row7 col4\" >0.4585</td>\n",
       "      <td id=\"T_1af6a_row7_col5\" class=\"data row7 col5\" >0.3749</td>\n",
       "      <td id=\"T_1af6a_row7_col6\" class=\"data row7 col6\" >0.4213</td>\n",
       "    </tr>\n",
       "    <tr>\n",
       "      <th id=\"T_1af6a_level0_row8\" class=\"row_heading level0 row8\" >8</th>\n",
       "      <td id=\"T_1af6a_row8_col0\" class=\"data row8 col0\" >0.8233</td>\n",
       "      <td id=\"T_1af6a_row8_col1\" class=\"data row8 col1\" >0.6503</td>\n",
       "      <td id=\"T_1af6a_row8_col2\" class=\"data row8 col2\" >0.3399</td>\n",
       "      <td id=\"T_1af6a_row8_col3\" class=\"data row8 col3\" >0.7101</td>\n",
       "      <td id=\"T_1af6a_row8_col4\" class=\"data row8 col4\" >0.4598</td>\n",
       "      <td id=\"T_1af6a_row8_col5\" class=\"data row8 col5\" >0.3695</td>\n",
       "      <td id=\"T_1af6a_row8_col6\" class=\"data row8 col6\" >0.4054</td>\n",
       "    </tr>\n",
       "    <tr>\n",
       "      <th id=\"T_1af6a_level0_row9\" class=\"row_heading level0 row9\" >9</th>\n",
       "      <td id=\"T_1af6a_row9_col0\" class=\"data row9 col0\" >0.8125</td>\n",
       "      <td id=\"T_1af6a_row9_col1\" class=\"data row9 col1\" >0.6424</td>\n",
       "      <td id=\"T_1af6a_row9_col2\" class=\"data row9 col2\" >0.3371</td>\n",
       "      <td id=\"T_1af6a_row9_col3\" class=\"data row9 col3\" >0.6467</td>\n",
       "      <td id=\"T_1af6a_row9_col4\" class=\"data row9 col4\" >0.4432</td>\n",
       "      <td id=\"T_1af6a_row9_col5\" class=\"data row9 col5\" >0.3437</td>\n",
       "      <td id=\"T_1af6a_row9_col6\" class=\"data row9 col6\" >0.3701</td>\n",
       "    </tr>\n",
       "    <tr>\n",
       "      <th id=\"T_1af6a_level0_row10\" class=\"row_heading level0 row10\" >Mean</th>\n",
       "      <td id=\"T_1af6a_row10_col0\" class=\"data row10 col0\" >0.8225</td>\n",
       "      <td id=\"T_1af6a_row10_col1\" class=\"data row10 col1\" >0.6486</td>\n",
       "      <td id=\"T_1af6a_row10_col2\" class=\"data row10 col2\" >0.3368</td>\n",
       "      <td id=\"T_1af6a_row10_col3\" class=\"data row10 col3\" >0.7087</td>\n",
       "      <td id=\"T_1af6a_row10_col4\" class=\"data row10 col4\" >0.4564</td>\n",
       "      <td id=\"T_1af6a_row10_col5\" class=\"data row10 col5\" >0.3659</td>\n",
       "      <td id=\"T_1af6a_row10_col6\" class=\"data row10 col6\" >0.4023</td>\n",
       "    </tr>\n",
       "    <tr>\n",
       "      <th id=\"T_1af6a_level0_row11\" class=\"row_heading level0 row11\" >Std</th>\n",
       "      <td id=\"T_1af6a_row11_col0\" class=\"data row11 col0\" >0.0047</td>\n",
       "      <td id=\"T_1af6a_row11_col1\" class=\"data row11 col1\" >0.0045</td>\n",
       "      <td id=\"T_1af6a_row11_col2\" class=\"data row11 col2\" >0.0080</td>\n",
       "      <td id=\"T_1af6a_row11_col3\" class=\"data row11 col3\" >0.0307</td>\n",
       "      <td id=\"T_1af6a_row11_col4\" class=\"data row11 col4\" >0.0094</td>\n",
       "      <td id=\"T_1af6a_row11_col5\" class=\"data row11 col5\" >0.0123</td>\n",
       "      <td id=\"T_1af6a_row11_col6\" class=\"data row11 col6\" >0.0162</td>\n",
       "    </tr>\n",
       "  </tbody>\n",
       "</table>\n"
      ],
      "text/plain": [
       "<pandas.io.formats.style.Styler at 0x19362b07b20>"
      ]
     },
     "metadata": {},
     "output_type": "display_data"
    },
    {
     "data": {
      "text/html": [],
      "text/plain": [
       "<IPython.core.display.HTML object>"
      ]
     },
     "metadata": {},
     "output_type": "display_data"
    },
    {
     "name": "stdout",
     "output_type": "stream",
     "text": [
      "Fitting 10 folds for each of 10 candidates, totalling 100 fits\n"
     ]
    }
   ],
   "source": [
    "# tune decision tree model\n",
    "tuned_dt = tune_model(dt)"
   ]
  },
  {
   "cell_type": "code",
   "execution_count": 15,
   "metadata": {
    "colab": {},
    "colab_type": "code",
    "id": "__anDkttEQqV",
    "outputId": "7cf46ace-012a-4131-b8b8-370f9d4a63cb"
   },
   "outputs": [
    {
     "name": "stdout",
     "output_type": "stream",
     "text": [
      "DecisionTreeClassifier(ccp_alpha=0.0, class_weight=None, criterion='gini',\n",
      "                       max_depth=1, max_features=1.0, max_leaf_nodes=None,\n",
      "                       min_impurity_decrease=0.01, min_samples_leaf=6,\n",
      "                       min_samples_split=5, min_weight_fraction_leaf=0.0,\n",
      "                       random_state=123, splitter='best')\n"
     ]
    }
   ],
   "source": [
    "print(tuned_dt)"
   ]
  },
  {
   "cell_type": "code",
   "execution_count": 16,
   "metadata": {
    "colab": {
     "base_uri": "https://localhost:8080/",
     "height": 392
    },
    "colab_type": "code",
    "id": "xN1nYwFXEQqv",
    "outputId": "e4ab669d-bee0-4a9d-f5c7-2ed07ec613b9"
   },
   "outputs": [
    {
     "data": {
      "text/html": [],
      "text/plain": [
       "<IPython.core.display.HTML object>"
      ]
     },
     "metadata": {},
     "output_type": "display_data"
    },
    {
     "data": {
      "text/html": [
       "<style type=\"text/css\">\n",
       "#T_35525_row10_col0, #T_35525_row10_col1, #T_35525_row10_col2, #T_35525_row10_col3, #T_35525_row10_col4, #T_35525_row10_col5, #T_35525_row10_col6 {\n",
       "  background: yellow;\n",
       "}\n",
       "</style>\n",
       "<table id=\"T_35525\">\n",
       "  <thead>\n",
       "    <tr>\n",
       "      <th class=\"blank level0\" >&nbsp;</th>\n",
       "      <th id=\"T_35525_level0_col0\" class=\"col_heading level0 col0\" >Accuracy</th>\n",
       "      <th id=\"T_35525_level0_col1\" class=\"col_heading level0 col1\" >AUC</th>\n",
       "      <th id=\"T_35525_level0_col2\" class=\"col_heading level0 col2\" >Recall</th>\n",
       "      <th id=\"T_35525_level0_col3\" class=\"col_heading level0 col3\" >Prec.</th>\n",
       "      <th id=\"T_35525_level0_col4\" class=\"col_heading level0 col4\" >F1</th>\n",
       "      <th id=\"T_35525_level0_col5\" class=\"col_heading level0 col5\" >Kappa</th>\n",
       "      <th id=\"T_35525_level0_col6\" class=\"col_heading level0 col6\" >MCC</th>\n",
       "    </tr>\n",
       "    <tr>\n",
       "      <th class=\"index_name level0\" >Fold</th>\n",
       "      <th class=\"blank col0\" >&nbsp;</th>\n",
       "      <th class=\"blank col1\" >&nbsp;</th>\n",
       "      <th class=\"blank col2\" >&nbsp;</th>\n",
       "      <th class=\"blank col3\" >&nbsp;</th>\n",
       "      <th class=\"blank col4\" >&nbsp;</th>\n",
       "      <th class=\"blank col5\" >&nbsp;</th>\n",
       "      <th class=\"blank col6\" >&nbsp;</th>\n",
       "    </tr>\n",
       "  </thead>\n",
       "  <tbody>\n",
       "    <tr>\n",
       "      <th id=\"T_35525_level0_row0\" class=\"row_heading level0 row0\" >0</th>\n",
       "      <td id=\"T_35525_row0_col0\" class=\"data row0 col0\" >0.7794</td>\n",
       "      <td id=\"T_35525_row0_col1\" class=\"data row0 col1\" >0.6342</td>\n",
       "      <td id=\"T_35525_row0_col2\" class=\"data row0 col2\" >0.0595</td>\n",
       "      <td id=\"T_35525_row0_col3\" class=\"data row0 col3\" >0.5122</td>\n",
       "      <td id=\"T_35525_row0_col4\" class=\"data row0 col4\" >0.1066</td>\n",
       "      <td id=\"T_35525_row0_col5\" class=\"data row0 col5\" >0.0635</td>\n",
       "      <td id=\"T_35525_row0_col6\" class=\"data row0 col6\" >0.1139</td>\n",
       "    </tr>\n",
       "    <tr>\n",
       "      <th id=\"T_35525_level0_row1\" class=\"row_heading level0 row1\" >1</th>\n",
       "      <td id=\"T_35525_row1_col0\" class=\"data row1 col0\" >0.7826</td>\n",
       "      <td id=\"T_35525_row1_col1\" class=\"data row1 col1\" >0.6625</td>\n",
       "      <td id=\"T_35525_row1_col2\" class=\"data row1 col2\" >0.0453</td>\n",
       "      <td id=\"T_35525_row1_col3\" class=\"data row1 col3\" >0.6154</td>\n",
       "      <td id=\"T_35525_row1_col4\" class=\"data row1 col4\" >0.0844</td>\n",
       "      <td id=\"T_35525_row1_col5\" class=\"data row1 col5\" >0.0558</td>\n",
       "      <td id=\"T_35525_row1_col6\" class=\"data row1 col6\" >0.1222</td>\n",
       "    </tr>\n",
       "    <tr>\n",
       "      <th id=\"T_35525_level0_row2\" class=\"row_heading level0 row2\" >2</th>\n",
       "      <td id=\"T_35525_row2_col0\" class=\"data row2 col0\" >0.7832</td>\n",
       "      <td id=\"T_35525_row2_col1\" class=\"data row2 col1\" >0.7012</td>\n",
       "      <td id=\"T_35525_row2_col2\" class=\"data row2 col2\" >0.0623</td>\n",
       "      <td id=\"T_35525_row2_col3\" class=\"data row2 col3\" >0.5946</td>\n",
       "      <td id=\"T_35525_row2_col4\" class=\"data row2 col4\" >0.1128</td>\n",
       "      <td id=\"T_35525_row2_col5\" class=\"data row2 col5\" >0.0740</td>\n",
       "      <td id=\"T_35525_row2_col6\" class=\"data row2 col6\" >0.1386</td>\n",
       "    </tr>\n",
       "    <tr>\n",
       "      <th id=\"T_35525_level0_row3\" class=\"row_heading level0 row3\" >3</th>\n",
       "      <td id=\"T_35525_row3_col0\" class=\"data row3 col0\" >0.7801</td>\n",
       "      <td id=\"T_35525_row3_col1\" class=\"data row3 col1\" >0.6399</td>\n",
       "      <td id=\"T_35525_row3_col2\" class=\"data row3 col2\" >0.0510</td>\n",
       "      <td id=\"T_35525_row3_col3\" class=\"data row3 col3\" >0.5294</td>\n",
       "      <td id=\"T_35525_row3_col4\" class=\"data row3 col4\" >0.0930</td>\n",
       "      <td id=\"T_35525_row3_col5\" class=\"data row3 col5\" >0.0563</td>\n",
       "      <td id=\"T_35525_row3_col6\" class=\"data row3 col6\" >0.1096</td>\n",
       "    </tr>\n",
       "    <tr>\n",
       "      <th id=\"T_35525_level0_row4\" class=\"row_heading level0 row4\" >4</th>\n",
       "      <td id=\"T_35525_row4_col0\" class=\"data row4 col0\" >0.7794</td>\n",
       "      <td id=\"T_35525_row4_col1\" class=\"data row4 col1\" >0.6403</td>\n",
       "      <td id=\"T_35525_row4_col2\" class=\"data row4 col2\" >0.0482</td>\n",
       "      <td id=\"T_35525_row4_col3\" class=\"data row4 col3\" >0.5152</td>\n",
       "      <td id=\"T_35525_row4_col4\" class=\"data row4 col4\" >0.0881</td>\n",
       "      <td id=\"T_35525_row4_col5\" class=\"data row4 col5\" >0.0522</td>\n",
       "      <td id=\"T_35525_row4_col6\" class=\"data row4 col6\" >0.1029</td>\n",
       "    </tr>\n",
       "    <tr>\n",
       "      <th id=\"T_35525_level0_row5\" class=\"row_heading level0 row5\" >5</th>\n",
       "      <td id=\"T_35525_row5_col0\" class=\"data row5 col0\" >0.7820</td>\n",
       "      <td id=\"T_35525_row5_col1\" class=\"data row5 col1\" >0.6773</td>\n",
       "      <td id=\"T_35525_row5_col2\" class=\"data row5 col2\" >0.0595</td>\n",
       "      <td id=\"T_35525_row5_col3\" class=\"data row5 col3\" >0.5676</td>\n",
       "      <td id=\"T_35525_row5_col4\" class=\"data row5 col4\" >0.1077</td>\n",
       "      <td id=\"T_35525_row5_col5\" class=\"data row5 col5\" >0.0686</td>\n",
       "      <td id=\"T_35525_row5_col6\" class=\"data row5 col6\" >0.1286</td>\n",
       "    </tr>\n",
       "    <tr>\n",
       "      <th id=\"T_35525_level0_row6\" class=\"row_heading level0 row6\" >6</th>\n",
       "      <td id=\"T_35525_row6_col0\" class=\"data row6 col0\" >0.7857</td>\n",
       "      <td id=\"T_35525_row6_col1\" class=\"data row6 col1\" >0.6403</td>\n",
       "      <td id=\"T_35525_row6_col2\" class=\"data row6 col2\" >0.0567</td>\n",
       "      <td id=\"T_35525_row6_col3\" class=\"data row6 col3\" >0.6897</td>\n",
       "      <td id=\"T_35525_row6_col4\" class=\"data row6 col4\" >0.1047</td>\n",
       "      <td id=\"T_35525_row6_col5\" class=\"data row6 col5\" >0.0736</td>\n",
       "      <td id=\"T_35525_row6_col6\" class=\"data row6 col6\" >0.1536</td>\n",
       "    </tr>\n",
       "    <tr>\n",
       "      <th id=\"T_35525_level0_row7\" class=\"row_heading level0 row7\" >7</th>\n",
       "      <td id=\"T_35525_row7_col0\" class=\"data row7 col0\" >0.7788</td>\n",
       "      <td id=\"T_35525_row7_col1\" class=\"data row7 col1\" >0.6631</td>\n",
       "      <td id=\"T_35525_row7_col2\" class=\"data row7 col2\" >0.0623</td>\n",
       "      <td id=\"T_35525_row7_col3\" class=\"data row7 col3\" >0.5000</td>\n",
       "      <td id=\"T_35525_row7_col4\" class=\"data row7 col4\" >0.1108</td>\n",
       "      <td id=\"T_35525_row7_col5\" class=\"data row7 col5\" >0.0650</td>\n",
       "      <td id=\"T_35525_row7_col6\" class=\"data row7 col6\" >0.1131</td>\n",
       "    </tr>\n",
       "    <tr>\n",
       "      <th id=\"T_35525_level0_row8\" class=\"row_heading level0 row8\" >8</th>\n",
       "      <td id=\"T_35525_row8_col0\" class=\"data row8 col0\" >0.7732</td>\n",
       "      <td id=\"T_35525_row8_col1\" class=\"data row8 col1\" >0.6275</td>\n",
       "      <td id=\"T_35525_row8_col2\" class=\"data row8 col2\" >0.0340</td>\n",
       "      <td id=\"T_35525_row8_col3\" class=\"data row8 col3\" >0.3636</td>\n",
       "      <td id=\"T_35525_row8_col4\" class=\"data row8 col4\" >0.0622</td>\n",
       "      <td id=\"T_35525_row8_col5\" class=\"data row8 col5\" >0.0253</td>\n",
       "      <td id=\"T_35525_row8_col6\" class=\"data row8 col6\" >0.0499</td>\n",
       "    </tr>\n",
       "    <tr>\n",
       "      <th id=\"T_35525_level0_row9\" class=\"row_heading level0 row9\" >9</th>\n",
       "      <td id=\"T_35525_row9_col0\" class=\"data row9 col0\" >0.7781</td>\n",
       "      <td id=\"T_35525_row9_col1\" class=\"data row9 col1\" >0.6681</td>\n",
       "      <td id=\"T_35525_row9_col2\" class=\"data row9 col2\" >0.0482</td>\n",
       "      <td id=\"T_35525_row9_col3\" class=\"data row9 col3\" >0.4857</td>\n",
       "      <td id=\"T_35525_row9_col4\" class=\"data row9 col4\" >0.0876</td>\n",
       "      <td id=\"T_35525_row9_col5\" class=\"data row9 col5\" >0.0497</td>\n",
       "      <td id=\"T_35525_row9_col6\" class=\"data row9 col6\" >0.0954</td>\n",
       "    </tr>\n",
       "    <tr>\n",
       "      <th id=\"T_35525_level0_row10\" class=\"row_heading level0 row10\" >Mean</th>\n",
       "      <td id=\"T_35525_row10_col0\" class=\"data row10 col0\" >0.7802</td>\n",
       "      <td id=\"T_35525_row10_col1\" class=\"data row10 col1\" >0.6554</td>\n",
       "      <td id=\"T_35525_row10_col2\" class=\"data row10 col2\" >0.0527</td>\n",
       "      <td id=\"T_35525_row10_col3\" class=\"data row10 col3\" >0.5373</td>\n",
       "      <td id=\"T_35525_row10_col4\" class=\"data row10 col4\" >0.0958</td>\n",
       "      <td id=\"T_35525_row10_col5\" class=\"data row10 col5\" >0.0584</td>\n",
       "      <td id=\"T_35525_row10_col6\" class=\"data row10 col6\" >0.1128</td>\n",
       "    </tr>\n",
       "    <tr>\n",
       "      <th id=\"T_35525_level0_row11\" class=\"row_heading level0 row11\" >Std</th>\n",
       "      <td id=\"T_35525_row11_col0\" class=\"data row11 col0\" >0.0032</td>\n",
       "      <td id=\"T_35525_row11_col1\" class=\"data row11 col1\" >0.0219</td>\n",
       "      <td id=\"T_35525_row11_col2\" class=\"data row11 col2\" >0.0086</td>\n",
       "      <td id=\"T_35525_row11_col3\" class=\"data row11 col3\" >0.0830</td>\n",
       "      <td id=\"T_35525_row11_col4\" class=\"data row11 col4\" >0.0150</td>\n",
       "      <td id=\"T_35525_row11_col5\" class=\"data row11 col5\" >0.0137</td>\n",
       "      <td id=\"T_35525_row11_col6\" class=\"data row11 col6\" >0.0265</td>\n",
       "    </tr>\n",
       "  </tbody>\n",
       "</table>\n"
      ],
      "text/plain": [
       "<pandas.io.formats.style.Styler at 0x193630b2370>"
      ]
     },
     "metadata": {},
     "output_type": "display_data"
    },
    {
     "data": {
      "text/html": [],
      "text/plain": [
       "<IPython.core.display.HTML object>"
      ]
     },
     "metadata": {},
     "output_type": "display_data"
    },
    {
     "name": "stdout",
     "output_type": "stream",
     "text": [
      "Fitting 10 folds for each of 10 candidates, totalling 100 fits\n"
     ]
    }
   ],
   "source": [
    "# tune knn model\n",
    "import numpy as np\n",
    "tuned_knn = tune_model(knn, custom_grid = {'n_neighbors' : np.arange(0,50,1)})"
   ]
  },
  {
   "cell_type": "code",
   "execution_count": 17,
   "metadata": {},
   "outputs": [
    {
     "name": "stdout",
     "output_type": "stream",
     "text": [
      "KNeighborsClassifier(algorithm='auto', leaf_size=30, metric='minkowski',\n",
      "                     metric_params=None, n_jobs=-1, n_neighbors=42, p=2,\n",
      "                     weights='uniform')\n"
     ]
    }
   ],
   "source": [
    "print(tuned_knn)"
   ]
  },
  {
   "cell_type": "markdown",
   "metadata": {
    "colab_type": "text",
    "id": "IqxEZRi1EQrO"
   },
   "source": [
    "By default, `tune_model` optimizes `Accuracy` but this can be changed using `optimize` parameter. For example: `tune_model(dt, optimize = 'AUC')` will search for the hyperparameters of a Decision Tree Classifier that results in the highest `AUC`."
   ]
  },
  {
   "cell_type": "code",
   "execution_count": 18,
   "metadata": {},
   "outputs": [
    {
     "data": {
      "text/html": [],
      "text/plain": [
       "<IPython.core.display.HTML object>"
      ]
     },
     "metadata": {},
     "output_type": "display_data"
    },
    {
     "data": {
      "text/html": [
       "<style type=\"text/css\">\n",
       "#T_dae00_row10_col0, #T_dae00_row10_col1, #T_dae00_row10_col2, #T_dae00_row10_col3, #T_dae00_row10_col4, #T_dae00_row10_col5, #T_dae00_row10_col6 {\n",
       "  background: yellow;\n",
       "}\n",
       "</style>\n",
       "<table id=\"T_dae00\">\n",
       "  <thead>\n",
       "    <tr>\n",
       "      <th class=\"blank level0\" >&nbsp;</th>\n",
       "      <th id=\"T_dae00_level0_col0\" class=\"col_heading level0 col0\" >Accuracy</th>\n",
       "      <th id=\"T_dae00_level0_col1\" class=\"col_heading level0 col1\" >AUC</th>\n",
       "      <th id=\"T_dae00_level0_col2\" class=\"col_heading level0 col2\" >Recall</th>\n",
       "      <th id=\"T_dae00_level0_col3\" class=\"col_heading level0 col3\" >Prec.</th>\n",
       "      <th id=\"T_dae00_level0_col4\" class=\"col_heading level0 col4\" >F1</th>\n",
       "      <th id=\"T_dae00_level0_col5\" class=\"col_heading level0 col5\" >Kappa</th>\n",
       "      <th id=\"T_dae00_level0_col6\" class=\"col_heading level0 col6\" >MCC</th>\n",
       "    </tr>\n",
       "    <tr>\n",
       "      <th class=\"index_name level0\" >Fold</th>\n",
       "      <th class=\"blank col0\" >&nbsp;</th>\n",
       "      <th class=\"blank col1\" >&nbsp;</th>\n",
       "      <th class=\"blank col2\" >&nbsp;</th>\n",
       "      <th class=\"blank col3\" >&nbsp;</th>\n",
       "      <th class=\"blank col4\" >&nbsp;</th>\n",
       "      <th class=\"blank col5\" >&nbsp;</th>\n",
       "      <th class=\"blank col6\" >&nbsp;</th>\n",
       "    </tr>\n",
       "  </thead>\n",
       "  <tbody>\n",
       "    <tr>\n",
       "      <th id=\"T_dae00_level0_row0\" class=\"row_heading level0 row0\" >0</th>\n",
       "      <td id=\"T_dae00_row0_col0\" class=\"data row0 col0\" >0.7682</td>\n",
       "      <td id=\"T_dae00_row0_col1\" class=\"data row0 col1\" >0.7853</td>\n",
       "      <td id=\"T_dae00_row0_col2\" class=\"data row0 col2\" >0.6317</td>\n",
       "      <td id=\"T_dae00_row0_col3\" class=\"data row0 col3\" >0.4816</td>\n",
       "      <td id=\"T_dae00_row0_col4\" class=\"data row0 col4\" >0.5466</td>\n",
       "      <td id=\"T_dae00_row0_col5\" class=\"data row0 col5\" >0.3946</td>\n",
       "      <td id=\"T_dae00_row0_col6\" class=\"data row0 col6\" >0.4012</td>\n",
       "    </tr>\n",
       "    <tr>\n",
       "      <th id=\"T_dae00_level0_row1\" class=\"row_heading level0 row1\" >1</th>\n",
       "      <td id=\"T_dae00_row1_col0\" class=\"data row1 col0\" >0.7638</td>\n",
       "      <td id=\"T_dae00_row1_col1\" class=\"data row1 col1\" >0.7883</td>\n",
       "      <td id=\"T_dae00_row1_col2\" class=\"data row1 col2\" >0.6431</td>\n",
       "      <td id=\"T_dae00_row1_col3\" class=\"data row1 col3\" >0.4749</td>\n",
       "      <td id=\"T_dae00_row1_col4\" class=\"data row1 col4\" >0.5463</td>\n",
       "      <td id=\"T_dae00_row1_col5\" class=\"data row1 col5\" >0.3915</td>\n",
       "      <td id=\"T_dae00_row1_col6\" class=\"data row1 col6\" >0.3997</td>\n",
       "    </tr>\n",
       "    <tr>\n",
       "      <th id=\"T_dae00_level0_row2\" class=\"row_heading level0 row2\" >2</th>\n",
       "      <td id=\"T_dae00_row2_col0\" class=\"data row2 col0\" >0.7870</td>\n",
       "      <td id=\"T_dae00_row2_col1\" class=\"data row2 col1\" >0.8120</td>\n",
       "      <td id=\"T_dae00_row2_col2\" class=\"data row2 col2\" >0.6884</td>\n",
       "      <td id=\"T_dae00_row2_col3\" class=\"data row2 col3\" >0.5137</td>\n",
       "      <td id=\"T_dae00_row2_col4\" class=\"data row2 col4\" >0.5884</td>\n",
       "      <td id=\"T_dae00_row2_col5\" class=\"data row2 col5\" >0.4487</td>\n",
       "      <td id=\"T_dae00_row2_col6\" class=\"data row2 col6\" >0.4575</td>\n",
       "    </tr>\n",
       "    <tr>\n",
       "      <th id=\"T_dae00_level0_row3\" class=\"row_heading level0 row3\" >3</th>\n",
       "      <td id=\"T_dae00_row3_col0\" class=\"data row3 col0\" >0.7588</td>\n",
       "      <td id=\"T_dae00_row3_col1\" class=\"data row3 col1\" >0.7668</td>\n",
       "      <td id=\"T_dae00_row3_col2\" class=\"data row3 col2\" >0.5864</td>\n",
       "      <td id=\"T_dae00_row3_col3\" class=\"data row3 col3\" >0.4641</td>\n",
       "      <td id=\"T_dae00_row3_col4\" class=\"data row3 col4\" >0.5181</td>\n",
       "      <td id=\"T_dae00_row3_col5\" class=\"data row3 col5\" >0.3602</td>\n",
       "      <td id=\"T_dae00_row3_col6\" class=\"data row3 col6\" >0.3645</td>\n",
       "    </tr>\n",
       "    <tr>\n",
       "      <th id=\"T_dae00_level0_row4\" class=\"row_heading level0 row4\" >4</th>\n",
       "      <td id=\"T_dae00_row4_col0\" class=\"data row4 col0\" >0.7801</td>\n",
       "      <td id=\"T_dae00_row4_col1\" class=\"data row4 col1\" >0.7766</td>\n",
       "      <td id=\"T_dae00_row4_col2\" class=\"data row4 col2\" >0.5949</td>\n",
       "      <td id=\"T_dae00_row4_col3\" class=\"data row4 col3\" >0.5024</td>\n",
       "      <td id=\"T_dae00_row4_col4\" class=\"data row4 col4\" >0.5447</td>\n",
       "      <td id=\"T_dae00_row4_col5\" class=\"data row4 col5\" >0.4011</td>\n",
       "      <td id=\"T_dae00_row4_col6\" class=\"data row4 col6\" >0.4036</td>\n",
       "    </tr>\n",
       "    <tr>\n",
       "      <th id=\"T_dae00_level0_row5\" class=\"row_heading level0 row5\" >5</th>\n",
       "      <td id=\"T_dae00_row5_col0\" class=\"data row5 col0\" >0.7757</td>\n",
       "      <td id=\"T_dae00_row5_col1\" class=\"data row5 col1\" >0.7910</td>\n",
       "      <td id=\"T_dae00_row5_col2\" class=\"data row5 col2\" >0.6374</td>\n",
       "      <td id=\"T_dae00_row5_col3\" class=\"data row5 col3\" >0.4945</td>\n",
       "      <td id=\"T_dae00_row5_col4\" class=\"data row5 col4\" >0.5569</td>\n",
       "      <td id=\"T_dae00_row5_col5\" class=\"data row5 col5\" >0.4099</td>\n",
       "      <td id=\"T_dae00_row5_col6\" class=\"data row5 col6\" >0.4159</td>\n",
       "    </tr>\n",
       "    <tr>\n",
       "      <th id=\"T_dae00_level0_row6\" class=\"row_heading level0 row6\" >6</th>\n",
       "      <td id=\"T_dae00_row6_col0\" class=\"data row6 col0\" >0.7531</td>\n",
       "      <td id=\"T_dae00_row6_col1\" class=\"data row6 col1\" >0.7490</td>\n",
       "      <td id=\"T_dae00_row6_col2\" class=\"data row6 col2\" >0.6006</td>\n",
       "      <td id=\"T_dae00_row6_col3\" class=\"data row6 col3\" >0.4559</td>\n",
       "      <td id=\"T_dae00_row6_col4\" class=\"data row6 col4\" >0.5183</td>\n",
       "      <td id=\"T_dae00_row6_col5\" class=\"data row6 col5\" >0.3565</td>\n",
       "      <td id=\"T_dae00_row6_col6\" class=\"data row6 col6\" >0.3626</td>\n",
       "    </tr>\n",
       "    <tr>\n",
       "      <th id=\"T_dae00_level0_row7\" class=\"row_heading level0 row7\" >7</th>\n",
       "      <td id=\"T_dae00_row7_col0\" class=\"data row7 col0\" >0.7726</td>\n",
       "      <td id=\"T_dae00_row7_col1\" class=\"data row7 col1\" >0.7828</td>\n",
       "      <td id=\"T_dae00_row7_col2\" class=\"data row7 col2\" >0.6374</td>\n",
       "      <td id=\"T_dae00_row7_col3\" class=\"data row7 col3\" >0.4891</td>\n",
       "      <td id=\"T_dae00_row7_col4\" class=\"data row7 col4\" >0.5535</td>\n",
       "      <td id=\"T_dae00_row7_col5\" class=\"data row7 col5\" >0.4044</td>\n",
       "      <td id=\"T_dae00_row7_col6\" class=\"data row7 col6\" >0.4108</td>\n",
       "    </tr>\n",
       "    <tr>\n",
       "      <th id=\"T_dae00_level0_row8\" class=\"row_heading level0 row8\" >8</th>\n",
       "      <td id=\"T_dae00_row8_col0\" class=\"data row8 col0\" >0.7519</td>\n",
       "      <td id=\"T_dae00_row8_col1\" class=\"data row8 col1\" >0.7568</td>\n",
       "      <td id=\"T_dae00_row8_col2\" class=\"data row8 col2\" >0.6062</td>\n",
       "      <td id=\"T_dae00_row8_col3\" class=\"data row8 col3\" >0.4544</td>\n",
       "      <td id=\"T_dae00_row8_col4\" class=\"data row8 col4\" >0.5194</td>\n",
       "      <td id=\"T_dae00_row8_col5\" class=\"data row8 col5\" >0.3568</td>\n",
       "      <td id=\"T_dae00_row8_col6\" class=\"data row8 col6\" >0.3635</td>\n",
       "    </tr>\n",
       "    <tr>\n",
       "      <th id=\"T_dae00_level0_row9\" class=\"row_heading level0 row9\" >9</th>\n",
       "      <td id=\"T_dae00_row9_col0\" class=\"data row9 col0\" >0.7705</td>\n",
       "      <td id=\"T_dae00_row9_col1\" class=\"data row9 col1\" >0.7743</td>\n",
       "      <td id=\"T_dae00_row9_col2\" class=\"data row9 col2\" >0.6147</td>\n",
       "      <td id=\"T_dae00_row9_col3\" class=\"data row9 col3\" >0.4855</td>\n",
       "      <td id=\"T_dae00_row9_col4\" class=\"data row9 col4\" >0.5425</td>\n",
       "      <td id=\"T_dae00_row9_col5\" class=\"data row9 col5\" >0.3922</td>\n",
       "      <td id=\"T_dae00_row9_col6\" class=\"data row9 col6\" >0.3970</td>\n",
       "    </tr>\n",
       "    <tr>\n",
       "      <th id=\"T_dae00_level0_row10\" class=\"row_heading level0 row10\" >Mean</th>\n",
       "      <td id=\"T_dae00_row10_col0\" class=\"data row10 col0\" >0.7682</td>\n",
       "      <td id=\"T_dae00_row10_col1\" class=\"data row10 col1\" >0.7783</td>\n",
       "      <td id=\"T_dae00_row10_col2\" class=\"data row10 col2\" >0.6241</td>\n",
       "      <td id=\"T_dae00_row10_col3\" class=\"data row10 col3\" >0.4816</td>\n",
       "      <td id=\"T_dae00_row10_col4\" class=\"data row10 col4\" >0.5435</td>\n",
       "      <td id=\"T_dae00_row10_col5\" class=\"data row10 col5\" >0.3916</td>\n",
       "      <td id=\"T_dae00_row10_col6\" class=\"data row10 col6\" >0.3976</td>\n",
       "    </tr>\n",
       "    <tr>\n",
       "      <th id=\"T_dae00_level0_row11\" class=\"row_heading level0 row11\" >Std</th>\n",
       "      <td id=\"T_dae00_row11_col0\" class=\"data row11 col0\" >0.0108</td>\n",
       "      <td id=\"T_dae00_row11_col1\" class=\"data row11 col1\" >0.0171</td>\n",
       "      <td id=\"T_dae00_row11_col2\" class=\"data row11 col2\" >0.0285</td>\n",
       "      <td id=\"T_dae00_row11_col3\" class=\"data row11 col3\" >0.0186</td>\n",
       "      <td id=\"T_dae00_row11_col4\" class=\"data row11 col4\" >0.0204</td>\n",
       "      <td id=\"T_dae00_row11_col5\" class=\"data row11 col5\" >0.0270</td>\n",
       "      <td id=\"T_dae00_row11_col6\" class=\"data row11 col6\" >0.0276</td>\n",
       "    </tr>\n",
       "  </tbody>\n",
       "</table>\n"
      ],
      "text/plain": [
       "<pandas.io.formats.style.Styler at 0x193630b8100>"
      ]
     },
     "metadata": {},
     "output_type": "display_data"
    },
    {
     "data": {
      "text/html": [],
      "text/plain": [
       "<IPython.core.display.HTML object>"
      ]
     },
     "metadata": {},
     "output_type": "display_data"
    },
    {
     "name": "stdout",
     "output_type": "stream",
     "text": [
      "Fitting 10 folds for each of 10 candidates, totalling 100 fits\n"
     ]
    }
   ],
   "source": [
    "# tune random forest model (this may take some time)\n",
    "tuned_rf = tune_model(rf, optimize = 'AUC')"
   ]
  },
  {
   "cell_type": "markdown",
   "metadata": {
    "colab_type": "text",
    "id": "w_P46O0jEQrT"
   },
   "source": [
    "# Plot Model"
   ]
  },
  {
   "cell_type": "markdown",
   "metadata": {
    "colab_type": "text",
    "id": "FGM9GOtjEQrV"
   },
   "source": [
    "The `plot_mdoel` function analyzes the performance of a trained model on the test / hold-out set. It may require re-training the model in certain cases. There are 15+ plots available, please see the `plot_model` docstring for the list of available plots."
   ]
  },
  {
   "cell_type": "code",
   "execution_count": 19,
   "metadata": {
    "colab": {},
    "colab_type": "code",
    "id": "RLbLqvkHEQra",
    "outputId": "fe40b5e3-6375-43e8-e97d-1d487e02eb2d"
   },
   "outputs": [
    {
     "data": {
      "text/html": [],
      "text/plain": [
       "<IPython.core.display.HTML object>"
      ]
     },
     "metadata": {},
     "output_type": "display_data"
    },
    {
     "data": {
      "image/png": "[encoded data removed]",
      "text/plain": [
       "<Figure size 800x550 with 1 Axes>"
      ]
     },
     "metadata": {},
     "output_type": "display_data"
    }
   ],
   "source": [
    "# auc plot\n",
    "plot_model(tuned_rf, plot = 'auc')"
   ]
  },
  {
   "cell_type": "code",
   "execution_count": 20,
   "metadata": {
    "colab": {},
    "colab_type": "code",
    "id": "4IvchQoiEQrr",
    "outputId": "fdff2076-86fc-42f5-beee-f0051ea30dd4"
   },
   "outputs": [
    {
     "data": {
      "text/html": [],
      "text/plain": [
       "<IPython.core.display.HTML object>"
      ]
     },
     "metadata": {},
     "output_type": "display_data"
    },
    {
     "data": {
      "image/png": "[encoded data removed]",
      "text/plain": [
       "<Figure size 800x550 with 1 Axes>"
      ]
     },
     "metadata": {},
     "output_type": "display_data"
    }
   ],
   "source": [
    "# precision recall curve plot\n",
    "plot_model(tuned_rf, plot = 'pr')"
   ]
  },
  {
   "cell_type": "code",
   "execution_count": 21,
   "metadata": {
    "colab": {},
    "colab_type": "code",
    "id": "nVScSxJ-EQr2",
    "outputId": "f44f4b08-b749-4d0e-dcc9-d7e3dc6240c8"
   },
   "outputs": [
    {
     "data": {
      "text/html": [],
      "text/plain": [
       "<IPython.core.display.HTML object>"
      ]
     },
     "metadata": {},
     "output_type": "display_data"
    },
    {
     "data": {
      "image/png": "[encoded data removed]",
      "text/plain": [
       "<Figure size 800x500 with 1 Axes>"
      ]
     },
     "metadata": {},
     "output_type": "display_data"
    }
   ],
   "source": [
    "# feature importance plot\n",
    "plot_model(tuned_rf, plot='feature')"
   ]
  },
  {
   "cell_type": "code",
   "execution_count": 22,
   "metadata": {
    "colab": {},
    "colab_type": "code",
    "id": "OAB5mes-EQsA",
    "outputId": "bd82130d-2cc3-4b63-df5d-03b7aa54bf52"
   },
   "outputs": [
    {
     "data": {
      "text/html": [],
      "text/plain": [
       "<IPython.core.display.HTML object>"
      ]
     },
     "metadata": {},
     "output_type": "display_data"
    },
    {
     "data": {
      "image/png": "[encoded data removed]",
      "text/plain": [
       "<Figure size 800x550 with 1 Axes>"
      ]
     },
     "metadata": {},
     "output_type": "display_data"
    }
   ],
   "source": [
    "plot_model(tuned_rf, plot = 'confusion_matrix')"
   ]
  },
  {
   "cell_type": "markdown",
   "metadata": {
    "colab_type": "text",
    "id": "deClKJrbEQsJ"
   },
   "source": [
    "Another way to analyze the performance of models is to use the `evaluate_model` function which displays a user interface for all of the available plots for a given model. It is only available when you are using Jupyter compatible notebook environment. "
   ]
  },
  {
   "cell_type": "code",
   "execution_count": 23,
   "metadata": {
    "colab": {
     "base_uri": "https://localhost:8080/",
     "height": 436,
     "referenced_widgets": [
      "42d5400d235d40b78190016ef0dabe11",
      "41031579127f4a53b58957e601465083",
      "12bf8b3c6ae8444a900474912589fdf1",
      "9bb3600d38c04691b444ff375ad5e3f5",
      "8886001bc7c1463ba58a8453f5c55073",
      "0a06fb091bd94ce6b6ab892e2c6faadf",
      "3cc1e83b91f34b289c7d52003f20a97a",
      "8d709ec9ec484944b1f9773748857f84",
      "8399e21b17634116861a5abaa9c0ccf7",
      "d5b6fce1763b4b54898ff3397b0f5bb0",
      "57b94ac505d142769b79de2f1e5c1166",
      "2a81017413ca4fe789c2272a5831a069",
      "02771b4dc3284414ab05df1906f4556b",
      "9e338844e75b4e17be8483529f5f38fd",
      "22588a12c0db4067982e62ebbe7e6930"
     ]
    },
    "colab_type": "code",
    "id": "OcLV1Ln6EQsN",
    "outputId": "7b5b8b4e-8d4a-4371-9a4f-cabb0a96265a"
   },
   "outputs": [
    {
     "data": {
      "application/vnd.jupyter.widget-view+json": {
       "model_id": "a5ce1e9b82e841a5b7c2591efc24573c",
       "version_major": 2,
       "version_minor": 0
      },
      "text/plain": [
       "interactive(children=(ToggleButtons(description='Plot Type:', icons=('',), options=(('Pipeline Plot', 'pipelin…"
      ]
     },
     "metadata": {},
     "output_type": "display_data"
    }
   ],
   "source": [
    "evaluate_model(tuned_rf)"
   ]
  },
  {
   "cell_type": "markdown",
   "metadata": {
    "colab_type": "text",
    "id": "RX5pYUJJEQsV"
   },
   "source": [
    "# Predict on test / hold-out Sample"
   ]
  },
  {
   "cell_type": "markdown",
   "metadata": {
    "colab_type": "text",
    "id": "mFSvRYiaEQsd"
   },
   "source": [
    "The `predict_model` function in pycaret generates the label given a trained model.  When the `data` is None, it generate `prediction_label` and `prediction_score` on the test / hold-out set and also display performance metrics. "
   ]
  },
  {
   "cell_type": "code",
   "execution_count": 24,
   "metadata": {
    "colab": {},
    "colab_type": "code",
    "id": "nwaZk6oTEQsi",
    "outputId": "d30c8533-d347-4fa6-f18e-5b2abc937bec"
   },
   "outputs": [
    {
     "data": {
      "text/html": [
       "<style type=\"text/css\">\n",
       "</style>\n",
       "<table id=\"T_7d812\">\n",
       "  <thead>\n",
       "    <tr>\n",
       "      <th class=\"blank level0\" >&nbsp;</th>\n",
       "      <th id=\"T_7d812_level0_col0\" class=\"col_heading level0 col0\" >Model</th>\n",
       "      <th id=\"T_7d812_level0_col1\" class=\"col_heading level0 col1\" >Accuracy</th>\n",
       "      <th id=\"T_7d812_level0_col2\" class=\"col_heading level0 col2\" >AUC</th>\n",
       "      <th id=\"T_7d812_level0_col3\" class=\"col_heading level0 col3\" >Recall</th>\n",
       "      <th id=\"T_7d812_level0_col4\" class=\"col_heading level0 col4\" >Prec.</th>\n",
       "      <th id=\"T_7d812_level0_col5\" class=\"col_heading level0 col5\" >F1</th>\n",
       "      <th id=\"T_7d812_level0_col6\" class=\"col_heading level0 col6\" >Kappa</th>\n",
       "      <th id=\"T_7d812_level0_col7\" class=\"col_heading level0 col7\" >MCC</th>\n",
       "    </tr>\n",
       "  </thead>\n",
       "  <tbody>\n",
       "    <tr>\n",
       "      <th id=\"T_7d812_level0_row0\" class=\"row_heading level0 row0\" >0</th>\n",
       "      <td id=\"T_7d812_row0_col0\" class=\"data row0 col0\" >Random Forest Classifier</td>\n",
       "      <td id=\"T_7d812_row0_col1\" class=\"data row0 col1\" >0.7509</td>\n",
       "      <td id=\"T_7d812_row0_col2\" class=\"data row0 col2\" >0.7483</td>\n",
       "      <td id=\"T_7d812_row0_col3\" class=\"data row0 col3\" >0.5796</td>\n",
       "      <td id=\"T_7d812_row0_col4\" class=\"data row0 col4\" >0.4509</td>\n",
       "      <td id=\"T_7d812_row0_col5\" class=\"data row0 col5\" >0.5072</td>\n",
       "      <td id=\"T_7d812_row0_col6\" class=\"data row0 col6\" >0.3440</td>\n",
       "      <td id=\"T_7d812_row0_col7\" class=\"data row0 col7\" >0.3489</td>\n",
       "    </tr>\n",
       "  </tbody>\n",
       "</table>\n"
      ],
      "text/plain": [
       "<pandas.io.formats.style.Styler at 0x1936419ff70>"
      ]
     },
     "metadata": {},
     "output_type": "display_data"
    },
    {
     "data": {
      "text/html": [
       "<div>\n",
       "<style scoped>\n",
       "    .dataframe tbody tr th:only-of-type {\n",
       "        vertical-align: middle;\n",
       "    }\n",
       "\n",
       "    .dataframe tbody tr th {\n",
       "        vertical-align: top;\n",
       "    }\n",
       "\n",
       "    .dataframe thead th {\n",
       "        text-align: right;\n",
       "    }\n",
       "</style>\n",
       "<table border=\"1\" class=\"dataframe\">\n",
       "  <thead>\n",
       "    <tr style=\"text-align: right;\">\n",
       "      <th></th>\n",
       "      <th>LIMIT_BAL</th>\n",
       "      <th>SEX</th>\n",
       "      <th>EDUCATION</th>\n",
       "      <th>MARRIAGE</th>\n",
       "      <th>AGE</th>\n",
       "      <th>PAY_1</th>\n",
       "      <th>PAY_2</th>\n",
       "      <th>PAY_3</th>\n",
       "      <th>PAY_4</th>\n",
       "      <th>PAY_5</th>\n",
       "      <th>...</th>\n",
       "      <th>BILL_AMT6</th>\n",
       "      <th>PAY_AMT1</th>\n",
       "      <th>PAY_AMT2</th>\n",
       "      <th>PAY_AMT3</th>\n",
       "      <th>PAY_AMT4</th>\n",
       "      <th>PAY_AMT5</th>\n",
       "      <th>PAY_AMT6</th>\n",
       "      <th>default</th>\n",
       "      <th>prediction_label</th>\n",
       "      <th>prediction_score</th>\n",
       "    </tr>\n",
       "  </thead>\n",
       "  <tbody>\n",
       "    <tr>\n",
       "      <th>15959</th>\n",
       "      <td>30000.0</td>\n",
       "      <td>1.0</td>\n",
       "      <td>1.0</td>\n",
       "      <td>1.0</td>\n",
       "      <td>38.0</td>\n",
       "      <td>8.0</td>\n",
       "      <td>7.0</td>\n",
       "      <td>6.0</td>\n",
       "      <td>5.0</td>\n",
       "      <td>4.0</td>\n",
       "      <td>...</td>\n",
       "      <td>31085.0</td>\n",
       "      <td>0.0</td>\n",
       "      <td>0.0</td>\n",
       "      <td>0.0</td>\n",
       "      <td>0.0</td>\n",
       "      <td>0.0</td>\n",
       "      <td>0.0</td>\n",
       "      <td>1</td>\n",
       "      <td>1</td>\n",
       "      <td>0.8522</td>\n",
       "    </tr>\n",
       "    <tr>\n",
       "      <th>15960</th>\n",
       "      <td>110000.0</td>\n",
       "      <td>1.0</td>\n",
       "      <td>3.0</td>\n",
       "      <td>1.0</td>\n",
       "      <td>43.0</td>\n",
       "      <td>-1.0</td>\n",
       "      <td>-1.0</td>\n",
       "      <td>-1.0</td>\n",
       "      <td>-1.0</td>\n",
       "      <td>0.0</td>\n",
       "      <td>...</td>\n",
       "      <td>31073.0</td>\n",
       "      <td>390.0</td>\n",
       "      <td>5050.0</td>\n",
       "      <td>63032.0</td>\n",
       "      <td>1100.0</td>\n",
       "      <td>1100.0</td>\n",
       "      <td>1000.0</td>\n",
       "      <td>0</td>\n",
       "      <td>0</td>\n",
       "      <td>0.6116</td>\n",
       "    </tr>\n",
       "    <tr>\n",
       "      <th>15961</th>\n",
       "      <td>290000.0</td>\n",
       "      <td>2.0</td>\n",
       "      <td>1.0</td>\n",
       "      <td>2.0</td>\n",
       "      <td>27.0</td>\n",
       "      <td>2.0</td>\n",
       "      <td>0.0</td>\n",
       "      <td>0.0</td>\n",
       "      <td>0.0</td>\n",
       "      <td>2.0</td>\n",
       "      <td>...</td>\n",
       "      <td>278260.0</td>\n",
       "      <td>16500.0</td>\n",
       "      <td>15000.0</td>\n",
       "      <td>20000.0</td>\n",
       "      <td>10000.0</td>\n",
       "      <td>9701.0</td>\n",
       "      <td>0.0</td>\n",
       "      <td>0</td>\n",
       "      <td>1</td>\n",
       "      <td>0.7464</td>\n",
       "    </tr>\n",
       "    <tr>\n",
       "      <th>15962</th>\n",
       "      <td>110000.0</td>\n",
       "      <td>2.0</td>\n",
       "      <td>3.0</td>\n",
       "      <td>0.0</td>\n",
       "      <td>31.0</td>\n",
       "      <td>0.0</td>\n",
       "      <td>0.0</td>\n",
       "      <td>0.0</td>\n",
       "      <td>0.0</td>\n",
       "      <td>0.0</td>\n",
       "      <td>...</td>\n",
       "      <td>63208.0</td>\n",
       "      <td>4000.0</td>\n",
       "      <td>5000.0</td>\n",
       "      <td>3000.0</td>\n",
       "      <td>3000.0</td>\n",
       "      <td>3000.0</td>\n",
       "      <td>8954.0</td>\n",
       "      <td>0</td>\n",
       "      <td>0</td>\n",
       "      <td>0.7321</td>\n",
       "    </tr>\n",
       "    <tr>\n",
       "      <th>15963</th>\n",
       "      <td>360000.0</td>\n",
       "      <td>1.0</td>\n",
       "      <td>3.0</td>\n",
       "      <td>2.0</td>\n",
       "      <td>34.0</td>\n",
       "      <td>0.0</td>\n",
       "      <td>0.0</td>\n",
       "      <td>0.0</td>\n",
       "      <td>0.0</td>\n",
       "      <td>0.0</td>\n",
       "      <td>...</td>\n",
       "      <td>235916.0</td>\n",
       "      <td>15000.0</td>\n",
       "      <td>9221.0</td>\n",
       "      <td>9225.0</td>\n",
       "      <td>8112.0</td>\n",
       "      <td>8369.0</td>\n",
       "      <td>9000.0</td>\n",
       "      <td>0</td>\n",
       "      <td>0</td>\n",
       "      <td>0.6824</td>\n",
       "    </tr>\n",
       "  </tbody>\n",
       "</table>\n",
       "<p>5 rows × 26 columns</p>\n",
       "</div>"
      ],
      "text/plain": [
       "       LIMIT_BAL  SEX  EDUCATION  MARRIAGE   AGE  PAY_1  PAY_2  PAY_3  PAY_4  \\\n",
       "15959    30000.0  1.0        1.0       1.0  38.0    8.0    7.0    6.0    5.0   \n",
       "15960   110000.0  1.0        3.0       1.0  43.0   -1.0   -1.0   -1.0   -1.0   \n",
       "15961   290000.0  2.0        1.0       2.0  27.0    2.0    0.0    0.0    0.0   \n",
       "15962   110000.0  2.0        3.0       0.0  31.0    0.0    0.0    0.0    0.0   \n",
       "15963   360000.0  1.0        3.0       2.0  34.0    0.0    0.0    0.0    0.0   \n",
       "\n",
       "       PAY_5  ...  BILL_AMT6  PAY_AMT1  PAY_AMT2  PAY_AMT3  PAY_AMT4  \\\n",
       "15959    4.0  ...    31085.0       0.0       0.0       0.0       0.0   \n",
       "15960    0.0  ...    31073.0     390.0    5050.0   63032.0    1100.0   \n",
       "15961    2.0  ...   278260.0   16500.0   15000.0   20000.0   10000.0   \n",
       "15962    0.0  ...    63208.0    4000.0    5000.0    3000.0    3000.0   \n",
       "15963    0.0  ...   235916.0   15000.0    9221.0    9225.0    8112.0   \n",
       "\n",
       "       PAY_AMT5  PAY_AMT6  default  prediction_label  prediction_score  \n",
       "15959       0.0       0.0        1                 1            0.8522  \n",
       "15960    1100.0    1000.0        0                 0            0.6116  \n",
       "15961    9701.0       0.0        0                 1            0.7464  \n",
       "15962    3000.0    8954.0        0                 0            0.7321  \n",
       "15963    8369.0    9000.0        0                 0            0.6824  \n",
       "\n",
       "[5 rows x 26 columns]"
      ]
     },
     "execution_count": 24,
     "metadata": {},
     "output_type": "execute_result"
    }
   ],
   "source": [
    "pred_holdout = predict_model(tuned_rf)\n",
    "pred_holdout.head()"
   ]
  },
  {
   "cell_type": "markdown",
   "metadata": {
    "colab_type": "text",
    "id": "r79BGjIfEQs1"
   },
   "source": [
    "# Finalize Model"
   ]
  },
  {
   "cell_type": "markdown",
   "metadata": {
    "colab_type": "text",
    "id": "B-6xJ9kQEQs7"
   },
   "source": [
    "The `finalize_model` function fits the entire pipeline  onto the complete dataset including the test/hold-out sample (30% in this tutorial). The purpose of this function is to train the model on the complete dataset before it is deployed in production."
   ]
  },
  {
   "cell_type": "code",
   "execution_count": 25,
   "metadata": {
    "colab": {},
    "colab_type": "code",
    "id": "_--tO4KGEQs-"
   },
   "outputs": [],
   "source": [
    "final_rf = finalize_model(tuned_rf)"
   ]
  },
  {
   "cell_type": "code",
   "execution_count": 26,
   "metadata": {
    "colab": {
     "base_uri": "https://localhost:8080/",
     "height": 147
    },
    "colab_type": "code",
    "id": "U9W6kXsSEQtQ",
    "outputId": "794b24a4-9c95-4730-eddd-f82e4925b866"
   },
   "outputs": [
    {
     "name": "stdout",
     "output_type": "stream",
     "text": [
      "Pipeline(memory=Memory(location=C:\\Users\\owner\\AppData\\Local\\Temp\\joblib),\n",
      "         steps=[('numerical_imputer',\n",
      "                 TransformerWrapper(exclude=None,\n",
      "                                    include=['LIMIT_BAL', 'SEX', 'EDUCATION',\n",
      "                                             'MARRIAGE', 'AGE', 'PAY_1',\n",
      "                                             'PAY_2', 'PAY_3', 'PAY_4', 'PAY_5',\n",
      "                                             'PAY_6', 'BILL_AMT1', 'BILL_AMT2',\n",
      "                                             'BILL_AMT3', 'BILL_AMT4',\n",
      "                                             'BILL_AMT5', 'BILL_AMT6',\n",
      "                                             'PAY_AMT1', 'PAY_AMT2', 'PAY_AMT3',\n",
      "                                             'PAY_AM...\n",
      "                 RandomForestClassifier(bootstrap=False, ccp_alpha=0.0,\n",
      "                                        class_weight='balanced_subsample',\n",
      "                                        criterion='gini', max_depth=6,\n",
      "                                        max_features='log2',\n",
      "                                        max_leaf_nodes=None, max_samples=None,\n",
      "                                        min_impurity_decrease=0.001,\n",
      "                                        min_samples_leaf=6, min_samples_split=9,\n",
      "                                        min_weight_fraction_leaf=0.0,\n",
      "                                        n_estimators=190, n_jobs=-1,\n",
      "                                        oob_score=False, random_state=123,\n",
      "                                        verbose=0, warm_start=False))],\n",
      "         verbose=False)\n"
     ]
    }
   ],
   "source": [
    "print(final_rf)"
   ]
  },
  {
   "cell_type": "markdown",
   "metadata": {
    "colab_type": "text",
    "id": "hUzc6tXNEQtr"
   },
   "source": [
    "# Predict on unseen data"
   ]
  },
  {
   "cell_type": "markdown",
   "metadata": {
    "colab_type": "text",
    "id": "dx5vXjChEQtt"
   },
   "source": [
    "The `predict_model` function is also used to predict on the unseen dataset."
   ]
  },
  {
   "cell_type": "code",
   "execution_count": 27,
   "metadata": {},
   "outputs": [
    {
     "data": {
      "text/html": [
       "<div>\n",
       "<style scoped>\n",
       "    .dataframe tbody tr th:only-of-type {\n",
       "        vertical-align: middle;\n",
       "    }\n",
       "\n",
       "    .dataframe tbody tr th {\n",
       "        vertical-align: top;\n",
       "    }\n",
       "\n",
       "    .dataframe thead th {\n",
       "        text-align: right;\n",
       "    }\n",
       "</style>\n",
       "<table border=\"1\" class=\"dataframe\">\n",
       "  <thead>\n",
       "    <tr style=\"text-align: right;\">\n",
       "      <th></th>\n",
       "      <th>LIMIT_BAL</th>\n",
       "      <th>SEX</th>\n",
       "      <th>EDUCATION</th>\n",
       "      <th>MARRIAGE</th>\n",
       "      <th>AGE</th>\n",
       "      <th>PAY_1</th>\n",
       "      <th>PAY_2</th>\n",
       "      <th>PAY_3</th>\n",
       "      <th>PAY_4</th>\n",
       "      <th>PAY_5</th>\n",
       "      <th>...</th>\n",
       "      <th>BILL_AMT4</th>\n",
       "      <th>BILL_AMT5</th>\n",
       "      <th>BILL_AMT6</th>\n",
       "      <th>PAY_AMT1</th>\n",
       "      <th>PAY_AMT2</th>\n",
       "      <th>PAY_AMT3</th>\n",
       "      <th>PAY_AMT4</th>\n",
       "      <th>PAY_AMT5</th>\n",
       "      <th>PAY_AMT6</th>\n",
       "      <th>default</th>\n",
       "    </tr>\n",
       "  </thead>\n",
       "  <tbody>\n",
       "    <tr>\n",
       "      <th>0</th>\n",
       "      <td>100000</td>\n",
       "      <td>2</td>\n",
       "      <td>2</td>\n",
       "      <td>2</td>\n",
       "      <td>23</td>\n",
       "      <td>0</td>\n",
       "      <td>-1</td>\n",
       "      <td>-1</td>\n",
       "      <td>0</td>\n",
       "      <td>0</td>\n",
       "      <td>...</td>\n",
       "      <td>221.0</td>\n",
       "      <td>-159.0</td>\n",
       "      <td>567.0</td>\n",
       "      <td>380.0</td>\n",
       "      <td>601.0</td>\n",
       "      <td>0.0</td>\n",
       "      <td>581.0</td>\n",
       "      <td>1687.0</td>\n",
       "      <td>1542.0</td>\n",
       "      <td>0</td>\n",
       "    </tr>\n",
       "    <tr>\n",
       "      <th>1</th>\n",
       "      <td>380000</td>\n",
       "      <td>1</td>\n",
       "      <td>2</td>\n",
       "      <td>2</td>\n",
       "      <td>32</td>\n",
       "      <td>-1</td>\n",
       "      <td>-1</td>\n",
       "      <td>-1</td>\n",
       "      <td>-1</td>\n",
       "      <td>-1</td>\n",
       "      <td>...</td>\n",
       "      <td>32018.0</td>\n",
       "      <td>11849.0</td>\n",
       "      <td>11873.0</td>\n",
       "      <td>21540.0</td>\n",
       "      <td>15138.0</td>\n",
       "      <td>24677.0</td>\n",
       "      <td>11851.0</td>\n",
       "      <td>11875.0</td>\n",
       "      <td>8251.0</td>\n",
       "      <td>0</td>\n",
       "    </tr>\n",
       "    <tr>\n",
       "      <th>2</th>\n",
       "      <td>200000</td>\n",
       "      <td>2</td>\n",
       "      <td>2</td>\n",
       "      <td>1</td>\n",
       "      <td>32</td>\n",
       "      <td>-1</td>\n",
       "      <td>-1</td>\n",
       "      <td>-1</td>\n",
       "      <td>-1</td>\n",
       "      <td>2</td>\n",
       "      <td>...</td>\n",
       "      <td>5247.0</td>\n",
       "      <td>3848.0</td>\n",
       "      <td>3151.0</td>\n",
       "      <td>5818.0</td>\n",
       "      <td>15.0</td>\n",
       "      <td>9102.0</td>\n",
       "      <td>17.0</td>\n",
       "      <td>3165.0</td>\n",
       "      <td>1395.0</td>\n",
       "      <td>0</td>\n",
       "    </tr>\n",
       "    <tr>\n",
       "      <th>3</th>\n",
       "      <td>200000</td>\n",
       "      <td>1</td>\n",
       "      <td>1</td>\n",
       "      <td>1</td>\n",
       "      <td>53</td>\n",
       "      <td>2</td>\n",
       "      <td>2</td>\n",
       "      <td>2</td>\n",
       "      <td>2</td>\n",
       "      <td>2</td>\n",
       "      <td>...</td>\n",
       "      <td>144098.0</td>\n",
       "      <td>147124.0</td>\n",
       "      <td>149531.0</td>\n",
       "      <td>6300.0</td>\n",
       "      <td>5500.0</td>\n",
       "      <td>5500.0</td>\n",
       "      <td>5500.0</td>\n",
       "      <td>5000.0</td>\n",
       "      <td>5000.0</td>\n",
       "      <td>1</td>\n",
       "    </tr>\n",
       "    <tr>\n",
       "      <th>4</th>\n",
       "      <td>240000</td>\n",
       "      <td>1</td>\n",
       "      <td>1</td>\n",
       "      <td>2</td>\n",
       "      <td>41</td>\n",
       "      <td>1</td>\n",
       "      <td>-1</td>\n",
       "      <td>-1</td>\n",
       "      <td>0</td>\n",
       "      <td>0</td>\n",
       "      <td>...</td>\n",
       "      <td>3164.0</td>\n",
       "      <td>360.0</td>\n",
       "      <td>1737.0</td>\n",
       "      <td>2622.0</td>\n",
       "      <td>3301.0</td>\n",
       "      <td>0.0</td>\n",
       "      <td>360.0</td>\n",
       "      <td>1737.0</td>\n",
       "      <td>924.0</td>\n",
       "      <td>0</td>\n",
       "    </tr>\n",
       "  </tbody>\n",
       "</table>\n",
       "<p>5 rows × 24 columns</p>\n",
       "</div>"
      ],
      "text/plain": [
       "   LIMIT_BAL  SEX  EDUCATION  MARRIAGE  AGE  PAY_1  PAY_2  PAY_3  PAY_4  \\\n",
       "0     100000    2          2         2   23      0     -1     -1      0   \n",
       "1     380000    1          2         2   32     -1     -1     -1     -1   \n",
       "2     200000    2          2         1   32     -1     -1     -1     -1   \n",
       "3     200000    1          1         1   53      2      2      2      2   \n",
       "4     240000    1          1         2   41      1     -1     -1      0   \n",
       "\n",
       "   PAY_5  ...  BILL_AMT4  BILL_AMT5  BILL_AMT6  PAY_AMT1  PAY_AMT2  PAY_AMT3  \\\n",
       "0      0  ...      221.0     -159.0      567.0     380.0     601.0       0.0   \n",
       "1     -1  ...    32018.0    11849.0    11873.0   21540.0   15138.0   24677.0   \n",
       "2      2  ...     5247.0     3848.0     3151.0    5818.0      15.0    9102.0   \n",
       "3      2  ...   144098.0   147124.0   149531.0    6300.0    5500.0    5500.0   \n",
       "4      0  ...     3164.0      360.0     1737.0    2622.0    3301.0       0.0   \n",
       "\n",
       "   PAY_AMT4  PAY_AMT5  PAY_AMT6  default  \n",
       "0     581.0    1687.0    1542.0        0  \n",
       "1   11851.0   11875.0    8251.0        0  \n",
       "2      17.0    3165.0    1395.0        0  \n",
       "3    5500.0    5000.0    5000.0        1  \n",
       "4     360.0    1737.0     924.0        0  \n",
       "\n",
       "[5 rows x 24 columns]"
      ]
     },
     "execution_count": 27,
     "metadata": {},
     "output_type": "execute_result"
    }
   ],
   "source": [
    "# 5% sample witheld in the beginning\n",
    "data_unseen.head()"
   ]
  },
  {
   "cell_type": "code",
   "execution_count": 28,
   "metadata": {},
   "outputs": [],
   "source": [
    "# drop the default column from data_unseen\n",
    "data_unseen.drop('default', axis = 1, inplace = True)"
   ]
  },
  {
   "cell_type": "code",
   "execution_count": 29,
   "metadata": {
    "colab": {
     "base_uri": "https://localhost:8080/",
     "height": 211
    },
    "colab_type": "code",
    "id": "0y5KWLC6EQtx",
    "outputId": "30771f87-7847-43ce-e984-9963cff7d043"
   },
   "outputs": [
    {
     "data": {
      "text/html": [],
      "text/plain": [
       "<IPython.core.display.HTML object>"
      ]
     },
     "metadata": {},
     "output_type": "display_data"
    },
    {
     "data": {
      "text/html": [
       "<div>\n",
       "<style scoped>\n",
       "    .dataframe tbody tr th:only-of-type {\n",
       "        vertical-align: middle;\n",
       "    }\n",
       "\n",
       "    .dataframe tbody tr th {\n",
       "        vertical-align: top;\n",
       "    }\n",
       "\n",
       "    .dataframe thead th {\n",
       "        text-align: right;\n",
       "    }\n",
       "</style>\n",
       "<table border=\"1\" class=\"dataframe\">\n",
       "  <thead>\n",
       "    <tr style=\"text-align: right;\">\n",
       "      <th></th>\n",
       "      <th>LIMIT_BAL</th>\n",
       "      <th>SEX</th>\n",
       "      <th>EDUCATION</th>\n",
       "      <th>MARRIAGE</th>\n",
       "      <th>AGE</th>\n",
       "      <th>PAY_1</th>\n",
       "      <th>PAY_2</th>\n",
       "      <th>PAY_3</th>\n",
       "      <th>PAY_4</th>\n",
       "      <th>PAY_5</th>\n",
       "      <th>...</th>\n",
       "      <th>BILL_AMT5</th>\n",
       "      <th>BILL_AMT6</th>\n",
       "      <th>PAY_AMT1</th>\n",
       "      <th>PAY_AMT2</th>\n",
       "      <th>PAY_AMT3</th>\n",
       "      <th>PAY_AMT4</th>\n",
       "      <th>PAY_AMT5</th>\n",
       "      <th>PAY_AMT6</th>\n",
       "      <th>prediction_label</th>\n",
       "      <th>prediction_score</th>\n",
       "    </tr>\n",
       "  </thead>\n",
       "  <tbody>\n",
       "    <tr>\n",
       "      <th>0</th>\n",
       "      <td>100000.0</td>\n",
       "      <td>2.0</td>\n",
       "      <td>2.0</td>\n",
       "      <td>2.0</td>\n",
       "      <td>23.0</td>\n",
       "      <td>0.0</td>\n",
       "      <td>-1.0</td>\n",
       "      <td>-1.0</td>\n",
       "      <td>0.0</td>\n",
       "      <td>0.0</td>\n",
       "      <td>...</td>\n",
       "      <td>-159.0</td>\n",
       "      <td>567.0</td>\n",
       "      <td>380.0</td>\n",
       "      <td>601.0</td>\n",
       "      <td>0.0</td>\n",
       "      <td>581.0</td>\n",
       "      <td>1687.0</td>\n",
       "      <td>1542.0</td>\n",
       "      <td>0</td>\n",
       "      <td>0.5623</td>\n",
       "    </tr>\n",
       "    <tr>\n",
       "      <th>1</th>\n",
       "      <td>380000.0</td>\n",
       "      <td>1.0</td>\n",
       "      <td>2.0</td>\n",
       "      <td>2.0</td>\n",
       "      <td>32.0</td>\n",
       "      <td>-1.0</td>\n",
       "      <td>-1.0</td>\n",
       "      <td>-1.0</td>\n",
       "      <td>-1.0</td>\n",
       "      <td>-1.0</td>\n",
       "      <td>...</td>\n",
       "      <td>11849.0</td>\n",
       "      <td>11873.0</td>\n",
       "      <td>21540.0</td>\n",
       "      <td>15138.0</td>\n",
       "      <td>24677.0</td>\n",
       "      <td>11851.0</td>\n",
       "      <td>11875.0</td>\n",
       "      <td>8251.0</td>\n",
       "      <td>0</td>\n",
       "      <td>0.7345</td>\n",
       "    </tr>\n",
       "    <tr>\n",
       "      <th>2</th>\n",
       "      <td>200000.0</td>\n",
       "      <td>2.0</td>\n",
       "      <td>2.0</td>\n",
       "      <td>1.0</td>\n",
       "      <td>32.0</td>\n",
       "      <td>-1.0</td>\n",
       "      <td>-1.0</td>\n",
       "      <td>-1.0</td>\n",
       "      <td>-1.0</td>\n",
       "      <td>2.0</td>\n",
       "      <td>...</td>\n",
       "      <td>3848.0</td>\n",
       "      <td>3151.0</td>\n",
       "      <td>5818.0</td>\n",
       "      <td>15.0</td>\n",
       "      <td>9102.0</td>\n",
       "      <td>17.0</td>\n",
       "      <td>3165.0</td>\n",
       "      <td>1395.0</td>\n",
       "      <td>0</td>\n",
       "      <td>0.5606</td>\n",
       "    </tr>\n",
       "    <tr>\n",
       "      <th>3</th>\n",
       "      <td>200000.0</td>\n",
       "      <td>1.0</td>\n",
       "      <td>1.0</td>\n",
       "      <td>1.0</td>\n",
       "      <td>53.0</td>\n",
       "      <td>2.0</td>\n",
       "      <td>2.0</td>\n",
       "      <td>2.0</td>\n",
       "      <td>2.0</td>\n",
       "      <td>2.0</td>\n",
       "      <td>...</td>\n",
       "      <td>147124.0</td>\n",
       "      <td>149531.0</td>\n",
       "      <td>6300.0</td>\n",
       "      <td>5500.0</td>\n",
       "      <td>5500.0</td>\n",
       "      <td>5500.0</td>\n",
       "      <td>5000.0</td>\n",
       "      <td>5000.0</td>\n",
       "      <td>1</td>\n",
       "      <td>0.8407</td>\n",
       "    </tr>\n",
       "    <tr>\n",
       "      <th>4</th>\n",
       "      <td>240000.0</td>\n",
       "      <td>1.0</td>\n",
       "      <td>1.0</td>\n",
       "      <td>2.0</td>\n",
       "      <td>41.0</td>\n",
       "      <td>1.0</td>\n",
       "      <td>-1.0</td>\n",
       "      <td>-1.0</td>\n",
       "      <td>0.0</td>\n",
       "      <td>0.0</td>\n",
       "      <td>...</td>\n",
       "      <td>360.0</td>\n",
       "      <td>1737.0</td>\n",
       "      <td>2622.0</td>\n",
       "      <td>3301.0</td>\n",
       "      <td>0.0</td>\n",
       "      <td>360.0</td>\n",
       "      <td>1737.0</td>\n",
       "      <td>924.0</td>\n",
       "      <td>1</td>\n",
       "      <td>0.5078</td>\n",
       "    </tr>\n",
       "  </tbody>\n",
       "</table>\n",
       "<p>5 rows × 25 columns</p>\n",
       "</div>"
      ],
      "text/plain": [
       "   LIMIT_BAL  SEX  EDUCATION  MARRIAGE   AGE  PAY_1  PAY_2  PAY_3  PAY_4  \\\n",
       "0   100000.0  2.0        2.0       2.0  23.0    0.0   -1.0   -1.0    0.0   \n",
       "1   380000.0  1.0        2.0       2.0  32.0   -1.0   -1.0   -1.0   -1.0   \n",
       "2   200000.0  2.0        2.0       1.0  32.0   -1.0   -1.0   -1.0   -1.0   \n",
       "3   200000.0  1.0        1.0       1.0  53.0    2.0    2.0    2.0    2.0   \n",
       "4   240000.0  1.0        1.0       2.0  41.0    1.0   -1.0   -1.0    0.0   \n",
       "\n",
       "   PAY_5  ...  BILL_AMT5  BILL_AMT6  PAY_AMT1  PAY_AMT2  PAY_AMT3  PAY_AMT4  \\\n",
       "0    0.0  ...     -159.0      567.0     380.0     601.0       0.0     581.0   \n",
       "1   -1.0  ...    11849.0    11873.0   21540.0   15138.0   24677.0   11851.0   \n",
       "2    2.0  ...     3848.0     3151.0    5818.0      15.0    9102.0      17.0   \n",
       "3    2.0  ...   147124.0   149531.0    6300.0    5500.0    5500.0    5500.0   \n",
       "4    0.0  ...      360.0     1737.0    2622.0    3301.0       0.0     360.0   \n",
       "\n",
       "   PAY_AMT5  PAY_AMT6  prediction_label  prediction_score  \n",
       "0    1687.0    1542.0                 0            0.5623  \n",
       "1   11875.0    8251.0                 0            0.7345  \n",
       "2    3165.0    1395.0                 0            0.5606  \n",
       "3    5000.0    5000.0                 1            0.8407  \n",
       "4    1737.0     924.0                 1            0.5078  \n",
       "\n",
       "[5 rows x 25 columns]"
      ]
     },
     "execution_count": 29,
     "metadata": {},
     "output_type": "execute_result"
    }
   ],
   "source": [
    "pred_unseen = predict_model(final_rf, data=data_unseen)\n",
    "pred_unseen.head()"
   ]
  },
  {
   "cell_type": "markdown",
   "metadata": {
    "colab_type": "text",
    "id": "oPYmVpugEQt5"
   },
   "source": [
    "The `prediction_label` and `prediction_score` columns are added to the input dataset. `prediction_label` is the hard prediction and `prediction_score` is the probability of the **predicted class**."
   ]
  },
  {
   "cell_type": "markdown",
   "metadata": {
    "colab_type": "text",
    "id": "L__po3sUEQt7"
   },
   "source": [
    "# Save Model"
   ]
  },
  {
   "cell_type": "markdown",
   "metadata": {
    "colab_type": "text",
    "id": "1sQPT7jrEQt-"
   },
   "source": [
    "The `save_model` function is used to save the pipeline (including model) on the disk as a `pkl` file."
   ]
  },
  {
   "cell_type": "code",
   "execution_count": 30,
   "metadata": {
    "colab": {},
    "colab_type": "code",
    "id": "ln1YWIXTEQuA",
    "outputId": "d3cb0652-f72e-44e8-9455-824b12740bff"
   },
   "outputs": [
    {
     "name": "stdout",
     "output_type": "stream",
     "text": [
      "Transformation Pipeline and Model Successfully Saved\n"
     ]
    },
    {
     "data": {
      "text/plain": [
       "(Pipeline(memory=Memory(location=C:\\Users\\owner\\AppData\\Local\\Temp\\joblib),\n",
       "          steps=[('numerical_imputer',\n",
       "                  TransformerWrapper(exclude=None,\n",
       "                                     include=['LIMIT_BAL', 'SEX', 'EDUCATION',\n",
       "                                              'MARRIAGE', 'AGE', 'PAY_1',\n",
       "                                              'PAY_2', 'PAY_3', 'PAY_4', 'PAY_5',\n",
       "                                              'PAY_6', 'BILL_AMT1', 'BILL_AMT2',\n",
       "                                              'BILL_AMT3', 'BILL_AMT4',\n",
       "                                              'BILL_AMT5', 'BILL_AMT6',\n",
       "                                              'PAY_AMT1', 'PAY_AMT2', 'PAY_AMT3',\n",
       "                                              'PAY_AM...\n",
       "                  RandomForestClassifier(bootstrap=False, ccp_alpha=0.0,\n",
       "                                         class_weight='balanced_subsample',\n",
       "                                         criterion='gini', max_depth=6,\n",
       "                                         max_features='log2',\n",
       "                                         max_leaf_nodes=None, max_samples=None,\n",
       "                                         min_impurity_decrease=0.001,\n",
       "                                         min_samples_leaf=6, min_samples_split=9,\n",
       "                                         min_weight_fraction_leaf=0.0,\n",
       "                                         n_estimators=190, n_jobs=-1,\n",
       "                                         oob_score=False, random_state=123,\n",
       "                                         verbose=0, warm_start=False))],\n",
       "          verbose=False),\n",
       " 'rf_final_pipeline.pkl')"
      ]
     },
     "execution_count": 30,
     "metadata": {},
     "output_type": "execute_result"
    }
   ],
   "source": [
    "save_model(final_rf,'rf_final_pipeline')"
   ]
  },
  {
   "cell_type": "markdown",
   "metadata": {
    "colab_type": "text",
    "id": "Z8OBesfkEQuU"
   },
   "source": [
    "# Load Model"
   ]
  },
  {
   "cell_type": "markdown",
   "metadata": {
    "colab_type": "text",
    "id": "V2K_WLaaEQuW"
   },
   "source": [
    "The `load_model` function reads the pipeline `pkl` file from the disk."
   ]
  },
  {
   "cell_type": "code",
   "execution_count": 31,
   "metadata": {
    "colab": {},
    "colab_type": "code",
    "id": "Siw_2EIUEQub",
    "outputId": "5da8b7c9-01f7-469c-f0c9-b19c8ce11bcc"
   },
   "outputs": [
    {
     "name": "stdout",
     "output_type": "stream",
     "text": [
      "Transformation Pipeline and Model Successfully Loaded\n"
     ]
    }
   ],
   "source": [
    "rf_pipeline_from_disk = load_model('rf_final_pipeline')"
   ]
  },
  {
   "cell_type": "code",
   "execution_count": 32,
   "metadata": {
    "colab": {},
    "colab_type": "code",
    "id": "HMPO1ka9EQut"
   },
   "outputs": [
    {
     "data": {
      "text/html": [],
      "text/plain": [
       "<IPython.core.display.HTML object>"
      ]
     },
     "metadata": {},
     "output_type": "display_data"
    },
    {
     "data": {
      "text/html": [
       "<div>\n",
       "<style scoped>\n",
       "    .dataframe tbody tr th:only-of-type {\n",
       "        vertical-align: middle;\n",
       "    }\n",
       "\n",
       "    .dataframe tbody tr th {\n",
       "        vertical-align: top;\n",
       "    }\n",
       "\n",
       "    .dataframe thead th {\n",
       "        text-align: right;\n",
       "    }\n",
       "</style>\n",
       "<table border=\"1\" class=\"dataframe\">\n",
       "  <thead>\n",
       "    <tr style=\"text-align: right;\">\n",
       "      <th></th>\n",
       "      <th>LIMIT_BAL</th>\n",
       "      <th>SEX</th>\n",
       "      <th>EDUCATION</th>\n",
       "      <th>MARRIAGE</th>\n",
       "      <th>AGE</th>\n",
       "      <th>PAY_1</th>\n",
       "      <th>PAY_2</th>\n",
       "      <th>PAY_3</th>\n",
       "      <th>PAY_4</th>\n",
       "      <th>PAY_5</th>\n",
       "      <th>...</th>\n",
       "      <th>BILL_AMT5</th>\n",
       "      <th>BILL_AMT6</th>\n",
       "      <th>PAY_AMT1</th>\n",
       "      <th>PAY_AMT2</th>\n",
       "      <th>PAY_AMT3</th>\n",
       "      <th>PAY_AMT4</th>\n",
       "      <th>PAY_AMT5</th>\n",
       "      <th>PAY_AMT6</th>\n",
       "      <th>prediction_label</th>\n",
       "      <th>prediction_score</th>\n",
       "    </tr>\n",
       "  </thead>\n",
       "  <tbody>\n",
       "    <tr>\n",
       "      <th>0</th>\n",
       "      <td>100000.0</td>\n",
       "      <td>2.0</td>\n",
       "      <td>2.0</td>\n",
       "      <td>2.0</td>\n",
       "      <td>23.0</td>\n",
       "      <td>0.0</td>\n",
       "      <td>-1.0</td>\n",
       "      <td>-1.0</td>\n",
       "      <td>0.0</td>\n",
       "      <td>0.0</td>\n",
       "      <td>...</td>\n",
       "      <td>-159.0</td>\n",
       "      <td>567.0</td>\n",
       "      <td>380.0</td>\n",
       "      <td>601.0</td>\n",
       "      <td>0.0</td>\n",
       "      <td>581.0</td>\n",
       "      <td>1687.0</td>\n",
       "      <td>1542.0</td>\n",
       "      <td>0</td>\n",
       "      <td>0.5623</td>\n",
       "    </tr>\n",
       "    <tr>\n",
       "      <th>1</th>\n",
       "      <td>380000.0</td>\n",
       "      <td>1.0</td>\n",
       "      <td>2.0</td>\n",
       "      <td>2.0</td>\n",
       "      <td>32.0</td>\n",
       "      <td>-1.0</td>\n",
       "      <td>-1.0</td>\n",
       "      <td>-1.0</td>\n",
       "      <td>-1.0</td>\n",
       "      <td>-1.0</td>\n",
       "      <td>...</td>\n",
       "      <td>11849.0</td>\n",
       "      <td>11873.0</td>\n",
       "      <td>21540.0</td>\n",
       "      <td>15138.0</td>\n",
       "      <td>24677.0</td>\n",
       "      <td>11851.0</td>\n",
       "      <td>11875.0</td>\n",
       "      <td>8251.0</td>\n",
       "      <td>0</td>\n",
       "      <td>0.7345</td>\n",
       "    </tr>\n",
       "    <tr>\n",
       "      <th>2</th>\n",
       "      <td>200000.0</td>\n",
       "      <td>2.0</td>\n",
       "      <td>2.0</td>\n",
       "      <td>1.0</td>\n",
       "      <td>32.0</td>\n",
       "      <td>-1.0</td>\n",
       "      <td>-1.0</td>\n",
       "      <td>-1.0</td>\n",
       "      <td>-1.0</td>\n",
       "      <td>2.0</td>\n",
       "      <td>...</td>\n",
       "      <td>3848.0</td>\n",
       "      <td>3151.0</td>\n",
       "      <td>5818.0</td>\n",
       "      <td>15.0</td>\n",
       "      <td>9102.0</td>\n",
       "      <td>17.0</td>\n",
       "      <td>3165.0</td>\n",
       "      <td>1395.0</td>\n",
       "      <td>0</td>\n",
       "      <td>0.5606</td>\n",
       "    </tr>\n",
       "    <tr>\n",
       "      <th>3</th>\n",
       "      <td>200000.0</td>\n",
       "      <td>1.0</td>\n",
       "      <td>1.0</td>\n",
       "      <td>1.0</td>\n",
       "      <td>53.0</td>\n",
       "      <td>2.0</td>\n",
       "      <td>2.0</td>\n",
       "      <td>2.0</td>\n",
       "      <td>2.0</td>\n",
       "      <td>2.0</td>\n",
       "      <td>...</td>\n",
       "      <td>147124.0</td>\n",
       "      <td>149531.0</td>\n",
       "      <td>6300.0</td>\n",
       "      <td>5500.0</td>\n",
       "      <td>5500.0</td>\n",
       "      <td>5500.0</td>\n",
       "      <td>5000.0</td>\n",
       "      <td>5000.0</td>\n",
       "      <td>1</td>\n",
       "      <td>0.8407</td>\n",
       "    </tr>\n",
       "    <tr>\n",
       "      <th>4</th>\n",
       "      <td>240000.0</td>\n",
       "      <td>1.0</td>\n",
       "      <td>1.0</td>\n",
       "      <td>2.0</td>\n",
       "      <td>41.0</td>\n",
       "      <td>1.0</td>\n",
       "      <td>-1.0</td>\n",
       "      <td>-1.0</td>\n",
       "      <td>0.0</td>\n",
       "      <td>0.0</td>\n",
       "      <td>...</td>\n",
       "      <td>360.0</td>\n",
       "      <td>1737.0</td>\n",
       "      <td>2622.0</td>\n",
       "      <td>3301.0</td>\n",
       "      <td>0.0</td>\n",
       "      <td>360.0</td>\n",
       "      <td>1737.0</td>\n",
       "      <td>924.0</td>\n",
       "      <td>1</td>\n",
       "      <td>0.5078</td>\n",
       "    </tr>\n",
       "  </tbody>\n",
       "</table>\n",
       "<p>5 rows × 25 columns</p>\n",
       "</div>"
      ],
      "text/plain": [
       "   LIMIT_BAL  SEX  EDUCATION  MARRIAGE   AGE  PAY_1  PAY_2  PAY_3  PAY_4  \\\n",
       "0   100000.0  2.0        2.0       2.0  23.0    0.0   -1.0   -1.0    0.0   \n",
       "1   380000.0  1.0        2.0       2.0  32.0   -1.0   -1.0   -1.0   -1.0   \n",
       "2   200000.0  2.0        2.0       1.0  32.0   -1.0   -1.0   -1.0   -1.0   \n",
       "3   200000.0  1.0        1.0       1.0  53.0    2.0    2.0    2.0    2.0   \n",
       "4   240000.0  1.0        1.0       2.0  41.0    1.0   -1.0   -1.0    0.0   \n",
       "\n",
       "   PAY_5  ...  BILL_AMT5  BILL_AMT6  PAY_AMT1  PAY_AMT2  PAY_AMT3  PAY_AMT4  \\\n",
       "0    0.0  ...     -159.0      567.0     380.0     601.0       0.0     581.0   \n",
       "1   -1.0  ...    11849.0    11873.0   21540.0   15138.0   24677.0   11851.0   \n",
       "2    2.0  ...     3848.0     3151.0    5818.0      15.0    9102.0      17.0   \n",
       "3    2.0  ...   147124.0   149531.0    6300.0    5500.0    5500.0    5500.0   \n",
       "4    0.0  ...      360.0     1737.0    2622.0    3301.0       0.0     360.0   \n",
       "\n",
       "   PAY_AMT5  PAY_AMT6  prediction_label  prediction_score  \n",
       "0    1687.0    1542.0                 0            0.5623  \n",
       "1   11875.0    8251.0                 0            0.7345  \n",
       "2    3165.0    1395.0                 0            0.5606  \n",
       "3    5000.0    5000.0                 1            0.8407  \n",
       "4    1737.0     924.0                 1            0.5078  \n",
       "\n",
       "[5 rows x 25 columns]"
      ]
     },
     "execution_count": 32,
     "metadata": {},
     "output_type": "execute_result"
    }
   ],
   "source": [
    "new_prediction = predict_model(rf_pipeline_from_disk, data=data_unseen)\n",
    "new_prediction.head()"
   ]
  },
  {
   "cell_type": "markdown",
   "metadata": {
    "colab_type": "text",
    "id": "bf8I1uqcEQvD"
   },
   "source": [
    "Notice that the results of `unseen_predictions` and `new_prediction` are identical."
   ]
  },
  {
   "cell_type": "markdown",
   "metadata": {
    "colab_type": "text",
    "id": "_HeOs8BhEQvF"
   },
   "source": [
    "# Wrap-up / Next Steps?"
   ]
  },
  {
   "cell_type": "markdown",
   "metadata": {
    "colab_type": "text",
    "id": "VqG1NnwXEQvK"
   },
   "source": [
    "This tutorial has covered the entire machine learning pipeline from data ingestion, pre-processing, training the model, hyperparameter tuning, prediction and saving the model for later use. We have completed all of these steps in less than 10 commands which are naturally constructed and very intuitive to remember such as `create_model`, `tune_model`, `compare_models`. Re-creating the entire experiment without PyCaret would have taken well over 100 lines of code without pycaret.\n",
    "\n",
    "We have only covered the basics of `pycaret.classification`. In following tutorials we will go deeper into advanced pre-processing, ensembling, generalized stacking and other techniques that allow you to fully customize your machine learning pipeline and are must know for any data scientist.\n",
    "\n",
    "See you at the next tutorial. Follow the link to [Binary Classification Tutorial (CLF102) - Intermediate Level](https://github.com/pycaret/pycaret/blob/master/tutorials/Binary%20Classification%20Tutorial%20Level%20Intermediate%20-%20CLF102.ipynb)"
   ]
  },
  {
   "cell_type": "code",
   "execution_count": null,
   "metadata": {},
   "outputs": [],
   "source": []
  }
 ],
 "metadata": {
  "colab": {
   "collapsed_sections": [
    "Ui_rALqYEQmv",
    "y9s9wNcjEQn0",
    "it_nJo1IEQob",
    "P5m2pciOEQo4",
    "UWMSeyNhEQo-",
    "rWUojqBCEQpb",
    "nSg3OUjuEQpu",
    "XvpjzbGQEQqB",
    "BQlMCxrUEQqG",
    "CD-f0delEQqq",
    "KO3zIfs-EQrA",
    "w_P46O0jEQrT",
    "euqkQYJaEQrY",
    "bwyoTUDQEQrm",
    "_r9rwEw7EQrz",
    "FfWC3NEhEQr9",
    "RX5pYUJJEQsV",
    "r79BGjIfEQs1",
    "hUzc6tXNEQtr",
    "L__po3sUEQt7",
    "Z8OBesfkEQuU",
    "_HeOs8BhEQvF"
   ],
   "name": "Binary Classification Tutorial (CLF101) - Level Beginner (ACN_EDITS).ipynb",
   "provenance": []
  },
  "kernelspec": {
   "display_name": "pycaretrc5",
   "language": "python",
   "name": "pycaretrc5"
  },
  "language_info": {
   "codemirror_mode": {
    "name": "ipython",
    "version": 3
   },
   "file_extension": ".py",
   "mimetype": "text/x-python",
   "name": "python",
   "nbconvert_exporter": "python",
   "pygments_lexer": "ipython3",
   "version": "3.8.15"
  },
  "widgets": {
   "application/vnd.jupyter.widget-state+json": {
    "02771b4dc3284414ab05df1906f4556b": {
     "model_module": "@jupyter-widgets/controls",
     "model_name": "IntProgressModel",
     "state": {
      "_dom_classes": [],
      "_model_module": "@jupyter-widgets/controls",
      "_model_module_version": "1.5.0",
      "_model_name": "IntProgressModel",
      "_view_count": null,
      "_view_module": "@jupyter-widgets/controls",
      "_view_module_version": "1.5.0",
      "_view_name": "ProgressView",
      "bar_style": "",
      "description": "Processing: ",
      "description_tooltip": null,
      "layout": "IPY_MODEL_22588a12c0db4067982e62ebbe7e6930",
      "max": 5,
      "min": 0,
      "orientation": "horizontal",
      "style": "IPY_MODEL_9e338844e75b4e17be8483529f5f38fd",
      "value": 5
     }
    },
    "0a06fb091bd94ce6b6ab892e2c6faadf": {
     "model_module": "@jupyter-widgets/base",
     "model_name": "LayoutModel",
     "state": {
      "_model_module": "@jupyter-widgets/base",
      "_model_module_version": "1.2.0",
      "_model_name": "LayoutModel",
      "_view_count": null,
      "_view_module": "@jupyter-widgets/base",
      "_view_module_version": "1.2.0",
      "_view_name": "LayoutView",
      "align_content": null,
      "align_items": null,
      "align_self": null,
      "border": null,
      "bottom": null,
      "display": null,
      "flex": null,
      "flex_flow": null,
      "grid_area": null,
      "grid_auto_columns": null,
      "grid_auto_flow": null,
      "grid_auto_rows": null,
      "grid_column": null,
      "grid_gap": null,
      "grid_row": null,
      "grid_template_areas": null,
      "grid_template_columns": null,
      "grid_template_rows": null,
      "height": null,
      "justify_content": null,
      "justify_items": null,
      "left": null,
      "margin": null,
      "max_height": null,
      "max_width": null,
      "min_height": null,
      "min_width": null,
      "object_fit": null,
      "object_position": null,
      "order": null,
      "overflow": null,
      "overflow_x": null,
      "overflow_y": null,
      "padding": null,
      "right": null,
      "top": null,
      "visibility": null,
      "width": null
     }
    },
    "12bf8b3c6ae8444a900474912589fdf1": {
     "model_module": "@jupyter-widgets/controls",
     "model_name": "ToggleButtonsModel",
     "state": {
      "_dom_classes": [],
      "_model_module": "@jupyter-widgets/controls",
      "_model_module_version": "1.5.0",
      "_model_name": "ToggleButtonsModel",
      "_options_labels": [
       "Hyperparameters",
       "AUC",
       "Confusion Matrix",
       "Threshold",
       "Precision Recall",
       "Error",
       "Class Report",
       "Feature Selection",
       "Learning Curve",
       "Manifold Learning",
       "Calibration Curve",
       "Validation Curve",
       "Dimensions",
       "Feature Importance",
       "Decision Boundary"
      ],
      "_view_count": null,
      "_view_module": "@jupyter-widgets/controls",
      "_view_module_version": "1.5.0",
      "_view_name": "ToggleButtonsView",
      "button_style": "",
      "description": "Plot Type:",
      "description_tooltip": null,
      "disabled": false,
      "icons": [
       ""
      ],
      "index": 2,
      "layout": "IPY_MODEL_0a06fb091bd94ce6b6ab892e2c6faadf",
      "style": "IPY_MODEL_8886001bc7c1463ba58a8453f5c55073",
      "tooltips": []
     }
    },
    "22588a12c0db4067982e62ebbe7e6930": {
     "model_module": "@jupyter-widgets/base",
     "model_name": "LayoutModel",
     "state": {
      "_model_module": "@jupyter-widgets/base",
      "_model_module_version": "1.2.0",
      "_model_name": "LayoutModel",
      "_view_count": null,
      "_view_module": "@jupyter-widgets/base",
      "_view_module_version": "1.2.0",
      "_view_name": "LayoutView",
      "align_content": null,
      "align_items": null,
      "align_self": null,
      "border": null,
      "bottom": null,
      "display": null,
      "flex": null,
      "flex_flow": null,
      "grid_area": null,
      "grid_auto_columns": null,
      "grid_auto_flow": null,
      "grid_auto_rows": null,
      "grid_column": null,
      "grid_gap": null,
      "grid_row": null,
      "grid_template_areas": null,
      "grid_template_columns": null,
      "grid_template_rows": null,
      "height": null,
      "justify_content": null,
      "justify_items": null,
      "left": null,
      "margin": null,
      "max_height": null,
      "max_width": null,
      "min_height": null,
      "min_width": null,
      "object_fit": null,
      "object_position": null,
      "order": null,
      "overflow": null,
      "overflow_x": null,
      "overflow_y": null,
      "padding": null,
      "right": null,
      "top": null,
      "visibility": null,
      "width": null
     }
    },
    "2a81017413ca4fe789c2272a5831a069": {
     "model_module": "@jupyter-widgets/base",
     "model_name": "LayoutModel",
     "state": {
      "_model_module": "@jupyter-widgets/base",
      "_model_module_version": "1.2.0",
      "_model_name": "LayoutModel",
      "_view_count": null,
      "_view_module": "@jupyter-widgets/base",
      "_view_module_version": "1.2.0",
      "_view_name": "LayoutView",
      "align_content": null,
      "align_items": null,
      "align_self": null,
      "border": null,
      "bottom": null,
      "display": null,
      "flex": null,
      "flex_flow": null,
      "grid_area": null,
      "grid_auto_columns": null,
      "grid_auto_flow": null,
      "grid_auto_rows": null,
      "grid_column": null,
      "grid_gap": null,
      "grid_row": null,
      "grid_template_areas": null,
      "grid_template_columns": null,
      "grid_template_rows": null,
      "height": null,
      "justify_content": null,
      "justify_items": null,
      "left": null,
      "margin": null,
      "max_height": null,
      "max_width": null,
      "min_height": null,
      "min_width": null,
      "object_fit": null,
      "object_position": null,
      "order": null,
      "overflow": null,
      "overflow_x": null,
      "overflow_y": null,
      "padding": null,
      "right": null,
      "top": null,
      "visibility": null,
      "width": null
     }
    },
    "3cc1e83b91f34b289c7d52003f20a97a": {
     "model_module": "@jupyter-widgets/controls",
     "model_name": "IntProgressModel",
     "state": {
      "_dom_classes": [],
      "_model_module": "@jupyter-widgets/controls",
      "_model_module_version": "1.5.0",
      "_model_name": "IntProgressModel",
      "_view_count": null,
      "_view_module": "@jupyter-widgets/controls",
      "_view_module_version": "1.5.0",
      "_view_name": "ProgressView",
      "bar_style": "",
      "description": "Processing: ",
      "description_tooltip": null,
      "layout": "IPY_MODEL_8399e21b17634116861a5abaa9c0ccf7",
      "max": 5,
      "min": 0,
      "orientation": "horizontal",
      "style": "IPY_MODEL_8d709ec9ec484944b1f9773748857f84",
      "value": 2
     }
    },
    "41031579127f4a53b58957e601465083": {
     "model_module": "@jupyter-widgets/base",
     "model_name": "LayoutModel",
     "state": {
      "_model_module": "@jupyter-widgets/base",
      "_model_module_version": "1.2.0",
      "_model_name": "LayoutModel",
      "_view_count": null,
      "_view_module": "@jupyter-widgets/base",
      "_view_module_version": "1.2.0",
      "_view_name": "LayoutView",
      "align_content": null,
      "align_items": null,
      "align_self": null,
      "border": null,
      "bottom": null,
      "display": null,
      "flex": null,
      "flex_flow": null,
      "grid_area": null,
      "grid_auto_columns": null,
      "grid_auto_flow": null,
      "grid_auto_rows": null,
      "grid_column": null,
      "grid_gap": null,
      "grid_row": null,
      "grid_template_areas": null,
      "grid_template_columns": null,
      "grid_template_rows": null,
      "height": null,
      "justify_content": null,
      "justify_items": null,
      "left": null,
      "margin": null,
      "max_height": null,
      "max_width": null,
      "min_height": null,
      "min_width": null,
      "object_fit": null,
      "object_position": null,
      "order": null,
      "overflow": null,
      "overflow_x": null,
      "overflow_y": null,
      "padding": null,
      "right": null,
      "top": null,
      "visibility": null,
      "width": null
     }
    },
    "42d5400d235d40b78190016ef0dabe11": {
     "model_module": "@jupyter-widgets/controls",
     "model_name": "VBoxModel",
     "state": {
      "_dom_classes": [
       "widget-interact"
      ],
      "_model_module": "@jupyter-widgets/controls",
      "_model_module_version": "1.5.0",
      "_model_name": "VBoxModel",
      "_view_count": null,
      "_view_module": "@jupyter-widgets/controls",
      "_view_module_version": "1.5.0",
      "_view_name": "VBoxView",
      "box_style": "",
      "children": [
       "IPY_MODEL_12bf8b3c6ae8444a900474912589fdf1",
       "IPY_MODEL_9bb3600d38c04691b444ff375ad5e3f5"
      ],
      "layout": "IPY_MODEL_41031579127f4a53b58957e601465083"
     }
    },
    "57b94ac505d142769b79de2f1e5c1166": {
     "model_module": "@jupyter-widgets/controls",
     "model_name": "ProgressStyleModel",
     "state": {
      "_model_module": "@jupyter-widgets/controls",
      "_model_module_version": "1.5.0",
      "_model_name": "ProgressStyleModel",
      "_view_count": null,
      "_view_module": "@jupyter-widgets/base",
      "_view_module_version": "1.2.0",
      "_view_name": "StyleView",
      "bar_color": null,
      "description_width": ""
     }
    },
    "8399e21b17634116861a5abaa9c0ccf7": {
     "model_module": "@jupyter-widgets/base",
     "model_name": "LayoutModel",
     "state": {
      "_model_module": "@jupyter-widgets/base",
      "_model_module_version": "1.2.0",
      "_model_name": "LayoutModel",
      "_view_count": null,
      "_view_module": "@jupyter-widgets/base",
      "_view_module_version": "1.2.0",
      "_view_name": "LayoutView",
      "align_content": null,
      "align_items": null,
      "align_self": null,
      "border": null,
      "bottom": null,
      "display": null,
      "flex": null,
      "flex_flow": null,
      "grid_area": null,
      "grid_auto_columns": null,
      "grid_auto_flow": null,
      "grid_auto_rows": null,
      "grid_column": null,
      "grid_gap": null,
      "grid_row": null,
      "grid_template_areas": null,
      "grid_template_columns": null,
      "grid_template_rows": null,
      "height": null,
      "justify_content": null,
      "justify_items": null,
      "left": null,
      "margin": null,
      "max_height": null,
      "max_width": null,
      "min_height": null,
      "min_width": null,
      "object_fit": null,
      "object_position": null,
      "order": null,
      "overflow": null,
      "overflow_x": null,
      "overflow_y": null,
      "padding": null,
      "right": null,
      "top": null,
      "visibility": null,
      "width": null
     }
    },
    "8886001bc7c1463ba58a8453f5c55073": {
     "model_module": "@jupyter-widgets/controls",
     "model_name": "ToggleButtonsStyleModel",
     "state": {
      "_model_module": "@jupyter-widgets/controls",
      "_model_module_version": "1.5.0",
      "_model_name": "ToggleButtonsStyleModel",
      "_view_count": null,
      "_view_module": "@jupyter-widgets/base",
      "_view_module_version": "1.2.0",
      "_view_name": "StyleView",
      "button_width": "",
      "description_width": "",
      "font_weight": ""
     }
    },
    "8d709ec9ec484944b1f9773748857f84": {
     "model_module": "@jupyter-widgets/controls",
     "model_name": "ProgressStyleModel",
     "state": {
      "_model_module": "@jupyter-widgets/controls",
      "_model_module_version": "1.5.0",
      "_model_name": "ProgressStyleModel",
      "_view_count": null,
      "_view_module": "@jupyter-widgets/base",
      "_view_module_version": "1.2.0",
      "_view_name": "StyleView",
      "bar_color": null,
      "description_width": ""
     }
    },
    "9bb3600d38c04691b444ff375ad5e3f5": {
     "model_module": "@jupyter-widgets/output",
     "model_name": "OutputModel",
     "state": {
      "_dom_classes": [],
      "_model_module": "@jupyter-widgets/output",
      "_model_module_version": "1.0.0",
      "_model_name": "OutputModel",
      "_view_count": null,
      "_view_module": "@jupyter-widgets/output",
      "_view_module_version": "1.0.0",
      "_view_name": "OutputView",
      "layout": "IPY_MODEL_4f8f81ab97b041a58a53c85a1ab97bd4",
      "msg_id": "",
      "outputs": [
       {
        "image/png": "iVBORw0KGgoAAAANSUhEUgAAAeoAAAFlCAYAAAAki6s3AAAABHNCSVQICAgIfAhkiAAAAAlwSFlz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\nAAAm9n9QR+M8QEgGtgAAAABJRU5ErkJggg==\n",
        "metadata": {
         "tags": []
        },
        "output_type": "display_data",
        "text/plain": "<Figure size 576x396 with 1 Axes>"
       }
      ]
     }
    },
    "9e338844e75b4e17be8483529f5f38fd": {
     "model_module": "@jupyter-widgets/controls",
     "model_name": "ProgressStyleModel",
     "state": {
      "_model_module": "@jupyter-widgets/controls",
      "_model_module_version": "1.5.0",
      "_model_name": "ProgressStyleModel",
      "_view_count": null,
      "_view_module": "@jupyter-widgets/base",
      "_view_module_version": "1.2.0",
      "_view_name": "StyleView",
      "bar_color": null,
      "description_width": ""
     }
    },
    "d5b6fce1763b4b54898ff3397b0f5bb0": {
     "model_module": "@jupyter-widgets/controls",
     "model_name": "IntProgressModel",
     "state": {
      "_dom_classes": [],
      "_model_module": "@jupyter-widgets/controls",
      "_model_module_version": "1.5.0",
      "_model_name": "IntProgressModel",
      "_view_count": null,
      "_view_module": "@jupyter-widgets/controls",
      "_view_module_version": "1.5.0",
      "_view_name": "ProgressView",
      "bar_style": "",
      "description": "Processing: ",
      "description_tooltip": null,
      "layout": "IPY_MODEL_2a81017413ca4fe789c2272a5831a069",
      "max": 5,
      "min": 0,
      "orientation": "horizontal",
      "style": "IPY_MODEL_57b94ac505d142769b79de2f1e5c1166",
      "value": 5
     }
    }
   }
  }
 },
 "nbformat": 4,
 "nbformat_minor": 1
}
