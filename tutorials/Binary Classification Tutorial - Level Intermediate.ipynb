{
 "cells": [
  {
   "cell_type": "markdown",
   "metadata": {
    "colab_type": "text",
    "id": "tuhTO0jP4EeE",
    "pycharm": {
     "name": "#%% md\n"
    }
   },
   "source": [
    "#  <span style=\"color:black\">Binary Classification Tutorial - Level Intermediate</span>"
   ]
  },
  {
   "cell_type": "markdown",
   "metadata": {
    "colab_type": "text",
    "id": "uHu4QCDf4Eeh",
    "pycharm": {
     "name": "#%% md\n"
    }
   },
   "source": [
    "**Created using:** PyCaret 3.0.0rc6 <br />\n",
    "**Date Updated:** January 8, 2023\n",
    "\n",
    "# Tutorial Objective\n",
    "Welcome to the Binary Classification Tutorial - Level Intermediate. This tutorial assumes that you have completed [Binary Classification Tutorial (CLF101) - Level Beginner](https://github.com/pycaret/pycaret/blob/master/tutorials/Binary%20Classification%20Tutorial%20Level%20Beginner%20-%20%20CLF101.ipynb). If you haven't used PyCaret before and this is your first tutorial, we strongly recommend you to go back and progress through the beginner tutorial to understand the basics of working in PyCaret.\n",
    "\n",
    "In this tutorial you will learn:\n",
    "\n",
    "* **Normalization:**  How to normalize and scale the dataset\n",
    "* **Transformation:**  How to apply transformations that make the data linear and approximately normal\n",
    "* **Ignore Low Variance:**  How to remove features with statistically insignificant variances to make the experiment more efficient\n",
    "* **Remove Multi-collinearity:**  How to remove multi-collinearity from the dataset to boost performance of Linear algorithms\n",
    "* **Group Features:**  How to extract statistical information from related features in the dataset\n",
    "* **Bin Numeric Variables:**  How to bin numeric variables and transform numeric features into categorical ones using 'sturges' rule\n",
    "* **Model Ensembling and Stacking:**  How to boost model performance using several ensembling techniques such as Bagging, Boosting, Soft/hard Voting and Generalized Stacking\n",
    "* **Model Calibration:**  How to calibrate probabilities of a classification model\n",
    "* **Experiment Logging:**  How to log experiments in PyCaret using MLFlow backend\n",
    "\n",
    "\n",
    "**Read Time:** Approx. 60 Minutes <br />\n",
    "**Run Time:** 10 minutes\n",
    "\n",
    "\n",
    "# Install PyCaret\n",
    "You can install pycaret using pip. \n",
    "\n",
    "`pip install pycaret`  <br />\n",
    "\n",
    "To install the full version with all dependencies use: <br />\n",
    "\n",
    "`pip install pycaret[full]`\n",
    "\n",
    "\n",
    "# You may also be interested in:\n",
    "- [Binary Classification Tutorial (CLF101) - Level Beginner](https://github.com/pycaret/pycaret/blob/master/tutorials/Binary%20Classification%20Tutorial%20Level%20Beginner%20-%20%20CLF101.ipynb)\n",
    "- [Binary Classification Tutorial (CLF103) - Level Expert](https://github.com/pycaret/pycaret/blob/master/tutorials/Binary%20Classification%20Tutorial%20Level%20Expert%20-%20CLF103.ipynb)"
   ]
  },
  {
   "cell_type": "markdown",
   "metadata": {
    "colab_type": "text",
    "id": "0hNS3XgV4Eer",
    "pycharm": {
     "name": "#%% md\n"
    }
   },
   "source": [
    "# 2.0 Brief overview of techniques covered in this tutorial\n",
    "Before we get into the practical execution of the techniques mentioned above in the Section 1, it is important to understand what these techniques are and when to use them. More often than not most of these techniques will help linear and parametric algorithms, however it is not suprising to also see performance gains in tree-based models. The below explanations are only brief and we recommend that you to do extra reading to dive deeper and get a more thorough understanding of these techniques.\n",
    "\n",
    "- **Normalization:** Normalization / Scaling (often used interchangeably with standardization) is used to transform the actual values of numeric variables in a way that provides helpful properties for machine learning. Many algorithms such as Logistic Regression, Support Vector Machine, K Nearest Neighbors and Naive Bayes assume that all features are centered around zero and have variances that are at the same level of order. If a particular feature in a dataset has a variance that is larger in order of magnitude than other features, the model may not understand all features correctly and could perform poorly. For instance, in the dataset we are using for this example the `AGE` feature ranges between 21 to 79 while other numeric features range from 10,000 to 1,000,000. __[Read more](https://sebastianraschka.com/Articles/2014_about_feature_scaling.html#z-score-standardization-or-min-max-scaling)__ <br/>\n",
    "<br/>\n",
    "- **Transformation:** While normalization transforms the range of data to remove the impact of magnitude in variance, transformation is a more radical technique as it changes the shape of the distribution so that transformed data can be represented by a normal or approximate normal distirbution. In general, you should transform the data if using algorithms that assume normality or a gaussian distribution. Examples of such models are Logistic Regression, Linear Discriminant Analysis (LDA) and Gaussian Naive Bayes. (Pro tip: any method with “Gaussian” in the name probably assumes normality.) __[Read more](https://en.wikipedia.org/wiki/Power_transform)__<br/>\n",
    "<br/>\n",
    "- **Ignore Low Variance:** Datasets can sometimes contain categorical features that have a single unique or small number of values across samples. This kind of features are not only non-informative and add no value but are also sometimes harmful for few algorithms. Imagine a feature with only one unique value or few dominant unique values accross samples, they can be removed from the dataset by using the ignore low variance feature in PyCaret. <br/>\n",
    "<br/>\n",
    "- **Multi-collinearity:** Multi-collinearity is a state of very high intercorrelations or inter-associations among the independent features in the dataset. It is a type of disturbance in the data that is not handled well by machine learning models (mostly linear algorithms). Multi-collinearity may reduce overall coefficient of the model and cause unpredictable variance. This will lead to overfitting where the model may do great on a known training set but will fail with an unknown testing set. __[Read more](https://towardsdatascience.com/multicollinearity-in-data-science-c5f6c0fe6edf)__<br/>\n",
    "<br/>\n",
    "- **Group Features:** Sometimes datasets may contain features that are related at a sample level. For example in the `credit` dataset there are features called `BILL_AMT1 .. BILL_AMT6` which are related in such a way that `BILL_AMT1` is the amount of the bill 1 month ago and `BILL_AMT6` is the amount of the bill 6 months ago. Such features can be used to extract additional features based on the statistical properties of the distribution such as mean, median, variance, standard deviation etc. <br/>\n",
    "<br/>\n",
    "- **Bin Numeric Variables:** Binning or discretization is the process of transforming numerical variables into categorical features. An example would be the Age variable which is a continious distribution of numeric values that can be discretized into intervals (10-20 years, 21-30 etc.). Binning may improve the accuracy of a predictive model by reducing the noise or non-linearity in the data. PyCaret automatically determines the number and size of bins using Sturges rule.  __[Read more](https://www.vosesoftware.com/riskwiki/Sturgesrule.php)__<br/>\n",
    "<br/>\n",
    "- **Model Ensembling and Stacking:** Ensemble modeling is a process where multiple diverse models are created to predict an outcome. This is achieved either by using many different modeling algorithms or using different samples of training data sets. The ensemble model then aggregates the predictions of each base model resulting in one final prediction for the unseen data. The motivation for using ensemble models is to reduce the generalization error of the prediction. As long as the base models are diverse and independent, the prediction error of the model decreases when the ensemble approach is used. The two most common methods in ensemble learning are `Bagging` and `Boosting`. Stacking is also a type of ensemble learning where predictions from multiple models are used as input features for a meta model that predicts the final outcome. __[Read more](https://blog.statsbot.co/ensemble-learning-d1dcd548e936)__<br/>\n",
    "<br/>"
   ]
  },
  {
   "cell_type": "markdown",
   "metadata": {
    "colab_type": "text",
    "id": "2B2swEt84Ee1",
    "pycharm": {
     "name": "#%% md\n"
    }
   },
   "source": [
    "# Dataset"
   ]
  },
  {
   "cell_type": "markdown",
   "metadata": {
    "colab_type": "text",
    "id": "rfr5f_GF4Ee7",
    "pycharm": {
     "name": "#%% md\n"
    }
   },
   "source": [
    "For this tutorial we will be using the same dataset that was used in __[Binary Classification Tutorial (CLF101) - Level Beginner](https://github.com/pycaret/pycaret/blob/master/tutorials/Binary%20Classification%20Tutorial%20Level%20Beginner%20-%20%20CLF101.ipynb)__\n",
    "\n",
    "#### Dataset Acknowledgements:\n",
    "Lichman, M. (2013). UCI Machine Learning Repository. Irvine, CA: University of California, School of Information and Computer Science.\n",
    "\n",
    "The original dataset and data dictionary can be __[found here](https://archive.ics.uci.edu/ml/datasets/default+of+credit+card+clients)__ at the UCI Machine Learning Repository."
   ]
  },
  {
   "cell_type": "markdown",
   "metadata": {
    "colab_type": "text",
    "id": "fGHO07ET4EfB",
    "pycharm": {
     "name": "#%% md\n"
    }
   },
   "source": [
    "# Getting the Data"
   ]
  },
  {
   "cell_type": "markdown",
   "metadata": {
    "colab_type": "text",
    "id": "yeUS_YV24EfG",
    "pycharm": {
     "name": "#%% md\n"
    }
   },
   "source": [
    "You can download the data from the original source __[found here](https://archive.ics.uci.edu/ml/datasets/default+of+credit+card+clients)__ and load it using the pandas read_csv function or you can use PyCaret's data respository to load the data using the get_data function (This will require an internet connection)."
   ]
  },
  {
   "cell_type": "code",
   "execution_count": 2,
   "metadata": {
    "colab": {},
    "colab_type": "code",
    "id": "SwAC9YKj4EgZ",
    "outputId": "aac7ee4c-f6bb-421a-cecc-ac72ae86b81f",
    "pycharm": {
     "name": "#%%\n"
    }
   },
   "outputs": [
    {
     "data": {
      "text/html": [
       "<div>\n",
       "<style scoped>\n",
       "    .dataframe tbody tr th:only-of-type {\n",
       "        vertical-align: middle;\n",
       "    }\n",
       "\n",
       "    .dataframe tbody tr th {\n",
       "        vertical-align: top;\n",
       "    }\n",
       "\n",
       "    .dataframe thead th {\n",
       "        text-align: right;\n",
       "    }\n",
       "</style>\n",
       "<table border=\"1\" class=\"dataframe\">\n",
       "  <thead>\n",
       "    <tr style=\"text-align: right;\">\n",
       "      <th></th>\n",
       "      <th>LIMIT_BAL</th>\n",
       "      <th>SEX</th>\n",
       "      <th>EDUCATION</th>\n",
       "      <th>MARRIAGE</th>\n",
       "      <th>AGE</th>\n",
       "      <th>PAY_1</th>\n",
       "      <th>PAY_2</th>\n",
       "      <th>PAY_3</th>\n",
       "      <th>PAY_4</th>\n",
       "      <th>PAY_5</th>\n",
       "      <th>...</th>\n",
       "      <th>BILL_AMT4</th>\n",
       "      <th>BILL_AMT5</th>\n",
       "      <th>BILL_AMT6</th>\n",
       "      <th>PAY_AMT1</th>\n",
       "      <th>PAY_AMT2</th>\n",
       "      <th>PAY_AMT3</th>\n",
       "      <th>PAY_AMT4</th>\n",
       "      <th>PAY_AMT5</th>\n",
       "      <th>PAY_AMT6</th>\n",
       "      <th>default</th>\n",
       "    </tr>\n",
       "  </thead>\n",
       "  <tbody>\n",
       "    <tr>\n",
       "      <th>0</th>\n",
       "      <td>20000</td>\n",
       "      <td>2</td>\n",
       "      <td>2</td>\n",
       "      <td>1</td>\n",
       "      <td>24</td>\n",
       "      <td>2</td>\n",
       "      <td>2</td>\n",
       "      <td>-1</td>\n",
       "      <td>-1</td>\n",
       "      <td>-2</td>\n",
       "      <td>...</td>\n",
       "      <td>0.0</td>\n",
       "      <td>0.0</td>\n",
       "      <td>0.0</td>\n",
       "      <td>0.0</td>\n",
       "      <td>689.0</td>\n",
       "      <td>0.0</td>\n",
       "      <td>0.0</td>\n",
       "      <td>0.0</td>\n",
       "      <td>0.0</td>\n",
       "      <td>1</td>\n",
       "    </tr>\n",
       "    <tr>\n",
       "      <th>1</th>\n",
       "      <td>90000</td>\n",
       "      <td>2</td>\n",
       "      <td>2</td>\n",
       "      <td>2</td>\n",
       "      <td>34</td>\n",
       "      <td>0</td>\n",
       "      <td>0</td>\n",
       "      <td>0</td>\n",
       "      <td>0</td>\n",
       "      <td>0</td>\n",
       "      <td>...</td>\n",
       "      <td>14331.0</td>\n",
       "      <td>14948.0</td>\n",
       "      <td>15549.0</td>\n",
       "      <td>1518.0</td>\n",
       "      <td>1500.0</td>\n",
       "      <td>1000.0</td>\n",
       "      <td>1000.0</td>\n",
       "      <td>1000.0</td>\n",
       "      <td>5000.0</td>\n",
       "      <td>0</td>\n",
       "    </tr>\n",
       "    <tr>\n",
       "      <th>2</th>\n",
       "      <td>50000</td>\n",
       "      <td>2</td>\n",
       "      <td>2</td>\n",
       "      <td>1</td>\n",
       "      <td>37</td>\n",
       "      <td>0</td>\n",
       "      <td>0</td>\n",
       "      <td>0</td>\n",
       "      <td>0</td>\n",
       "      <td>0</td>\n",
       "      <td>...</td>\n",
       "      <td>28314.0</td>\n",
       "      <td>28959.0</td>\n",
       "      <td>29547.0</td>\n",
       "      <td>2000.0</td>\n",
       "      <td>2019.0</td>\n",
       "      <td>1200.0</td>\n",
       "      <td>1100.0</td>\n",
       "      <td>1069.0</td>\n",
       "      <td>1000.0</td>\n",
       "      <td>0</td>\n",
       "    </tr>\n",
       "    <tr>\n",
       "      <th>3</th>\n",
       "      <td>50000</td>\n",
       "      <td>1</td>\n",
       "      <td>2</td>\n",
       "      <td>1</td>\n",
       "      <td>57</td>\n",
       "      <td>-1</td>\n",
       "      <td>0</td>\n",
       "      <td>-1</td>\n",
       "      <td>0</td>\n",
       "      <td>0</td>\n",
       "      <td>...</td>\n",
       "      <td>20940.0</td>\n",
       "      <td>19146.0</td>\n",
       "      <td>19131.0</td>\n",
       "      <td>2000.0</td>\n",
       "      <td>36681.0</td>\n",
       "      <td>10000.0</td>\n",
       "      <td>9000.0</td>\n",
       "      <td>689.0</td>\n",
       "      <td>679.0</td>\n",
       "      <td>0</td>\n",
       "    </tr>\n",
       "    <tr>\n",
       "      <th>4</th>\n",
       "      <td>50000</td>\n",
       "      <td>1</td>\n",
       "      <td>1</td>\n",
       "      <td>2</td>\n",
       "      <td>37</td>\n",
       "      <td>0</td>\n",
       "      <td>0</td>\n",
       "      <td>0</td>\n",
       "      <td>0</td>\n",
       "      <td>0</td>\n",
       "      <td>...</td>\n",
       "      <td>19394.0</td>\n",
       "      <td>19619.0</td>\n",
       "      <td>20024.0</td>\n",
       "      <td>2500.0</td>\n",
       "      <td>1815.0</td>\n",
       "      <td>657.0</td>\n",
       "      <td>1000.0</td>\n",
       "      <td>1000.0</td>\n",
       "      <td>800.0</td>\n",
       "      <td>0</td>\n",
       "    </tr>\n",
       "  </tbody>\n",
       "</table>\n",
       "<p>5 rows × 24 columns</p>\n",
       "</div>"
      ],
      "text/plain": [
       "   LIMIT_BAL  SEX  EDUCATION  MARRIAGE  AGE  PAY_1  PAY_2  PAY_3  PAY_4  \\\n",
       "0      20000    2          2         1   24      2      2     -1     -1   \n",
       "1      90000    2          2         2   34      0      0      0      0   \n",
       "2      50000    2          2         1   37      0      0      0      0   \n",
       "3      50000    1          2         1   57     -1      0     -1      0   \n",
       "4      50000    1          1         2   37      0      0      0      0   \n",
       "\n",
       "   PAY_5  ...  BILL_AMT4  BILL_AMT5  BILL_AMT6  PAY_AMT1  PAY_AMT2  PAY_AMT3  \\\n",
       "0     -2  ...        0.0        0.0        0.0       0.0     689.0       0.0   \n",
       "1      0  ...    14331.0    14948.0    15549.0    1518.0    1500.0    1000.0   \n",
       "2      0  ...    28314.0    28959.0    29547.0    2000.0    2019.0    1200.0   \n",
       "3      0  ...    20940.0    19146.0    19131.0    2000.0   36681.0   10000.0   \n",
       "4      0  ...    19394.0    19619.0    20024.0    2500.0    1815.0     657.0   \n",
       "\n",
       "   PAY_AMT4  PAY_AMT5  PAY_AMT6  default  \n",
       "0       0.0       0.0       0.0        1  \n",
       "1    1000.0    1000.0    5000.0        0  \n",
       "2    1100.0    1069.0    1000.0        0  \n",
       "3    9000.0     689.0     679.0        0  \n",
       "4    1000.0    1000.0     800.0        0  \n",
       "\n",
       "[5 rows x 24 columns]"
      ]
     },
     "metadata": {},
     "output_type": "display_data"
    }
   ],
   "source": [
    "from pycaret.datasets import get_data\n",
    "dataset = get_data('credit')"
   ]
  },
  {
   "cell_type": "markdown",
   "metadata": {
    "colab_type": "text",
    "id": "NBjUo6XM4EhH",
    "pycharm": {
     "name": "#%% md\n"
    }
   },
   "source": [
    "Notice that when the `profile` parameter is to `True`, it displays a data profile for exploratory data analysis. Several pre-processing steps as discussed in section 2 above will be performed in this experiment based on this analysis. Let's summarize how the profile has helped make critical pre-processing choices with the data.\n",
    "\n",
    "- **Missing Values:** There are no missing values in the data. However, we still need imputers in our pipeline just in case the new unseen data has missing values (not applicable in this case). When you execute the `setup()` function, imputers are created and stored in the pipeline automatically. By default, it uses a mean imputer for numeric values and a constant imputer for categorical. This can be changed using the `numeric_imputation` and `categorical_imputation` parameters in `setup()`. <br/>\n",
    "<br/>\n",
    "- **Multicollinearity:** There are high correlations between `BILL_AMT1 ... BIL_AMT6` which introduces multicollinearity into the data. We will remove multi-collinearity by using the `remove_multicollinearity` and `multicollinearity_threshold` parameters in setup. <br/>\n",
    "<br/>\n",
    "- **Data Scale / Range:** Notice how the scale / range of numeric features are different. For example the `AGE` feature ranges from between 21 to 79 and `BILL_AMT1` ranges from -165,580 to 964,511. This may cause problems for algorithms that assume all features have variance within the same order. In this case, the order of magnitude for `BILL_AMT1` is widely different than `AGE`. We will deal with this problem by using the `normalize` parameter in setup. <br/>\n",
    "<br/>\n",
    "- **Distribution of Feature Space:** Numeric features are not normally distributed. Look at the distributions of `LIMIT_BAL`, `BILL_AMT1` and `PAY_AMT1 ... PAY_AMT6`. A few features are also highly skewed such as `PAY_AMT1`. This may cause problems for algorithms that assume normal or approximate normal distributions of the data. Examples include Logistic Regression, Linear Discriminant Analysis (LDA) and Naive Bayes.  We will deal with this problem by using the `transformation` parameter in setup. <br/>\n",
    "<br/>\n",
    "- **Group Features:** From the data description we know that certain features are related with each other such as `BILL_AMT1 ... BILL_AMT6` and `PAY_AMT1 ... PAY_AMT6`. We will use the `group_features` parameter in setup to extract statistical information from these features.  <br/>\n",
    "<br/>\n",
    "- **Bin Numeric Features:** When looking at the correlations between the numeric features and the target variable, we see that `AGE` and `LIMIT_BAL` are weak. We will use the `bin_numeric_features` parameter to remove the noise from these variables which may help linear algorithms. <br/>"
   ]
  },
  {
   "cell_type": "code",
   "execution_count": 3,
   "metadata": {
    "colab": {},
    "colab_type": "code",
    "id": "HuMuCeN44EhL",
    "outputId": "9d6210f4-d8e2-45ac-d92a-1b939220c02a",
    "pycharm": {
     "name": "#%%\n"
    }
   },
   "outputs": [
    {
     "data": {
      "text/plain": [
       "(24000, 24)"
      ]
     },
     "execution_count": 3,
     "metadata": {},
     "output_type": "execute_result"
    }
   ],
   "source": [
    "#check the shape of data\n",
    "dataset.shape"
   ]
  },
  {
   "cell_type": "markdown",
   "metadata": {
    "colab_type": "text",
    "id": "WHyZrNCX4EhZ",
    "pycharm": {
     "name": "#%% md\n"
    }
   },
   "source": [
    "In order to demonstrate the `predict_model()` function on unseen data, a sample of 1200 rows has been withheld from the original dataset to be used for predictions. This should not be confused with a train/test split as this particular split is performed to simulate a real life scenario. Another way to think about this is that these 1200 records were not available at the time when the machine learning experiment was performed."
   ]
  },
  {
   "cell_type": "code",
   "execution_count": 4,
   "metadata": {
    "colab": {},
    "colab_type": "code",
    "id": "yYoi1mdi4Ehk",
    "outputId": "bd125cbe-1ea7-4f25-af39-e4d10e53e8ac",
    "pycharm": {
     "name": "#%%\n"
    }
   },
   "outputs": [
    {
     "name": "stdout",
     "output_type": "stream",
     "text": [
      "Data for Modeling: (22800, 24)\n",
      "Unseen Data For Predictions: (1200, 24)\n"
     ]
    }
   ],
   "source": [
    "data = dataset.sample(frac=0.95, random_state=786)\n",
    "data_unseen = dataset.drop(data.index)\n",
    "\n",
    "data.reset_index(inplace=True, drop=True)\n",
    "data_unseen.reset_index(inplace=True, drop=True)\n",
    "\n",
    "print('Data for Modeling: ' + str(data.shape))\n",
    "print('Unseen Data For Predictions: ' + str(data_unseen.shape))"
   ]
  },
  {
   "cell_type": "markdown",
   "metadata": {
    "colab_type": "text",
    "id": "GlddJmh74Eh4",
    "pycharm": {
     "name": "#%% md\n"
    }
   },
   "source": [
    "# Setting up Environment in PyCaret"
   ]
  },
  {
   "cell_type": "markdown",
   "metadata": {
    "colab_type": "text",
    "id": "bHjLZoXc4Eh-",
    "pycharm": {
     "name": "#%% md\n"
    }
   },
   "source": [
    "In the previous tutorial [Binary Classification (CLF101) - Level Beginner](https://github.com/pycaret/pycaret/blob/master/tutorials/Binary%20Classification%20Tutorial%20Level%20Beginner%20-%20%20CLF101.ipynb) we learned how to initialize the environment in pycaret using `setup()`. No additional parameters were passed in our last example as we did not perform any pre-processing steps. In this example we will take it to the next level by customizing the pre-processing pipeline using `setup()`. Let's look at how to implement all the steps discussed in section 4 above."
   ]
  },
  {
   "cell_type": "code",
   "execution_count": 5,
   "metadata": {
    "colab": {},
    "colab_type": "code",
    "id": "x34RqY6W4EiC",
    "pycharm": {
     "name": "#%%\n"
    }
   },
   "outputs": [],
   "source": [
    "from pycaret.classification import *"
   ]
  },
  {
   "cell_type": "code",
   "execution_count": 6,
   "metadata": {
    "colab": {},
    "colab_type": "code",
    "id": "KBqDTo754EiR",
    "outputId": "f89b4933-30ec-43ea-ca35-81abb12a977f",
    "pycharm": {
     "name": "#%%\n"
    },
    "scrolled": false
   },
   "outputs": [
    {
     "data": {
      "text/html": [
       "<style type=\"text/css\">\n",
       "#T_620cb_row8_col1, #T_620cb_row12_col1, #T_620cb_row14_col1, #T_620cb_row16_col1 {\n",
       "  background-color: lightgreen;\n",
       "}\n",
       "</style>\n",
       "<table id=\"T_620cb\">\n",
       "  <thead>\n",
       "    <tr>\n",
       "      <th class=\"blank level0\" >&nbsp;</th>\n",
       "      <th id=\"T_620cb_level0_col0\" class=\"col_heading level0 col0\" >Description</th>\n",
       "      <th id=\"T_620cb_level0_col1\" class=\"col_heading level0 col1\" >Value</th>\n",
       "    </tr>\n",
       "  </thead>\n",
       "  <tbody>\n",
       "    <tr>\n",
       "      <th id=\"T_620cb_level0_row0\" class=\"row_heading level0 row0\" >0</th>\n",
       "      <td id=\"T_620cb_row0_col0\" class=\"data row0 col0\" >Session id</td>\n",
       "      <td id=\"T_620cb_row0_col1\" class=\"data row0 col1\" >123</td>\n",
       "    </tr>\n",
       "    <tr>\n",
       "      <th id=\"T_620cb_level0_row1\" class=\"row_heading level0 row1\" >1</th>\n",
       "      <td id=\"T_620cb_row1_col0\" class=\"data row1 col0\" >Target</td>\n",
       "      <td id=\"T_620cb_row1_col1\" class=\"data row1 col1\" >default</td>\n",
       "    </tr>\n",
       "    <tr>\n",
       "      <th id=\"T_620cb_level0_row2\" class=\"row_heading level0 row2\" >2</th>\n",
       "      <td id=\"T_620cb_row2_col0\" class=\"data row2 col0\" >Target type</td>\n",
       "      <td id=\"T_620cb_row2_col1\" class=\"data row2 col1\" >Binary</td>\n",
       "    </tr>\n",
       "    <tr>\n",
       "      <th id=\"T_620cb_level0_row3\" class=\"row_heading level0 row3\" >3</th>\n",
       "      <td id=\"T_620cb_row3_col0\" class=\"data row3 col0\" >Original data shape</td>\n",
       "      <td id=\"T_620cb_row3_col1\" class=\"data row3 col1\" >(22800, 24)</td>\n",
       "    </tr>\n",
       "    <tr>\n",
       "      <th id=\"T_620cb_level0_row4\" class=\"row_heading level0 row4\" >4</th>\n",
       "      <td id=\"T_620cb_row4_col0\" class=\"data row4 col0\" >Transformed data shape</td>\n",
       "      <td id=\"T_620cb_row4_col1\" class=\"data row4 col1\" >(22800, 21)</td>\n",
       "    </tr>\n",
       "    <tr>\n",
       "      <th id=\"T_620cb_level0_row5\" class=\"row_heading level0 row5\" >5</th>\n",
       "      <td id=\"T_620cb_row5_col0\" class=\"data row5 col0\" >Transformed train set shape</td>\n",
       "      <td id=\"T_620cb_row5_col1\" class=\"data row5 col1\" >(15959, 21)</td>\n",
       "    </tr>\n",
       "    <tr>\n",
       "      <th id=\"T_620cb_level0_row6\" class=\"row_heading level0 row6\" >6</th>\n",
       "      <td id=\"T_620cb_row6_col0\" class=\"data row6 col0\" >Transformed test set shape</td>\n",
       "      <td id=\"T_620cb_row6_col1\" class=\"data row6 col1\" >(6841, 21)</td>\n",
       "    </tr>\n",
       "    <tr>\n",
       "      <th id=\"T_620cb_level0_row7\" class=\"row_heading level0 row7\" >7</th>\n",
       "      <td id=\"T_620cb_row7_col0\" class=\"data row7 col0\" >Numeric features</td>\n",
       "      <td id=\"T_620cb_row7_col1\" class=\"data row7 col1\" >23</td>\n",
       "    </tr>\n",
       "    <tr>\n",
       "      <th id=\"T_620cb_level0_row8\" class=\"row_heading level0 row8\" >8</th>\n",
       "      <td id=\"T_620cb_row8_col0\" class=\"data row8 col0\" >Preprocess</td>\n",
       "      <td id=\"T_620cb_row8_col1\" class=\"data row8 col1\" >True</td>\n",
       "    </tr>\n",
       "    <tr>\n",
       "      <th id=\"T_620cb_level0_row9\" class=\"row_heading level0 row9\" >9</th>\n",
       "      <td id=\"T_620cb_row9_col0\" class=\"data row9 col0\" >Imputation type</td>\n",
       "      <td id=\"T_620cb_row9_col1\" class=\"data row9 col1\" >simple</td>\n",
       "    </tr>\n",
       "    <tr>\n",
       "      <th id=\"T_620cb_level0_row10\" class=\"row_heading level0 row10\" >10</th>\n",
       "      <td id=\"T_620cb_row10_col0\" class=\"data row10 col0\" >Numeric imputation</td>\n",
       "      <td id=\"T_620cb_row10_col1\" class=\"data row10 col1\" >mean</td>\n",
       "    </tr>\n",
       "    <tr>\n",
       "      <th id=\"T_620cb_level0_row11\" class=\"row_heading level0 row11\" >11</th>\n",
       "      <td id=\"T_620cb_row11_col0\" class=\"data row11 col0\" >Categorical imputation</td>\n",
       "      <td id=\"T_620cb_row11_col1\" class=\"data row11 col1\" >mode</td>\n",
       "    </tr>\n",
       "    <tr>\n",
       "      <th id=\"T_620cb_level0_row12\" class=\"row_heading level0 row12\" >12</th>\n",
       "      <td id=\"T_620cb_row12_col0\" class=\"data row12 col0\" >Remove multicollinearity</td>\n",
       "      <td id=\"T_620cb_row12_col1\" class=\"data row12 col1\" >True</td>\n",
       "    </tr>\n",
       "    <tr>\n",
       "      <th id=\"T_620cb_level0_row13\" class=\"row_heading level0 row13\" >13</th>\n",
       "      <td id=\"T_620cb_row13_col0\" class=\"data row13 col0\" >Multicollinearity threshold</td>\n",
       "      <td id=\"T_620cb_row13_col1\" class=\"data row13 col1\" >0.950000</td>\n",
       "    </tr>\n",
       "    <tr>\n",
       "      <th id=\"T_620cb_level0_row14\" class=\"row_heading level0 row14\" >14</th>\n",
       "      <td id=\"T_620cb_row14_col0\" class=\"data row14 col0\" >Transformation</td>\n",
       "      <td id=\"T_620cb_row14_col1\" class=\"data row14 col1\" >True</td>\n",
       "    </tr>\n",
       "    <tr>\n",
       "      <th id=\"T_620cb_level0_row15\" class=\"row_heading level0 row15\" >15</th>\n",
       "      <td id=\"T_620cb_row15_col0\" class=\"data row15 col0\" >Transformation method</td>\n",
       "      <td id=\"T_620cb_row15_col1\" class=\"data row15 col1\" >yeo-johnson</td>\n",
       "    </tr>\n",
       "    <tr>\n",
       "      <th id=\"T_620cb_level0_row16\" class=\"row_heading level0 row16\" >16</th>\n",
       "      <td id=\"T_620cb_row16_col0\" class=\"data row16 col0\" >Normalize</td>\n",
       "      <td id=\"T_620cb_row16_col1\" class=\"data row16 col1\" >True</td>\n",
       "    </tr>\n",
       "    <tr>\n",
       "      <th id=\"T_620cb_level0_row17\" class=\"row_heading level0 row17\" >17</th>\n",
       "      <td id=\"T_620cb_row17_col0\" class=\"data row17 col0\" >Normalize method</td>\n",
       "      <td id=\"T_620cb_row17_col1\" class=\"data row17 col1\" >zscore</td>\n",
       "    </tr>\n",
       "    <tr>\n",
       "      <th id=\"T_620cb_level0_row18\" class=\"row_heading level0 row18\" >18</th>\n",
       "      <td id=\"T_620cb_row18_col0\" class=\"data row18 col0\" >Fold Generator</td>\n",
       "      <td id=\"T_620cb_row18_col1\" class=\"data row18 col1\" >StratifiedKFold</td>\n",
       "    </tr>\n",
       "    <tr>\n",
       "      <th id=\"T_620cb_level0_row19\" class=\"row_heading level0 row19\" >19</th>\n",
       "      <td id=\"T_620cb_row19_col0\" class=\"data row19 col0\" >Fold Number</td>\n",
       "      <td id=\"T_620cb_row19_col1\" class=\"data row19 col1\" >10</td>\n",
       "    </tr>\n",
       "    <tr>\n",
       "      <th id=\"T_620cb_level0_row20\" class=\"row_heading level0 row20\" >20</th>\n",
       "      <td id=\"T_620cb_row20_col0\" class=\"data row20 col0\" >CPU Jobs</td>\n",
       "      <td id=\"T_620cb_row20_col1\" class=\"data row20 col1\" >-1</td>\n",
       "    </tr>\n",
       "    <tr>\n",
       "      <th id=\"T_620cb_level0_row21\" class=\"row_heading level0 row21\" >21</th>\n",
       "      <td id=\"T_620cb_row21_col0\" class=\"data row21 col0\" >Use GPU</td>\n",
       "      <td id=\"T_620cb_row21_col1\" class=\"data row21 col1\" >False</td>\n",
       "    </tr>\n",
       "    <tr>\n",
       "      <th id=\"T_620cb_level0_row22\" class=\"row_heading level0 row22\" >22</th>\n",
       "      <td id=\"T_620cb_row22_col0\" class=\"data row22 col0\" >Log Experiment</td>\n",
       "      <td id=\"T_620cb_row22_col1\" class=\"data row22 col1\" >False</td>\n",
       "    </tr>\n",
       "    <tr>\n",
       "      <th id=\"T_620cb_level0_row23\" class=\"row_heading level0 row23\" >23</th>\n",
       "      <td id=\"T_620cb_row23_col0\" class=\"data row23 col0\" >Experiment Name</td>\n",
       "      <td id=\"T_620cb_row23_col1\" class=\"data row23 col1\" >clf-default-name</td>\n",
       "    </tr>\n",
       "    <tr>\n",
       "      <th id=\"T_620cb_level0_row24\" class=\"row_heading level0 row24\" >24</th>\n",
       "      <td id=\"T_620cb_row24_col0\" class=\"data row24 col0\" >USI</td>\n",
       "      <td id=\"T_620cb_row24_col1\" class=\"data row24 col1\" >d4d3</td>\n",
       "    </tr>\n",
       "  </tbody>\n",
       "</table>\n"
      ],
      "text/plain": [
       "<pandas.io.formats.style.Styler at 0x2679f262d90>"
      ]
     },
     "metadata": {},
     "output_type": "display_data"
    }
   ],
   "source": [
    "exp_clf102 = setup(data = data, target = 'default', session_id=123,\n",
    "                  normalize = True, \n",
    "                  transformation = True, \n",
    "                  #ignore_low_variance = True,\n",
    "                  remove_multicollinearity = True, multicollinearity_threshold = 0.95,\n",
    "                  bin_numeric_features = ['LIMIT_BAL', 'AGE'],\n",
    "                  group_features = [['BILL_AMT1', 'BILL_AMT2','BILL_AMT3', 'BILL_AMT4', 'BILL_AMT5', 'BILL_AMT6'],\n",
    "                                   ['PAY_AMT1','PAY_AMT2', 'PAY_AMT3', 'PAY_AMT4', 'PAY_AMT5', 'PAY_AMT6']]),\n",
    "                  #log_experiment = True, experiment_name = 'credit1')"
   ]
  },
  {
   "cell_type": "markdown",
   "metadata": {
    "colab_type": "text",
    "id": "zz6rype14Eie",
    "pycharm": {
     "name": "#%% md\n"
    }
   },
   "source": [
    "Note that this is the same setup grid that was shown in __[Binary Classification Tutorial (CLF101) - Level Beginner](https://github.com/pycaret/pycaret/blob/master/tutorials/Binary%20Classification%20Tutorial%20Level%20Beginner%20-%20%20CLF101.ipynb)__. The only difference here is the customization parameters that were passed to `setup()` are now set to `True`. Also notice that the `session_id` is the same as the one used in the beginner tutorial, which means that the effect of randomization is completely isolated. Any improvements we see in this experiment are solely due to the pre-processing steps taken in `setup()` or any other modeling techniques used in later sections of this tutorial.\n",
    "\n",
    "Another difference you may have noticed is the `log_experiment` and `experiment_name` parameter we have used within `setup`. This is to log all the modeling activity in this experiment. You will see at the end of this notebook on how you can benefit from this functionality."
   ]
  },
  {
   "cell_type": "markdown",
   "metadata": {
    "colab_type": "text",
    "id": "B4o2brP84Eih",
    "pycharm": {
     "name": "#%% md\n"
    }
   },
   "source": [
    "# Compare Models"
   ]
  },
  {
   "cell_type": "markdown",
   "metadata": {
    "colab_type": "text",
    "id": "dZ5LGtuL4Eil",
    "pycharm": {
     "name": "#%% md\n"
    }
   },
   "source": [
    "Similar to [Binary Classification Tutorial - Level Beginner](https://github.com/pycaret/pycaret/blob/master/tutorials/Binary%20Classification%20Tutorial%20Level%20Beginner%20-%20%20CLF101.ipynb) we will also begin this tutorial with `compare_models()`. We will then compare the below results with the last experiment."
   ]
  },
  {
   "cell_type": "code",
   "execution_count": 7,
   "metadata": {
    "colab": {},
    "colab_type": "code",
    "id": "ARFsODlw4Eiq",
    "outputId": "09c08c76-9099-425b-97eb-9bf5044805da",
    "pycharm": {
     "name": "#%%\n"
    }
   },
   "outputs": [
    {
     "data": {
      "text/html": [],
      "text/plain": [
       "<IPython.core.display.HTML object>"
      ]
     },
     "metadata": {},
     "output_type": "display_data"
    },
    {
     "data": {
      "text/html": [
       "<style type=\"text/css\">\n",
       "#T_9626d th {\n",
       "  text-align: left;\n",
       "}\n",
       "#T_9626d_row0_col0, #T_9626d_row0_col3, #T_9626d_row0_col4, #T_9626d_row0_col5, #T_9626d_row1_col0, #T_9626d_row1_col1, #T_9626d_row1_col2, #T_9626d_row1_col3, #T_9626d_row1_col4, #T_9626d_row1_col5, #T_9626d_row1_col6, #T_9626d_row1_col7, #T_9626d_row2_col0, #T_9626d_row2_col1, #T_9626d_row2_col2, #T_9626d_row2_col3, #T_9626d_row2_col4, #T_9626d_row2_col5, #T_9626d_row2_col6, #T_9626d_row2_col7, #T_9626d_row3_col0, #T_9626d_row3_col1, #T_9626d_row3_col2, #T_9626d_row3_col3, #T_9626d_row3_col4, #T_9626d_row3_col5, #T_9626d_row3_col6, #T_9626d_row3_col7, #T_9626d_row4_col0, #T_9626d_row4_col1, #T_9626d_row4_col2, #T_9626d_row4_col3, #T_9626d_row4_col4, #T_9626d_row4_col5, #T_9626d_row4_col6, #T_9626d_row4_col7, #T_9626d_row5_col0, #T_9626d_row5_col1, #T_9626d_row5_col2, #T_9626d_row5_col3, #T_9626d_row5_col4, #T_9626d_row5_col5, #T_9626d_row5_col6, #T_9626d_row5_col7, #T_9626d_row6_col0, #T_9626d_row6_col1, #T_9626d_row6_col2, #T_9626d_row6_col3, #T_9626d_row6_col4, #T_9626d_row6_col5, #T_9626d_row6_col6, #T_9626d_row6_col7, #T_9626d_row7_col0, #T_9626d_row7_col1, #T_9626d_row7_col2, #T_9626d_row7_col3, #T_9626d_row7_col4, #T_9626d_row7_col5, #T_9626d_row7_col6, #T_9626d_row7_col7, #T_9626d_row8_col0, #T_9626d_row8_col1, #T_9626d_row8_col2, #T_9626d_row8_col3, #T_9626d_row8_col5, #T_9626d_row8_col6, #T_9626d_row8_col7, #T_9626d_row9_col0, #T_9626d_row9_col1, #T_9626d_row9_col2, #T_9626d_row9_col3, #T_9626d_row9_col4, #T_9626d_row9_col5, #T_9626d_row9_col6, #T_9626d_row9_col7, #T_9626d_row10_col0, #T_9626d_row10_col1, #T_9626d_row10_col2, #T_9626d_row10_col3, #T_9626d_row10_col4, #T_9626d_row10_col5, #T_9626d_row10_col6, #T_9626d_row10_col7, #T_9626d_row11_col0, #T_9626d_row11_col1, #T_9626d_row11_col2, #T_9626d_row11_col3, #T_9626d_row11_col4, #T_9626d_row11_col5, #T_9626d_row11_col6, #T_9626d_row11_col7, #T_9626d_row12_col0, #T_9626d_row12_col1, #T_9626d_row12_col2, #T_9626d_row12_col3, #T_9626d_row12_col4, #T_9626d_row12_col6, #T_9626d_row12_col7, #T_9626d_row13_col0, #T_9626d_row13_col1, #T_9626d_row13_col2, #T_9626d_row13_col3, #T_9626d_row13_col4, #T_9626d_row13_col5, #T_9626d_row13_col6, #T_9626d_row13_col7, #T_9626d_row14_col0, #T_9626d_row14_col1, #T_9626d_row14_col2, #T_9626d_row14_col4, #T_9626d_row14_col5, #T_9626d_row14_col6, #T_9626d_row14_col7 {\n",
       "  text-align: left;\n",
       "}\n",
       "#T_9626d_row0_col1, #T_9626d_row0_col2, #T_9626d_row0_col6, #T_9626d_row0_col7, #T_9626d_row8_col4, #T_9626d_row12_col5, #T_9626d_row14_col3 {\n",
       "  text-align: left;\n",
       "  background-color: yellow;\n",
       "}\n",
       "#T_9626d_row0_col8, #T_9626d_row1_col8, #T_9626d_row2_col8, #T_9626d_row3_col8, #T_9626d_row4_col8, #T_9626d_row5_col8, #T_9626d_row6_col8, #T_9626d_row7_col8, #T_9626d_row9_col8, #T_9626d_row10_col8, #T_9626d_row11_col8, #T_9626d_row12_col8, #T_9626d_row13_col8, #T_9626d_row14_col8 {\n",
       "  text-align: left;\n",
       "  background-color: lightgrey;\n",
       "}\n",
       "#T_9626d_row8_col8 {\n",
       "  text-align: left;\n",
       "  background-color: yellow;\n",
       "  background-color: lightgrey;\n",
       "}\n",
       "</style>\n",
       "<table id=\"T_9626d\">\n",
       "  <thead>\n",
       "    <tr>\n",
       "      <th class=\"blank level0\" >&nbsp;</th>\n",
       "      <th id=\"T_9626d_level0_col0\" class=\"col_heading level0 col0\" >Model</th>\n",
       "      <th id=\"T_9626d_level0_col1\" class=\"col_heading level0 col1\" >Accuracy</th>\n",
       "      <th id=\"T_9626d_level0_col2\" class=\"col_heading level0 col2\" >AUC</th>\n",
       "      <th id=\"T_9626d_level0_col3\" class=\"col_heading level0 col3\" >Recall</th>\n",
       "      <th id=\"T_9626d_level0_col4\" class=\"col_heading level0 col4\" >Prec.</th>\n",
       "      <th id=\"T_9626d_level0_col5\" class=\"col_heading level0 col5\" >F1</th>\n",
       "      <th id=\"T_9626d_level0_col6\" class=\"col_heading level0 col6\" >Kappa</th>\n",
       "      <th id=\"T_9626d_level0_col7\" class=\"col_heading level0 col7\" >MCC</th>\n",
       "      <th id=\"T_9626d_level0_col8\" class=\"col_heading level0 col8\" >TT (Sec)</th>\n",
       "    </tr>\n",
       "  </thead>\n",
       "  <tbody>\n",
       "    <tr>\n",
       "      <th id=\"T_9626d_level0_row0\" class=\"row_heading level0 row0\" >gbc</th>\n",
       "      <td id=\"T_9626d_row0_col0\" class=\"data row0 col0\" >Gradient Boosting Classifier</td>\n",
       "      <td id=\"T_9626d_row0_col1\" class=\"data row0 col1\" >0.8224</td>\n",
       "      <td id=\"T_9626d_row0_col2\" class=\"data row0 col2\" >0.7850</td>\n",
       "      <td id=\"T_9626d_row0_col3\" class=\"data row0 col3\" >0.3788</td>\n",
       "      <td id=\"T_9626d_row0_col4\" class=\"data row0 col4\" >0.6760</td>\n",
       "      <td id=\"T_9626d_row0_col5\" class=\"data row0 col5\" >0.4854</td>\n",
       "      <td id=\"T_9626d_row0_col6\" class=\"data row0 col6\" >0.3882</td>\n",
       "      <td id=\"T_9626d_row0_col7\" class=\"data row0 col7\" >0.4120</td>\n",
       "      <td id=\"T_9626d_row0_col8\" class=\"data row0 col8\" >1.4410</td>\n",
       "    </tr>\n",
       "    <tr>\n",
       "      <th id=\"T_9626d_level0_row1\" class=\"row_heading level0 row1\" >ada</th>\n",
       "      <td id=\"T_9626d_row1_col0\" class=\"data row1 col0\" >Ada Boost Classifier</td>\n",
       "      <td id=\"T_9626d_row1_col1\" class=\"data row1 col1\" >0.8204</td>\n",
       "      <td id=\"T_9626d_row1_col2\" class=\"data row1 col2\" >0.7805</td>\n",
       "      <td id=\"T_9626d_row1_col3\" class=\"data row1 col3\" >0.3431</td>\n",
       "      <td id=\"T_9626d_row1_col4\" class=\"data row1 col4\" >0.6900</td>\n",
       "      <td id=\"T_9626d_row1_col5\" class=\"data row1 col5\" >0.4580</td>\n",
       "      <td id=\"T_9626d_row1_col6\" class=\"data row1 col6\" >0.3646</td>\n",
       "      <td id=\"T_9626d_row1_col7\" class=\"data row1 col7\" >0.3968</td>\n",
       "      <td id=\"T_9626d_row1_col8\" class=\"data row1 col8\" >0.4490</td>\n",
       "    </tr>\n",
       "    <tr>\n",
       "      <th id=\"T_9626d_level0_row2\" class=\"row_heading level0 row2\" >lightgbm</th>\n",
       "      <td id=\"T_9626d_row2_col0\" class=\"data row2 col0\" >Light Gradient Boosting Machine</td>\n",
       "      <td id=\"T_9626d_row2_col1\" class=\"data row2 col1\" >0.8203</td>\n",
       "      <td id=\"T_9626d_row2_col2\" class=\"data row2 col2\" >0.7817</td>\n",
       "      <td id=\"T_9626d_row2_col3\" class=\"data row2 col3\" >0.3788</td>\n",
       "      <td id=\"T_9626d_row2_col4\" class=\"data row2 col4\" >0.6649</td>\n",
       "      <td id=\"T_9626d_row2_col5\" class=\"data row2 col5\" >0.4824</td>\n",
       "      <td id=\"T_9626d_row2_col6\" class=\"data row2 col6\" >0.3834</td>\n",
       "      <td id=\"T_9626d_row2_col7\" class=\"data row2 col7\" >0.4058</td>\n",
       "      <td id=\"T_9626d_row2_col8\" class=\"data row2 col8\" >0.3030</td>\n",
       "    </tr>\n",
       "    <tr>\n",
       "      <th id=\"T_9626d_level0_row3\" class=\"row_heading level0 row3\" >rf</th>\n",
       "      <td id=\"T_9626d_row3_col0\" class=\"data row3 col0\" >Random Forest Classifier</td>\n",
       "      <td id=\"T_9626d_row3_col1\" class=\"data row3 col1\" >0.8140</td>\n",
       "      <td id=\"T_9626d_row3_col2\" class=\"data row3 col2\" >0.7677</td>\n",
       "      <td id=\"T_9626d_row3_col3\" class=\"data row3 col3\" >0.3686</td>\n",
       "      <td id=\"T_9626d_row3_col4\" class=\"data row3 col4\" >0.6381</td>\n",
       "      <td id=\"T_9626d_row3_col5\" class=\"data row3 col5\" >0.4668</td>\n",
       "      <td id=\"T_9626d_row3_col6\" class=\"data row3 col6\" >0.3639</td>\n",
       "      <td id=\"T_9626d_row3_col7\" class=\"data row3 col7\" >0.3843</td>\n",
       "      <td id=\"T_9626d_row3_col8\" class=\"data row3 col8\" >0.7980</td>\n",
       "    </tr>\n",
       "    <tr>\n",
       "      <th id=\"T_9626d_level0_row4\" class=\"row_heading level0 row4\" >xgboost</th>\n",
       "      <td id=\"T_9626d_row4_col0\" class=\"data row4 col0\" >Extreme Gradient Boosting</td>\n",
       "      <td id=\"T_9626d_row4_col1\" class=\"data row4 col1\" >0.8138</td>\n",
       "      <td id=\"T_9626d_row4_col2\" class=\"data row4 col2\" >0.7648</td>\n",
       "      <td id=\"T_9626d_row4_col3\" class=\"data row4 col3\" >0.3725</td>\n",
       "      <td id=\"T_9626d_row4_col4\" class=\"data row4 col4\" >0.6357</td>\n",
       "      <td id=\"T_9626d_row4_col5\" class=\"data row4 col5\" >0.4695</td>\n",
       "      <td id=\"T_9626d_row4_col6\" class=\"data row4 col6\" >0.3658</td>\n",
       "      <td id=\"T_9626d_row4_col7\" class=\"data row4 col7\" >0.3852</td>\n",
       "      <td id=\"T_9626d_row4_col8\" class=\"data row4 col8\" >1.2200</td>\n",
       "    </tr>\n",
       "    <tr>\n",
       "      <th id=\"T_9626d_level0_row5\" class=\"row_heading level0 row5\" >et</th>\n",
       "      <td id=\"T_9626d_row5_col0\" class=\"data row5 col0\" >Extra Trees Classifier</td>\n",
       "      <td id=\"T_9626d_row5_col1\" class=\"data row5 col1\" >0.8097</td>\n",
       "      <td id=\"T_9626d_row5_col2\" class=\"data row5 col2\" >0.7542</td>\n",
       "      <td id=\"T_9626d_row5_col3\" class=\"data row5 col3\" >0.3629</td>\n",
       "      <td id=\"T_9626d_row5_col4\" class=\"data row5 col4\" >0.6197</td>\n",
       "      <td id=\"T_9626d_row5_col5\" class=\"data row5 col5\" >0.4575</td>\n",
       "      <td id=\"T_9626d_row5_col6\" class=\"data row5 col6\" >0.3516</td>\n",
       "      <td id=\"T_9626d_row5_col7\" class=\"data row5 col7\" >0.3702</td>\n",
       "      <td id=\"T_9626d_row5_col8\" class=\"data row5 col8\" >0.5860</td>\n",
       "    </tr>\n",
       "    <tr>\n",
       "      <th id=\"T_9626d_level0_row6\" class=\"row_heading level0 row6\" >lda</th>\n",
       "      <td id=\"T_9626d_row6_col0\" class=\"data row6 col0\" >Linear Discriminant Analysis</td>\n",
       "      <td id=\"T_9626d_row6_col1\" class=\"data row6 col1\" >0.8076</td>\n",
       "      <td id=\"T_9626d_row6_col2\" class=\"data row6 col2\" >0.7492</td>\n",
       "      <td id=\"T_9626d_row6_col3\" class=\"data row6 col3\" >0.2986</td>\n",
       "      <td id=\"T_9626d_row6_col4\" class=\"data row6 col4\" >0.6399</td>\n",
       "      <td id=\"T_9626d_row6_col5\" class=\"data row6 col5\" >0.4069</td>\n",
       "      <td id=\"T_9626d_row6_col6\" class=\"data row6 col6\" >0.3098</td>\n",
       "      <td id=\"T_9626d_row6_col7\" class=\"data row6 col7\" >0.3420</td>\n",
       "      <td id=\"T_9626d_row6_col8\" class=\"data row6 col8\" >0.0740</td>\n",
       "    </tr>\n",
       "    <tr>\n",
       "      <th id=\"T_9626d_level0_row7\" class=\"row_heading level0 row7\" >lr</th>\n",
       "      <td id=\"T_9626d_row7_col0\" class=\"data row7 col0\" >Logistic Regression</td>\n",
       "      <td id=\"T_9626d_row7_col1\" class=\"data row7 col1\" >0.8074</td>\n",
       "      <td id=\"T_9626d_row7_col2\" class=\"data row7 col2\" >0.7525</td>\n",
       "      <td id=\"T_9626d_row7_col3\" class=\"data row7 col3\" >0.2720</td>\n",
       "      <td id=\"T_9626d_row7_col4\" class=\"data row7 col4\" >0.6563</td>\n",
       "      <td id=\"T_9626d_row7_col5\" class=\"data row7 col5\" >0.3844</td>\n",
       "      <td id=\"T_9626d_row7_col6\" class=\"data row7 col6\" >0.2928</td>\n",
       "      <td id=\"T_9626d_row7_col7\" class=\"data row7 col7\" >0.3329</td>\n",
       "      <td id=\"T_9626d_row7_col8\" class=\"data row7 col8\" >0.9180</td>\n",
       "    </tr>\n",
       "    <tr>\n",
       "      <th id=\"T_9626d_level0_row8\" class=\"row_heading level0 row8\" >ridge</th>\n",
       "      <td id=\"T_9626d_row8_col0\" class=\"data row8 col0\" >Ridge Classifier</td>\n",
       "      <td id=\"T_9626d_row8_col1\" class=\"data row8 col1\" >0.8055</td>\n",
       "      <td id=\"T_9626d_row8_col2\" class=\"data row8 col2\" >0.0000</td>\n",
       "      <td id=\"T_9626d_row8_col3\" class=\"data row8 col3\" >0.2034</td>\n",
       "      <td id=\"T_9626d_row8_col4\" class=\"data row8 col4\" >0.7101</td>\n",
       "      <td id=\"T_9626d_row8_col5\" class=\"data row8 col5\" >0.3159</td>\n",
       "      <td id=\"T_9626d_row8_col6\" class=\"data row8 col6\" >0.2415</td>\n",
       "      <td id=\"T_9626d_row8_col7\" class=\"data row8 col7\" >0.3063</td>\n",
       "      <td id=\"T_9626d_row8_col8\" class=\"data row8 col8\" >0.0430</td>\n",
       "    </tr>\n",
       "    <tr>\n",
       "      <th id=\"T_9626d_level0_row9\" class=\"row_heading level0 row9\" >knn</th>\n",
       "      <td id=\"T_9626d_row9_col0\" class=\"data row9 col0\" >K Neighbors Classifier</td>\n",
       "      <td id=\"T_9626d_row9_col1\" class=\"data row9 col1\" >0.7962</td>\n",
       "      <td id=\"T_9626d_row9_col2\" class=\"data row9 col2\" >0.7162</td>\n",
       "      <td id=\"T_9626d_row9_col3\" class=\"data row9 col3\" >0.3445</td>\n",
       "      <td id=\"T_9626d_row9_col4\" class=\"data row9 col4\" >0.5646</td>\n",
       "      <td id=\"T_9626d_row9_col5\" class=\"data row9 col5\" >0.4277</td>\n",
       "      <td id=\"T_9626d_row9_col6\" class=\"data row9 col6\" >0.3125</td>\n",
       "      <td id=\"T_9626d_row9_col7\" class=\"data row9 col7\" >0.3267</td>\n",
       "      <td id=\"T_9626d_row9_col8\" class=\"data row9 col8\" >0.1540</td>\n",
       "    </tr>\n",
       "    <tr>\n",
       "      <th id=\"T_9626d_level0_row10\" class=\"row_heading level0 row10\" >svm</th>\n",
       "      <td id=\"T_9626d_row10_col0\" class=\"data row10 col0\" >SVM - Linear Kernel</td>\n",
       "      <td id=\"T_9626d_row10_col1\" class=\"data row10 col1\" >0.7938</td>\n",
       "      <td id=\"T_9626d_row10_col2\" class=\"data row10 col2\" >0.0000</td>\n",
       "      <td id=\"T_9626d_row10_col3\" class=\"data row10 col3\" >0.1493</td>\n",
       "      <td id=\"T_9626d_row10_col4\" class=\"data row10 col4\" >0.5383</td>\n",
       "      <td id=\"T_9626d_row10_col5\" class=\"data row10 col5\" >0.2123</td>\n",
       "      <td id=\"T_9626d_row10_col6\" class=\"data row10 col6\" >0.1593</td>\n",
       "      <td id=\"T_9626d_row10_col7\" class=\"data row10 col7\" >0.1945</td>\n",
       "      <td id=\"T_9626d_row10_col8\" class=\"data row10 col8\" >0.0690</td>\n",
       "    </tr>\n",
       "    <tr>\n",
       "      <th id=\"T_9626d_level0_row11\" class=\"row_heading level0 row11\" >dummy</th>\n",
       "      <td id=\"T_9626d_row11_col0\" class=\"data row11 col0\" >Dummy Classifier</td>\n",
       "      <td id=\"T_9626d_row11_col1\" class=\"data row11 col1\" >0.7788</td>\n",
       "      <td id=\"T_9626d_row11_col2\" class=\"data row11 col2\" >0.5000</td>\n",
       "      <td id=\"T_9626d_row11_col3\" class=\"data row11 col3\" >0.0000</td>\n",
       "      <td id=\"T_9626d_row11_col4\" class=\"data row11 col4\" >0.0000</td>\n",
       "      <td id=\"T_9626d_row11_col5\" class=\"data row11 col5\" >0.0000</td>\n",
       "      <td id=\"T_9626d_row11_col6\" class=\"data row11 col6\" >0.0000</td>\n",
       "      <td id=\"T_9626d_row11_col7\" class=\"data row11 col7\" >0.0000</td>\n",
       "      <td id=\"T_9626d_row11_col8\" class=\"data row11 col8\" >0.0660</td>\n",
       "    </tr>\n",
       "    <tr>\n",
       "      <th id=\"T_9626d_level0_row12\" class=\"row_heading level0 row12\" >nb</th>\n",
       "      <td id=\"T_9626d_row12_col0\" class=\"data row12 col0\" >Naive Bayes</td>\n",
       "      <td id=\"T_9626d_row12_col1\" class=\"data row12 col1\" >0.7751</td>\n",
       "      <td id=\"T_9626d_row12_col2\" class=\"data row12 col2\" >0.7479</td>\n",
       "      <td id=\"T_9626d_row12_col3\" class=\"data row12 col3\" >0.5184</td>\n",
       "      <td id=\"T_9626d_row12_col4\" class=\"data row12 col4\" >0.4920</td>\n",
       "      <td id=\"T_9626d_row12_col5\" class=\"data row12 col5\" >0.5047</td>\n",
       "      <td id=\"T_9626d_row12_col6\" class=\"data row12 col6\" >0.3594</td>\n",
       "      <td id=\"T_9626d_row12_col7\" class=\"data row12 col7\" >0.3597</td>\n",
       "      <td id=\"T_9626d_row12_col8\" class=\"data row12 col8\" >0.0550</td>\n",
       "    </tr>\n",
       "    <tr>\n",
       "      <th id=\"T_9626d_level0_row13\" class=\"row_heading level0 row13\" >dt</th>\n",
       "      <td id=\"T_9626d_row13_col0\" class=\"data row13 col0\" >Decision Tree Classifier</td>\n",
       "      <td id=\"T_9626d_row13_col1\" class=\"data row13 col1\" >0.7316</td>\n",
       "      <td id=\"T_9626d_row13_col2\" class=\"data row13 col2\" >0.6214</td>\n",
       "      <td id=\"T_9626d_row13_col3\" class=\"data row13 col3\" >0.4105</td>\n",
       "      <td id=\"T_9626d_row13_col4\" class=\"data row13 col4\" >0.3971</td>\n",
       "      <td id=\"T_9626d_row13_col5\" class=\"data row13 col5\" >0.4035</td>\n",
       "      <td id=\"T_9626d_row13_col6\" class=\"data row13 col6\" >0.2305</td>\n",
       "      <td id=\"T_9626d_row13_col7\" class=\"data row13 col7\" >0.2306</td>\n",
       "      <td id=\"T_9626d_row13_col8\" class=\"data row13 col8\" >0.1200</td>\n",
       "    </tr>\n",
       "    <tr>\n",
       "      <th id=\"T_9626d_level0_row14\" class=\"row_heading level0 row14\" >qda</th>\n",
       "      <td id=\"T_9626d_row14_col0\" class=\"data row14 col0\" >Quadratic Discriminant Analysis</td>\n",
       "      <td id=\"T_9626d_row14_col1\" class=\"data row14 col1\" >0.7176</td>\n",
       "      <td id=\"T_9626d_row14_col2\" class=\"data row14 col2\" >0.7300</td>\n",
       "      <td id=\"T_9626d_row14_col3\" class=\"data row14 col3\" >0.6212</td>\n",
       "      <td id=\"T_9626d_row14_col4\" class=\"data row14 col4\" >0.4087</td>\n",
       "      <td id=\"T_9626d_row14_col5\" class=\"data row14 col5\" >0.4928</td>\n",
       "      <td id=\"T_9626d_row14_col6\" class=\"data row14 col6\" >0.3085</td>\n",
       "      <td id=\"T_9626d_row14_col7\" class=\"data row14 col7\" >0.3217</td>\n",
       "      <td id=\"T_9626d_row14_col8\" class=\"data row14 col8\" >0.0870</td>\n",
       "    </tr>\n",
       "  </tbody>\n",
       "</table>\n"
      ],
      "text/plain": [
       "<pandas.io.formats.style.Styler at 0x267a073e340>"
      ]
     },
     "metadata": {},
     "output_type": "display_data"
    },
    {
     "data": {
      "text/html": [],
      "text/plain": [
       "<IPython.core.display.HTML object>"
      ]
     },
     "metadata": {},
     "output_type": "display_data"
    }
   ],
   "source": [
    "top3 = compare_models(n_select = 3)"
   ]
  },
  {
   "cell_type": "markdown",
   "metadata": {
    "pycharm": {
     "name": "#%% md\n"
    }
   },
   "source": [
    "Notice that we have used `n_select` parameter within `compare_models`. In last tutorial you have seen that `compare_models` by default returns the best performing model (single model based on default sort order). However you can use `n_select` parameter to return top N models. In this example `compare_models` has returned Top 3 models."
   ]
  },
  {
   "cell_type": "code",
   "execution_count": 8,
   "metadata": {
    "pycharm": {
     "name": "#%%\n"
    }
   },
   "outputs": [
    {
     "data": {
      "text/plain": [
       "list"
      ]
     },
     "execution_count": 8,
     "metadata": {},
     "output_type": "execute_result"
    }
   ],
   "source": [
    "type(top3)"
   ]
  },
  {
   "cell_type": "code",
   "execution_count": 9,
   "metadata": {
    "pycharm": {
     "name": "#%%\n"
    }
   },
   "outputs": [
    {
     "name": "stdout",
     "output_type": "stream",
     "text": [
      "[GradientBoostingClassifier(ccp_alpha=0.0, criterion='friedman_mse', init=None,\n",
      "                           learning_rate=0.1, loss='log_loss', max_depth=3,\n",
      "                           max_features=None, max_leaf_nodes=None,\n",
      "                           min_impurity_decrease=0.0, min_samples_leaf=1,\n",
      "                           min_samples_split=2, min_weight_fraction_leaf=0.0,\n",
      "                           n_estimators=100, n_iter_no_change=None,\n",
      "                           random_state=123, subsample=1.0, tol=0.0001,\n",
      "                           validation_fraction=0.1, verbose=0,\n",
      "                           warm_start=False), AdaBoostClassifier(algorithm='SAMME.R', base_estimator=None, learning_rate=1.0,\n",
      "                   n_estimators=50, random_state=123), LGBMClassifier(boosting_type='gbdt', class_weight=None, colsample_bytree=1.0,\n",
      "               importance_type='split', learning_rate=0.1, max_depth=-1,\n",
      "               min_child_samples=20, min_child_weight=0.001, min_split_gain=0.0,\n",
      "               n_estimators=100, n_jobs=-1, num_leaves=31, objective=None,\n",
      "               random_state=123, reg_alpha=0.0, reg_lambda=0.0, silent='warn',\n",
      "               subsample=1.0, subsample_for_bin=200000, subsample_freq=0)]\n"
     ]
    }
   ],
   "source": [
    "print(top3)"
   ]
  },
  {
   "cell_type": "markdown",
   "metadata": {
    "colab_type": "text",
    "id": "JUQyii3p4Ei9",
    "pycharm": {
     "name": "#%% md\n"
    }
   },
   "source": [
    "For the purposes of comparison we will use the `AUC` score. Notice how drastically a few of the algorithms have improved after we performed the pre-processing in `setup()`. \n",
    "- Logistic Regression AUC improved from `0.6410` to `0.6957`\n",
    "- Naives Bayes AUC improved from `0.6442` to `0.6724`\n",
    "- K Nearest Neighbors AUC improved from `0.5939` to `0.6173`\n",
    "\n",
    "To see results for all of the models from the previous tutorial refer to Section 7 in [Binary Classification Tutorial (CLF101) - Level Beginner](https://github.com/pycaret/pycaret/blob/master/tutorials/Binary%20Classification%20Tutorial%20Level%20Beginner%20-%20%20CLF101.ipynb). <br/>"
   ]
  },
  {
   "cell_type": "markdown",
   "metadata": {
    "colab_type": "text",
    "id": "QxHq04mC4EjB",
    "pycharm": {
     "name": "#%% md\n"
    }
   },
   "source": [
    "# Create Model"
   ]
  },
  {
   "cell_type": "markdown",
   "metadata": {
    "colab_type": "text",
    "id": "8Psn3Lc34EjF",
    "pycharm": {
     "name": "#%% md\n"
    }
   },
   "source": [
    "In the previous tutorial [Binary Classification (CLF101) - Level Beginner](https://github.com/pycaret/pycaret/blob/master/tutorials/Binary%20Classification%20Tutorial%20Level%20Beginner%20-%20%20CLF101.ipynb) we learned how to create a model using the `create_model()` function. Now we will learn about a few other parameters that may come in handy. In this section, we will create all models using 5 fold cross validation. Notice how the `fold` parameter is passed inside `create_model()` to achieve this."
   ]
  },
  {
   "cell_type": "code",
   "execution_count": 10,
   "metadata": {
    "colab": {},
    "colab_type": "code",
    "id": "Mt7h_Ds24EjN",
    "outputId": "79a6681f-53b0-4446-a8d5-b57d725b0bbc",
    "pycharm": {
     "name": "#%%\n"
    }
   },
   "outputs": [
    {
     "data": {
      "text/html": [],
      "text/plain": [
       "<IPython.core.display.HTML object>"
      ]
     },
     "metadata": {},
     "output_type": "display_data"
    },
    {
     "data": {
      "text/html": [
       "<style type=\"text/css\">\n",
       "#T_0aa9c_row5_col0, #T_0aa9c_row5_col1, #T_0aa9c_row5_col2, #T_0aa9c_row5_col3, #T_0aa9c_row5_col4, #T_0aa9c_row5_col5, #T_0aa9c_row5_col6 {\n",
       "  background: yellow;\n",
       "}\n",
       "</style>\n",
       "<table id=\"T_0aa9c\">\n",
       "  <thead>\n",
       "    <tr>\n",
       "      <th class=\"blank level0\" >&nbsp;</th>\n",
       "      <th id=\"T_0aa9c_level0_col0\" class=\"col_heading level0 col0\" >Accuracy</th>\n",
       "      <th id=\"T_0aa9c_level0_col1\" class=\"col_heading level0 col1\" >AUC</th>\n",
       "      <th id=\"T_0aa9c_level0_col2\" class=\"col_heading level0 col2\" >Recall</th>\n",
       "      <th id=\"T_0aa9c_level0_col3\" class=\"col_heading level0 col3\" >Prec.</th>\n",
       "      <th id=\"T_0aa9c_level0_col4\" class=\"col_heading level0 col4\" >F1</th>\n",
       "      <th id=\"T_0aa9c_level0_col5\" class=\"col_heading level0 col5\" >Kappa</th>\n",
       "      <th id=\"T_0aa9c_level0_col6\" class=\"col_heading level0 col6\" >MCC</th>\n",
       "    </tr>\n",
       "    <tr>\n",
       "      <th class=\"index_name level0\" >Fold</th>\n",
       "      <th class=\"blank col0\" >&nbsp;</th>\n",
       "      <th class=\"blank col1\" >&nbsp;</th>\n",
       "      <th class=\"blank col2\" >&nbsp;</th>\n",
       "      <th class=\"blank col3\" >&nbsp;</th>\n",
       "      <th class=\"blank col4\" >&nbsp;</th>\n",
       "      <th class=\"blank col5\" >&nbsp;</th>\n",
       "      <th class=\"blank col6\" >&nbsp;</th>\n",
       "    </tr>\n",
       "  </thead>\n",
       "  <tbody>\n",
       "    <tr>\n",
       "      <th id=\"T_0aa9c_level0_row0\" class=\"row_heading level0 row0\" >0</th>\n",
       "      <td id=\"T_0aa9c_row0_col0\" class=\"data row0 col0\" >0.7184</td>\n",
       "      <td id=\"T_0aa9c_row0_col1\" class=\"data row0 col1\" >0.6063</td>\n",
       "      <td id=\"T_0aa9c_row0_col2\" class=\"data row0 col2\" >0.3938</td>\n",
       "      <td id=\"T_0aa9c_row0_col3\" class=\"data row0 col3\" >0.3712</td>\n",
       "      <td id=\"T_0aa9c_row0_col4\" class=\"data row0 col4\" >0.3821</td>\n",
       "      <td id=\"T_0aa9c_row0_col5\" class=\"data row0 col5\" >0.1999</td>\n",
       "      <td id=\"T_0aa9c_row0_col6\" class=\"data row0 col6\" >0.2001</td>\n",
       "    </tr>\n",
       "    <tr>\n",
       "      <th id=\"T_0aa9c_level0_row1\" class=\"row_heading level0 row1\" >1</th>\n",
       "      <td id=\"T_0aa9c_row1_col0\" class=\"data row1 col0\" >0.7296</td>\n",
       "      <td id=\"T_0aa9c_row1_col1\" class=\"data row1 col1\" >0.6253</td>\n",
       "      <td id=\"T_0aa9c_row1_col2\" class=\"data row1 col2\" >0.4207</td>\n",
       "      <td id=\"T_0aa9c_row1_col3\" class=\"data row1 col3\" >0.3955</td>\n",
       "      <td id=\"T_0aa9c_row1_col4\" class=\"data row1 col4\" >0.4077</td>\n",
       "      <td id=\"T_0aa9c_row1_col5\" class=\"data row1 col5\" >0.2327</td>\n",
       "      <td id=\"T_0aa9c_row1_col6\" class=\"data row1 col6\" >0.2329</td>\n",
       "    </tr>\n",
       "    <tr>\n",
       "      <th id=\"T_0aa9c_level0_row2\" class=\"row_heading level0 row2\" >2</th>\n",
       "      <td id=\"T_0aa9c_row2_col0\" class=\"data row2 col0\" >0.7193</td>\n",
       "      <td id=\"T_0aa9c_row2_col1\" class=\"data row2 col1\" >0.6018</td>\n",
       "      <td id=\"T_0aa9c_row2_col2\" class=\"data row2 col2\" >0.3796</td>\n",
       "      <td id=\"T_0aa9c_row2_col3\" class=\"data row2 col3\" >0.3691</td>\n",
       "      <td id=\"T_0aa9c_row2_col4\" class=\"data row2 col4\" >0.3743</td>\n",
       "      <td id=\"T_0aa9c_row2_col5\" class=\"data row2 col5\" >0.1934</td>\n",
       "      <td id=\"T_0aa9c_row2_col6\" class=\"data row2 col6\" >0.1934</td>\n",
       "    </tr>\n",
       "    <tr>\n",
       "      <th id=\"T_0aa9c_level0_row3\" class=\"row_heading level0 row3\" >3</th>\n",
       "      <td id=\"T_0aa9c_row3_col0\" class=\"data row3 col0\" >0.7224</td>\n",
       "      <td id=\"T_0aa9c_row3_col1\" class=\"data row3 col1\" >0.6241</td>\n",
       "      <td id=\"T_0aa9c_row3_col2\" class=\"data row3 col2\" >0.4320</td>\n",
       "      <td id=\"T_0aa9c_row3_col3\" class=\"data row3 col3\" >0.3861</td>\n",
       "      <td id=\"T_0aa9c_row3_col4\" class=\"data row3 col4\" >0.4078</td>\n",
       "      <td id=\"T_0aa9c_row3_col5\" class=\"data row3 col5\" >0.2272</td>\n",
       "      <td id=\"T_0aa9c_row3_col6\" class=\"data row3 col6\" >0.2279</td>\n",
       "    </tr>\n",
       "    <tr>\n",
       "      <th id=\"T_0aa9c_level0_row4\" class=\"row_heading level0 row4\" >4</th>\n",
       "      <td id=\"T_0aa9c_row4_col0\" class=\"data row4 col0\" >0.7349</td>\n",
       "      <td id=\"T_0aa9c_row4_col1\" class=\"data row4 col1\" >0.6213</td>\n",
       "      <td id=\"T_0aa9c_row4_col2\" class=\"data row4 col2\" >0.4122</td>\n",
       "      <td id=\"T_0aa9c_row4_col3\" class=\"data row4 col3\" >0.4030</td>\n",
       "      <td id=\"T_0aa9c_row4_col4\" class=\"data row4 col4\" >0.4076</td>\n",
       "      <td id=\"T_0aa9c_row4_col5\" class=\"data row4 col5\" >0.2368</td>\n",
       "      <td id=\"T_0aa9c_row4_col6\" class=\"data row4 col6\" >0.2368</td>\n",
       "    </tr>\n",
       "    <tr>\n",
       "      <th id=\"T_0aa9c_level0_row5\" class=\"row_heading level0 row5\" >Mean</th>\n",
       "      <td id=\"T_0aa9c_row5_col0\" class=\"data row5 col0\" >0.7249</td>\n",
       "      <td id=\"T_0aa9c_row5_col1\" class=\"data row5 col1\" >0.6158</td>\n",
       "      <td id=\"T_0aa9c_row5_col2\" class=\"data row5 col2\" >0.4076</td>\n",
       "      <td id=\"T_0aa9c_row5_col3\" class=\"data row5 col3\" >0.3850</td>\n",
       "      <td id=\"T_0aa9c_row5_col4\" class=\"data row5 col4\" >0.3959</td>\n",
       "      <td id=\"T_0aa9c_row5_col5\" class=\"data row5 col5\" >0.2180</td>\n",
       "      <td id=\"T_0aa9c_row5_col6\" class=\"data row5 col6\" >0.2182</td>\n",
       "    </tr>\n",
       "    <tr>\n",
       "      <th id=\"T_0aa9c_level0_row6\" class=\"row_heading level0 row6\" >Std</th>\n",
       "      <td id=\"T_0aa9c_row6_col0\" class=\"data row6 col0\" >0.0064</td>\n",
       "      <td id=\"T_0aa9c_row6_col1\" class=\"data row6 col1\" >0.0097</td>\n",
       "      <td id=\"T_0aa9c_row6_col2\" class=\"data row6 col2\" >0.0188</td>\n",
       "      <td id=\"T_0aa9c_row6_col3\" class=\"data row6 col3\" >0.0133</td>\n",
       "      <td id=\"T_0aa9c_row6_col4\" class=\"data row6 col4\" >0.0146</td>\n",
       "      <td id=\"T_0aa9c_row6_col5\" class=\"data row6 col5\" >0.0178</td>\n",
       "      <td id=\"T_0aa9c_row6_col6\" class=\"data row6 col6\" >0.0179</td>\n",
       "    </tr>\n",
       "  </tbody>\n",
       "</table>\n"
      ],
      "text/plain": [
       "<pandas.io.formats.style.Styler at 0x267a4d23f10>"
      ]
     },
     "metadata": {},
     "output_type": "display_data"
    },
    {
     "data": {
      "text/html": [],
      "text/plain": [
       "<IPython.core.display.HTML object>"
      ]
     },
     "metadata": {},
     "output_type": "display_data"
    }
   ],
   "source": [
    "dt = create_model('dt', fold = 5)"
   ]
  },
  {
   "cell_type": "code",
   "execution_count": 11,
   "metadata": {
    "colab": {},
    "colab_type": "code",
    "id": "m-QLALWP4Ejd",
    "outputId": "426f9d08-102b-4b65-b8ff-b201ba44d3c0",
    "pycharm": {
     "name": "#%%\n"
    }
   },
   "outputs": [
    {
     "data": {
      "text/html": [],
      "text/plain": [
       "<IPython.core.display.HTML object>"
      ]
     },
     "metadata": {},
     "output_type": "display_data"
    },
    {
     "data": {
      "text/html": [
       "<style type=\"text/css\">\n",
       "#T_9e6a5_row10_col0, #T_9e6a5_row10_col1, #T_9e6a5_row10_col2, #T_9e6a5_row10_col3, #T_9e6a5_row10_col4, #T_9e6a5_row10_col5, #T_9e6a5_row10_col6 {\n",
       "  background: yellow;\n",
       "}\n",
       "</style>\n",
       "<table id=\"T_9e6a5\">\n",
       "  <thead>\n",
       "    <tr>\n",
       "      <th class=\"blank level0\" >&nbsp;</th>\n",
       "      <th id=\"T_9e6a5_level0_col0\" class=\"col_heading level0 col0\" >Accuracy</th>\n",
       "      <th id=\"T_9e6a5_level0_col1\" class=\"col_heading level0 col1\" >AUC</th>\n",
       "      <th id=\"T_9e6a5_level0_col2\" class=\"col_heading level0 col2\" >Recall</th>\n",
       "      <th id=\"T_9e6a5_level0_col3\" class=\"col_heading level0 col3\" >Prec.</th>\n",
       "      <th id=\"T_9e6a5_level0_col4\" class=\"col_heading level0 col4\" >F1</th>\n",
       "      <th id=\"T_9e6a5_level0_col5\" class=\"col_heading level0 col5\" >Kappa</th>\n",
       "      <th id=\"T_9e6a5_level0_col6\" class=\"col_heading level0 col6\" >MCC</th>\n",
       "    </tr>\n",
       "    <tr>\n",
       "      <th class=\"index_name level0\" >Fold</th>\n",
       "      <th class=\"blank col0\" >&nbsp;</th>\n",
       "      <th class=\"blank col1\" >&nbsp;</th>\n",
       "      <th class=\"blank col2\" >&nbsp;</th>\n",
       "      <th class=\"blank col3\" >&nbsp;</th>\n",
       "      <th class=\"blank col4\" >&nbsp;</th>\n",
       "      <th class=\"blank col5\" >&nbsp;</th>\n",
       "      <th class=\"blank col6\" >&nbsp;</th>\n",
       "    </tr>\n",
       "  </thead>\n",
       "  <tbody>\n",
       "    <tr>\n",
       "      <th id=\"T_9e6a5_level0_row0\" class=\"row_heading level0 row0\" >0</th>\n",
       "      <td id=\"T_9e6a5_row0_col0\" class=\"data row0 col0\" >0.82</td>\n",
       "      <td id=\"T_9e6a5_row0_col1\" class=\"data row0 col1\" >0.77</td>\n",
       "      <td id=\"T_9e6a5_row0_col2\" class=\"data row0 col2\" >0.39</td>\n",
       "      <td id=\"T_9e6a5_row0_col3\" class=\"data row0 col3\" >0.64</td>\n",
       "      <td id=\"T_9e6a5_row0_col4\" class=\"data row0 col4\" >0.48</td>\n",
       "      <td id=\"T_9e6a5_row0_col5\" class=\"data row0 col5\" >0.38</td>\n",
       "      <td id=\"T_9e6a5_row0_col6\" class=\"data row0 col6\" >0.40</td>\n",
       "    </tr>\n",
       "    <tr>\n",
       "      <th id=\"T_9e6a5_level0_row1\" class=\"row_heading level0 row1\" >1</th>\n",
       "      <td id=\"T_9e6a5_row1_col0\" class=\"data row1 col0\" >0.81</td>\n",
       "      <td id=\"T_9e6a5_row1_col1\" class=\"data row1 col1\" >0.77</td>\n",
       "      <td id=\"T_9e6a5_row1_col2\" class=\"data row1 col2\" >0.36</td>\n",
       "      <td id=\"T_9e6a5_row1_col3\" class=\"data row1 col3\" >0.64</td>\n",
       "      <td id=\"T_9e6a5_row1_col4\" class=\"data row1 col4\" >0.46</td>\n",
       "      <td id=\"T_9e6a5_row1_col5\" class=\"data row1 col5\" >0.36</td>\n",
       "      <td id=\"T_9e6a5_row1_col6\" class=\"data row1 col6\" >0.38</td>\n",
       "    </tr>\n",
       "    <tr>\n",
       "      <th id=\"T_9e6a5_level0_row2\" class=\"row_heading level0 row2\" >2</th>\n",
       "      <td id=\"T_9e6a5_row2_col0\" class=\"data row2 col0\" >0.82</td>\n",
       "      <td id=\"T_9e6a5_row2_col1\" class=\"data row2 col1\" >0.80</td>\n",
       "      <td id=\"T_9e6a5_row2_col2\" class=\"data row2 col2\" >0.41</td>\n",
       "      <td id=\"T_9e6a5_row2_col3\" class=\"data row2 col3\" >0.66</td>\n",
       "      <td id=\"T_9e6a5_row2_col4\" class=\"data row2 col4\" >0.51</td>\n",
       "      <td id=\"T_9e6a5_row2_col5\" class=\"data row2 col5\" >0.41</td>\n",
       "      <td id=\"T_9e6a5_row2_col6\" class=\"data row2 col6\" >0.42</td>\n",
       "    </tr>\n",
       "    <tr>\n",
       "      <th id=\"T_9e6a5_level0_row3\" class=\"row_heading level0 row3\" >3</th>\n",
       "      <td id=\"T_9e6a5_row3_col0\" class=\"data row3 col0\" >0.81</td>\n",
       "      <td id=\"T_9e6a5_row3_col1\" class=\"data row3 col1\" >0.74</td>\n",
       "      <td id=\"T_9e6a5_row3_col2\" class=\"data row3 col2\" >0.36</td>\n",
       "      <td id=\"T_9e6a5_row3_col3\" class=\"data row3 col3\" >0.63</td>\n",
       "      <td id=\"T_9e6a5_row3_col4\" class=\"data row3 col4\" >0.46</td>\n",
       "      <td id=\"T_9e6a5_row3_col5\" class=\"data row3 col5\" >0.35</td>\n",
       "      <td id=\"T_9e6a5_row3_col6\" class=\"data row3 col6\" >0.38</td>\n",
       "    </tr>\n",
       "    <tr>\n",
       "      <th id=\"T_9e6a5_level0_row4\" class=\"row_heading level0 row4\" >4</th>\n",
       "      <td id=\"T_9e6a5_row4_col0\" class=\"data row4 col0\" >0.81</td>\n",
       "      <td id=\"T_9e6a5_row4_col1\" class=\"data row4 col1\" >0.76</td>\n",
       "      <td id=\"T_9e6a5_row4_col2\" class=\"data row4 col2\" >0.33</td>\n",
       "      <td id=\"T_9e6a5_row4_col3\" class=\"data row4 col3\" >0.63</td>\n",
       "      <td id=\"T_9e6a5_row4_col4\" class=\"data row4 col4\" >0.43</td>\n",
       "      <td id=\"T_9e6a5_row4_col5\" class=\"data row4 col5\" >0.33</td>\n",
       "      <td id=\"T_9e6a5_row4_col6\" class=\"data row4 col6\" >0.36</td>\n",
       "    </tr>\n",
       "    <tr>\n",
       "      <th id=\"T_9e6a5_level0_row5\" class=\"row_heading level0 row5\" >5</th>\n",
       "      <td id=\"T_9e6a5_row5_col0\" class=\"data row5 col0\" >0.81</td>\n",
       "      <td id=\"T_9e6a5_row5_col1\" class=\"data row5 col1\" >0.78</td>\n",
       "      <td id=\"T_9e6a5_row5_col2\" class=\"data row5 col2\" >0.35</td>\n",
       "      <td id=\"T_9e6a5_row5_col3\" class=\"data row5 col3\" >0.64</td>\n",
       "      <td id=\"T_9e6a5_row5_col4\" class=\"data row5 col4\" >0.45</td>\n",
       "      <td id=\"T_9e6a5_row5_col5\" class=\"data row5 col5\" >0.35</td>\n",
       "      <td id=\"T_9e6a5_row5_col6\" class=\"data row5 col6\" >0.38</td>\n",
       "    </tr>\n",
       "    <tr>\n",
       "      <th id=\"T_9e6a5_level0_row6\" class=\"row_heading level0 row6\" >6</th>\n",
       "      <td id=\"T_9e6a5_row6_col0\" class=\"data row6 col0\" >0.81</td>\n",
       "      <td id=\"T_9e6a5_row6_col1\" class=\"data row6 col1\" >0.75</td>\n",
       "      <td id=\"T_9e6a5_row6_col2\" class=\"data row6 col2\" >0.37</td>\n",
       "      <td id=\"T_9e6a5_row6_col3\" class=\"data row6 col3\" >0.61</td>\n",
       "      <td id=\"T_9e6a5_row6_col4\" class=\"data row6 col4\" >0.46</td>\n",
       "      <td id=\"T_9e6a5_row6_col5\" class=\"data row6 col5\" >0.35</td>\n",
       "      <td id=\"T_9e6a5_row6_col6\" class=\"data row6 col6\" >0.37</td>\n",
       "    </tr>\n",
       "    <tr>\n",
       "      <th id=\"T_9e6a5_level0_row7\" class=\"row_heading level0 row7\" >7</th>\n",
       "      <td id=\"T_9e6a5_row7_col0\" class=\"data row7 col0\" >0.82</td>\n",
       "      <td id=\"T_9e6a5_row7_col1\" class=\"data row7 col1\" >0.78</td>\n",
       "      <td id=\"T_9e6a5_row7_col2\" class=\"data row7 col2\" >0.37</td>\n",
       "      <td id=\"T_9e6a5_row7_col3\" class=\"data row7 col3\" >0.67</td>\n",
       "      <td id=\"T_9e6a5_row7_col4\" class=\"data row7 col4\" >0.48</td>\n",
       "      <td id=\"T_9e6a5_row7_col5\" class=\"data row7 col5\" >0.38</td>\n",
       "      <td id=\"T_9e6a5_row7_col6\" class=\"data row7 col6\" >0.41</td>\n",
       "    </tr>\n",
       "    <tr>\n",
       "      <th id=\"T_9e6a5_level0_row8\" class=\"row_heading level0 row8\" >8</th>\n",
       "      <td id=\"T_9e6a5_row8_col0\" class=\"data row8 col0\" >0.82</td>\n",
       "      <td id=\"T_9e6a5_row8_col1\" class=\"data row8 col1\" >0.76</td>\n",
       "      <td id=\"T_9e6a5_row8_col2\" class=\"data row8 col2\" >0.37</td>\n",
       "      <td id=\"T_9e6a5_row8_col3\" class=\"data row8 col3\" >0.66</td>\n",
       "      <td id=\"T_9e6a5_row8_col4\" class=\"data row8 col4\" >0.47</td>\n",
       "      <td id=\"T_9e6a5_row8_col5\" class=\"data row8 col5\" >0.37</td>\n",
       "      <td id=\"T_9e6a5_row8_col6\" class=\"data row8 col6\" >0.39</td>\n",
       "    </tr>\n",
       "    <tr>\n",
       "      <th id=\"T_9e6a5_level0_row9\" class=\"row_heading level0 row9\" >9</th>\n",
       "      <td id=\"T_9e6a5_row9_col0\" class=\"data row9 col0\" >0.81</td>\n",
       "      <td id=\"T_9e6a5_row9_col1\" class=\"data row9 col1\" >0.77</td>\n",
       "      <td id=\"T_9e6a5_row9_col2\" class=\"data row9 col2\" >0.38</td>\n",
       "      <td id=\"T_9e6a5_row9_col3\" class=\"data row9 col3\" >0.60</td>\n",
       "      <td id=\"T_9e6a5_row9_col4\" class=\"data row9 col4\" >0.47</td>\n",
       "      <td id=\"T_9e6a5_row9_col5\" class=\"data row9 col5\" >0.36</td>\n",
       "      <td id=\"T_9e6a5_row9_col6\" class=\"data row9 col6\" >0.37</td>\n",
       "    </tr>\n",
       "    <tr>\n",
       "      <th id=\"T_9e6a5_level0_row10\" class=\"row_heading level0 row10\" >Mean</th>\n",
       "      <td id=\"T_9e6a5_row10_col0\" class=\"data row10 col0\" >0.81</td>\n",
       "      <td id=\"T_9e6a5_row10_col1\" class=\"data row10 col1\" >0.77</td>\n",
       "      <td id=\"T_9e6a5_row10_col2\" class=\"data row10 col2\" >0.37</td>\n",
       "      <td id=\"T_9e6a5_row10_col3\" class=\"data row10 col3\" >0.64</td>\n",
       "      <td id=\"T_9e6a5_row10_col4\" class=\"data row10 col4\" >0.47</td>\n",
       "      <td id=\"T_9e6a5_row10_col5\" class=\"data row10 col5\" >0.36</td>\n",
       "      <td id=\"T_9e6a5_row10_col6\" class=\"data row10 col6\" >0.38</td>\n",
       "    </tr>\n",
       "    <tr>\n",
       "      <th id=\"T_9e6a5_level0_row11\" class=\"row_heading level0 row11\" >Std</th>\n",
       "      <td id=\"T_9e6a5_row11_col0\" class=\"data row11 col0\" >0.01</td>\n",
       "      <td id=\"T_9e6a5_row11_col1\" class=\"data row11 col1\" >0.02</td>\n",
       "      <td id=\"T_9e6a5_row11_col2\" class=\"data row11 col2\" >0.02</td>\n",
       "      <td id=\"T_9e6a5_row11_col3\" class=\"data row11 col3\" >0.02</td>\n",
       "      <td id=\"T_9e6a5_row11_col4\" class=\"data row11 col4\" >0.02</td>\n",
       "      <td id=\"T_9e6a5_row11_col5\" class=\"data row11 col5\" >0.02</td>\n",
       "      <td id=\"T_9e6a5_row11_col6\" class=\"data row11 col6\" >0.02</td>\n",
       "    </tr>\n",
       "  </tbody>\n",
       "</table>\n"
      ],
      "text/plain": [
       "<pandas.io.formats.style.Styler at 0x267a4948eb0>"
      ]
     },
     "metadata": {},
     "output_type": "display_data"
    },
    {
     "data": {
      "text/html": [],
      "text/plain": [
       "<IPython.core.display.HTML object>"
      ]
     },
     "metadata": {},
     "output_type": "display_data"
    }
   ],
   "source": [
    "rf = create_model('rf', round = 2)"
   ]
  },
  {
   "cell_type": "markdown",
   "metadata": {
    "colab_type": "text",
    "id": "89GKYflR4Ejt",
    "pycharm": {
     "name": "#%% md\n"
    }
   },
   "source": [
    "Notice how passing the `round` parameter inside `create_model()` has rounded the evaluation metrics to 2 decimals."
   ]
  },
  {
   "cell_type": "markdown",
   "metadata": {
    "colab_type": "text",
    "id": "n_Hp176K4Ejw",
    "pycharm": {
     "name": "#%% md\n"
    }
   },
   "source": [
    "# Tune Model"
   ]
  },
  {
   "cell_type": "markdown",
   "metadata": {
    "colab_type": "text",
    "id": "KRkuk-YS4Ej1",
    "pycharm": {
     "name": "#%% md\n"
    }
   },
   "source": [
    "In the previous tutorial [Binary Classification (CLF101) - Level Beginner](https://github.com/pycaret/pycaret/blob/master/tutorials/Binary%20Classification%20Tutorial%20Level%20Beginner%20-%20%20CLF101.ipynb) we learned how to automatically tune the hyperparameters of a model using pre-defined grids. Here we will introduce the use of the `optimize` parameter in `tune_model()` which can be thought of as an objective function. In `pycaret.classification` all hyperparameter tuning is set to optimize for `Accuracy` by default which can be changed using the `optimize` parameter. See the example below:"
   ]
  },
  {
   "cell_type": "code",
   "execution_count": 12,
   "metadata": {
    "colab": {},
    "colab_type": "code",
    "id": "PYn9xux-4Ej7",
    "outputId": "19de0001-2b95-42c5-bc5c-517e3ed909ac",
    "pycharm": {
     "name": "#%%\n"
    }
   },
   "outputs": [
    {
     "data": {
      "text/html": [],
      "text/plain": [
       "<IPython.core.display.HTML object>"
      ]
     },
     "metadata": {},
     "output_type": "display_data"
    },
    {
     "data": {
      "text/html": [
       "<style type=\"text/css\">\n",
       "#T_959e1_row10_col0, #T_959e1_row10_col1, #T_959e1_row10_col2, #T_959e1_row10_col3, #T_959e1_row10_col4, #T_959e1_row10_col5, #T_959e1_row10_col6 {\n",
       "  background: yellow;\n",
       "}\n",
       "</style>\n",
       "<table id=\"T_959e1\">\n",
       "  <thead>\n",
       "    <tr>\n",
       "      <th class=\"blank level0\" >&nbsp;</th>\n",
       "      <th id=\"T_959e1_level0_col0\" class=\"col_heading level0 col0\" >Accuracy</th>\n",
       "      <th id=\"T_959e1_level0_col1\" class=\"col_heading level0 col1\" >AUC</th>\n",
       "      <th id=\"T_959e1_level0_col2\" class=\"col_heading level0 col2\" >Recall</th>\n",
       "      <th id=\"T_959e1_level0_col3\" class=\"col_heading level0 col3\" >Prec.</th>\n",
       "      <th id=\"T_959e1_level0_col4\" class=\"col_heading level0 col4\" >F1</th>\n",
       "      <th id=\"T_959e1_level0_col5\" class=\"col_heading level0 col5\" >Kappa</th>\n",
       "      <th id=\"T_959e1_level0_col6\" class=\"col_heading level0 col6\" >MCC</th>\n",
       "    </tr>\n",
       "    <tr>\n",
       "      <th class=\"index_name level0\" >Fold</th>\n",
       "      <th class=\"blank col0\" >&nbsp;</th>\n",
       "      <th class=\"blank col1\" >&nbsp;</th>\n",
       "      <th class=\"blank col2\" >&nbsp;</th>\n",
       "      <th class=\"blank col3\" >&nbsp;</th>\n",
       "      <th class=\"blank col4\" >&nbsp;</th>\n",
       "      <th class=\"blank col5\" >&nbsp;</th>\n",
       "      <th class=\"blank col6\" >&nbsp;</th>\n",
       "    </tr>\n",
       "  </thead>\n",
       "  <tbody>\n",
       "    <tr>\n",
       "      <th id=\"T_959e1_level0_row0\" class=\"row_heading level0 row0\" >0</th>\n",
       "      <td id=\"T_959e1_row0_col0\" class=\"data row0 col0\" >0.7600</td>\n",
       "      <td id=\"T_959e1_row0_col1\" class=\"data row0 col1\" >0.7804</td>\n",
       "      <td id=\"T_959e1_row0_col2\" class=\"data row0 col2\" >0.6516</td>\n",
       "      <td id=\"T_959e1_row0_col3\" class=\"data row0 col3\" >0.4694</td>\n",
       "      <td id=\"T_959e1_row0_col4\" class=\"data row0 col4\" >0.5457</td>\n",
       "      <td id=\"T_959e1_row0_col5\" class=\"data row0 col5\" >0.3884</td>\n",
       "      <td id=\"T_959e1_row0_col6\" class=\"data row0 col6\" >0.3981</td>\n",
       "    </tr>\n",
       "    <tr>\n",
       "      <th id=\"T_959e1_level0_row1\" class=\"row_heading level0 row1\" >1</th>\n",
       "      <td id=\"T_959e1_row1_col0\" class=\"data row1 col0\" >0.7437</td>\n",
       "      <td id=\"T_959e1_row1_col1\" class=\"data row1 col1\" >0.7878</td>\n",
       "      <td id=\"T_959e1_row1_col2\" class=\"data row1 col2\" >0.6657</td>\n",
       "      <td id=\"T_959e1_row1_col3\" class=\"data row1 col3\" >0.4468</td>\n",
       "      <td id=\"T_959e1_row1_col4\" class=\"data row1 col4\" >0.5347</td>\n",
       "      <td id=\"T_959e1_row1_col5\" class=\"data row1 col5\" >0.3672</td>\n",
       "      <td id=\"T_959e1_row1_col6\" class=\"data row1 col6\" >0.3811</td>\n",
       "    </tr>\n",
       "    <tr>\n",
       "      <th id=\"T_959e1_level0_row2\" class=\"row_heading level0 row2\" >2</th>\n",
       "      <td id=\"T_959e1_row2_col0\" class=\"data row2 col0\" >0.7732</td>\n",
       "      <td id=\"T_959e1_row2_col1\" class=\"data row2 col1\" >0.8113</td>\n",
       "      <td id=\"T_959e1_row2_col2\" class=\"data row2 col2\" >0.7025</td>\n",
       "      <td id=\"T_959e1_row2_col3\" class=\"data row2 col3\" >0.4911</td>\n",
       "      <td id=\"T_959e1_row2_col4\" class=\"data row2 col4\" >0.5781</td>\n",
       "      <td id=\"T_959e1_row2_col5\" class=\"data row2 col5\" >0.4296</td>\n",
       "      <td id=\"T_959e1_row2_col6\" class=\"data row2 col6\" >0.4424</td>\n",
       "    </tr>\n",
       "    <tr>\n",
       "      <th id=\"T_959e1_level0_row3\" class=\"row_heading level0 row3\" >3</th>\n",
       "      <td id=\"T_959e1_row3_col0\" class=\"data row3 col0\" >0.7519</td>\n",
       "      <td id=\"T_959e1_row3_col1\" class=\"data row3 col1\" >0.7682</td>\n",
       "      <td id=\"T_959e1_row3_col2\" class=\"data row3 col2\" >0.5751</td>\n",
       "      <td id=\"T_959e1_row3_col3\" class=\"data row3 col3\" >0.4521</td>\n",
       "      <td id=\"T_959e1_row3_col4\" class=\"data row3 col4\" >0.5062</td>\n",
       "      <td id=\"T_959e1_row3_col5\" class=\"data row3 col5\" >0.3437</td>\n",
       "      <td id=\"T_959e1_row3_col6\" class=\"data row3 col6\" >0.3481</td>\n",
       "    </tr>\n",
       "    <tr>\n",
       "      <th id=\"T_959e1_level0_row4\" class=\"row_heading level0 row4\" >4</th>\n",
       "      <td id=\"T_959e1_row4_col0\" class=\"data row4 col0\" >0.7820</td>\n",
       "      <td id=\"T_959e1_row4_col1\" class=\"data row4 col1\" >0.7802</td>\n",
       "      <td id=\"T_959e1_row4_col2\" class=\"data row4 col2\" >0.5977</td>\n",
       "      <td id=\"T_959e1_row4_col3\" class=\"data row4 col3\" >0.5060</td>\n",
       "      <td id=\"T_959e1_row4_col4\" class=\"data row4 col4\" >0.5481</td>\n",
       "      <td id=\"T_959e1_row4_col5\" class=\"data row4 col5\" >0.4057</td>\n",
       "      <td id=\"T_959e1_row4_col6\" class=\"data row4 col6\" >0.4081</td>\n",
       "    </tr>\n",
       "    <tr>\n",
       "      <th id=\"T_959e1_level0_row5\" class=\"row_heading level0 row5\" >5</th>\n",
       "      <td id=\"T_959e1_row5_col0\" class=\"data row5 col0\" >0.7694</td>\n",
       "      <td id=\"T_959e1_row5_col1\" class=\"data row5 col1\" >0.7896</td>\n",
       "      <td id=\"T_959e1_row5_col2\" class=\"data row5 col2\" >0.6629</td>\n",
       "      <td id=\"T_959e1_row5_col3\" class=\"data row5 col3\" >0.4845</td>\n",
       "      <td id=\"T_959e1_row5_col4\" class=\"data row5 col4\" >0.5598</td>\n",
       "      <td id=\"T_959e1_row5_col5\" class=\"data row5 col5\" >0.4087</td>\n",
       "      <td id=\"T_959e1_row5_col6\" class=\"data row5 col6\" >0.4179</td>\n",
       "    </tr>\n",
       "    <tr>\n",
       "      <th id=\"T_959e1_level0_row6\" class=\"row_heading level0 row6\" >6</th>\n",
       "      <td id=\"T_959e1_row6_col0\" class=\"data row6 col0\" >0.7506</td>\n",
       "      <td id=\"T_959e1_row6_col1\" class=\"data row6 col1\" >0.7472</td>\n",
       "      <td id=\"T_959e1_row6_col2\" class=\"data row6 col2\" >0.5949</td>\n",
       "      <td id=\"T_959e1_row6_col3\" class=\"data row6 col3\" >0.4516</td>\n",
       "      <td id=\"T_959e1_row6_col4\" class=\"data row6 col4\" >0.5134</td>\n",
       "      <td id=\"T_959e1_row6_col5\" class=\"data row6 col5\" >0.3500</td>\n",
       "      <td id=\"T_959e1_row6_col6\" class=\"data row6 col6\" >0.3560</td>\n",
       "    </tr>\n",
       "    <tr>\n",
       "      <th id=\"T_959e1_level0_row7\" class=\"row_heading level0 row7\" >7</th>\n",
       "      <td id=\"T_959e1_row7_col0\" class=\"data row7 col0\" >0.7569</td>\n",
       "      <td id=\"T_959e1_row7_col1\" class=\"data row7 col1\" >0.7857</td>\n",
       "      <td id=\"T_959e1_row7_col2\" class=\"data row7 col2\" >0.6572</td>\n",
       "      <td id=\"T_959e1_row7_col3\" class=\"data row7 col3\" >0.4649</td>\n",
       "      <td id=\"T_959e1_row7_col4\" class=\"data row7 col4\" >0.5446</td>\n",
       "      <td id=\"T_959e1_row7_col5\" class=\"data row7 col5\" >0.3854</td>\n",
       "      <td id=\"T_959e1_row7_col6\" class=\"data row7 col6\" >0.3961</td>\n",
       "    </tr>\n",
       "    <tr>\n",
       "      <th id=\"T_959e1_level0_row8\" class=\"row_heading level0 row8\" >8</th>\n",
       "      <td id=\"T_959e1_row8_col0\" class=\"data row8 col0\" >0.7437</td>\n",
       "      <td id=\"T_959e1_row8_col1\" class=\"data row8 col1\" >0.7564</td>\n",
       "      <td id=\"T_959e1_row8_col2\" class=\"data row8 col2\" >0.6147</td>\n",
       "      <td id=\"T_959e1_row8_col3\" class=\"data row8 col3\" >0.4429</td>\n",
       "      <td id=\"T_959e1_row8_col4\" class=\"data row8 col4\" >0.5148</td>\n",
       "      <td id=\"T_959e1_row8_col5\" class=\"data row8 col5\" >0.3469</td>\n",
       "      <td id=\"T_959e1_row8_col6\" class=\"data row8 col6\" >0.3555</td>\n",
       "    </tr>\n",
       "    <tr>\n",
       "      <th id=\"T_959e1_level0_row9\" class=\"row_heading level0 row9\" >9</th>\n",
       "      <td id=\"T_959e1_row9_col0\" class=\"data row9 col0\" >0.7561</td>\n",
       "      <td id=\"T_959e1_row9_col1\" class=\"data row9 col1\" >0.7743</td>\n",
       "      <td id=\"T_959e1_row9_col2\" class=\"data row9 col2\" >0.6346</td>\n",
       "      <td id=\"T_959e1_row9_col3\" class=\"data row9 col3\" >0.4628</td>\n",
       "      <td id=\"T_959e1_row9_col4\" class=\"data row9 col4\" >0.5352</td>\n",
       "      <td id=\"T_959e1_row9_col5\" class=\"data row9 col5\" >0.3754</td>\n",
       "      <td id=\"T_959e1_row9_col6\" class=\"data row9 col6\" >0.3840</td>\n",
       "    </tr>\n",
       "    <tr>\n",
       "      <th id=\"T_959e1_level0_row10\" class=\"row_heading level0 row10\" >Mean</th>\n",
       "      <td id=\"T_959e1_row10_col0\" class=\"data row10 col0\" >0.7588</td>\n",
       "      <td id=\"T_959e1_row10_col1\" class=\"data row10 col1\" >0.7781</td>\n",
       "      <td id=\"T_959e1_row10_col2\" class=\"data row10 col2\" >0.6357</td>\n",
       "      <td id=\"T_959e1_row10_col3\" class=\"data row10 col3\" >0.4672</td>\n",
       "      <td id=\"T_959e1_row10_col4\" class=\"data row10 col4\" >0.5381</td>\n",
       "      <td id=\"T_959e1_row10_col5\" class=\"data row10 col5\" >0.3801</td>\n",
       "      <td id=\"T_959e1_row10_col6\" class=\"data row10 col6\" >0.3887</td>\n",
       "    </tr>\n",
       "    <tr>\n",
       "      <th id=\"T_959e1_level0_row11\" class=\"row_heading level0 row11\" >Std</th>\n",
       "      <td id=\"T_959e1_row11_col0\" class=\"data row11 col0\" >0.0120</td>\n",
       "      <td id=\"T_959e1_row11_col1\" class=\"data row11 col1\" >0.0171</td>\n",
       "      <td id=\"T_959e1_row11_col2\" class=\"data row11 col2\" >0.0375</td>\n",
       "      <td id=\"T_959e1_row11_col3\" class=\"data row11 col3\" >0.0197</td>\n",
       "      <td id=\"T_959e1_row11_col4\" class=\"data row11 col4\" >0.0211</td>\n",
       "      <td id=\"T_959e1_row11_col5\" class=\"data row11 col5\" >0.0275</td>\n",
       "      <td id=\"T_959e1_row11_col6\" class=\"data row11 col6\" >0.0286</td>\n",
       "    </tr>\n",
       "  </tbody>\n",
       "</table>\n"
      ],
      "text/plain": [
       "<pandas.io.formats.style.Styler at 0x267a4d27b20>"
      ]
     },
     "metadata": {},
     "output_type": "display_data"
    },
    {
     "data": {
      "text/html": [],
      "text/plain": [
       "<IPython.core.display.HTML object>"
      ]
     },
     "metadata": {},
     "output_type": "display_data"
    },
    {
     "name": "stdout",
     "output_type": "stream",
     "text": [
      "Fitting 10 folds for each of 10 candidates, totalling 100 fits\n"
     ]
    }
   ],
   "source": [
    "tuned_rf = tune_model(rf, optimize = 'AUC')"
   ]
  },
  {
   "cell_type": "code",
   "execution_count": 13,
   "metadata": {
    "colab": {},
    "colab_type": "code",
    "id": "MtW1pv2c4EkI",
    "outputId": "a342070d-b3cc-4eef-9e7e-ebac7315c893",
    "pycharm": {
     "name": "#%%\n"
    }
   },
   "outputs": [
    {
     "data": {
      "text/html": [],
      "text/plain": [
       "<IPython.core.display.HTML object>"
      ]
     },
     "metadata": {},
     "output_type": "display_data"
    },
    {
     "data": {
      "text/html": [
       "<style type=\"text/css\">\n",
       "#T_387d4_row10_col0, #T_387d4_row10_col1, #T_387d4_row10_col2, #T_387d4_row10_col3, #T_387d4_row10_col4, #T_387d4_row10_col5, #T_387d4_row10_col6 {\n",
       "  background: yellow;\n",
       "}\n",
       "</style>\n",
       "<table id=\"T_387d4\">\n",
       "  <thead>\n",
       "    <tr>\n",
       "      <th class=\"blank level0\" >&nbsp;</th>\n",
       "      <th id=\"T_387d4_level0_col0\" class=\"col_heading level0 col0\" >Accuracy</th>\n",
       "      <th id=\"T_387d4_level0_col1\" class=\"col_heading level0 col1\" >AUC</th>\n",
       "      <th id=\"T_387d4_level0_col2\" class=\"col_heading level0 col2\" >Recall</th>\n",
       "      <th id=\"T_387d4_level0_col3\" class=\"col_heading level0 col3\" >Prec.</th>\n",
       "      <th id=\"T_387d4_level0_col4\" class=\"col_heading level0 col4\" >F1</th>\n",
       "      <th id=\"T_387d4_level0_col5\" class=\"col_heading level0 col5\" >Kappa</th>\n",
       "      <th id=\"T_387d4_level0_col6\" class=\"col_heading level0 col6\" >MCC</th>\n",
       "    </tr>\n",
       "    <tr>\n",
       "      <th class=\"index_name level0\" >Fold</th>\n",
       "      <th class=\"blank col0\" >&nbsp;</th>\n",
       "      <th class=\"blank col1\" >&nbsp;</th>\n",
       "      <th class=\"blank col2\" >&nbsp;</th>\n",
       "      <th class=\"blank col3\" >&nbsp;</th>\n",
       "      <th class=\"blank col4\" >&nbsp;</th>\n",
       "      <th class=\"blank col5\" >&nbsp;</th>\n",
       "      <th class=\"blank col6\" >&nbsp;</th>\n",
       "    </tr>\n",
       "  </thead>\n",
       "  <tbody>\n",
       "    <tr>\n",
       "      <th id=\"T_387d4_level0_row0\" class=\"row_heading level0 row0\" >0</th>\n",
       "      <td id=\"T_387d4_row0_col0\" class=\"data row0 col0\" >0.2212</td>\n",
       "      <td id=\"T_387d4_row0_col1\" class=\"data row0 col1\" >0.5000</td>\n",
       "      <td id=\"T_387d4_row0_col2\" class=\"data row0 col2\" >1.0000</td>\n",
       "      <td id=\"T_387d4_row0_col3\" class=\"data row0 col3\" >0.2212</td>\n",
       "      <td id=\"T_387d4_row0_col4\" class=\"data row0 col4\" >0.3622</td>\n",
       "      <td id=\"T_387d4_row0_col5\" class=\"data row0 col5\" >0.0000</td>\n",
       "      <td id=\"T_387d4_row0_col6\" class=\"data row0 col6\" >0.0000</td>\n",
       "    </tr>\n",
       "    <tr>\n",
       "      <th id=\"T_387d4_level0_row1\" class=\"row_heading level0 row1\" >1</th>\n",
       "      <td id=\"T_387d4_row1_col0\" class=\"data row1 col0\" >0.2212</td>\n",
       "      <td id=\"T_387d4_row1_col1\" class=\"data row1 col1\" >0.5000</td>\n",
       "      <td id=\"T_387d4_row1_col2\" class=\"data row1 col2\" >1.0000</td>\n",
       "      <td id=\"T_387d4_row1_col3\" class=\"data row1 col3\" >0.2212</td>\n",
       "      <td id=\"T_387d4_row1_col4\" class=\"data row1 col4\" >0.3622</td>\n",
       "      <td id=\"T_387d4_row1_col5\" class=\"data row1 col5\" >0.0000</td>\n",
       "      <td id=\"T_387d4_row1_col6\" class=\"data row1 col6\" >0.0000</td>\n",
       "    </tr>\n",
       "    <tr>\n",
       "      <th id=\"T_387d4_level0_row2\" class=\"row_heading level0 row2\" >2</th>\n",
       "      <td id=\"T_387d4_row2_col0\" class=\"data row2 col0\" >0.2212</td>\n",
       "      <td id=\"T_387d4_row2_col1\" class=\"data row2 col1\" >0.5000</td>\n",
       "      <td id=\"T_387d4_row2_col2\" class=\"data row2 col2\" >1.0000</td>\n",
       "      <td id=\"T_387d4_row2_col3\" class=\"data row2 col3\" >0.2212</td>\n",
       "      <td id=\"T_387d4_row2_col4\" class=\"data row2 col4\" >0.3622</td>\n",
       "      <td id=\"T_387d4_row2_col5\" class=\"data row2 col5\" >0.0000</td>\n",
       "      <td id=\"T_387d4_row2_col6\" class=\"data row2 col6\" >0.0000</td>\n",
       "    </tr>\n",
       "    <tr>\n",
       "      <th id=\"T_387d4_level0_row3\" class=\"row_heading level0 row3\" >3</th>\n",
       "      <td id=\"T_387d4_row3_col0\" class=\"data row3 col0\" >0.2212</td>\n",
       "      <td id=\"T_387d4_row3_col1\" class=\"data row3 col1\" >0.5000</td>\n",
       "      <td id=\"T_387d4_row3_col2\" class=\"data row3 col2\" >1.0000</td>\n",
       "      <td id=\"T_387d4_row3_col3\" class=\"data row3 col3\" >0.2212</td>\n",
       "      <td id=\"T_387d4_row3_col4\" class=\"data row3 col4\" >0.3622</td>\n",
       "      <td id=\"T_387d4_row3_col5\" class=\"data row3 col5\" >0.0000</td>\n",
       "      <td id=\"T_387d4_row3_col6\" class=\"data row3 col6\" >0.0000</td>\n",
       "    </tr>\n",
       "    <tr>\n",
       "      <th id=\"T_387d4_level0_row4\" class=\"row_heading level0 row4\" >4</th>\n",
       "      <td id=\"T_387d4_row4_col0\" class=\"data row4 col0\" >0.2212</td>\n",
       "      <td id=\"T_387d4_row4_col1\" class=\"data row4 col1\" >0.5000</td>\n",
       "      <td id=\"T_387d4_row4_col2\" class=\"data row4 col2\" >1.0000</td>\n",
       "      <td id=\"T_387d4_row4_col3\" class=\"data row4 col3\" >0.2212</td>\n",
       "      <td id=\"T_387d4_row4_col4\" class=\"data row4 col4\" >0.3622</td>\n",
       "      <td id=\"T_387d4_row4_col5\" class=\"data row4 col5\" >0.0000</td>\n",
       "      <td id=\"T_387d4_row4_col6\" class=\"data row4 col6\" >0.0000</td>\n",
       "    </tr>\n",
       "    <tr>\n",
       "      <th id=\"T_387d4_level0_row5\" class=\"row_heading level0 row5\" >5</th>\n",
       "      <td id=\"T_387d4_row5_col0\" class=\"data row5 col0\" >0.2212</td>\n",
       "      <td id=\"T_387d4_row5_col1\" class=\"data row5 col1\" >0.5000</td>\n",
       "      <td id=\"T_387d4_row5_col2\" class=\"data row5 col2\" >1.0000</td>\n",
       "      <td id=\"T_387d4_row5_col3\" class=\"data row5 col3\" >0.2212</td>\n",
       "      <td id=\"T_387d4_row5_col4\" class=\"data row5 col4\" >0.3622</td>\n",
       "      <td id=\"T_387d4_row5_col5\" class=\"data row5 col5\" >0.0000</td>\n",
       "      <td id=\"T_387d4_row5_col6\" class=\"data row5 col6\" >0.0000</td>\n",
       "    </tr>\n",
       "    <tr>\n",
       "      <th id=\"T_387d4_level0_row6\" class=\"row_heading level0 row6\" >6</th>\n",
       "      <td id=\"T_387d4_row6_col0\" class=\"data row6 col0\" >0.2212</td>\n",
       "      <td id=\"T_387d4_row6_col1\" class=\"data row6 col1\" >0.5000</td>\n",
       "      <td id=\"T_387d4_row6_col2\" class=\"data row6 col2\" >1.0000</td>\n",
       "      <td id=\"T_387d4_row6_col3\" class=\"data row6 col3\" >0.2212</td>\n",
       "      <td id=\"T_387d4_row6_col4\" class=\"data row6 col4\" >0.3622</td>\n",
       "      <td id=\"T_387d4_row6_col5\" class=\"data row6 col5\" >0.0000</td>\n",
       "      <td id=\"T_387d4_row6_col6\" class=\"data row6 col6\" >0.0000</td>\n",
       "    </tr>\n",
       "    <tr>\n",
       "      <th id=\"T_387d4_level0_row7\" class=\"row_heading level0 row7\" >7</th>\n",
       "      <td id=\"T_387d4_row7_col0\" class=\"data row7 col0\" >0.2212</td>\n",
       "      <td id=\"T_387d4_row7_col1\" class=\"data row7 col1\" >0.5000</td>\n",
       "      <td id=\"T_387d4_row7_col2\" class=\"data row7 col2\" >1.0000</td>\n",
       "      <td id=\"T_387d4_row7_col3\" class=\"data row7 col3\" >0.2212</td>\n",
       "      <td id=\"T_387d4_row7_col4\" class=\"data row7 col4\" >0.3622</td>\n",
       "      <td id=\"T_387d4_row7_col5\" class=\"data row7 col5\" >0.0000</td>\n",
       "      <td id=\"T_387d4_row7_col6\" class=\"data row7 col6\" >0.0000</td>\n",
       "    </tr>\n",
       "    <tr>\n",
       "      <th id=\"T_387d4_level0_row8\" class=\"row_heading level0 row8\" >8</th>\n",
       "      <td id=\"T_387d4_row8_col0\" class=\"data row8 col0\" >0.2212</td>\n",
       "      <td id=\"T_387d4_row8_col1\" class=\"data row8 col1\" >0.5000</td>\n",
       "      <td id=\"T_387d4_row8_col2\" class=\"data row8 col2\" >1.0000</td>\n",
       "      <td id=\"T_387d4_row8_col3\" class=\"data row8 col3\" >0.2212</td>\n",
       "      <td id=\"T_387d4_row8_col4\" class=\"data row8 col4\" >0.3622</td>\n",
       "      <td id=\"T_387d4_row8_col5\" class=\"data row8 col5\" >0.0000</td>\n",
       "      <td id=\"T_387d4_row8_col6\" class=\"data row8 col6\" >0.0000</td>\n",
       "    </tr>\n",
       "    <tr>\n",
       "      <th id=\"T_387d4_level0_row9\" class=\"row_heading level0 row9\" >9</th>\n",
       "      <td id=\"T_387d4_row9_col0\" class=\"data row9 col0\" >0.2213</td>\n",
       "      <td id=\"T_387d4_row9_col1\" class=\"data row9 col1\" >0.5000</td>\n",
       "      <td id=\"T_387d4_row9_col2\" class=\"data row9 col2\" >1.0000</td>\n",
       "      <td id=\"T_387d4_row9_col3\" class=\"data row9 col3\" >0.2213</td>\n",
       "      <td id=\"T_387d4_row9_col4\" class=\"data row9 col4\" >0.3624</td>\n",
       "      <td id=\"T_387d4_row9_col5\" class=\"data row9 col5\" >0.0000</td>\n",
       "      <td id=\"T_387d4_row9_col6\" class=\"data row9 col6\" >0.0000</td>\n",
       "    </tr>\n",
       "    <tr>\n",
       "      <th id=\"T_387d4_level0_row10\" class=\"row_heading level0 row10\" >Mean</th>\n",
       "      <td id=\"T_387d4_row10_col0\" class=\"data row10 col0\" >0.2212</td>\n",
       "      <td id=\"T_387d4_row10_col1\" class=\"data row10 col1\" >0.5000</td>\n",
       "      <td id=\"T_387d4_row10_col2\" class=\"data row10 col2\" >1.0000</td>\n",
       "      <td id=\"T_387d4_row10_col3\" class=\"data row10 col3\" >0.2212</td>\n",
       "      <td id=\"T_387d4_row10_col4\" class=\"data row10 col4\" >0.3623</td>\n",
       "      <td id=\"T_387d4_row10_col5\" class=\"data row10 col5\" >0.0000</td>\n",
       "      <td id=\"T_387d4_row10_col6\" class=\"data row10 col6\" >0.0000</td>\n",
       "    </tr>\n",
       "    <tr>\n",
       "      <th id=\"T_387d4_level0_row11\" class=\"row_heading level0 row11\" >Std</th>\n",
       "      <td id=\"T_387d4_row11_col0\" class=\"data row11 col0\" >0.0000</td>\n",
       "      <td id=\"T_387d4_row11_col1\" class=\"data row11 col1\" >0.0000</td>\n",
       "      <td id=\"T_387d4_row11_col2\" class=\"data row11 col2\" >0.0000</td>\n",
       "      <td id=\"T_387d4_row11_col3\" class=\"data row11 col3\" >0.0000</td>\n",
       "      <td id=\"T_387d4_row11_col4\" class=\"data row11 col4\" >0.0001</td>\n",
       "      <td id=\"T_387d4_row11_col5\" class=\"data row11 col5\" >0.0000</td>\n",
       "      <td id=\"T_387d4_row11_col6\" class=\"data row11 col6\" >0.0000</td>\n",
       "    </tr>\n",
       "  </tbody>\n",
       "</table>\n"
      ],
      "text/plain": [
       "<pandas.io.formats.style.Styler at 0x267a494e0d0>"
      ]
     },
     "metadata": {},
     "output_type": "display_data"
    },
    {
     "data": {
      "text/html": [],
      "text/plain": [
       "<IPython.core.display.HTML object>"
      ]
     },
     "metadata": {},
     "output_type": "display_data"
    },
    {
     "name": "stdout",
     "output_type": "stream",
     "text": [
      "Fitting 10 folds for each of 10 candidates, totalling 100 fits\n"
     ]
    }
   ],
   "source": [
    "tuned_rf2 = tune_model(rf, optimize = 'Recall')"
   ]
  },
  {
   "cell_type": "markdown",
   "metadata": {
    "colab_type": "text",
    "id": "Pa3Us5Bc4EkU",
    "pycharm": {
     "name": "#%% md\n"
    }
   },
   "source": [
    "Notice how the results of tuning Random Forest Classifiers differ with the `optimize` param. In `tuned_rf` we optimized `AUC` resulting in `0.7691` in `AUC` and `0.6446` in `Recall`. However, in `tuned_rf2` when we set the `optimize` parameter to `Recall`, it actually resulted in a better model in terms of `Recall`. However, `AUC` was compromised. Observe the differences between the hyperparameters of `tuned_rf` and `tuned_rf2` below:"
   ]
  },
  {
   "cell_type": "code",
   "execution_count": 14,
   "metadata": {
    "colab": {},
    "colab_type": "code",
    "id": "R0V597844EkX",
    "pycharm": {
     "name": "#%%\n"
    }
   },
   "outputs": [
    {
     "data": {
      "text/html": [],
      "text/plain": [
       "<IPython.core.display.HTML object>"
      ]
     },
     "metadata": {},
     "output_type": "display_data"
    },
    {
     "data": {
      "text/html": [
       "<div>\n",
       "<style scoped>\n",
       "    .dataframe tbody tr th:only-of-type {\n",
       "        vertical-align: middle;\n",
       "    }\n",
       "\n",
       "    .dataframe tbody tr th {\n",
       "        vertical-align: top;\n",
       "    }\n",
       "\n",
       "    .dataframe thead th {\n",
       "        text-align: right;\n",
       "    }\n",
       "</style>\n",
       "<table border=\"1\" class=\"dataframe\">\n",
       "  <thead>\n",
       "    <tr style=\"text-align: right;\">\n",
       "      <th></th>\n",
       "      <th>Parameters</th>\n",
       "    </tr>\n",
       "  </thead>\n",
       "  <tbody>\n",
       "    <tr>\n",
       "      <th>bootstrap</th>\n",
       "      <td>False</td>\n",
       "    </tr>\n",
       "    <tr>\n",
       "      <th>ccp_alpha</th>\n",
       "      <td>0.0</td>\n",
       "    </tr>\n",
       "    <tr>\n",
       "      <th>class_weight</th>\n",
       "      <td>balanced_subsample</td>\n",
       "    </tr>\n",
       "    <tr>\n",
       "      <th>criterion</th>\n",
       "      <td>gini</td>\n",
       "    </tr>\n",
       "    <tr>\n",
       "      <th>max_depth</th>\n",
       "      <td>6</td>\n",
       "    </tr>\n",
       "    <tr>\n",
       "      <th>max_features</th>\n",
       "      <td>log2</td>\n",
       "    </tr>\n",
       "    <tr>\n",
       "      <th>max_leaf_nodes</th>\n",
       "      <td>None</td>\n",
       "    </tr>\n",
       "    <tr>\n",
       "      <th>max_samples</th>\n",
       "      <td>None</td>\n",
       "    </tr>\n",
       "    <tr>\n",
       "      <th>min_impurity_decrease</th>\n",
       "      <td>0.001</td>\n",
       "    </tr>\n",
       "    <tr>\n",
       "      <th>min_samples_leaf</th>\n",
       "      <td>6</td>\n",
       "    </tr>\n",
       "    <tr>\n",
       "      <th>min_samples_split</th>\n",
       "      <td>9</td>\n",
       "    </tr>\n",
       "    <tr>\n",
       "      <th>min_weight_fraction_leaf</th>\n",
       "      <td>0.0</td>\n",
       "    </tr>\n",
       "    <tr>\n",
       "      <th>n_estimators</th>\n",
       "      <td>190</td>\n",
       "    </tr>\n",
       "    <tr>\n",
       "      <th>n_jobs</th>\n",
       "      <td>-1</td>\n",
       "    </tr>\n",
       "    <tr>\n",
       "      <th>oob_score</th>\n",
       "      <td>False</td>\n",
       "    </tr>\n",
       "    <tr>\n",
       "      <th>random_state</th>\n",
       "      <td>123</td>\n",
       "    </tr>\n",
       "    <tr>\n",
       "      <th>verbose</th>\n",
       "      <td>0</td>\n",
       "    </tr>\n",
       "    <tr>\n",
       "      <th>warm_start</th>\n",
       "      <td>False</td>\n",
       "    </tr>\n",
       "  </tbody>\n",
       "</table>\n",
       "</div>"
      ],
      "text/plain": [
       "                                  Parameters\n",
       "bootstrap                              False\n",
       "ccp_alpha                                0.0\n",
       "class_weight              balanced_subsample\n",
       "criterion                               gini\n",
       "max_depth                                  6\n",
       "max_features                            log2\n",
       "max_leaf_nodes                          None\n",
       "max_samples                             None\n",
       "min_impurity_decrease                  0.001\n",
       "min_samples_leaf                           6\n",
       "min_samples_split                          9\n",
       "min_weight_fraction_leaf                 0.0\n",
       "n_estimators                             190\n",
       "n_jobs                                    -1\n",
       "oob_score                              False\n",
       "random_state                             123\n",
       "verbose                                    0\n",
       "warm_start                             False"
      ]
     },
     "metadata": {},
     "output_type": "display_data"
    }
   ],
   "source": [
    "plot_model(tuned_rf, plot = 'parameter')"
   ]
  },
  {
   "cell_type": "code",
   "execution_count": 15,
   "metadata": {
    "colab": {},
    "colab_type": "code",
    "id": "8a1AxLAe4Ekj",
    "pycharm": {
     "name": "#%%\n"
    }
   },
   "outputs": [
    {
     "data": {
      "text/html": [],
      "text/plain": [
       "<IPython.core.display.HTML object>"
      ]
     },
     "metadata": {},
     "output_type": "display_data"
    },
    {
     "data": {
      "text/html": [
       "<div>\n",
       "<style scoped>\n",
       "    .dataframe tbody tr th:only-of-type {\n",
       "        vertical-align: middle;\n",
       "    }\n",
       "\n",
       "    .dataframe tbody tr th {\n",
       "        vertical-align: top;\n",
       "    }\n",
       "\n",
       "    .dataframe thead th {\n",
       "        text-align: right;\n",
       "    }\n",
       "</style>\n",
       "<table border=\"1\" class=\"dataframe\">\n",
       "  <thead>\n",
       "    <tr style=\"text-align: right;\">\n",
       "      <th></th>\n",
       "      <th>Parameters</th>\n",
       "    </tr>\n",
       "  </thead>\n",
       "  <tbody>\n",
       "    <tr>\n",
       "      <th>bootstrap</th>\n",
       "      <td>False</td>\n",
       "    </tr>\n",
       "    <tr>\n",
       "      <th>ccp_alpha</th>\n",
       "      <td>0.0</td>\n",
       "    </tr>\n",
       "    <tr>\n",
       "      <th>class_weight</th>\n",
       "      <td>balanced</td>\n",
       "    </tr>\n",
       "    <tr>\n",
       "      <th>criterion</th>\n",
       "      <td>gini</td>\n",
       "    </tr>\n",
       "    <tr>\n",
       "      <th>max_depth</th>\n",
       "      <td>2</td>\n",
       "    </tr>\n",
       "    <tr>\n",
       "      <th>max_features</th>\n",
       "      <td>log2</td>\n",
       "    </tr>\n",
       "    <tr>\n",
       "      <th>max_leaf_nodes</th>\n",
       "      <td>None</td>\n",
       "    </tr>\n",
       "    <tr>\n",
       "      <th>max_samples</th>\n",
       "      <td>None</td>\n",
       "    </tr>\n",
       "    <tr>\n",
       "      <th>min_impurity_decrease</th>\n",
       "      <td>0.1</td>\n",
       "    </tr>\n",
       "    <tr>\n",
       "      <th>min_samples_leaf</th>\n",
       "      <td>3</td>\n",
       "    </tr>\n",
       "    <tr>\n",
       "      <th>min_samples_split</th>\n",
       "      <td>5</td>\n",
       "    </tr>\n",
       "    <tr>\n",
       "      <th>min_weight_fraction_leaf</th>\n",
       "      <td>0.0</td>\n",
       "    </tr>\n",
       "    <tr>\n",
       "      <th>n_estimators</th>\n",
       "      <td>10</td>\n",
       "    </tr>\n",
       "    <tr>\n",
       "      <th>n_jobs</th>\n",
       "      <td>-1</td>\n",
       "    </tr>\n",
       "    <tr>\n",
       "      <th>oob_score</th>\n",
       "      <td>False</td>\n",
       "    </tr>\n",
       "    <tr>\n",
       "      <th>random_state</th>\n",
       "      <td>123</td>\n",
       "    </tr>\n",
       "    <tr>\n",
       "      <th>verbose</th>\n",
       "      <td>0</td>\n",
       "    </tr>\n",
       "    <tr>\n",
       "      <th>warm_start</th>\n",
       "      <td>False</td>\n",
       "    </tr>\n",
       "  </tbody>\n",
       "</table>\n",
       "</div>"
      ],
      "text/plain": [
       "                         Parameters\n",
       "bootstrap                     False\n",
       "ccp_alpha                       0.0\n",
       "class_weight               balanced\n",
       "criterion                      gini\n",
       "max_depth                         2\n",
       "max_features                   log2\n",
       "max_leaf_nodes                 None\n",
       "max_samples                    None\n",
       "min_impurity_decrease           0.1\n",
       "min_samples_leaf                  3\n",
       "min_samples_split                 5\n",
       "min_weight_fraction_leaf        0.0\n",
       "n_estimators                     10\n",
       "n_jobs                           -1\n",
       "oob_score                     False\n",
       "random_state                    123\n",
       "verbose                           0\n",
       "warm_start                    False"
      ]
     },
     "metadata": {},
     "output_type": "display_data"
    }
   ],
   "source": [
    "plot_model(tuned_rf2, plot = 'parameter')"
   ]
  },
  {
   "cell_type": "markdown",
   "metadata": {
    "colab_type": "text",
    "id": "eXWxVxQb4Ek5",
    "pycharm": {
     "name": "#%% md\n"
    }
   },
   "source": [
    "# Ensemble Model"
   ]
  },
  {
   "cell_type": "markdown",
   "metadata": {
    "colab_type": "text",
    "id": "8HawXCoP4Ek9",
    "pycharm": {
     "name": "#%% md\n"
    }
   },
   "source": [
    "Ensembling is a common machine learning technique used to improve the performance of models (mostly tree based). There are various techniques for ensembling that we will cover in this section. These include Bagging and Boosting [(Read More)](https://towardsdatascience.com/ensemble-methods-bagging-boosting-and-stacking-c9214a10a205). We will use the `ensemble_model()` function in PyCaret which ensembles the trained base estimators using the method defined in the `method` parameter."
   ]
  },
  {
   "cell_type": "code",
   "execution_count": 16,
   "metadata": {
    "colab": {},
    "colab_type": "code",
    "id": "JeYoFXe94ElA",
    "outputId": "9e35fb8e-e52f-4e6a-d7b2-6a498110e2b7",
    "pycharm": {
     "name": "#%%\n"
    }
   },
   "outputs": [
    {
     "data": {
      "text/html": [],
      "text/plain": [
       "<IPython.core.display.HTML object>"
      ]
     },
     "metadata": {},
     "output_type": "display_data"
    },
    {
     "data": {
      "text/html": [
       "<style type=\"text/css\">\n",
       "#T_3f331_row10_col0, #T_3f331_row10_col1, #T_3f331_row10_col2, #T_3f331_row10_col3, #T_3f331_row10_col4, #T_3f331_row10_col5, #T_3f331_row10_col6 {\n",
       "  background: yellow;\n",
       "}\n",
       "</style>\n",
       "<table id=\"T_3f331\">\n",
       "  <thead>\n",
       "    <tr>\n",
       "      <th class=\"blank level0\" >&nbsp;</th>\n",
       "      <th id=\"T_3f331_level0_col0\" class=\"col_heading level0 col0\" >Accuracy</th>\n",
       "      <th id=\"T_3f331_level0_col1\" class=\"col_heading level0 col1\" >AUC</th>\n",
       "      <th id=\"T_3f331_level0_col2\" class=\"col_heading level0 col2\" >Recall</th>\n",
       "      <th id=\"T_3f331_level0_col3\" class=\"col_heading level0 col3\" >Prec.</th>\n",
       "      <th id=\"T_3f331_level0_col4\" class=\"col_heading level0 col4\" >F1</th>\n",
       "      <th id=\"T_3f331_level0_col5\" class=\"col_heading level0 col5\" >Kappa</th>\n",
       "      <th id=\"T_3f331_level0_col6\" class=\"col_heading level0 col6\" >MCC</th>\n",
       "    </tr>\n",
       "    <tr>\n",
       "      <th class=\"index_name level0\" >Fold</th>\n",
       "      <th class=\"blank col0\" >&nbsp;</th>\n",
       "      <th class=\"blank col1\" >&nbsp;</th>\n",
       "      <th class=\"blank col2\" >&nbsp;</th>\n",
       "      <th class=\"blank col3\" >&nbsp;</th>\n",
       "      <th class=\"blank col4\" >&nbsp;</th>\n",
       "      <th class=\"blank col5\" >&nbsp;</th>\n",
       "      <th class=\"blank col6\" >&nbsp;</th>\n",
       "    </tr>\n",
       "  </thead>\n",
       "  <tbody>\n",
       "    <tr>\n",
       "      <th id=\"T_3f331_level0_row0\" class=\"row_heading level0 row0\" >0</th>\n",
       "      <td id=\"T_3f331_row0_col0\" class=\"data row0 col0\" >0.7199</td>\n",
       "      <td id=\"T_3f331_row0_col1\" class=\"data row0 col1\" >0.6090</td>\n",
       "      <td id=\"T_3f331_row0_col2\" class=\"data row0 col2\" >0.4023</td>\n",
       "      <td id=\"T_3f331_row0_col3\" class=\"data row0 col3\" >0.3757</td>\n",
       "      <td id=\"T_3f331_row0_col4\" class=\"data row0 col4\" >0.3885</td>\n",
       "      <td id=\"T_3f331_row0_col5\" class=\"data row0 col5\" >0.2072</td>\n",
       "      <td id=\"T_3f331_row0_col6\" class=\"data row0 col6\" >0.2074</td>\n",
       "    </tr>\n",
       "    <tr>\n",
       "      <th id=\"T_3f331_level0_row1\" class=\"row_heading level0 row1\" >1</th>\n",
       "      <td id=\"T_3f331_row1_col0\" class=\"data row1 col0\" >0.7400</td>\n",
       "      <td id=\"T_3f331_row1_col1\" class=\"data row1 col1\" >0.6327</td>\n",
       "      <td id=\"T_3f331_row1_col2\" class=\"data row1 col2\" >0.4221</td>\n",
       "      <td id=\"T_3f331_row1_col3\" class=\"data row1 col3\" >0.4139</td>\n",
       "      <td id=\"T_3f331_row1_col4\" class=\"data row1 col4\" >0.4180</td>\n",
       "      <td id=\"T_3f331_row1_col5\" class=\"data row1 col5\" >0.2506</td>\n",
       "      <td id=\"T_3f331_row1_col6\" class=\"data row1 col6\" >0.2506</td>\n",
       "    </tr>\n",
       "    <tr>\n",
       "      <th id=\"T_3f331_level0_row2\" class=\"row_heading level0 row2\" >2</th>\n",
       "      <td id=\"T_3f331_row2_col0\" class=\"data row2 col0\" >0.7293</td>\n",
       "      <td id=\"T_3f331_row2_col1\" class=\"data row2 col1\" >0.6262</td>\n",
       "      <td id=\"T_3f331_row2_col2\" class=\"data row2 col2\" >0.4249</td>\n",
       "      <td id=\"T_3f331_row2_col3\" class=\"data row2 col3\" >0.3958</td>\n",
       "      <td id=\"T_3f331_row2_col4\" class=\"data row2 col4\" >0.4098</td>\n",
       "      <td id=\"T_3f331_row2_col5\" class=\"data row2 col5\" >0.2345</td>\n",
       "      <td id=\"T_3f331_row2_col6\" class=\"data row2 col6\" >0.2348</td>\n",
       "    </tr>\n",
       "    <tr>\n",
       "      <th id=\"T_3f331_level0_row3\" class=\"row_heading level0 row3\" >3</th>\n",
       "      <td id=\"T_3f331_row3_col0\" class=\"data row3 col0\" >0.7393</td>\n",
       "      <td id=\"T_3f331_row3_col1\" class=\"data row3 col1\" >0.6303</td>\n",
       "      <td id=\"T_3f331_row3_col2\" class=\"data row3 col2\" >0.4193</td>\n",
       "      <td id=\"T_3f331_row3_col3\" class=\"data row3 col3\" >0.4123</td>\n",
       "      <td id=\"T_3f331_row3_col4\" class=\"data row3 col4\" >0.4157</td>\n",
       "      <td id=\"T_3f331_row3_col5\" class=\"data row3 col5\" >0.2480</td>\n",
       "      <td id=\"T_3f331_row3_col6\" class=\"data row3 col6\" >0.2480</td>\n",
       "    </tr>\n",
       "    <tr>\n",
       "      <th id=\"T_3f331_level0_row4\" class=\"row_heading level0 row4\" >4</th>\n",
       "      <td id=\"T_3f331_row4_col0\" class=\"data row4 col0\" >0.7375</td>\n",
       "      <td id=\"T_3f331_row4_col1\" class=\"data row4 col1\" >0.6161</td>\n",
       "      <td id=\"T_3f331_row4_col2\" class=\"data row4 col2\" >0.3881</td>\n",
       "      <td id=\"T_3f331_row4_col3\" class=\"data row4 col3\" >0.4029</td>\n",
       "      <td id=\"T_3f331_row4_col4\" class=\"data row4 col4\" >0.3954</td>\n",
       "      <td id=\"T_3f331_row4_col5\" class=\"data row4 col5\" >0.2278</td>\n",
       "      <td id=\"T_3f331_row4_col6\" class=\"data row4 col6\" >0.2279</td>\n",
       "    </tr>\n",
       "    <tr>\n",
       "      <th id=\"T_3f331_level0_row5\" class=\"row_heading level0 row5\" >5</th>\n",
       "      <td id=\"T_3f331_row5_col0\" class=\"data row5 col0\" >0.7143</td>\n",
       "      <td id=\"T_3f331_row5_col1\" class=\"data row5 col1\" >0.5972</td>\n",
       "      <td id=\"T_3f331_row5_col2\" class=\"data row5 col2\" >0.3768</td>\n",
       "      <td id=\"T_3f331_row5_col3\" class=\"data row5 col3\" >0.3604</td>\n",
       "      <td id=\"T_3f331_row5_col4\" class=\"data row5 col4\" >0.3684</td>\n",
       "      <td id=\"T_3f331_row5_col5\" class=\"data row5 col5\" >0.1839</td>\n",
       "      <td id=\"T_3f331_row5_col6\" class=\"data row5 col6\" >0.1840</td>\n",
       "    </tr>\n",
       "    <tr>\n",
       "      <th id=\"T_3f331_level0_row6\" class=\"row_heading level0 row6\" >6</th>\n",
       "      <td id=\"T_3f331_row6_col0\" class=\"data row6 col0\" >0.7268</td>\n",
       "      <td id=\"T_3f331_row6_col1\" class=\"data row6 col1\" >0.6293</td>\n",
       "      <td id=\"T_3f331_row6_col2\" class=\"data row6 col2\" >0.4249</td>\n",
       "      <td id=\"T_3f331_row6_col3\" class=\"data row6 col3\" >0.3916</td>\n",
       "      <td id=\"T_3f331_row6_col4\" class=\"data row6 col4\" >0.4076</td>\n",
       "      <td id=\"T_3f331_row6_col5\" class=\"data row6 col5\" >0.2305</td>\n",
       "      <td id=\"T_3f331_row6_col6\" class=\"data row6 col6\" >0.2308</td>\n",
       "    </tr>\n",
       "    <tr>\n",
       "      <th id=\"T_3f331_level0_row7\" class=\"row_heading level0 row7\" >7</th>\n",
       "      <td id=\"T_3f331_row7_col0\" class=\"data row7 col0\" >0.7375</td>\n",
       "      <td id=\"T_3f331_row7_col1\" class=\"data row7 col1\" >0.6329</td>\n",
       "      <td id=\"T_3f331_row7_col2\" class=\"data row7 col2\" >0.4334</td>\n",
       "      <td id=\"T_3f331_row7_col3\" class=\"data row7 col3\" >0.4113</td>\n",
       "      <td id=\"T_3f331_row7_col4\" class=\"data row7 col4\" >0.4221</td>\n",
       "      <td id=\"T_3f331_row7_col5\" class=\"data row7 col5\" >0.2524</td>\n",
       "      <td id=\"T_3f331_row7_col6\" class=\"data row7 col6\" >0.2525</td>\n",
       "    </tr>\n",
       "    <tr>\n",
       "      <th id=\"T_3f331_level0_row8\" class=\"row_heading level0 row8\" >8</th>\n",
       "      <td id=\"T_3f331_row8_col0\" class=\"data row8 col0\" >0.7500</td>\n",
       "      <td id=\"T_3f331_row8_col1\" class=\"data row8 col1\" >0.6401</td>\n",
       "      <td id=\"T_3f331_row8_col2\" class=\"data row8 col2\" >0.4334</td>\n",
       "      <td id=\"T_3f331_row8_col3\" class=\"data row8 col3\" >0.4347</td>\n",
       "      <td id=\"T_3f331_row8_col4\" class=\"data row8 col4\" >0.4340</td>\n",
       "      <td id=\"T_3f331_row8_col5\" class=\"data row8 col5\" >0.2736</td>\n",
       "      <td id=\"T_3f331_row8_col6\" class=\"data row8 col6\" >0.2736</td>\n",
       "    </tr>\n",
       "    <tr>\n",
       "      <th id=\"T_3f331_level0_row9\" class=\"row_heading level0 row9\" >9</th>\n",
       "      <td id=\"T_3f331_row9_col0\" class=\"data row9 col0\" >0.7210</td>\n",
       "      <td id=\"T_3f331_row9_col1\" class=\"data row9 col1\" >0.6006</td>\n",
       "      <td id=\"T_3f331_row9_col2\" class=\"data row9 col2\" >0.3796</td>\n",
       "      <td id=\"T_3f331_row9_col3\" class=\"data row9 col3\" >0.3722</td>\n",
       "      <td id=\"T_3f331_row9_col4\" class=\"data row9 col4\" >0.3759</td>\n",
       "      <td id=\"T_3f331_row9_col5\" class=\"data row9 col5\" >0.1962</td>\n",
       "      <td id=\"T_3f331_row9_col6\" class=\"data row9 col6\" >0.1963</td>\n",
       "    </tr>\n",
       "    <tr>\n",
       "      <th id=\"T_3f331_level0_row10\" class=\"row_heading level0 row10\" >Mean</th>\n",
       "      <td id=\"T_3f331_row10_col0\" class=\"data row10 col0\" >0.7316</td>\n",
       "      <td id=\"T_3f331_row10_col1\" class=\"data row10 col1\" >0.6214</td>\n",
       "      <td id=\"T_3f331_row10_col2\" class=\"data row10 col2\" >0.4105</td>\n",
       "      <td id=\"T_3f331_row10_col3\" class=\"data row10 col3\" >0.3971</td>\n",
       "      <td id=\"T_3f331_row10_col4\" class=\"data row10 col4\" >0.4035</td>\n",
       "      <td id=\"T_3f331_row10_col5\" class=\"data row10 col5\" >0.2305</td>\n",
       "      <td id=\"T_3f331_row10_col6\" class=\"data row10 col6\" >0.2306</td>\n",
       "    </tr>\n",
       "    <tr>\n",
       "      <th id=\"T_3f331_level0_row11\" class=\"row_heading level0 row11\" >Std</th>\n",
       "      <td id=\"T_3f331_row11_col0\" class=\"data row11 col0\" >0.0106</td>\n",
       "      <td id=\"T_3f331_row11_col1\" class=\"data row11 col1\" >0.0140</td>\n",
       "      <td id=\"T_3f331_row11_col2\" class=\"data row11 col2\" >0.0208</td>\n",
       "      <td id=\"T_3f331_row11_col3\" class=\"data row11 col3\" >0.0215</td>\n",
       "      <td id=\"T_3f331_row11_col4\" class=\"data row11 col4\" >0.0199</td>\n",
       "      <td id=\"T_3f331_row11_col5\" class=\"data row11 col5\" >0.0264</td>\n",
       "      <td id=\"T_3f331_row11_col6\" class=\"data row11 col6\" >0.0264</td>\n",
       "    </tr>\n",
       "  </tbody>\n",
       "</table>\n"
      ],
      "text/plain": [
       "<pandas.io.formats.style.Styler at 0x267a494e700>"
      ]
     },
     "metadata": {},
     "output_type": "display_data"
    },
    {
     "data": {
      "text/html": [],
      "text/plain": [
       "<IPython.core.display.HTML object>"
      ]
     },
     "metadata": {},
     "output_type": "display_data"
    }
   ],
   "source": [
    "# lets create a simple decision tree model that we will use for ensembling \n",
    "dt = create_model('dt')"
   ]
  },
  {
   "cell_type": "code",
   "execution_count": 17,
   "metadata": {
    "colab": {},
    "colab_type": "code",
    "id": "Ro9lchLm4ElR",
    "outputId": "fed57385-c786-4ea7-c0f6-23cd27492134",
    "pycharm": {
     "name": "#%%\n"
    }
   },
   "outputs": [
    {
     "data": {
      "text/html": [],
      "text/plain": [
       "<IPython.core.display.HTML object>"
      ]
     },
     "metadata": {},
     "output_type": "display_data"
    },
    {
     "data": {
      "text/html": [
       "<style type=\"text/css\">\n",
       "#T_a2235_row10_col0, #T_a2235_row10_col1, #T_a2235_row10_col2, #T_a2235_row10_col3, #T_a2235_row10_col4, #T_a2235_row10_col5, #T_a2235_row10_col6 {\n",
       "  background: yellow;\n",
       "}\n",
       "</style>\n",
       "<table id=\"T_a2235\">\n",
       "  <thead>\n",
       "    <tr>\n",
       "      <th class=\"blank level0\" >&nbsp;</th>\n",
       "      <th id=\"T_a2235_level0_col0\" class=\"col_heading level0 col0\" >Accuracy</th>\n",
       "      <th id=\"T_a2235_level0_col1\" class=\"col_heading level0 col1\" >AUC</th>\n",
       "      <th id=\"T_a2235_level0_col2\" class=\"col_heading level0 col2\" >Recall</th>\n",
       "      <th id=\"T_a2235_level0_col3\" class=\"col_heading level0 col3\" >Prec.</th>\n",
       "      <th id=\"T_a2235_level0_col4\" class=\"col_heading level0 col4\" >F1</th>\n",
       "      <th id=\"T_a2235_level0_col5\" class=\"col_heading level0 col5\" >Kappa</th>\n",
       "      <th id=\"T_a2235_level0_col6\" class=\"col_heading level0 col6\" >MCC</th>\n",
       "    </tr>\n",
       "    <tr>\n",
       "      <th class=\"index_name level0\" >Fold</th>\n",
       "      <th class=\"blank col0\" >&nbsp;</th>\n",
       "      <th class=\"blank col1\" >&nbsp;</th>\n",
       "      <th class=\"blank col2\" >&nbsp;</th>\n",
       "      <th class=\"blank col3\" >&nbsp;</th>\n",
       "      <th class=\"blank col4\" >&nbsp;</th>\n",
       "      <th class=\"blank col5\" >&nbsp;</th>\n",
       "      <th class=\"blank col6\" >&nbsp;</th>\n",
       "    </tr>\n",
       "  </thead>\n",
       "  <tbody>\n",
       "    <tr>\n",
       "      <th id=\"T_a2235_level0_row0\" class=\"row_heading level0 row0\" >0</th>\n",
       "      <td id=\"T_a2235_row0_col0\" class=\"data row0 col0\" >0.8070</td>\n",
       "      <td id=\"T_a2235_row0_col1\" class=\"data row0 col1\" >0.7405</td>\n",
       "      <td id=\"T_a2235_row0_col2\" class=\"data row0 col2\" >0.3853</td>\n",
       "      <td id=\"T_a2235_row0_col3\" class=\"data row0 col3\" >0.5991</td>\n",
       "      <td id=\"T_a2235_row0_col4\" class=\"data row0 col4\" >0.4690</td>\n",
       "      <td id=\"T_a2235_row0_col5\" class=\"data row0 col5\" >0.3578</td>\n",
       "      <td id=\"T_a2235_row0_col6\" class=\"data row0 col6\" >0.3708</td>\n",
       "    </tr>\n",
       "    <tr>\n",
       "      <th id=\"T_a2235_level0_row1\" class=\"row_heading level0 row1\" >1</th>\n",
       "      <td id=\"T_a2235_row1_col0\" class=\"data row1 col0\" >0.8008</td>\n",
       "      <td id=\"T_a2235_row1_col1\" class=\"data row1 col1\" >0.7338</td>\n",
       "      <td id=\"T_a2235_row1_col2\" class=\"data row1 col2\" >0.3484</td>\n",
       "      <td id=\"T_a2235_row1_col3\" class=\"data row1 col3\" >0.5829</td>\n",
       "      <td id=\"T_a2235_row1_col4\" class=\"data row1 col4\" >0.4362</td>\n",
       "      <td id=\"T_a2235_row1_col5\" class=\"data row1 col5\" >0.3244</td>\n",
       "      <td id=\"T_a2235_row1_col6\" class=\"data row1 col6\" >0.3402</td>\n",
       "    </tr>\n",
       "    <tr>\n",
       "      <th id=\"T_a2235_level0_row2\" class=\"row_heading level0 row2\" >2</th>\n",
       "      <td id=\"T_a2235_row2_col0\" class=\"data row2 col0\" >0.8102</td>\n",
       "      <td id=\"T_a2235_row2_col1\" class=\"data row2 col1\" >0.7668</td>\n",
       "      <td id=\"T_a2235_row2_col2\" class=\"data row2 col2\" >0.3824</td>\n",
       "      <td id=\"T_a2235_row2_col3\" class=\"data row2 col3\" >0.6136</td>\n",
       "      <td id=\"T_a2235_row2_col4\" class=\"data row2 col4\" >0.4712</td>\n",
       "      <td id=\"T_a2235_row2_col5\" class=\"data row2 col5\" >0.3630</td>\n",
       "      <td id=\"T_a2235_row2_col6\" class=\"data row2 col6\" >0.3781</td>\n",
       "    </tr>\n",
       "    <tr>\n",
       "      <th id=\"T_a2235_level0_row3\" class=\"row_heading level0 row3\" >3</th>\n",
       "      <td id=\"T_a2235_row3_col0\" class=\"data row3 col0\" >0.8045</td>\n",
       "      <td id=\"T_a2235_row3_col1\" class=\"data row3 col1\" >0.7116</td>\n",
       "      <td id=\"T_a2235_row3_col2\" class=\"data row3 col2\" >0.3371</td>\n",
       "      <td id=\"T_a2235_row3_col3\" class=\"data row3 col3\" >0.6041</td>\n",
       "      <td id=\"T_a2235_row3_col4\" class=\"data row3 col4\" >0.4327</td>\n",
       "      <td id=\"T_a2235_row3_col5\" class=\"data row3 col5\" >0.3259</td>\n",
       "      <td id=\"T_a2235_row3_col6\" class=\"data row3 col6\" >0.3462</td>\n",
       "    </tr>\n",
       "    <tr>\n",
       "      <th id=\"T_a2235_level0_row4\" class=\"row_heading level0 row4\" >4</th>\n",
       "      <td id=\"T_a2235_row4_col0\" class=\"data row4 col0\" >0.8076</td>\n",
       "      <td id=\"T_a2235_row4_col1\" class=\"data row4 col1\" >0.7229</td>\n",
       "      <td id=\"T_a2235_row4_col2\" class=\"data row4 col2\" >0.3229</td>\n",
       "      <td id=\"T_a2235_row4_col3\" class=\"data row4 col3\" >0.6264</td>\n",
       "      <td id=\"T_a2235_row4_col4\" class=\"data row4 col4\" >0.4262</td>\n",
       "      <td id=\"T_a2235_row4_col5\" class=\"data row4 col5\" >0.3245</td>\n",
       "      <td id=\"T_a2235_row4_col6\" class=\"data row4 col6\" >0.3503</td>\n",
       "    </tr>\n",
       "    <tr>\n",
       "      <th id=\"T_a2235_level0_row5\" class=\"row_heading level0 row5\" >5</th>\n",
       "      <td id=\"T_a2235_row5_col0\" class=\"data row5 col0\" >0.7989</td>\n",
       "      <td id=\"T_a2235_row5_col1\" class=\"data row5 col1\" >0.7144</td>\n",
       "      <td id=\"T_a2235_row5_col2\" class=\"data row5 col2\" >0.3229</td>\n",
       "      <td id=\"T_a2235_row5_col3\" class=\"data row5 col3\" >0.5816</td>\n",
       "      <td id=\"T_a2235_row5_col4\" class=\"data row5 col4\" >0.4153</td>\n",
       "      <td id=\"T_a2235_row5_col5\" class=\"data row5 col5\" >0.3056</td>\n",
       "      <td id=\"T_a2235_row5_col6\" class=\"data row5 col6\" >0.3250</td>\n",
       "    </tr>\n",
       "    <tr>\n",
       "      <th id=\"T_a2235_level0_row6\" class=\"row_heading level0 row6\" >6</th>\n",
       "      <td id=\"T_a2235_row6_col0\" class=\"data row6 col0\" >0.7976</td>\n",
       "      <td id=\"T_a2235_row6_col1\" class=\"data row6 col1\" >0.7072</td>\n",
       "      <td id=\"T_a2235_row6_col2\" class=\"data row6 col2\" >0.3513</td>\n",
       "      <td id=\"T_a2235_row6_col3\" class=\"data row6 col3\" >0.5688</td>\n",
       "      <td id=\"T_a2235_row6_col4\" class=\"data row6 col4\" >0.4343</td>\n",
       "      <td id=\"T_a2235_row6_col5\" class=\"data row6 col5\" >0.3194</td>\n",
       "      <td id=\"T_a2235_row6_col6\" class=\"data row6 col6\" >0.3331</td>\n",
       "    </tr>\n",
       "    <tr>\n",
       "      <th id=\"T_a2235_level0_row7\" class=\"row_heading level0 row7\" >7</th>\n",
       "      <td id=\"T_a2235_row7_col0\" class=\"data row7 col0\" >0.8133</td>\n",
       "      <td id=\"T_a2235_row7_col1\" class=\"data row7 col1\" >0.7461</td>\n",
       "      <td id=\"T_a2235_row7_col2\" class=\"data row7 col2\" >0.3428</td>\n",
       "      <td id=\"T_a2235_row7_col3\" class=\"data row7 col3\" >0.6471</td>\n",
       "      <td id=\"T_a2235_row7_col4\" class=\"data row7 col4\" >0.4481</td>\n",
       "      <td id=\"T_a2235_row7_col5\" class=\"data row7 col5\" >0.3483</td>\n",
       "      <td id=\"T_a2235_row7_col6\" class=\"data row7 col6\" >0.3738</td>\n",
       "    </tr>\n",
       "    <tr>\n",
       "      <th id=\"T_a2235_level0_row8\" class=\"row_heading level0 row8\" >8</th>\n",
       "      <td id=\"T_a2235_row8_col0\" class=\"data row8 col0\" >0.8114</td>\n",
       "      <td id=\"T_a2235_row8_col1\" class=\"data row8 col1\" >0.7342</td>\n",
       "      <td id=\"T_a2235_row8_col2\" class=\"data row8 col2\" >0.3796</td>\n",
       "      <td id=\"T_a2235_row8_col3\" class=\"data row8 col3\" >0.6204</td>\n",
       "      <td id=\"T_a2235_row8_col4\" class=\"data row8 col4\" >0.4710</td>\n",
       "      <td id=\"T_a2235_row8_col5\" class=\"data row8 col5\" >0.3642</td>\n",
       "      <td id=\"T_a2235_row8_col6\" class=\"data row8 col6\" >0.3805</td>\n",
       "    </tr>\n",
       "    <tr>\n",
       "      <th id=\"T_a2235_level0_row9\" class=\"row_heading level0 row9\" >9</th>\n",
       "      <td id=\"T_a2235_row9_col0\" class=\"data row9 col0\" >0.8000</td>\n",
       "      <td id=\"T_a2235_row9_col1\" class=\"data row9 col1\" >0.7375</td>\n",
       "      <td id=\"T_a2235_row9_col2\" class=\"data row9 col2\" >0.3173</td>\n",
       "      <td id=\"T_a2235_row9_col3\" class=\"data row9 col3\" >0.5895</td>\n",
       "      <td id=\"T_a2235_row9_col4\" class=\"data row9 col4\" >0.4125</td>\n",
       "      <td id=\"T_a2235_row9_col5\" class=\"data row9 col5\" >0.3049</td>\n",
       "      <td id=\"T_a2235_row9_col6\" class=\"data row9 col6\" >0.3261</td>\n",
       "    </tr>\n",
       "    <tr>\n",
       "      <th id=\"T_a2235_level0_row10\" class=\"row_heading level0 row10\" >Mean</th>\n",
       "      <td id=\"T_a2235_row10_col0\" class=\"data row10 col0\" >0.8051</td>\n",
       "      <td id=\"T_a2235_row10_col1\" class=\"data row10 col1\" >0.7315</td>\n",
       "      <td id=\"T_a2235_row10_col2\" class=\"data row10 col2\" >0.3490</td>\n",
       "      <td id=\"T_a2235_row10_col3\" class=\"data row10 col3\" >0.6033</td>\n",
       "      <td id=\"T_a2235_row10_col4\" class=\"data row10 col4\" >0.4417</td>\n",
       "      <td id=\"T_a2235_row10_col5\" class=\"data row10 col5\" >0.3338</td>\n",
       "      <td id=\"T_a2235_row10_col6\" class=\"data row10 col6\" >0.3524</td>\n",
       "    </tr>\n",
       "    <tr>\n",
       "      <th id=\"T_a2235_level0_row11\" class=\"row_heading level0 row11\" >Std</th>\n",
       "      <td id=\"T_a2235_row11_col0\" class=\"data row11 col0\" >0.0053</td>\n",
       "      <td id=\"T_a2235_row11_col1\" class=\"data row11 col1\" >0.0172</td>\n",
       "      <td id=\"T_a2235_row11_col2\" class=\"data row11 col2\" >0.0243</td>\n",
       "      <td id=\"T_a2235_row11_col3\" class=\"data row11 col3\" >0.0226</td>\n",
       "      <td id=\"T_a2235_row11_col4\" class=\"data row11 col4\" >0.0211</td>\n",
       "      <td id=\"T_a2235_row11_col5\" class=\"data row11 col5\" >0.0215</td>\n",
       "      <td id=\"T_a2235_row11_col6\" class=\"data row11 col6\" >0.0206</td>\n",
       "    </tr>\n",
       "  </tbody>\n",
       "</table>\n"
      ],
      "text/plain": [
       "<pandas.io.formats.style.Styler at 0x267a494ac10>"
      ]
     },
     "metadata": {},
     "output_type": "display_data"
    },
    {
     "data": {
      "text/html": [],
      "text/plain": [
       "<IPython.core.display.HTML object>"
      ]
     },
     "metadata": {},
     "output_type": "display_data"
    }
   ],
   "source": [
    "bagged_dt = ensemble_model(dt)"
   ]
  },
  {
   "cell_type": "code",
   "execution_count": 18,
   "metadata": {
    "colab": {},
    "colab_type": "code",
    "id": "haFEnRB74Ele",
    "outputId": "ecb1fbb6-c309-41eb-926e-218bd199fb1f",
    "pycharm": {
     "name": "#%%\n"
    }
   },
   "outputs": [
    {
     "name": "stdout",
     "output_type": "stream",
     "text": [
      "BaggingClassifier(base_estimator=DecisionTreeClassifier(ccp_alpha=0.0,\n",
      "                                                        class_weight=None,\n",
      "                                                        criterion='gini',\n",
      "                                                        max_depth=None,\n",
      "                                                        max_features=None,\n",
      "                                                        max_leaf_nodes=None,\n",
      "                                                        min_impurity_decrease=0.0,\n",
      "                                                        min_samples_leaf=1,\n",
      "                                                        min_samples_split=2,\n",
      "                                                        min_weight_fraction_leaf=0.0,\n",
      "                                                        random_state=123,\n",
      "                                                        splitter='best'),\n",
      "                  bootstrap=True, bootstrap_features=False, max_features=1.0,\n",
      "                  max_samples=1.0, n_estimators=10, n_jobs=None,\n",
      "                  oob_score=False, random_state=123, verbose=0,\n",
      "                  warm_start=False)\n"
     ]
    }
   ],
   "source": [
    "# check the parameters of bagged_dt\n",
    "print(bagged_dt)"
   ]
  },
  {
   "cell_type": "markdown",
   "metadata": {
    "colab_type": "text",
    "id": "JcMBA-_H4Elo",
    "pycharm": {
     "name": "#%% md\n"
    }
   },
   "source": [
    "Notice how ensembling has improved the `AUC` of Decision Tree Classifier. In the above example we have used the default parameters of `ensemble_model()` which uses the `Bagging` method. Let's try `Boosting` by changing the `method` parameter in `ensemble_model()`. See example below: "
   ]
  },
  {
   "cell_type": "code",
   "execution_count": 19,
   "metadata": {
    "colab": {},
    "colab_type": "code",
    "id": "y1jVQf_q4Elv",
    "outputId": "a5ab5675-85cd-419b-8876-5aa27e5e249e",
    "pycharm": {
     "name": "#%%\n"
    }
   },
   "outputs": [
    {
     "data": {
      "text/html": [],
      "text/plain": [
       "<IPython.core.display.HTML object>"
      ]
     },
     "metadata": {},
     "output_type": "display_data"
    },
    {
     "data": {
      "text/html": [
       "<style type=\"text/css\">\n",
       "#T_c5a69_row10_col0, #T_c5a69_row10_col1, #T_c5a69_row10_col2, #T_c5a69_row10_col3, #T_c5a69_row10_col4, #T_c5a69_row10_col5, #T_c5a69_row10_col6 {\n",
       "  background: yellow;\n",
       "}\n",
       "</style>\n",
       "<table id=\"T_c5a69\">\n",
       "  <thead>\n",
       "    <tr>\n",
       "      <th class=\"blank level0\" >&nbsp;</th>\n",
       "      <th id=\"T_c5a69_level0_col0\" class=\"col_heading level0 col0\" >Accuracy</th>\n",
       "      <th id=\"T_c5a69_level0_col1\" class=\"col_heading level0 col1\" >AUC</th>\n",
       "      <th id=\"T_c5a69_level0_col2\" class=\"col_heading level0 col2\" >Recall</th>\n",
       "      <th id=\"T_c5a69_level0_col3\" class=\"col_heading level0 col3\" >Prec.</th>\n",
       "      <th id=\"T_c5a69_level0_col4\" class=\"col_heading level0 col4\" >F1</th>\n",
       "      <th id=\"T_c5a69_level0_col5\" class=\"col_heading level0 col5\" >Kappa</th>\n",
       "      <th id=\"T_c5a69_level0_col6\" class=\"col_heading level0 col6\" >MCC</th>\n",
       "    </tr>\n",
       "    <tr>\n",
       "      <th class=\"index_name level0\" >Fold</th>\n",
       "      <th class=\"blank col0\" >&nbsp;</th>\n",
       "      <th class=\"blank col1\" >&nbsp;</th>\n",
       "      <th class=\"blank col2\" >&nbsp;</th>\n",
       "      <th class=\"blank col3\" >&nbsp;</th>\n",
       "      <th class=\"blank col4\" >&nbsp;</th>\n",
       "      <th class=\"blank col5\" >&nbsp;</th>\n",
       "      <th class=\"blank col6\" >&nbsp;</th>\n",
       "    </tr>\n",
       "  </thead>\n",
       "  <tbody>\n",
       "    <tr>\n",
       "      <th id=\"T_c5a69_level0_row0\" class=\"row_heading level0 row0\" >0</th>\n",
       "      <td id=\"T_c5a69_row0_col0\" class=\"data row0 col0\" >0.7932</td>\n",
       "      <td id=\"T_c5a69_row0_col1\" class=\"data row0 col1\" >0.7089</td>\n",
       "      <td id=\"T_c5a69_row0_col2\" class=\"data row0 col2\" >0.3683</td>\n",
       "      <td id=\"T_c5a69_row0_col3\" class=\"data row0 col3\" >0.5485</td>\n",
       "      <td id=\"T_c5a69_row0_col4\" class=\"data row0 col4\" >0.4407</td>\n",
       "      <td id=\"T_c5a69_row0_col5\" class=\"data row0 col5\" >0.3198</td>\n",
       "      <td id=\"T_c5a69_row0_col6\" class=\"data row0 col6\" >0.3294</td>\n",
       "    </tr>\n",
       "    <tr>\n",
       "      <th id=\"T_c5a69_level0_row1\" class=\"row_heading level0 row1\" >1</th>\n",
       "      <td id=\"T_c5a69_row1_col0\" class=\"data row1 col0\" >0.7456</td>\n",
       "      <td id=\"T_c5a69_row1_col1\" class=\"data row1 col1\" >0.6970</td>\n",
       "      <td id=\"T_c5a69_row1_col2\" class=\"data row1 col2\" >0.3966</td>\n",
       "      <td id=\"T_c5a69_row1_col3\" class=\"data row1 col3\" >0.4204</td>\n",
       "      <td id=\"T_c5a69_row1_col4\" class=\"data row1 col4\" >0.4082</td>\n",
       "      <td id=\"T_c5a69_row1_col5\" class=\"data row1 col5\" >0.2463</td>\n",
       "      <td id=\"T_c5a69_row1_col6\" class=\"data row1 col6\" >0.2465</td>\n",
       "    </tr>\n",
       "    <tr>\n",
       "      <th id=\"T_c5a69_level0_row2\" class=\"row_heading level0 row2\" >2</th>\n",
       "      <td id=\"T_c5a69_row2_col0\" class=\"data row2 col0\" >0.7776</td>\n",
       "      <td id=\"T_c5a69_row2_col1\" class=\"data row2 col1\" >0.7610</td>\n",
       "      <td id=\"T_c5a69_row2_col2\" class=\"data row2 col2\" >0.3541</td>\n",
       "      <td id=\"T_c5a69_row2_col3\" class=\"data row2 col3\" >0.4960</td>\n",
       "      <td id=\"T_c5a69_row2_col4\" class=\"data row2 col4\" >0.4132</td>\n",
       "      <td id=\"T_c5a69_row2_col5\" class=\"data row2 col5\" >0.2807</td>\n",
       "      <td id=\"T_c5a69_row2_col6\" class=\"data row2 col6\" >0.2868</td>\n",
       "    </tr>\n",
       "    <tr>\n",
       "      <th id=\"T_c5a69_level0_row3\" class=\"row_heading level0 row3\" >3</th>\n",
       "      <td id=\"T_c5a69_row3_col0\" class=\"data row3 col0\" >0.7820</td>\n",
       "      <td id=\"T_c5a69_row3_col1\" class=\"data row3 col1\" >0.7207</td>\n",
       "      <td id=\"T_c5a69_row3_col2\" class=\"data row3 col2\" >0.3456</td>\n",
       "      <td id=\"T_c5a69_row3_col3\" class=\"data row3 col3\" >0.5105</td>\n",
       "      <td id=\"T_c5a69_row3_col4\" class=\"data row3 col4\" >0.4122</td>\n",
       "      <td id=\"T_c5a69_row3_col5\" class=\"data row3 col5\" >0.2844</td>\n",
       "      <td id=\"T_c5a69_row3_col6\" class=\"data row3 col6\" >0.2925</td>\n",
       "    </tr>\n",
       "    <tr>\n",
       "      <th id=\"T_c5a69_level0_row4\" class=\"row_heading level0 row4\" >4</th>\n",
       "      <td id=\"T_c5a69_row4_col0\" class=\"data row4 col0\" >0.7657</td>\n",
       "      <td id=\"T_c5a69_row4_col1\" class=\"data row4 col1\" >0.6828</td>\n",
       "      <td id=\"T_c5a69_row4_col2\" class=\"data row4 col2\" >0.3314</td>\n",
       "      <td id=\"T_c5a69_row4_col3\" class=\"data row4 col3\" >0.4588</td>\n",
       "      <td id=\"T_c5a69_row4_col4\" class=\"data row4 col4\" >0.3849</td>\n",
       "      <td id=\"T_c5a69_row4_col5\" class=\"data row4 col5\" >0.2447</td>\n",
       "      <td id=\"T_c5a69_row4_col6\" class=\"data row4 col6\" >0.2497</td>\n",
       "    </tr>\n",
       "    <tr>\n",
       "      <th id=\"T_c5a69_level0_row5\" class=\"row_heading level0 row5\" >5</th>\n",
       "      <td id=\"T_c5a69_row5_col0\" class=\"data row5 col0\" >0.7857</td>\n",
       "      <td id=\"T_c5a69_row5_col1\" class=\"data row5 col1\" >0.6937</td>\n",
       "      <td id=\"T_c5a69_row5_col2\" class=\"data row5 col2\" >0.3456</td>\n",
       "      <td id=\"T_c5a69_row5_col3\" class=\"data row5 col3\" >0.5236</td>\n",
       "      <td id=\"T_c5a69_row5_col4\" class=\"data row5 col4\" >0.4164</td>\n",
       "      <td id=\"T_c5a69_row5_col5\" class=\"data row5 col5\" >0.2918</td>\n",
       "      <td id=\"T_c5a69_row5_col6\" class=\"data row5 col6\" >0.3013</td>\n",
       "    </tr>\n",
       "    <tr>\n",
       "      <th id=\"T_c5a69_level0_row6\" class=\"row_heading level0 row6\" >6</th>\n",
       "      <td id=\"T_c5a69_row6_col0\" class=\"data row6 col0\" >0.7901</td>\n",
       "      <td id=\"T_c5a69_row6_col1\" class=\"data row6 col1\" >0.7134</td>\n",
       "      <td id=\"T_c5a69_row6_col2\" class=\"data row6 col2\" >0.3088</td>\n",
       "      <td id=\"T_c5a69_row6_col3\" class=\"data row6 col3\" >0.5450</td>\n",
       "      <td id=\"T_c5a69_row6_col4\" class=\"data row6 col4\" >0.3942</td>\n",
       "      <td id=\"T_c5a69_row6_col5\" class=\"data row6 col5\" >0.2788</td>\n",
       "      <td id=\"T_c5a69_row6_col6\" class=\"data row6 col6\" >0.2953</td>\n",
       "    </tr>\n",
       "    <tr>\n",
       "      <th id=\"T_c5a69_level0_row7\" class=\"row_heading level0 row7\" >7</th>\n",
       "      <td id=\"T_c5a69_row7_col0\" class=\"data row7 col0\" >0.7895</td>\n",
       "      <td id=\"T_c5a69_row7_col1\" class=\"data row7 col1\" >0.7162</td>\n",
       "      <td id=\"T_c5a69_row7_col2\" class=\"data row7 col2\" >0.3343</td>\n",
       "      <td id=\"T_c5a69_row7_col3\" class=\"data row7 col3\" >0.5388</td>\n",
       "      <td id=\"T_c5a69_row7_col4\" class=\"data row7 col4\" >0.4126</td>\n",
       "      <td id=\"T_c5a69_row7_col5\" class=\"data row7 col5\" >0.2928</td>\n",
       "      <td id=\"T_c5a69_row7_col6\" class=\"data row7 col6\" >0.3052</td>\n",
       "    </tr>\n",
       "    <tr>\n",
       "      <th id=\"T_c5a69_level0_row8\" class=\"row_heading level0 row8\" >8</th>\n",
       "      <td id=\"T_c5a69_row8_col0\" class=\"data row8 col0\" >0.7726</td>\n",
       "      <td id=\"T_c5a69_row8_col1\" class=\"data row8 col1\" >0.6747</td>\n",
       "      <td id=\"T_c5a69_row8_col2\" class=\"data row8 col2\" >0.3938</td>\n",
       "      <td id=\"T_c5a69_row8_col3\" class=\"data row8 col3\" >0.4826</td>\n",
       "      <td id=\"T_c5a69_row8_col4\" class=\"data row8 col4\" >0.4337</td>\n",
       "      <td id=\"T_c5a69_row8_col5\" class=\"data row8 col5\" >0.2932</td>\n",
       "      <td id=\"T_c5a69_row8_col6\" class=\"data row8 col6\" >0.2956</td>\n",
       "    </tr>\n",
       "    <tr>\n",
       "      <th id=\"T_c5a69_level0_row9\" class=\"row_heading level0 row9\" >9</th>\n",
       "      <td id=\"T_c5a69_row9_col0\" class=\"data row9 col0\" >0.7793</td>\n",
       "      <td id=\"T_c5a69_row9_col1\" class=\"data row9 col1\" >0.7210</td>\n",
       "      <td id=\"T_c5a69_row9_col2\" class=\"data row9 col2\" >0.3513</td>\n",
       "      <td id=\"T_c5a69_row9_col3\" class=\"data row9 col3\" >0.5020</td>\n",
       "      <td id=\"T_c5a69_row9_col4\" class=\"data row9 col4\" >0.4133</td>\n",
       "      <td id=\"T_c5a69_row9_col5\" class=\"data row9 col5\" >0.2826</td>\n",
       "      <td id=\"T_c5a69_row9_col6\" class=\"data row9 col6\" >0.2894</td>\n",
       "    </tr>\n",
       "    <tr>\n",
       "      <th id=\"T_c5a69_level0_row10\" class=\"row_heading level0 row10\" >Mean</th>\n",
       "      <td id=\"T_c5a69_row10_col0\" class=\"data row10 col0\" >0.7781</td>\n",
       "      <td id=\"T_c5a69_row10_col1\" class=\"data row10 col1\" >0.7089</td>\n",
       "      <td id=\"T_c5a69_row10_col2\" class=\"data row10 col2\" >0.3530</td>\n",
       "      <td id=\"T_c5a69_row10_col3\" class=\"data row10 col3\" >0.5026</td>\n",
       "      <td id=\"T_c5a69_row10_col4\" class=\"data row10 col4\" >0.4129</td>\n",
       "      <td id=\"T_c5a69_row10_col5\" class=\"data row10 col5\" >0.2815</td>\n",
       "      <td id=\"T_c5a69_row10_col6\" class=\"data row10 col6\" >0.2892</td>\n",
       "    </tr>\n",
       "    <tr>\n",
       "      <th id=\"T_c5a69_level0_row11\" class=\"row_heading level0 row11\" >Std</th>\n",
       "      <td id=\"T_c5a69_row11_col0\" class=\"data row11 col0\" >0.0135</td>\n",
       "      <td id=\"T_c5a69_row11_col1\" class=\"data row11 col1\" >0.0230</td>\n",
       "      <td id=\"T_c5a69_row11_col2\" class=\"data row11 col2\" >0.0258</td>\n",
       "      <td id=\"T_c5a69_row11_col3\" class=\"data row11 col3\" >0.0385</td>\n",
       "      <td id=\"T_c5a69_row11_col4\" class=\"data row11 col4\" >0.0154</td>\n",
       "      <td id=\"T_c5a69_row11_col5\" class=\"data row11 col5\" >0.0211</td>\n",
       "      <td id=\"T_c5a69_row11_col6\" class=\"data row11 col6\" >0.0234</td>\n",
       "    </tr>\n",
       "  </tbody>\n",
       "</table>\n"
      ],
      "text/plain": [
       "<pandas.io.formats.style.Styler at 0x267a3f83160>"
      ]
     },
     "metadata": {},
     "output_type": "display_data"
    },
    {
     "data": {
      "text/html": [],
      "text/plain": [
       "<IPython.core.display.HTML object>"
      ]
     },
     "metadata": {},
     "output_type": "display_data"
    }
   ],
   "source": [
    "boosted_dt = ensemble_model(dt, method = 'Boosting')"
   ]
  },
  {
   "cell_type": "markdown",
   "metadata": {
    "colab_type": "text",
    "id": "7Ou4NDKb4El9",
    "pycharm": {
     "name": "#%% md\n"
    }
   },
   "source": [
    "Notice how easy it is to ensemble models in PyCaret. By simply changing the `method` parameter you can do bagging or boosting which would otherwise have taken multiple lines of code. Note that `ensemble_model()` will by default build `10` estimators. This can be changed using the `n_estimators` parameter. Increasing the number of estimators can sometimes improve results. See an example below:"
   ]
  },
  {
   "cell_type": "code",
   "execution_count": 20,
   "metadata": {
    "colab": {},
    "colab_type": "code",
    "id": "GIiqIzQi4EmB",
    "outputId": "b45686c4-63e1-442f-bd18-ccc716753adf",
    "pycharm": {
     "name": "#%%\n"
    }
   },
   "outputs": [
    {
     "data": {
      "text/html": [],
      "text/plain": [
       "<IPython.core.display.HTML object>"
      ]
     },
     "metadata": {},
     "output_type": "display_data"
    },
    {
     "data": {
      "text/html": [
       "<style type=\"text/css\">\n",
       "#T_53e64_row10_col0, #T_53e64_row10_col1, #T_53e64_row10_col2, #T_53e64_row10_col3, #T_53e64_row10_col4, #T_53e64_row10_col5, #T_53e64_row10_col6 {\n",
       "  background: yellow;\n",
       "}\n",
       "</style>\n",
       "<table id=\"T_53e64\">\n",
       "  <thead>\n",
       "    <tr>\n",
       "      <th class=\"blank level0\" >&nbsp;</th>\n",
       "      <th id=\"T_53e64_level0_col0\" class=\"col_heading level0 col0\" >Accuracy</th>\n",
       "      <th id=\"T_53e64_level0_col1\" class=\"col_heading level0 col1\" >AUC</th>\n",
       "      <th id=\"T_53e64_level0_col2\" class=\"col_heading level0 col2\" >Recall</th>\n",
       "      <th id=\"T_53e64_level0_col3\" class=\"col_heading level0 col3\" >Prec.</th>\n",
       "      <th id=\"T_53e64_level0_col4\" class=\"col_heading level0 col4\" >F1</th>\n",
       "      <th id=\"T_53e64_level0_col5\" class=\"col_heading level0 col5\" >Kappa</th>\n",
       "      <th id=\"T_53e64_level0_col6\" class=\"col_heading level0 col6\" >MCC</th>\n",
       "    </tr>\n",
       "    <tr>\n",
       "      <th class=\"index_name level0\" >Fold</th>\n",
       "      <th class=\"blank col0\" >&nbsp;</th>\n",
       "      <th class=\"blank col1\" >&nbsp;</th>\n",
       "      <th class=\"blank col2\" >&nbsp;</th>\n",
       "      <th class=\"blank col3\" >&nbsp;</th>\n",
       "      <th class=\"blank col4\" >&nbsp;</th>\n",
       "      <th class=\"blank col5\" >&nbsp;</th>\n",
       "      <th class=\"blank col6\" >&nbsp;</th>\n",
       "    </tr>\n",
       "  </thead>\n",
       "  <tbody>\n",
       "    <tr>\n",
       "      <th id=\"T_53e64_level0_row0\" class=\"row_heading level0 row0\" >0</th>\n",
       "      <td id=\"T_53e64_row0_col0\" class=\"data row0 col0\" >0.8133</td>\n",
       "      <td id=\"T_53e64_row0_col1\" class=\"data row0 col1\" >0.7575</td>\n",
       "      <td id=\"T_53e64_row0_col2\" class=\"data row0 col2\" >0.3966</td>\n",
       "      <td id=\"T_53e64_row0_col3\" class=\"data row0 col3\" >0.6222</td>\n",
       "      <td id=\"T_53e64_row0_col4\" class=\"data row0 col4\" >0.4844</td>\n",
       "      <td id=\"T_53e64_row0_col5\" class=\"data row0 col5\" >0.3772</td>\n",
       "      <td id=\"T_53e64_row0_col6\" class=\"data row0 col6\" >0.3914</td>\n",
       "    </tr>\n",
       "    <tr>\n",
       "      <th id=\"T_53e64_level0_row1\" class=\"row_heading level0 row1\" >1</th>\n",
       "      <td id=\"T_53e64_row1_col0\" class=\"data row1 col0\" >0.8139</td>\n",
       "      <td id=\"T_53e64_row1_col1\" class=\"data row1 col1\" >0.7603</td>\n",
       "      <td id=\"T_53e64_row1_col2\" class=\"data row1 col2\" >0.3796</td>\n",
       "      <td id=\"T_53e64_row1_col3\" class=\"data row1 col3\" >0.6321</td>\n",
       "      <td id=\"T_53e64_row1_col4\" class=\"data row1 col4\" >0.4743</td>\n",
       "      <td id=\"T_53e64_row1_col5\" class=\"data row1 col5\" >0.3697</td>\n",
       "      <td id=\"T_53e64_row1_col6\" class=\"data row1 col6\" >0.3875</td>\n",
       "    </tr>\n",
       "    <tr>\n",
       "      <th id=\"T_53e64_level0_row2\" class=\"row_heading level0 row2\" >2</th>\n",
       "      <td id=\"T_53e64_row2_col0\" class=\"data row2 col0\" >0.8114</td>\n",
       "      <td id=\"T_53e64_row2_col1\" class=\"data row2 col1\" >0.7890</td>\n",
       "      <td id=\"T_53e64_row2_col2\" class=\"data row2 col2\" >0.4023</td>\n",
       "      <td id=\"T_53e64_row2_col3\" class=\"data row2 col3\" >0.6121</td>\n",
       "      <td id=\"T_53e64_row2_col4\" class=\"data row2 col4\" >0.4855</td>\n",
       "      <td id=\"T_53e64_row2_col5\" class=\"data row2 col5\" >0.3760</td>\n",
       "      <td id=\"T_53e64_row2_col6\" class=\"data row2 col6\" >0.3884</td>\n",
       "    </tr>\n",
       "    <tr>\n",
       "      <th id=\"T_53e64_level0_row3\" class=\"row_heading level0 row3\" >3</th>\n",
       "      <td id=\"T_53e64_row3_col0\" class=\"data row3 col0\" >0.8127</td>\n",
       "      <td id=\"T_53e64_row3_col1\" class=\"data row3 col1\" >0.7367</td>\n",
       "      <td id=\"T_53e64_row3_col2\" class=\"data row3 col2\" >0.3881</td>\n",
       "      <td id=\"T_53e64_row3_col3\" class=\"data row3 col3\" >0.6227</td>\n",
       "      <td id=\"T_53e64_row3_col4\" class=\"data row3 col4\" >0.4782</td>\n",
       "      <td id=\"T_53e64_row3_col5\" class=\"data row3 col5\" >0.3714</td>\n",
       "      <td id=\"T_53e64_row3_col6\" class=\"data row3 col6\" >0.3869</td>\n",
       "    </tr>\n",
       "    <tr>\n",
       "      <th id=\"T_53e64_level0_row4\" class=\"row_heading level0 row4\" >4</th>\n",
       "      <td id=\"T_53e64_row4_col0\" class=\"data row4 col0\" >0.8145</td>\n",
       "      <td id=\"T_53e64_row4_col1\" class=\"data row4 col1\" >0.7463</td>\n",
       "      <td id=\"T_53e64_row4_col2\" class=\"data row4 col2\" >0.3598</td>\n",
       "      <td id=\"T_53e64_row4_col3\" class=\"data row4 col3\" >0.6447</td>\n",
       "      <td id=\"T_53e64_row4_col4\" class=\"data row4 col4\" >0.4618</td>\n",
       "      <td id=\"T_53e64_row4_col5\" class=\"data row4 col5\" >0.3605</td>\n",
       "      <td id=\"T_53e64_row4_col6\" class=\"data row4 col6\" >0.3829</td>\n",
       "    </tr>\n",
       "    <tr>\n",
       "      <th id=\"T_53e64_level0_row5\" class=\"row_heading level0 row5\" >5</th>\n",
       "      <td id=\"T_53e64_row5_col0\" class=\"data row5 col0\" >0.8127</td>\n",
       "      <td id=\"T_53e64_row5_col1\" class=\"data row5 col1\" >0.7631</td>\n",
       "      <td id=\"T_53e64_row5_col2\" class=\"data row5 col2\" >0.3569</td>\n",
       "      <td id=\"T_53e64_row5_col3\" class=\"data row5 col3\" >0.6364</td>\n",
       "      <td id=\"T_53e64_row5_col4\" class=\"data row5 col4\" >0.4574</td>\n",
       "      <td id=\"T_53e64_row5_col5\" class=\"data row5 col5\" >0.3548</td>\n",
       "      <td id=\"T_53e64_row5_col6\" class=\"data row5 col6\" >0.3765</td>\n",
       "    </tr>\n",
       "    <tr>\n",
       "      <th id=\"T_53e64_level0_row6\" class=\"row_heading level0 row6\" >6</th>\n",
       "      <td id=\"T_53e64_row6_col0\" class=\"data row6 col0\" >0.8051</td>\n",
       "      <td id=\"T_53e64_row6_col1\" class=\"data row6 col1\" >0.7400</td>\n",
       "      <td id=\"T_53e64_row6_col2\" class=\"data row6 col2\" >0.3654</td>\n",
       "      <td id=\"T_53e64_row6_col3\" class=\"data row6 col3\" >0.5972</td>\n",
       "      <td id=\"T_53e64_row6_col4\" class=\"data row6 col4\" >0.4534</td>\n",
       "      <td id=\"T_53e64_row6_col5\" class=\"data row6 col5\" >0.3431</td>\n",
       "      <td id=\"T_53e64_row6_col6\" class=\"data row6 col6\" >0.3585</td>\n",
       "    </tr>\n",
       "    <tr>\n",
       "      <th id=\"T_53e64_level0_row7\" class=\"row_heading level0 row7\" >7</th>\n",
       "      <td id=\"T_53e64_row7_col0\" class=\"data row7 col0\" >0.8258</td>\n",
       "      <td id=\"T_53e64_row7_col1\" class=\"data row7 col1\" >0.7668</td>\n",
       "      <td id=\"T_53e64_row7_col2\" class=\"data row7 col2\" >0.3683</td>\n",
       "      <td id=\"T_53e64_row7_col3\" class=\"data row7 col3\" >0.7027</td>\n",
       "      <td id=\"T_53e64_row7_col4\" class=\"data row7 col4\" >0.4833</td>\n",
       "      <td id=\"T_53e64_row7_col5\" class=\"data row7 col5\" >0.3906</td>\n",
       "      <td id=\"T_53e64_row7_col6\" class=\"data row7 col6\" >0.4201</td>\n",
       "    </tr>\n",
       "    <tr>\n",
       "      <th id=\"T_53e64_level0_row8\" class=\"row_heading level0 row8\" >8</th>\n",
       "      <td id=\"T_53e64_row8_col0\" class=\"data row8 col0\" >0.8170</td>\n",
       "      <td id=\"T_53e64_row8_col1\" class=\"data row8 col1\" >0.7555</td>\n",
       "      <td id=\"T_53e64_row8_col2\" class=\"data row8 col2\" >0.3881</td>\n",
       "      <td id=\"T_53e64_row8_col3\" class=\"data row8 col3\" >0.6432</td>\n",
       "      <td id=\"T_53e64_row8_col4\" class=\"data row8 col4\" >0.4841</td>\n",
       "      <td id=\"T_53e64_row8_col5\" class=\"data row8 col5\" >0.3811</td>\n",
       "      <td id=\"T_53e64_row8_col6\" class=\"data row8 col6\" >0.3990</td>\n",
       "    </tr>\n",
       "    <tr>\n",
       "      <th id=\"T_53e64_level0_row9\" class=\"row_heading level0 row9\" >9</th>\n",
       "      <td id=\"T_53e64_row9_col0\" class=\"data row9 col0\" >0.8056</td>\n",
       "      <td id=\"T_53e64_row9_col1\" class=\"data row9 col1\" >0.7595</td>\n",
       "      <td id=\"T_53e64_row9_col2\" class=\"data row9 col2\" >0.3626</td>\n",
       "      <td id=\"T_53e64_row9_col3\" class=\"data row9 col3\" >0.6009</td>\n",
       "      <td id=\"T_53e64_row9_col4\" class=\"data row9 col4\" >0.4523</td>\n",
       "      <td id=\"T_53e64_row9_col5\" class=\"data row9 col5\" >0.3428</td>\n",
       "      <td id=\"T_53e64_row9_col6\" class=\"data row9 col6\" >0.3590</td>\n",
       "    </tr>\n",
       "    <tr>\n",
       "      <th id=\"T_53e64_level0_row10\" class=\"row_heading level0 row10\" >Mean</th>\n",
       "      <td id=\"T_53e64_row10_col0\" class=\"data row10 col0\" >0.8132</td>\n",
       "      <td id=\"T_53e64_row10_col1\" class=\"data row10 col1\" >0.7575</td>\n",
       "      <td id=\"T_53e64_row10_col2\" class=\"data row10 col2\" >0.3768</td>\n",
       "      <td id=\"T_53e64_row10_col3\" class=\"data row10 col3\" >0.6314</td>\n",
       "      <td id=\"T_53e64_row10_col4\" class=\"data row10 col4\" >0.4715</td>\n",
       "      <td id=\"T_53e64_row10_col5\" class=\"data row10 col5\" >0.3667</td>\n",
       "      <td id=\"T_53e64_row10_col6\" class=\"data row10 col6\" >0.3850</td>\n",
       "    </tr>\n",
       "    <tr>\n",
       "      <th id=\"T_53e64_level0_row11\" class=\"row_heading level0 row11\" >Std</th>\n",
       "      <td id=\"T_53e64_row11_col0\" class=\"data row11 col0\" >0.0055</td>\n",
       "      <td id=\"T_53e64_row11_col1\" class=\"data row11 col1\" >0.0141</td>\n",
       "      <td id=\"T_53e64_row11_col2\" class=\"data row11 col2\" >0.0155</td>\n",
       "      <td id=\"T_53e64_row11_col3\" class=\"data row11 col3\" >0.0284</td>\n",
       "      <td id=\"T_53e64_row11_col4\" class=\"data row11 col4\" >0.0130</td>\n",
       "      <td id=\"T_53e64_row11_col5\" class=\"data row11 col5\" >0.0152</td>\n",
       "      <td id=\"T_53e64_row11_col6\" class=\"data row11 col6\" >0.0172</td>\n",
       "    </tr>\n",
       "  </tbody>\n",
       "</table>\n"
      ],
      "text/plain": [
       "<pandas.io.formats.style.Styler at 0x267a3f30730>"
      ]
     },
     "metadata": {},
     "output_type": "display_data"
    },
    {
     "data": {
      "text/html": [],
      "text/plain": [
       "<IPython.core.display.HTML object>"
      ]
     },
     "metadata": {},
     "output_type": "display_data"
    }
   ],
   "source": [
    "bagged_dt2 = ensemble_model(dt, n_estimators=50)"
   ]
  },
  {
   "cell_type": "markdown",
   "metadata": {
    "colab_type": "text",
    "id": "s95TgoAT4EmL",
    "pycharm": {
     "name": "#%% md\n"
    }
   },
   "source": [
    "Notice how increasing the n_estimators parameter has improved the performance of ensembled model. The bagged_dt model with the default `10` estimators resulted in an AUC of `0.7282` whereas in bagged_dt2 where `n_estimators = 50` the AUC improved to `0.7503`."
   ]
  },
  {
   "cell_type": "markdown",
   "metadata": {},
   "source": [
    "# Blend Models"
   ]
  },
  {
   "cell_type": "markdown",
   "metadata": {
    "colab_type": "text",
    "id": "G-Mub1qC4Emp",
    "pycharm": {
     "name": "#%% md\n"
    }
   },
   "source": [
    "Blending is another common technique for ensembling that can be used in PyCaret. It uses predictions from multiple models to generate a final set of predictions using voting / majority consensus from all of the models passed in the `estimator_list` parameter. The `method` parameter can be used to define the type of voting. When set to `hard`, it uses labels for majority rule voting. When set to `soft` it uses the sum of predicted probabilities instead of the label. Default value of method is set to `auto` which means it tries to use `soft` method and fall back to `hard` if the former is not supported. Let's see an example below:"
   ]
  },
  {
   "cell_type": "code",
   "execution_count": 21,
   "metadata": {
    "pycharm": {
     "name": "#%%\n"
    }
   },
   "outputs": [],
   "source": [
    "# train individual models to blend\n",
    "lightgbm = create_model('lightgbm', verbose = False)\n",
    "dt = create_model('dt', verbose = False)\n",
    "lr = create_model('lr', verbose = False)"
   ]
  },
  {
   "cell_type": "code",
   "execution_count": 22,
   "metadata": {
    "pycharm": {
     "name": "#%%\n"
    }
   },
   "outputs": [
    {
     "data": {
      "text/html": [],
      "text/plain": [
       "<IPython.core.display.HTML object>"
      ]
     },
     "metadata": {},
     "output_type": "display_data"
    },
    {
     "data": {
      "text/html": [
       "<style type=\"text/css\">\n",
       "#T_ede04_row10_col0, #T_ede04_row10_col1, #T_ede04_row10_col2, #T_ede04_row10_col3, #T_ede04_row10_col4, #T_ede04_row10_col5, #T_ede04_row10_col6 {\n",
       "  background: yellow;\n",
       "}\n",
       "</style>\n",
       "<table id=\"T_ede04\">\n",
       "  <thead>\n",
       "    <tr>\n",
       "      <th class=\"blank level0\" >&nbsp;</th>\n",
       "      <th id=\"T_ede04_level0_col0\" class=\"col_heading level0 col0\" >Accuracy</th>\n",
       "      <th id=\"T_ede04_level0_col1\" class=\"col_heading level0 col1\" >AUC</th>\n",
       "      <th id=\"T_ede04_level0_col2\" class=\"col_heading level0 col2\" >Recall</th>\n",
       "      <th id=\"T_ede04_level0_col3\" class=\"col_heading level0 col3\" >Prec.</th>\n",
       "      <th id=\"T_ede04_level0_col4\" class=\"col_heading level0 col4\" >F1</th>\n",
       "      <th id=\"T_ede04_level0_col5\" class=\"col_heading level0 col5\" >Kappa</th>\n",
       "      <th id=\"T_ede04_level0_col6\" class=\"col_heading level0 col6\" >MCC</th>\n",
       "    </tr>\n",
       "    <tr>\n",
       "      <th class=\"index_name level0\" >Fold</th>\n",
       "      <th class=\"blank col0\" >&nbsp;</th>\n",
       "      <th class=\"blank col1\" >&nbsp;</th>\n",
       "      <th class=\"blank col2\" >&nbsp;</th>\n",
       "      <th class=\"blank col3\" >&nbsp;</th>\n",
       "      <th class=\"blank col4\" >&nbsp;</th>\n",
       "      <th class=\"blank col5\" >&nbsp;</th>\n",
       "      <th class=\"blank col6\" >&nbsp;</th>\n",
       "    </tr>\n",
       "  </thead>\n",
       "  <tbody>\n",
       "    <tr>\n",
       "      <th id=\"T_ede04_level0_row0\" class=\"row_heading level0 row0\" >0</th>\n",
       "      <td id=\"T_ede04_row0_col0\" class=\"data row0 col0\" >0.7964</td>\n",
       "      <td id=\"T_ede04_row0_col1\" class=\"data row0 col1\" >0.7526</td>\n",
       "      <td id=\"T_ede04_row0_col2\" class=\"data row0 col2\" >0.3569</td>\n",
       "      <td id=\"T_ede04_row0_col3\" class=\"data row0 col3\" >0.5625</td>\n",
       "      <td id=\"T_ede04_row0_col4\" class=\"data row0 col4\" >0.4367</td>\n",
       "      <td id=\"T_ede04_row0_col5\" class=\"data row0 col5\" >0.3200</td>\n",
       "      <td id=\"T_ede04_row0_col6\" class=\"data row0 col6\" >0.3323</td>\n",
       "    </tr>\n",
       "    <tr>\n",
       "      <th id=\"T_ede04_level0_row1\" class=\"row_heading level0 row1\" >1</th>\n",
       "      <td id=\"T_ede04_row1_col0\" class=\"data row1 col0\" >0.8014</td>\n",
       "      <td id=\"T_ede04_row1_col1\" class=\"data row1 col1\" >0.7708</td>\n",
       "      <td id=\"T_ede04_row1_col2\" class=\"data row1 col2\" >0.3626</td>\n",
       "      <td id=\"T_ede04_row1_col3\" class=\"data row1 col3\" >0.5818</td>\n",
       "      <td id=\"T_ede04_row1_col4\" class=\"data row1 col4\" >0.4468</td>\n",
       "      <td id=\"T_ede04_row1_col5\" class=\"data row1 col5\" >0.3336</td>\n",
       "      <td id=\"T_ede04_row1_col6\" class=\"data row1 col6\" >0.3474</td>\n",
       "    </tr>\n",
       "    <tr>\n",
       "      <th id=\"T_ede04_level0_row2\" class=\"row_heading level0 row2\" >2</th>\n",
       "      <td id=\"T_ede04_row2_col0\" class=\"data row2 col0\" >0.8039</td>\n",
       "      <td id=\"T_ede04_row2_col1\" class=\"data row2 col1\" >0.7764</td>\n",
       "      <td id=\"T_ede04_row2_col2\" class=\"data row2 col2\" >0.3683</td>\n",
       "      <td id=\"T_ede04_row2_col3\" class=\"data row2 col3\" >0.5909</td>\n",
       "      <td id=\"T_ede04_row2_col4\" class=\"data row2 col4\" >0.4538</td>\n",
       "      <td id=\"T_ede04_row2_col5\" class=\"data row2 col5\" >0.3420</td>\n",
       "      <td id=\"T_ede04_row2_col6\" class=\"data row2 col6\" >0.3562</td>\n",
       "    </tr>\n",
       "    <tr>\n",
       "      <th id=\"T_ede04_level0_row3\" class=\"row_heading level0 row3\" >3</th>\n",
       "      <td id=\"T_ede04_row3_col0\" class=\"data row3 col0\" >0.8020</td>\n",
       "      <td id=\"T_ede04_row3_col1\" class=\"data row3 col1\" >0.7487</td>\n",
       "      <td id=\"T_ede04_row3_col2\" class=\"data row3 col2\" >0.3768</td>\n",
       "      <td id=\"T_ede04_row3_col3\" class=\"data row3 col3\" >0.5808</td>\n",
       "      <td id=\"T_ede04_row3_col4\" class=\"data row3 col4\" >0.4570</td>\n",
       "      <td id=\"T_ede04_row3_col5\" class=\"data row3 col5\" >0.3426</td>\n",
       "      <td id=\"T_ede04_row3_col6\" class=\"data row3 col6\" >0.3546</td>\n",
       "    </tr>\n",
       "    <tr>\n",
       "      <th id=\"T_ede04_level0_row4\" class=\"row_heading level0 row4\" >4</th>\n",
       "      <td id=\"T_ede04_row4_col0\" class=\"data row4 col0\" >0.8095</td>\n",
       "      <td id=\"T_ede04_row4_col1\" class=\"data row4 col1\" >0.7475</td>\n",
       "      <td id=\"T_ede04_row4_col2\" class=\"data row4 col2\" >0.3513</td>\n",
       "      <td id=\"T_ede04_row4_col3\" class=\"data row4 col3\" >0.6231</td>\n",
       "      <td id=\"T_ede04_row4_col4\" class=\"data row4 col4\" >0.4493</td>\n",
       "      <td id=\"T_ede04_row4_col5\" class=\"data row4 col5\" >0.3448</td>\n",
       "      <td id=\"T_ede04_row4_col6\" class=\"data row4 col6\" >0.3655</td>\n",
       "    </tr>\n",
       "    <tr>\n",
       "      <th id=\"T_ede04_level0_row5\" class=\"row_heading level0 row5\" >5</th>\n",
       "      <td id=\"T_ede04_row5_col0\" class=\"data row5 col0\" >0.7964</td>\n",
       "      <td id=\"T_ede04_row5_col1\" class=\"data row5 col1\" >0.7474</td>\n",
       "      <td id=\"T_ede04_row5_col2\" class=\"data row5 col2\" >0.3399</td>\n",
       "      <td id=\"T_ede04_row5_col3\" class=\"data row5 col3\" >0.5660</td>\n",
       "      <td id=\"T_ede04_row5_col4\" class=\"data row5 col4\" >0.4248</td>\n",
       "      <td id=\"T_ede04_row5_col5\" class=\"data row5 col5\" >0.3103</td>\n",
       "      <td id=\"T_ede04_row5_col6\" class=\"data row5 col6\" >0.3252</td>\n",
       "    </tr>\n",
       "    <tr>\n",
       "      <th id=\"T_ede04_level0_row6\" class=\"row_heading level0 row6\" >6</th>\n",
       "      <td id=\"T_ede04_row6_col0\" class=\"data row6 col0\" >0.7870</td>\n",
       "      <td id=\"T_ede04_row6_col1\" class=\"data row6 col1\" >0.7375</td>\n",
       "      <td id=\"T_ede04_row6_col2\" class=\"data row6 col2\" >0.3484</td>\n",
       "      <td id=\"T_ede04_row6_col3\" class=\"data row6 col3\" >0.5279</td>\n",
       "      <td id=\"T_ede04_row6_col4\" class=\"data row6 col4\" >0.4198</td>\n",
       "      <td id=\"T_ede04_row6_col5\" class=\"data row6 col5\" >0.2960</td>\n",
       "      <td id=\"T_ede04_row6_col6\" class=\"data row6 col6\" >0.3055</td>\n",
       "    </tr>\n",
       "    <tr>\n",
       "      <th id=\"T_ede04_level0_row7\" class=\"row_heading level0 row7\" >7</th>\n",
       "      <td id=\"T_ede04_row7_col0\" class=\"data row7 col0\" >0.8033</td>\n",
       "      <td id=\"T_ede04_row7_col1\" class=\"data row7 col1\" >0.7679</td>\n",
       "      <td id=\"T_ede04_row7_col2\" class=\"data row7 col2\" >0.3598</td>\n",
       "      <td id=\"T_ede04_row7_col3\" class=\"data row7 col3\" >0.5907</td>\n",
       "      <td id=\"T_ede04_row7_col4\" class=\"data row7 col4\" >0.4472</td>\n",
       "      <td id=\"T_ede04_row7_col5\" class=\"data row7 col5\" >0.3360</td>\n",
       "      <td id=\"T_ede04_row7_col6\" class=\"data row7 col6\" >0.3513</td>\n",
       "    </tr>\n",
       "    <tr>\n",
       "      <th id=\"T_ede04_level0_row8\" class=\"row_heading level0 row8\" >8</th>\n",
       "      <td id=\"T_ede04_row8_col0\" class=\"data row8 col0\" >0.8051</td>\n",
       "      <td id=\"T_ede04_row8_col1\" class=\"data row8 col1\" >0.7447</td>\n",
       "      <td id=\"T_ede04_row8_col2\" class=\"data row8 col2\" >0.3626</td>\n",
       "      <td id=\"T_ede04_row8_col3\" class=\"data row8 col3\" >0.5981</td>\n",
       "      <td id=\"T_ede04_row8_col4\" class=\"data row8 col4\" >0.4515</td>\n",
       "      <td id=\"T_ede04_row8_col5\" class=\"data row8 col5\" >0.3416</td>\n",
       "      <td id=\"T_ede04_row8_col6\" class=\"data row8 col6\" >0.3574</td>\n",
       "    </tr>\n",
       "    <tr>\n",
       "      <th id=\"T_ede04_level0_row9\" class=\"row_heading level0 row9\" >9</th>\n",
       "      <td id=\"T_ede04_row9_col0\" class=\"data row9 col0\" >0.7824</td>\n",
       "      <td id=\"T_ede04_row9_col1\" class=\"data row9 col1\" >0.7507</td>\n",
       "      <td id=\"T_ede04_row9_col2\" class=\"data row9 col2\" >0.3314</td>\n",
       "      <td id=\"T_ede04_row9_col3\" class=\"data row9 col3\" >0.5132</td>\n",
       "      <td id=\"T_ede04_row9_col4\" class=\"data row9 col4\" >0.4028</td>\n",
       "      <td id=\"T_ede04_row9_col5\" class=\"data row9 col5\" >0.2772</td>\n",
       "      <td id=\"T_ede04_row9_col6\" class=\"data row9 col6\" >0.2871</td>\n",
       "    </tr>\n",
       "    <tr>\n",
       "      <th id=\"T_ede04_level0_row10\" class=\"row_heading level0 row10\" >Mean</th>\n",
       "      <td id=\"T_ede04_row10_col0\" class=\"data row10 col0\" >0.7987</td>\n",
       "      <td id=\"T_ede04_row10_col1\" class=\"data row10 col1\" >0.7544</td>\n",
       "      <td id=\"T_ede04_row10_col2\" class=\"data row10 col2\" >0.3558</td>\n",
       "      <td id=\"T_ede04_row10_col3\" class=\"data row10 col3\" >0.5735</td>\n",
       "      <td id=\"T_ede04_row10_col4\" class=\"data row10 col4\" >0.4390</td>\n",
       "      <td id=\"T_ede04_row10_col5\" class=\"data row10 col5\" >0.3244</td>\n",
       "      <td id=\"T_ede04_row10_col6\" class=\"data row10 col6\" >0.3383</td>\n",
       "    </tr>\n",
       "    <tr>\n",
       "      <th id=\"T_ede04_level0_row11\" class=\"row_heading level0 row11\" >Std</th>\n",
       "      <td id=\"T_ede04_row11_col0\" class=\"data row11 col0\" >0.0080</td>\n",
       "      <td id=\"T_ede04_row11_col1\" class=\"data row11 col1\" >0.0121</td>\n",
       "      <td id=\"T_ede04_row11_col2\" class=\"data row11 col2\" >0.0127</td>\n",
       "      <td id=\"T_ede04_row11_col3\" class=\"data row11 col3\" >0.0311</td>\n",
       "      <td id=\"T_ede04_row11_col4\" class=\"data row11 col4\" >0.0168</td>\n",
       "      <td id=\"T_ede04_row11_col5\" class=\"data row11 col5\" >0.0220</td>\n",
       "      <td id=\"T_ede04_row11_col6\" class=\"data row11 col6\" >0.0242</td>\n",
       "    </tr>\n",
       "  </tbody>\n",
       "</table>\n"
      ],
      "text/plain": [
       "<pandas.io.formats.style.Styler at 0x267a4d42070>"
      ]
     },
     "metadata": {},
     "output_type": "display_data"
    },
    {
     "data": {
      "text/html": [],
      "text/plain": [
       "<IPython.core.display.HTML object>"
      ]
     },
     "metadata": {},
     "output_type": "display_data"
    }
   ],
   "source": [
    "# blend individual models\n",
    "blend_soft = blend_models(estimator_list = [lightgbm, dt, lr], method = 'soft')"
   ]
  },
  {
   "cell_type": "code",
   "execution_count": 23,
   "metadata": {
    "pycharm": {
     "name": "#%%\n"
    }
   },
   "outputs": [
    {
     "data": {
      "text/html": [],
      "text/plain": [
       "<IPython.core.display.HTML object>"
      ]
     },
     "metadata": {},
     "output_type": "display_data"
    },
    {
     "data": {
      "text/html": [
       "<style type=\"text/css\">\n",
       "#T_5f0b6_row10_col0, #T_5f0b6_row10_col1, #T_5f0b6_row10_col2, #T_5f0b6_row10_col3, #T_5f0b6_row10_col4, #T_5f0b6_row10_col5, #T_5f0b6_row10_col6 {\n",
       "  background: yellow;\n",
       "}\n",
       "</style>\n",
       "<table id=\"T_5f0b6\">\n",
       "  <thead>\n",
       "    <tr>\n",
       "      <th class=\"blank level0\" >&nbsp;</th>\n",
       "      <th id=\"T_5f0b6_level0_col0\" class=\"col_heading level0 col0\" >Accuracy</th>\n",
       "      <th id=\"T_5f0b6_level0_col1\" class=\"col_heading level0 col1\" >AUC</th>\n",
       "      <th id=\"T_5f0b6_level0_col2\" class=\"col_heading level0 col2\" >Recall</th>\n",
       "      <th id=\"T_5f0b6_level0_col3\" class=\"col_heading level0 col3\" >Prec.</th>\n",
       "      <th id=\"T_5f0b6_level0_col4\" class=\"col_heading level0 col4\" >F1</th>\n",
       "      <th id=\"T_5f0b6_level0_col5\" class=\"col_heading level0 col5\" >Kappa</th>\n",
       "      <th id=\"T_5f0b6_level0_col6\" class=\"col_heading level0 col6\" >MCC</th>\n",
       "    </tr>\n",
       "    <tr>\n",
       "      <th class=\"index_name level0\" >Fold</th>\n",
       "      <th class=\"blank col0\" >&nbsp;</th>\n",
       "      <th class=\"blank col1\" >&nbsp;</th>\n",
       "      <th class=\"blank col2\" >&nbsp;</th>\n",
       "      <th class=\"blank col3\" >&nbsp;</th>\n",
       "      <th class=\"blank col4\" >&nbsp;</th>\n",
       "      <th class=\"blank col5\" >&nbsp;</th>\n",
       "      <th class=\"blank col6\" >&nbsp;</th>\n",
       "    </tr>\n",
       "  </thead>\n",
       "  <tbody>\n",
       "    <tr>\n",
       "      <th id=\"T_5f0b6_level0_row0\" class=\"row_heading level0 row0\" >0</th>\n",
       "      <td id=\"T_5f0b6_row0_col0\" class=\"data row0 col0\" >0.8195</td>\n",
       "      <td id=\"T_5f0b6_row0_col1\" class=\"data row0 col1\" >0.0000</td>\n",
       "      <td id=\"T_5f0b6_row0_col2\" class=\"data row0 col2\" >0.3626</td>\n",
       "      <td id=\"T_5f0b6_row0_col3\" class=\"data row0 col3\" >0.6702</td>\n",
       "      <td id=\"T_5f0b6_row0_col4\" class=\"data row0 col4\" >0.4706</td>\n",
       "      <td id=\"T_5f0b6_row0_col5\" class=\"data row0 col5\" >0.3732</td>\n",
       "      <td id=\"T_5f0b6_row0_col6\" class=\"data row0 col6\" >0.3989</td>\n",
       "    </tr>\n",
       "    <tr>\n",
       "      <th id=\"T_5f0b6_level0_row1\" class=\"row_heading level0 row1\" >1</th>\n",
       "      <td id=\"T_5f0b6_row1_col0\" class=\"data row1 col0\" >0.8221</td>\n",
       "      <td id=\"T_5f0b6_row1_col1\" class=\"data row1 col1\" >0.0000</td>\n",
       "      <td id=\"T_5f0b6_row1_col2\" class=\"data row1 col2\" >0.3456</td>\n",
       "      <td id=\"T_5f0b6_row1_col3\" class=\"data row1 col3\" >0.6971</td>\n",
       "      <td id=\"T_5f0b6_row1_col4\" class=\"data row1 col4\" >0.4621</td>\n",
       "      <td id=\"T_5f0b6_row1_col5\" class=\"data row1 col5\" >0.3697</td>\n",
       "      <td id=\"T_5f0b6_row1_col6\" class=\"data row1 col6\" >0.4024</td>\n",
       "    </tr>\n",
       "    <tr>\n",
       "      <th id=\"T_5f0b6_level0_row2\" class=\"row_heading level0 row2\" >2</th>\n",
       "      <td id=\"T_5f0b6_row2_col0\" class=\"data row2 col0\" >0.8177</td>\n",
       "      <td id=\"T_5f0b6_row2_col1\" class=\"data row2 col1\" >0.0000</td>\n",
       "      <td id=\"T_5f0b6_row2_col2\" class=\"data row2 col2\" >0.3541</td>\n",
       "      <td id=\"T_5f0b6_row2_col3\" class=\"data row2 col3\" >0.6649</td>\n",
       "      <td id=\"T_5f0b6_row2_col4\" class=\"data row2 col4\" >0.4621</td>\n",
       "      <td id=\"T_5f0b6_row2_col5\" class=\"data row2 col5\" >0.3644</td>\n",
       "      <td id=\"T_5f0b6_row2_col6\" class=\"data row2 col6\" >0.3907</td>\n",
       "    </tr>\n",
       "    <tr>\n",
       "      <th id=\"T_5f0b6_level0_row3\" class=\"row_heading level0 row3\" >3</th>\n",
       "      <td id=\"T_5f0b6_row3_col0\" class=\"data row3 col0\" >0.8158</td>\n",
       "      <td id=\"T_5f0b6_row3_col1\" class=\"data row3 col1\" >0.0000</td>\n",
       "      <td id=\"T_5f0b6_row3_col2\" class=\"data row3 col2\" >0.3399</td>\n",
       "      <td id=\"T_5f0b6_row3_col3\" class=\"data row3 col3\" >0.6630</td>\n",
       "      <td id=\"T_5f0b6_row3_col4\" class=\"data row3 col4\" >0.4494</td>\n",
       "      <td id=\"T_5f0b6_row3_col5\" class=\"data row3 col5\" >0.3523</td>\n",
       "      <td id=\"T_5f0b6_row3_col6\" class=\"data row3 col6\" >0.3807</td>\n",
       "    </tr>\n",
       "    <tr>\n",
       "      <th id=\"T_5f0b6_level0_row4\" class=\"row_heading level0 row4\" >4</th>\n",
       "      <td id=\"T_5f0b6_row4_col0\" class=\"data row4 col0\" >0.8127</td>\n",
       "      <td id=\"T_5f0b6_row4_col1\" class=\"data row4 col1\" >0.0000</td>\n",
       "      <td id=\"T_5f0b6_row4_col2\" class=\"data row4 col2\" >0.3116</td>\n",
       "      <td id=\"T_5f0b6_row4_col3\" class=\"data row4 col3\" >0.6627</td>\n",
       "      <td id=\"T_5f0b6_row4_col4\" class=\"data row4 col4\" >0.4239</td>\n",
       "      <td id=\"T_5f0b6_row4_col5\" class=\"data row4 col5\" >0.3289</td>\n",
       "      <td id=\"T_5f0b6_row4_col6\" class=\"data row4 col6\" >0.3624</td>\n",
       "    </tr>\n",
       "    <tr>\n",
       "      <th id=\"T_5f0b6_level0_row5\" class=\"row_heading level0 row5\" >5</th>\n",
       "      <td id=\"T_5f0b6_row5_col0\" class=\"data row5 col0\" >0.8158</td>\n",
       "      <td id=\"T_5f0b6_row5_col1\" class=\"data row5 col1\" >0.0000</td>\n",
       "      <td id=\"T_5f0b6_row5_col2\" class=\"data row5 col2\" >0.3399</td>\n",
       "      <td id=\"T_5f0b6_row5_col3\" class=\"data row5 col3\" >0.6630</td>\n",
       "      <td id=\"T_5f0b6_row5_col4\" class=\"data row5 col4\" >0.4494</td>\n",
       "      <td id=\"T_5f0b6_row5_col5\" class=\"data row5 col5\" >0.3523</td>\n",
       "      <td id=\"T_5f0b6_row5_col6\" class=\"data row5 col6\" >0.3807</td>\n",
       "    </tr>\n",
       "    <tr>\n",
       "      <th id=\"T_5f0b6_level0_row6\" class=\"row_heading level0 row6\" >6</th>\n",
       "      <td id=\"T_5f0b6_row6_col0\" class=\"data row6 col0\" >0.8152</td>\n",
       "      <td id=\"T_5f0b6_row6_col1\" class=\"data row6 col1\" >0.0000</td>\n",
       "      <td id=\"T_5f0b6_row6_col2\" class=\"data row6 col2\" >0.3484</td>\n",
       "      <td id=\"T_5f0b6_row6_col3\" class=\"data row6 col3\" >0.6543</td>\n",
       "      <td id=\"T_5f0b6_row6_col4\" class=\"data row6 col4\" >0.4547</td>\n",
       "      <td id=\"T_5f0b6_row6_col5\" class=\"data row6 col5\" >0.3557</td>\n",
       "      <td id=\"T_5f0b6_row6_col6\" class=\"data row6 col6\" >0.3813</td>\n",
       "    </tr>\n",
       "    <tr>\n",
       "      <th id=\"T_5f0b6_level0_row7\" class=\"row_heading level0 row7\" >7</th>\n",
       "      <td id=\"T_5f0b6_row7_col0\" class=\"data row7 col0\" >0.8189</td>\n",
       "      <td id=\"T_5f0b6_row7_col1\" class=\"data row7 col1\" >0.0000</td>\n",
       "      <td id=\"T_5f0b6_row7_col2\" class=\"data row7 col2\" >0.3314</td>\n",
       "      <td id=\"T_5f0b6_row7_col3\" class=\"data row7 col3\" >0.6882</td>\n",
       "      <td id=\"T_5f0b6_row7_col4\" class=\"data row7 col4\" >0.4474</td>\n",
       "      <td id=\"T_5f0b6_row7_col5\" class=\"data row7 col5\" >0.3546</td>\n",
       "      <td id=\"T_5f0b6_row7_col6\" class=\"data row7 col6\" >0.3885</td>\n",
       "    </tr>\n",
       "    <tr>\n",
       "      <th id=\"T_5f0b6_level0_row8\" class=\"row_heading level0 row8\" >8</th>\n",
       "      <td id=\"T_5f0b6_row8_col0\" class=\"data row8 col0\" >0.8170</td>\n",
       "      <td id=\"T_5f0b6_row8_col1\" class=\"data row8 col1\" >0.0000</td>\n",
       "      <td id=\"T_5f0b6_row8_col2\" class=\"data row8 col2\" >0.3513</td>\n",
       "      <td id=\"T_5f0b6_row8_col3\" class=\"data row8 col3\" >0.6631</td>\n",
       "      <td id=\"T_5f0b6_row8_col4\" class=\"data row8 col4\" >0.4593</td>\n",
       "      <td id=\"T_5f0b6_row8_col5\" class=\"data row8 col5\" >0.3614</td>\n",
       "      <td id=\"T_5f0b6_row8_col6\" class=\"data row8 col6\" >0.3879</td>\n",
       "    </tr>\n",
       "    <tr>\n",
       "      <th id=\"T_5f0b6_level0_row9\" class=\"row_heading level0 row9\" >9</th>\n",
       "      <td id=\"T_5f0b6_row9_col0\" class=\"data row9 col0\" >0.8094</td>\n",
       "      <td id=\"T_5f0b6_row9_col1\" class=\"data row9 col1\" >0.0000</td>\n",
       "      <td id=\"T_5f0b6_row9_col2\" class=\"data row9 col2\" >0.3456</td>\n",
       "      <td id=\"T_5f0b6_row9_col3\" class=\"data row9 col3\" >0.6256</td>\n",
       "      <td id=\"T_5f0b6_row9_col4\" class=\"data row9 col4\" >0.4453</td>\n",
       "      <td id=\"T_5f0b6_row9_col5\" class=\"data row9 col5\" >0.3415</td>\n",
       "      <td id=\"T_5f0b6_row9_col6\" class=\"data row9 col6\" >0.3635</td>\n",
       "    </tr>\n",
       "    <tr>\n",
       "      <th id=\"T_5f0b6_level0_row10\" class=\"row_heading level0 row10\" >Mean</th>\n",
       "      <td id=\"T_5f0b6_row10_col0\" class=\"data row10 col0\" >0.8164</td>\n",
       "      <td id=\"T_5f0b6_row10_col1\" class=\"data row10 col1\" >0.0000</td>\n",
       "      <td id=\"T_5f0b6_row10_col2\" class=\"data row10 col2\" >0.3431</td>\n",
       "      <td id=\"T_5f0b6_row10_col3\" class=\"data row10 col3\" >0.6652</td>\n",
       "      <td id=\"T_5f0b6_row10_col4\" class=\"data row10 col4\" >0.4524</td>\n",
       "      <td id=\"T_5f0b6_row10_col5\" class=\"data row10 col5\" >0.3554</td>\n",
       "      <td id=\"T_5f0b6_row10_col6\" class=\"data row10 col6\" >0.3837</td>\n",
       "    </tr>\n",
       "    <tr>\n",
       "      <th id=\"T_5f0b6_level0_row11\" class=\"row_heading level0 row11\" >Std</th>\n",
       "      <td id=\"T_5f0b6_row11_col0\" class=\"data row11 col0\" >0.0034</td>\n",
       "      <td id=\"T_5f0b6_row11_col1\" class=\"data row11 col1\" >0.0000</td>\n",
       "      <td id=\"T_5f0b6_row11_col2\" class=\"data row11 col2\" >0.0133</td>\n",
       "      <td id=\"T_5f0b6_row11_col3\" class=\"data row11 col3\" >0.0181</td>\n",
       "      <td id=\"T_5f0b6_row11_col4\" class=\"data row11 col4\" >0.0122</td>\n",
       "      <td id=\"T_5f0b6_row11_col5\" class=\"data row11 col5\" >0.0125</td>\n",
       "      <td id=\"T_5f0b6_row11_col6\" class=\"data row11 col6\" >0.0125</td>\n",
       "    </tr>\n",
       "  </tbody>\n",
       "</table>\n"
      ],
      "text/plain": [
       "<pandas.io.formats.style.Styler at 0x267a4d42070>"
      ]
     },
     "metadata": {},
     "output_type": "display_data"
    },
    {
     "data": {
      "text/html": [],
      "text/plain": [
       "<IPython.core.display.HTML object>"
      ]
     },
     "metadata": {},
     "output_type": "display_data"
    }
   ],
   "source": [
    "# blend individual models\n",
    "blend_hard = blend_models(estimator_list = [lightgbm, dt, lr], method = 'hard')"
   ]
  },
  {
   "cell_type": "code",
   "execution_count": 24,
   "metadata": {
    "pycharm": {
     "name": "#%%\n"
    }
   },
   "outputs": [
    {
     "data": {
      "text/html": [],
      "text/plain": [
       "<IPython.core.display.HTML object>"
      ]
     },
     "metadata": {},
     "output_type": "display_data"
    },
    {
     "data": {
      "text/html": [
       "<style type=\"text/css\">\n",
       "#T_f33dd_row10_col0, #T_f33dd_row10_col1, #T_f33dd_row10_col2, #T_f33dd_row10_col3, #T_f33dd_row10_col4, #T_f33dd_row10_col5, #T_f33dd_row10_col6 {\n",
       "  background: yellow;\n",
       "}\n",
       "</style>\n",
       "<table id=\"T_f33dd\">\n",
       "  <thead>\n",
       "    <tr>\n",
       "      <th class=\"blank level0\" >&nbsp;</th>\n",
       "      <th id=\"T_f33dd_level0_col0\" class=\"col_heading level0 col0\" >Accuracy</th>\n",
       "      <th id=\"T_f33dd_level0_col1\" class=\"col_heading level0 col1\" >AUC</th>\n",
       "      <th id=\"T_f33dd_level0_col2\" class=\"col_heading level0 col2\" >Recall</th>\n",
       "      <th id=\"T_f33dd_level0_col3\" class=\"col_heading level0 col3\" >Prec.</th>\n",
       "      <th id=\"T_f33dd_level0_col4\" class=\"col_heading level0 col4\" >F1</th>\n",
       "      <th id=\"T_f33dd_level0_col5\" class=\"col_heading level0 col5\" >Kappa</th>\n",
       "      <th id=\"T_f33dd_level0_col6\" class=\"col_heading level0 col6\" >MCC</th>\n",
       "    </tr>\n",
       "    <tr>\n",
       "      <th class=\"index_name level0\" >Fold</th>\n",
       "      <th class=\"blank col0\" >&nbsp;</th>\n",
       "      <th class=\"blank col1\" >&nbsp;</th>\n",
       "      <th class=\"blank col2\" >&nbsp;</th>\n",
       "      <th class=\"blank col3\" >&nbsp;</th>\n",
       "      <th class=\"blank col4\" >&nbsp;</th>\n",
       "      <th class=\"blank col5\" >&nbsp;</th>\n",
       "      <th class=\"blank col6\" >&nbsp;</th>\n",
       "    </tr>\n",
       "  </thead>\n",
       "  <tbody>\n",
       "    <tr>\n",
       "      <th id=\"T_f33dd_level0_row0\" class=\"row_heading level0 row0\" >0</th>\n",
       "      <td id=\"T_f33dd_row0_col0\" class=\"data row0 col0\" >0.8195</td>\n",
       "      <td id=\"T_f33dd_row0_col1\" class=\"data row0 col1\" >0.7925</td>\n",
       "      <td id=\"T_f33dd_row0_col2\" class=\"data row0 col2\" >0.3824</td>\n",
       "      <td id=\"T_f33dd_row0_col3\" class=\"data row0 col3\" >0.6585</td>\n",
       "      <td id=\"T_f33dd_row0_col4\" class=\"data row0 col4\" >0.4839</td>\n",
       "      <td id=\"T_f33dd_row0_col5\" class=\"data row0 col5\" >0.3837</td>\n",
       "      <td id=\"T_f33dd_row0_col6\" class=\"data row0 col6\" >0.4045</td>\n",
       "    </tr>\n",
       "    <tr>\n",
       "      <th id=\"T_f33dd_level0_row1\" class=\"row_heading level0 row1\" >1</th>\n",
       "      <td id=\"T_f33dd_row1_col0\" class=\"data row1 col0\" >0.8264</td>\n",
       "      <td id=\"T_f33dd_row1_col1\" class=\"data row1 col1\" >0.7930</td>\n",
       "      <td id=\"T_f33dd_row1_col2\" class=\"data row1 col2\" >0.3796</td>\n",
       "      <td id=\"T_f33dd_row1_col3\" class=\"data row1 col3\" >0.6979</td>\n",
       "      <td id=\"T_f33dd_row1_col4\" class=\"data row1 col4\" >0.4917</td>\n",
       "      <td id=\"T_f33dd_row1_col5\" class=\"data row1 col5\" >0.3979</td>\n",
       "      <td id=\"T_f33dd_row1_col6\" class=\"data row1 col6\" >0.4248</td>\n",
       "    </tr>\n",
       "    <tr>\n",
       "      <th id=\"T_f33dd_level0_row2\" class=\"row_heading level0 row2\" >2</th>\n",
       "      <td id=\"T_f33dd_row2_col0\" class=\"data row2 col0\" >0.8208</td>\n",
       "      <td id=\"T_f33dd_row2_col1\" class=\"data row2 col1\" >0.8191</td>\n",
       "      <td id=\"T_f33dd_row2_col2\" class=\"data row2 col2\" >0.3881</td>\n",
       "      <td id=\"T_f33dd_row2_col3\" class=\"data row2 col3\" >0.6618</td>\n",
       "      <td id=\"T_f33dd_row2_col4\" class=\"data row2 col4\" >0.4893</td>\n",
       "      <td id=\"T_f33dd_row2_col5\" class=\"data row2 col5\" >0.3895</td>\n",
       "      <td id=\"T_f33dd_row2_col6\" class=\"data row2 col6\" >0.4099</td>\n",
       "    </tr>\n",
       "    <tr>\n",
       "      <th id=\"T_f33dd_level0_row3\" class=\"row_heading level0 row3\" >3</th>\n",
       "      <td id=\"T_f33dd_row3_col0\" class=\"data row3 col0\" >0.8183</td>\n",
       "      <td id=\"T_f33dd_row3_col1\" class=\"data row3 col1\" >0.7749</td>\n",
       "      <td id=\"T_f33dd_row3_col2\" class=\"data row3 col2\" >0.3739</td>\n",
       "      <td id=\"T_f33dd_row3_col3\" class=\"data row3 col3\" >0.6567</td>\n",
       "      <td id=\"T_f33dd_row3_col4\" class=\"data row3 col4\" >0.4765</td>\n",
       "      <td id=\"T_f33dd_row3_col5\" class=\"data row3 col5\" >0.3765</td>\n",
       "      <td id=\"T_f33dd_row3_col6\" class=\"data row3 col6\" >0.3983</td>\n",
       "    </tr>\n",
       "    <tr>\n",
       "      <th id=\"T_f33dd_level0_row4\" class=\"row_heading level0 row4\" >4</th>\n",
       "      <td id=\"T_f33dd_row4_col0\" class=\"data row4 col0\" >0.8246</td>\n",
       "      <td id=\"T_f33dd_row4_col1\" class=\"data row4 col1\" >0.7824</td>\n",
       "      <td id=\"T_f33dd_row4_col2\" class=\"data row4 col2\" >0.3683</td>\n",
       "      <td id=\"T_f33dd_row4_col3\" class=\"data row4 col3\" >0.6952</td>\n",
       "      <td id=\"T_f33dd_row4_col4\" class=\"data row4 col4\" >0.4815</td>\n",
       "      <td id=\"T_f33dd_row4_col5\" class=\"data row4 col5\" >0.3877</td>\n",
       "      <td id=\"T_f33dd_row4_col6\" class=\"data row4 col6\" >0.4161</td>\n",
       "    </tr>\n",
       "    <tr>\n",
       "      <th id=\"T_f33dd_level0_row5\" class=\"row_heading level0 row5\" >5</th>\n",
       "      <td id=\"T_f33dd_row5_col0\" class=\"data row5 col0\" >0.8208</td>\n",
       "      <td id=\"T_f33dd_row5_col1\" class=\"data row5 col1\" >0.7936</td>\n",
       "      <td id=\"T_f33dd_row5_col2\" class=\"data row5 col2\" >0.3796</td>\n",
       "      <td id=\"T_f33dd_row5_col3\" class=\"data row5 col3\" >0.6667</td>\n",
       "      <td id=\"T_f33dd_row5_col4\" class=\"data row5 col4\" >0.4838</td>\n",
       "      <td id=\"T_f33dd_row5_col5\" class=\"data row5 col5\" >0.3851</td>\n",
       "      <td id=\"T_f33dd_row5_col6\" class=\"data row5 col6\" >0.4074</td>\n",
       "    </tr>\n",
       "    <tr>\n",
       "      <th id=\"T_f33dd_level0_row6\" class=\"row_heading level0 row6\" >6</th>\n",
       "      <td id=\"T_f33dd_row6_col0\" class=\"data row6 col0\" >0.8164</td>\n",
       "      <td id=\"T_f33dd_row6_col1\" class=\"data row6 col1\" >0.7554</td>\n",
       "      <td id=\"T_f33dd_row6_col2\" class=\"data row6 col2\" >0.3654</td>\n",
       "      <td id=\"T_f33dd_row6_col3\" class=\"data row6 col3\" >0.6515</td>\n",
       "      <td id=\"T_f33dd_row6_col4\" class=\"data row6 col4\" >0.4682</td>\n",
       "      <td id=\"T_f33dd_row6_col5\" class=\"data row6 col5\" >0.3677</td>\n",
       "      <td id=\"T_f33dd_row6_col6\" class=\"data row6 col6\" >0.3902</td>\n",
       "    </tr>\n",
       "    <tr>\n",
       "      <th id=\"T_f33dd_level0_row7\" class=\"row_heading level0 row7\" >7</th>\n",
       "      <td id=\"T_f33dd_row7_col0\" class=\"data row7 col0\" >0.8308</td>\n",
       "      <td id=\"T_f33dd_row7_col1\" class=\"data row7 col1\" >0.7978</td>\n",
       "      <td id=\"T_f33dd_row7_col2\" class=\"data row7 col2\" >0.3909</td>\n",
       "      <td id=\"T_f33dd_row7_col3\" class=\"data row7 col3\" >0.7150</td>\n",
       "      <td id=\"T_f33dd_row7_col4\" class=\"data row7 col4\" >0.5055</td>\n",
       "      <td id=\"T_f33dd_row7_col5\" class=\"data row7 col5\" >0.4138</td>\n",
       "      <td id=\"T_f33dd_row7_col6\" class=\"data row7 col6\" >0.4413</td>\n",
       "    </tr>\n",
       "    <tr>\n",
       "      <th id=\"T_f33dd_level0_row8\" class=\"row_heading level0 row8\" >8</th>\n",
       "      <td id=\"T_f33dd_row8_col0\" class=\"data row8 col0\" >0.8221</td>\n",
       "      <td id=\"T_f33dd_row8_col1\" class=\"data row8 col1\" >0.7626</td>\n",
       "      <td id=\"T_f33dd_row8_col2\" class=\"data row8 col2\" >0.3711</td>\n",
       "      <td id=\"T_f33dd_row8_col3\" class=\"data row8 col3\" >0.6788</td>\n",
       "      <td id=\"T_f33dd_row8_col4\" class=\"data row8 col4\" >0.4799</td>\n",
       "      <td id=\"T_f33dd_row8_col5\" class=\"data row8 col5\" >0.3834</td>\n",
       "      <td id=\"T_f33dd_row8_col6\" class=\"data row8 col6\" >0.4089</td>\n",
       "    </tr>\n",
       "    <tr>\n",
       "      <th id=\"T_f33dd_level0_row9\" class=\"row_heading level0 row9\" >9</th>\n",
       "      <td id=\"T_f33dd_row9_col0\" class=\"data row9 col0\" >0.8194</td>\n",
       "      <td id=\"T_f33dd_row9_col1\" class=\"data row9 col1\" >0.7884</td>\n",
       "      <td id=\"T_f33dd_row9_col2\" class=\"data row9 col2\" >0.3881</td>\n",
       "      <td id=\"T_f33dd_row9_col3\" class=\"data row9 col3\" >0.6555</td>\n",
       "      <td id=\"T_f33dd_row9_col4\" class=\"data row9 col4\" >0.4875</td>\n",
       "      <td id=\"T_f33dd_row9_col5\" class=\"data row9 col5\" >0.3866</td>\n",
       "      <td id=\"T_f33dd_row9_col6\" class=\"data row9 col6\" >0.4061</td>\n",
       "    </tr>\n",
       "    <tr>\n",
       "      <th id=\"T_f33dd_level0_row10\" class=\"row_heading level0 row10\" >Mean</th>\n",
       "      <td id=\"T_f33dd_row10_col0\" class=\"data row10 col0\" >0.8219</td>\n",
       "      <td id=\"T_f33dd_row10_col1\" class=\"data row10 col1\" >0.7860</td>\n",
       "      <td id=\"T_f33dd_row10_col2\" class=\"data row10 col2\" >0.3788</td>\n",
       "      <td id=\"T_f33dd_row10_col3\" class=\"data row10 col3\" >0.6738</td>\n",
       "      <td id=\"T_f33dd_row10_col4\" class=\"data row10 col4\" >0.4848</td>\n",
       "      <td id=\"T_f33dd_row10_col5\" class=\"data row10 col5\" >0.3872</td>\n",
       "      <td id=\"T_f33dd_row10_col6\" class=\"data row10 col6\" >0.4108</td>\n",
       "    </tr>\n",
       "    <tr>\n",
       "      <th id=\"T_f33dd_level0_row11\" class=\"row_heading level0 row11\" >Std</th>\n",
       "      <td id=\"T_f33dd_row11_col0\" class=\"data row11 col0\" >0.0041</td>\n",
       "      <td id=\"T_f33dd_row11_col1\" class=\"data row11 col1\" >0.0173</td>\n",
       "      <td id=\"T_f33dd_row11_col2\" class=\"data row11 col2\" >0.0084</td>\n",
       "      <td id=\"T_f33dd_row11_col3\" class=\"data row11 col3\" >0.0208</td>\n",
       "      <td id=\"T_f33dd_row11_col4\" class=\"data row11 col4\" >0.0094</td>\n",
       "      <td id=\"T_f33dd_row11_col5\" class=\"data row11 col5\" >0.0116</td>\n",
       "      <td id=\"T_f33dd_row11_col6\" class=\"data row11 col6\" >0.0135</td>\n",
       "    </tr>\n",
       "  </tbody>\n",
       "</table>\n"
      ],
      "text/plain": [
       "<pandas.io.formats.style.Styler at 0x267a3f800a0>"
      ]
     },
     "metadata": {},
     "output_type": "display_data"
    },
    {
     "data": {
      "text/html": [],
      "text/plain": [
       "<IPython.core.display.HTML object>"
      ]
     },
     "metadata": {},
     "output_type": "display_data"
    }
   ],
   "source": [
    "# blend top3 models from compare_models\n",
    "blender_top3 = blend_models(top3)"
   ]
  },
  {
   "cell_type": "code",
   "execution_count": 25,
   "metadata": {
    "pycharm": {
     "name": "#%%\n"
    }
   },
   "outputs": [
    {
     "name": "stdout",
     "output_type": "stream",
     "text": [
      "[GradientBoostingClassifier(ccp_alpha=0.0, criterion='friedman_mse', init=None,\n",
      "                           learning_rate=0.1, loss='log_loss', max_depth=3,\n",
      "                           max_features=None, max_leaf_nodes=None,\n",
      "                           min_impurity_decrease=0.0, min_samples_leaf=1,\n",
      "                           min_samples_split=2, min_weight_fraction_leaf=0.0,\n",
      "                           n_estimators=100, n_iter_no_change=None,\n",
      "                           random_state=123, subsample=1.0, tol=0.0001,\n",
      "                           validation_fraction=0.1, verbose=0,\n",
      "                           warm_start=False), AdaBoostClassifier(algorithm='SAMME.R', base_estimator=None, learning_rate=1.0,\n",
      "                   n_estimators=50, random_state=123), LGBMClassifier(boosting_type='gbdt', class_weight=None, colsample_bytree=1.0,\n",
      "               importance_type='split', learning_rate=0.1, max_depth=-1,\n",
      "               min_child_samples=20, min_child_weight=0.001, min_split_gain=0.0,\n",
      "               n_estimators=100, n_jobs=-1, num_leaves=31, objective=None,\n",
      "               random_state=123, reg_alpha=0.0, reg_lambda=0.0, silent='warn',\n",
      "               subsample=1.0, subsample_for_bin=200000, subsample_freq=0)]\n"
     ]
    }
   ],
   "source": [
    "print(blender_top3.estimators_)"
   ]
  },
  {
   "cell_type": "markdown",
   "metadata": {},
   "source": [
    "# Stack Models"
   ]
  },
  {
   "cell_type": "markdown",
   "metadata": {
    "colab_type": "text",
    "id": "1d2f_8no4EoM",
    "pycharm": {
     "name": "#%% md\n"
    }
   },
   "source": [
    "Stacking is another popular technique for ensembling but is less commonly implemented due to practical difficulties. Stacking is an ensemble learning technique that combines multiple models via a meta-model. Another way to think about stacking is that multiple models are trained to predict the outcome and a meta-model is created that uses the predictions from those models as an input along with the original features. The implementation of `stack_models()` is based on Wolpert, D. H. (1992b). Stacked generalization [(Read More)](https://www.sciencedirect.com/science/article/abs/pii/S0893608005800231). \n",
    "\n",
    "Let's see an example below using the top 3 models we have obtained from `compare_models`:"
   ]
  },
  {
   "cell_type": "code",
   "execution_count": 26,
   "metadata": {
    "colab": {},
    "colab_type": "code",
    "id": "9J975uiz4EoO",
    "outputId": "98f0c6bc-384a-457a-e674-ead66fff0bc1",
    "pycharm": {
     "name": "#%%\n"
    }
   },
   "outputs": [
    {
     "data": {
      "text/html": [],
      "text/plain": [
       "<IPython.core.display.HTML object>"
      ]
     },
     "metadata": {},
     "output_type": "display_data"
    },
    {
     "data": {
      "text/html": [
       "<style type=\"text/css\">\n",
       "#T_31973_row10_col0, #T_31973_row10_col1, #T_31973_row10_col2, #T_31973_row10_col3, #T_31973_row10_col4, #T_31973_row10_col5, #T_31973_row10_col6 {\n",
       "  background: yellow;\n",
       "}\n",
       "</style>\n",
       "<table id=\"T_31973\">\n",
       "  <thead>\n",
       "    <tr>\n",
       "      <th class=\"blank level0\" >&nbsp;</th>\n",
       "      <th id=\"T_31973_level0_col0\" class=\"col_heading level0 col0\" >Accuracy</th>\n",
       "      <th id=\"T_31973_level0_col1\" class=\"col_heading level0 col1\" >AUC</th>\n",
       "      <th id=\"T_31973_level0_col2\" class=\"col_heading level0 col2\" >Recall</th>\n",
       "      <th id=\"T_31973_level0_col3\" class=\"col_heading level0 col3\" >Prec.</th>\n",
       "      <th id=\"T_31973_level0_col4\" class=\"col_heading level0 col4\" >F1</th>\n",
       "      <th id=\"T_31973_level0_col5\" class=\"col_heading level0 col5\" >Kappa</th>\n",
       "      <th id=\"T_31973_level0_col6\" class=\"col_heading level0 col6\" >MCC</th>\n",
       "    </tr>\n",
       "    <tr>\n",
       "      <th class=\"index_name level0\" >Fold</th>\n",
       "      <th class=\"blank col0\" >&nbsp;</th>\n",
       "      <th class=\"blank col1\" >&nbsp;</th>\n",
       "      <th class=\"blank col2\" >&nbsp;</th>\n",
       "      <th class=\"blank col3\" >&nbsp;</th>\n",
       "      <th class=\"blank col4\" >&nbsp;</th>\n",
       "      <th class=\"blank col5\" >&nbsp;</th>\n",
       "      <th class=\"blank col6\" >&nbsp;</th>\n",
       "    </tr>\n",
       "  </thead>\n",
       "  <tbody>\n",
       "    <tr>\n",
       "      <th id=\"T_31973_level0_row0\" class=\"row_heading level0 row0\" >0</th>\n",
       "      <td id=\"T_31973_row0_col0\" class=\"data row0 col0\" >0.8202</td>\n",
       "      <td id=\"T_31973_row0_col1\" class=\"data row0 col1\" >0.7891</td>\n",
       "      <td id=\"T_31973_row0_col2\" class=\"data row0 col2\" >0.3796</td>\n",
       "      <td id=\"T_31973_row0_col3\" class=\"data row0 col3\" >0.6634</td>\n",
       "      <td id=\"T_31973_row0_col4\" class=\"data row0 col4\" >0.4829</td>\n",
       "      <td id=\"T_31973_row0_col5\" class=\"data row0 col5\" >0.3836</td>\n",
       "      <td id=\"T_31973_row0_col6\" class=\"data row0 col6\" >0.4056</td>\n",
       "    </tr>\n",
       "    <tr>\n",
       "      <th id=\"T_31973_level0_row1\" class=\"row_heading level0 row1\" >1</th>\n",
       "      <td id=\"T_31973_row1_col0\" class=\"data row1 col0\" >0.8252</td>\n",
       "      <td id=\"T_31973_row1_col1\" class=\"data row1 col1\" >0.7903</td>\n",
       "      <td id=\"T_31973_row1_col2\" class=\"data row1 col2\" >0.3739</td>\n",
       "      <td id=\"T_31973_row1_col3\" class=\"data row1 col3\" >0.6947</td>\n",
       "      <td id=\"T_31973_row1_col4\" class=\"data row1 col4\" >0.4862</td>\n",
       "      <td id=\"T_31973_row1_col5\" class=\"data row1 col5\" >0.3921</td>\n",
       "      <td id=\"T_31973_row1_col6\" class=\"data row1 col6\" >0.4194</td>\n",
       "    </tr>\n",
       "    <tr>\n",
       "      <th id=\"T_31973_level0_row2\" class=\"row_heading level0 row2\" >2</th>\n",
       "      <td id=\"T_31973_row2_col0\" class=\"data row2 col0\" >0.8246</td>\n",
       "      <td id=\"T_31973_row2_col1\" class=\"data row2 col1\" >0.8193</td>\n",
       "      <td id=\"T_31973_row2_col2\" class=\"data row2 col2\" >0.3938</td>\n",
       "      <td id=\"T_31973_row2_col3\" class=\"data row2 col3\" >0.6780</td>\n",
       "      <td id=\"T_31973_row2_col4\" class=\"data row2 col4\" >0.4982</td>\n",
       "      <td id=\"T_31973_row2_col5\" class=\"data row2 col5\" >0.4008</td>\n",
       "      <td id=\"T_31973_row2_col6\" class=\"data row2 col6\" >0.4226</td>\n",
       "    </tr>\n",
       "    <tr>\n",
       "      <th id=\"T_31973_level0_row3\" class=\"row_heading level0 row3\" >3</th>\n",
       "      <td id=\"T_31973_row3_col0\" class=\"data row3 col0\" >0.8139</td>\n",
       "      <td id=\"T_31973_row3_col1\" class=\"data row3 col1\" >0.7783</td>\n",
       "      <td id=\"T_31973_row3_col2\" class=\"data row3 col2\" >0.3541</td>\n",
       "      <td id=\"T_31973_row3_col3\" class=\"data row3 col3\" >0.6443</td>\n",
       "      <td id=\"T_31973_row3_col4\" class=\"data row3 col4\" >0.4570</td>\n",
       "      <td id=\"T_31973_row3_col5\" class=\"data row3 col5\" >0.3560</td>\n",
       "      <td id=\"T_31973_row3_col6\" class=\"data row3 col6\" >0.3793</td>\n",
       "    </tr>\n",
       "    <tr>\n",
       "      <th id=\"T_31973_level0_row4\" class=\"row_heading level0 row4\" >4</th>\n",
       "      <td id=\"T_31973_row4_col0\" class=\"data row4 col0\" >0.8227</td>\n",
       "      <td id=\"T_31973_row4_col1\" class=\"data row4 col1\" >0.7796</td>\n",
       "      <td id=\"T_31973_row4_col2\" class=\"data row4 col2\" >0.3683</td>\n",
       "      <td id=\"T_31973_row4_col3\" class=\"data row4 col3\" >0.6842</td>\n",
       "      <td id=\"T_31973_row4_col4\" class=\"data row4 col4\" >0.4788</td>\n",
       "      <td id=\"T_31973_row4_col5\" class=\"data row4 col5\" >0.3834</td>\n",
       "      <td id=\"T_31973_row4_col6\" class=\"data row4 col6\" >0.4101</td>\n",
       "    </tr>\n",
       "    <tr>\n",
       "      <th id=\"T_31973_level0_row5\" class=\"row_heading level0 row5\" >5</th>\n",
       "      <td id=\"T_31973_row5_col0\" class=\"data row5 col0\" >0.8233</td>\n",
       "      <td id=\"T_31973_row5_col1\" class=\"data row5 col1\" >0.7987</td>\n",
       "      <td id=\"T_31973_row5_col2\" class=\"data row5 col2\" >0.3853</td>\n",
       "      <td id=\"T_31973_row5_col3\" class=\"data row5 col3\" >0.6766</td>\n",
       "      <td id=\"T_31973_row5_col4\" class=\"data row5 col4\" >0.4910</td>\n",
       "      <td id=\"T_31973_row5_col5\" class=\"data row5 col5\" >0.3937</td>\n",
       "      <td id=\"T_31973_row5_col6\" class=\"data row5 col6\" >0.4165</td>\n",
       "    </tr>\n",
       "    <tr>\n",
       "      <th id=\"T_31973_level0_row6\" class=\"row_heading level0 row6\" >6</th>\n",
       "      <td id=\"T_31973_row6_col0\" class=\"data row6 col0\" >0.8139</td>\n",
       "      <td id=\"T_31973_row6_col1\" class=\"data row6 col1\" >0.7543</td>\n",
       "      <td id=\"T_31973_row6_col2\" class=\"data row6 col2\" >0.3654</td>\n",
       "      <td id=\"T_31973_row6_col3\" class=\"data row6 col3\" >0.6386</td>\n",
       "      <td id=\"T_31973_row6_col4\" class=\"data row6 col4\" >0.4649</td>\n",
       "      <td id=\"T_31973_row6_col5\" class=\"data row6 col5\" >0.3622</td>\n",
       "      <td id=\"T_31973_row6_col6\" class=\"data row6 col6\" >0.3829</td>\n",
       "    </tr>\n",
       "    <tr>\n",
       "      <th id=\"T_31973_level0_row7\" class=\"row_heading level0 row7\" >7</th>\n",
       "      <td id=\"T_31973_row7_col0\" class=\"data row7 col0\" >0.8315</td>\n",
       "      <td id=\"T_31973_row7_col1\" class=\"data row7 col1\" >0.7968</td>\n",
       "      <td id=\"T_31973_row7_col2\" class=\"data row7 col2\" >0.3966</td>\n",
       "      <td id=\"T_31973_row7_col3\" class=\"data row7 col3\" >0.7143</td>\n",
       "      <td id=\"T_31973_row7_col4\" class=\"data row7 col4\" >0.5100</td>\n",
       "      <td id=\"T_31973_row7_col5\" class=\"data row7 col5\" >0.4181</td>\n",
       "      <td id=\"T_31973_row7_col6\" class=\"data row7 col6\" >0.4445</td>\n",
       "    </tr>\n",
       "    <tr>\n",
       "      <th id=\"T_31973_level0_row8\" class=\"row_heading level0 row8\" >8</th>\n",
       "      <td id=\"T_31973_row8_col0\" class=\"data row8 col0\" >0.8252</td>\n",
       "      <td id=\"T_31973_row8_col1\" class=\"data row8 col1\" >0.7529</td>\n",
       "      <td id=\"T_31973_row8_col2\" class=\"data row8 col2\" >0.3796</td>\n",
       "      <td id=\"T_31973_row8_col3\" class=\"data row8 col3\" >0.6907</td>\n",
       "      <td id=\"T_31973_row8_col4\" class=\"data row8 col4\" >0.4899</td>\n",
       "      <td id=\"T_31973_row8_col5\" class=\"data row8 col5\" >0.3950</td>\n",
       "      <td id=\"T_31973_row8_col6\" class=\"data row8 col6\" >0.4208</td>\n",
       "    </tr>\n",
       "    <tr>\n",
       "      <th id=\"T_31973_level0_row9\" class=\"row_heading level0 row9\" >9</th>\n",
       "      <td id=\"T_31973_row9_col0\" class=\"data row9 col0\" >0.8138</td>\n",
       "      <td id=\"T_31973_row9_col1\" class=\"data row9 col1\" >0.7833</td>\n",
       "      <td id=\"T_31973_row9_col2\" class=\"data row9 col2\" >0.3824</td>\n",
       "      <td id=\"T_31973_row9_col3\" class=\"data row9 col3\" >0.6308</td>\n",
       "      <td id=\"T_31973_row9_col4\" class=\"data row9 col4\" >0.4762</td>\n",
       "      <td id=\"T_31973_row9_col5\" class=\"data row9 col5\" >0.3711</td>\n",
       "      <td id=\"T_31973_row9_col6\" class=\"data row9 col6\" >0.3883</td>\n",
       "    </tr>\n",
       "    <tr>\n",
       "      <th id=\"T_31973_level0_row10\" class=\"row_heading level0 row10\" >Mean</th>\n",
       "      <td id=\"T_31973_row10_col0\" class=\"data row10 col0\" >0.8214</td>\n",
       "      <td id=\"T_31973_row10_col1\" class=\"data row10 col1\" >0.7843</td>\n",
       "      <td id=\"T_31973_row10_col2\" class=\"data row10 col2\" >0.3779</td>\n",
       "      <td id=\"T_31973_row10_col3\" class=\"data row10 col3\" >0.6716</td>\n",
       "      <td id=\"T_31973_row10_col4\" class=\"data row10 col4\" >0.4835</td>\n",
       "      <td id=\"T_31973_row10_col5\" class=\"data row10 col5\" >0.3856</td>\n",
       "      <td id=\"T_31973_row10_col6\" class=\"data row10 col6\" >0.4090</td>\n",
       "    </tr>\n",
       "    <tr>\n",
       "      <th id=\"T_31973_level0_row11\" class=\"row_heading level0 row11\" >Std</th>\n",
       "      <td id=\"T_31973_row11_col0\" class=\"data row11 col0\" >0.0056</td>\n",
       "      <td id=\"T_31973_row11_col1\" class=\"data row11 col1\" >0.0190</td>\n",
       "      <td id=\"T_31973_row11_col2\" class=\"data row11 col2\" >0.0123</td>\n",
       "      <td id=\"T_31973_row11_col3\" class=\"data row11 col3\" >0.0255</td>\n",
       "      <td id=\"T_31973_row11_col4\" class=\"data row11 col4\" >0.0147</td>\n",
       "      <td id=\"T_31973_row11_col5\" class=\"data row11 col5\" >0.0177</td>\n",
       "      <td id=\"T_31973_row11_col6\" class=\"data row11 col6\" >0.0194</td>\n",
       "    </tr>\n",
       "  </tbody>\n",
       "</table>\n"
      ],
      "text/plain": [
       "<pandas.io.formats.style.Styler at 0x267a494ef70>"
      ]
     },
     "metadata": {},
     "output_type": "display_data"
    },
    {
     "data": {
      "text/html": [],
      "text/plain": [
       "<IPython.core.display.HTML object>"
      ]
     },
     "metadata": {},
     "output_type": "display_data"
    }
   ],
   "source": [
    "stack_soft = stack_models(top3)"
   ]
  },
  {
   "cell_type": "code",
   "execution_count": 27,
   "metadata": {
    "colab": {},
    "colab_type": "code",
    "id": "WWInYCWI4Eos",
    "outputId": "68f44383-c03f-4793-9835-5e7b644bd3d2",
    "pycharm": {
     "name": "#%%\n"
    }
   },
   "outputs": [
    {
     "data": {
      "text/html": [],
      "text/plain": [
       "<IPython.core.display.HTML object>"
      ]
     },
     "metadata": {},
     "output_type": "display_data"
    },
    {
     "data": {
      "text/html": [
       "<style type=\"text/css\">\n",
       "#T_eb518_row10_col0, #T_eb518_row10_col1, #T_eb518_row10_col2, #T_eb518_row10_col3, #T_eb518_row10_col4, #T_eb518_row10_col5, #T_eb518_row10_col6 {\n",
       "  background: yellow;\n",
       "}\n",
       "</style>\n",
       "<table id=\"T_eb518\">\n",
       "  <thead>\n",
       "    <tr>\n",
       "      <th class=\"blank level0\" >&nbsp;</th>\n",
       "      <th id=\"T_eb518_level0_col0\" class=\"col_heading level0 col0\" >Accuracy</th>\n",
       "      <th id=\"T_eb518_level0_col1\" class=\"col_heading level0 col1\" >AUC</th>\n",
       "      <th id=\"T_eb518_level0_col2\" class=\"col_heading level0 col2\" >Recall</th>\n",
       "      <th id=\"T_eb518_level0_col3\" class=\"col_heading level0 col3\" >Prec.</th>\n",
       "      <th id=\"T_eb518_level0_col4\" class=\"col_heading level0 col4\" >F1</th>\n",
       "      <th id=\"T_eb518_level0_col5\" class=\"col_heading level0 col5\" >Kappa</th>\n",
       "      <th id=\"T_eb518_level0_col6\" class=\"col_heading level0 col6\" >MCC</th>\n",
       "    </tr>\n",
       "    <tr>\n",
       "      <th class=\"index_name level0\" >Fold</th>\n",
       "      <th class=\"blank col0\" >&nbsp;</th>\n",
       "      <th class=\"blank col1\" >&nbsp;</th>\n",
       "      <th class=\"blank col2\" >&nbsp;</th>\n",
       "      <th class=\"blank col3\" >&nbsp;</th>\n",
       "      <th class=\"blank col4\" >&nbsp;</th>\n",
       "      <th class=\"blank col5\" >&nbsp;</th>\n",
       "      <th class=\"blank col6\" >&nbsp;</th>\n",
       "    </tr>\n",
       "  </thead>\n",
       "  <tbody>\n",
       "    <tr>\n",
       "      <th id=\"T_eb518_level0_row0\" class=\"row_heading level0 row0\" >0</th>\n",
       "      <td id=\"T_eb518_row0_col0\" class=\"data row0 col0\" >0.8145</td>\n",
       "      <td id=\"T_eb518_row0_col1\" class=\"data row0 col1\" >0.7586</td>\n",
       "      <td id=\"T_eb518_row0_col2\" class=\"data row0 col2\" >0.3909</td>\n",
       "      <td id=\"T_eb518_row0_col3\" class=\"data row0 col3\" >0.6301</td>\n",
       "      <td id=\"T_eb518_row0_col4\" class=\"data row0 col4\" >0.4825</td>\n",
       "      <td id=\"T_eb518_row0_col5\" class=\"data row0 col5\" >0.3770</td>\n",
       "      <td id=\"T_eb518_row0_col6\" class=\"data row0 col6\" >0.3930</td>\n",
       "    </tr>\n",
       "    <tr>\n",
       "      <th id=\"T_eb518_level0_row1\" class=\"row_heading level0 row1\" >1</th>\n",
       "      <td id=\"T_eb518_row1_col0\" class=\"data row1 col0\" >0.8139</td>\n",
       "      <td id=\"T_eb518_row1_col1\" class=\"data row1 col1\" >0.7713</td>\n",
       "      <td id=\"T_eb518_row1_col2\" class=\"data row1 col2\" >0.3598</td>\n",
       "      <td id=\"T_eb518_row1_col3\" class=\"data row1 col3\" >0.6414</td>\n",
       "      <td id=\"T_eb518_row1_col4\" class=\"data row1 col4\" >0.4610</td>\n",
       "      <td id=\"T_eb518_row1_col5\" class=\"data row1 col5\" >0.3591</td>\n",
       "      <td id=\"T_eb518_row1_col6\" class=\"data row1 col6\" >0.3811</td>\n",
       "    </tr>\n",
       "    <tr>\n",
       "      <th id=\"T_eb518_level0_row2\" class=\"row_heading level0 row2\" >2</th>\n",
       "      <td id=\"T_eb518_row2_col0\" class=\"data row2 col0\" >0.8158</td>\n",
       "      <td id=\"T_eb518_row2_col1\" class=\"data row2 col1\" >0.7994</td>\n",
       "      <td id=\"T_eb518_row2_col2\" class=\"data row2 col2\" >0.3938</td>\n",
       "      <td id=\"T_eb518_row2_col3\" class=\"data row2 col3\" >0.6347</td>\n",
       "      <td id=\"T_eb518_row2_col4\" class=\"data row2 col4\" >0.4860</td>\n",
       "      <td id=\"T_eb518_row2_col5\" class=\"data row2 col5\" >0.3812</td>\n",
       "      <td id=\"T_eb518_row2_col6\" class=\"data row2 col6\" >0.3973</td>\n",
       "    </tr>\n",
       "    <tr>\n",
       "      <th id=\"T_eb518_level0_row3\" class=\"row_heading level0 row3\" >3</th>\n",
       "      <td id=\"T_eb518_row3_col0\" class=\"data row3 col0\" >0.8177</td>\n",
       "      <td id=\"T_eb518_row3_col1\" class=\"data row3 col1\" >0.7459</td>\n",
       "      <td id=\"T_eb518_row3_col2\" class=\"data row3 col2\" >0.3768</td>\n",
       "      <td id=\"T_eb518_row3_col3\" class=\"data row3 col3\" >0.6520</td>\n",
       "      <td id=\"T_eb518_row3_col4\" class=\"data row3 col4\" >0.4776</td>\n",
       "      <td id=\"T_eb518_row3_col5\" class=\"data row3 col5\" >0.3766</td>\n",
       "      <td id=\"T_eb518_row3_col6\" class=\"data row3 col6\" >0.3973</td>\n",
       "    </tr>\n",
       "    <tr>\n",
       "      <th id=\"T_eb518_level0_row4\" class=\"row_heading level0 row4\" >4</th>\n",
       "      <td id=\"T_eb518_row4_col0\" class=\"data row4 col0\" >0.8145</td>\n",
       "      <td id=\"T_eb518_row4_col1\" class=\"data row4 col1\" >0.7579</td>\n",
       "      <td id=\"T_eb518_row4_col2\" class=\"data row4 col2\" >0.3541</td>\n",
       "      <td id=\"T_eb518_row4_col3\" class=\"data row4 col3\" >0.6477</td>\n",
       "      <td id=\"T_eb518_row4_col4\" class=\"data row4 col4\" >0.4579</td>\n",
       "      <td id=\"T_eb518_row4_col5\" class=\"data row4 col5\" >0.3574</td>\n",
       "      <td id=\"T_eb518_row4_col6\" class=\"data row4 col6\" >0.3811</td>\n",
       "    </tr>\n",
       "    <tr>\n",
       "      <th id=\"T_eb518_level0_row5\" class=\"row_heading level0 row5\" >5</th>\n",
       "      <td id=\"T_eb518_row5_col0\" class=\"data row5 col0\" >0.8152</td>\n",
       "      <td id=\"T_eb518_row5_col1\" class=\"data row5 col1\" >0.7679</td>\n",
       "      <td id=\"T_eb518_row5_col2\" class=\"data row5 col2\" >0.3768</td>\n",
       "      <td id=\"T_eb518_row5_col3\" class=\"data row5 col3\" >0.6394</td>\n",
       "      <td id=\"T_eb518_row5_col4\" class=\"data row5 col4\" >0.4742</td>\n",
       "      <td id=\"T_eb518_row5_col5\" class=\"data row5 col5\" >0.3710</td>\n",
       "      <td id=\"T_eb518_row5_col6\" class=\"data row5 col6\" >0.3901</td>\n",
       "    </tr>\n",
       "    <tr>\n",
       "      <th id=\"T_eb518_level0_row6\" class=\"row_heading level0 row6\" >6</th>\n",
       "      <td id=\"T_eb518_row6_col0\" class=\"data row6 col0\" >0.8014</td>\n",
       "      <td id=\"T_eb518_row6_col1\" class=\"data row6 col1\" >0.7507</td>\n",
       "      <td id=\"T_eb518_row6_col2\" class=\"data row6 col2\" >0.3598</td>\n",
       "      <td id=\"T_eb518_row6_col3\" class=\"data row6 col3\" >0.5826</td>\n",
       "      <td id=\"T_eb518_row6_col4\" class=\"data row6 col4\" >0.4448</td>\n",
       "      <td id=\"T_eb518_row6_col5\" class=\"data row6 col5\" >0.3320</td>\n",
       "      <td id=\"T_eb518_row6_col6\" class=\"data row6 col6\" >0.3463</td>\n",
       "    </tr>\n",
       "    <tr>\n",
       "      <th id=\"T_eb518_level0_row7\" class=\"row_heading level0 row7\" >7</th>\n",
       "      <td id=\"T_eb518_row7_col0\" class=\"data row7 col0\" >0.8239</td>\n",
       "      <td id=\"T_eb518_row7_col1\" class=\"data row7 col1\" >0.7840</td>\n",
       "      <td id=\"T_eb518_row7_col2\" class=\"data row7 col2\" >0.3909</td>\n",
       "      <td id=\"T_eb518_row7_col3\" class=\"data row7 col3\" >0.6765</td>\n",
       "      <td id=\"T_eb518_row7_col4\" class=\"data row7 col4\" >0.4955</td>\n",
       "      <td id=\"T_eb518_row7_col5\" class=\"data row7 col5\" >0.3980</td>\n",
       "      <td id=\"T_eb518_row7_col6\" class=\"data row7 col6\" >0.4199</td>\n",
       "    </tr>\n",
       "    <tr>\n",
       "      <th id=\"T_eb518_level0_row8\" class=\"row_heading level0 row8\" >8</th>\n",
       "      <td id=\"T_eb518_row8_col0\" class=\"data row8 col0\" >0.8139</td>\n",
       "      <td id=\"T_eb518_row8_col1\" class=\"data row8 col1\" >0.7372</td>\n",
       "      <td id=\"T_eb518_row8_col2\" class=\"data row8 col2\" >0.3484</td>\n",
       "      <td id=\"T_eb518_row8_col3\" class=\"data row8 col3\" >0.6474</td>\n",
       "      <td id=\"T_eb518_row8_col4\" class=\"data row8 col4\" >0.4530</td>\n",
       "      <td id=\"T_eb518_row8_col5\" class=\"data row8 col5\" >0.3529</td>\n",
       "      <td id=\"T_eb518_row8_col6\" class=\"data row8 col6\" >0.3775</td>\n",
       "    </tr>\n",
       "    <tr>\n",
       "      <th id=\"T_eb518_level0_row9\" class=\"row_heading level0 row9\" >9</th>\n",
       "      <td id=\"T_eb518_row9_col0\" class=\"data row9 col0\" >0.8075</td>\n",
       "      <td id=\"T_eb518_row9_col1\" class=\"data row9 col1\" >0.7757</td>\n",
       "      <td id=\"T_eb518_row9_col2\" class=\"data row9 col2\" >0.3739</td>\n",
       "      <td id=\"T_eb518_row9_col3\" class=\"data row9 col3\" >0.6055</td>\n",
       "      <td id=\"T_eb518_row9_col4\" class=\"data row9 col4\" >0.4623</td>\n",
       "      <td id=\"T_eb518_row9_col5\" class=\"data row9 col5\" >0.3530</td>\n",
       "      <td id=\"T_eb518_row9_col6\" class=\"data row9 col6\" >0.3682</td>\n",
       "    </tr>\n",
       "    <tr>\n",
       "      <th id=\"T_eb518_level0_row10\" class=\"row_heading level0 row10\" >Mean</th>\n",
       "      <td id=\"T_eb518_row10_col0\" class=\"data row10 col0\" >0.8138</td>\n",
       "      <td id=\"T_eb518_row10_col1\" class=\"data row10 col1\" >0.7648</td>\n",
       "      <td id=\"T_eb518_row10_col2\" class=\"data row10 col2\" >0.3725</td>\n",
       "      <td id=\"T_eb518_row10_col3\" class=\"data row10 col3\" >0.6357</td>\n",
       "      <td id=\"T_eb518_row10_col4\" class=\"data row10 col4\" >0.4695</td>\n",
       "      <td id=\"T_eb518_row10_col5\" class=\"data row10 col5\" >0.3658</td>\n",
       "      <td id=\"T_eb518_row10_col6\" class=\"data row10 col6\" >0.3852</td>\n",
       "    </tr>\n",
       "    <tr>\n",
       "      <th id=\"T_eb518_level0_row11\" class=\"row_heading level0 row11\" >Std</th>\n",
       "      <td id=\"T_eb518_row11_col0\" class=\"data row11 col0\" >0.0056</td>\n",
       "      <td id=\"T_eb518_row11_col1\" class=\"data row11 col1\" >0.0177</td>\n",
       "      <td id=\"T_eb518_row11_col2\" class=\"data row11 col2\" >0.0155</td>\n",
       "      <td id=\"T_eb518_row11_col3\" class=\"data row11 col3\" >0.0245</td>\n",
       "      <td id=\"T_eb518_row11_col4\" class=\"data row11 col4\" >0.0153</td>\n",
       "      <td id=\"T_eb518_row11_col5\" class=\"data row11 col5\" >0.0177</td>\n",
       "      <td id=\"T_eb518_row11_col6\" class=\"data row11 col6\" >0.0187</td>\n",
       "    </tr>\n",
       "  </tbody>\n",
       "</table>\n"
      ],
      "text/plain": [
       "<pandas.io.formats.style.Styler at 0x267a3f9fdc0>"
      ]
     },
     "metadata": {},
     "output_type": "display_data"
    },
    {
     "data": {
      "text/html": [],
      "text/plain": [
       "<IPython.core.display.HTML object>"
      ]
     },
     "metadata": {},
     "output_type": "display_data"
    },
    {
     "data": {
      "text/html": [],
      "text/plain": [
       "<IPython.core.display.HTML object>"
      ]
     },
     "metadata": {},
     "output_type": "display_data"
    },
    {
     "data": {
      "text/html": [
       "<style type=\"text/css\">\n",
       "#T_1c09f_row10_col0, #T_1c09f_row10_col1, #T_1c09f_row10_col2, #T_1c09f_row10_col3, #T_1c09f_row10_col4, #T_1c09f_row10_col5, #T_1c09f_row10_col6 {\n",
       "  background: yellow;\n",
       "}\n",
       "</style>\n",
       "<table id=\"T_1c09f\">\n",
       "  <thead>\n",
       "    <tr>\n",
       "      <th class=\"blank level0\" >&nbsp;</th>\n",
       "      <th id=\"T_1c09f_level0_col0\" class=\"col_heading level0 col0\" >Accuracy</th>\n",
       "      <th id=\"T_1c09f_level0_col1\" class=\"col_heading level0 col1\" >AUC</th>\n",
       "      <th id=\"T_1c09f_level0_col2\" class=\"col_heading level0 col2\" >Recall</th>\n",
       "      <th id=\"T_1c09f_level0_col3\" class=\"col_heading level0 col3\" >Prec.</th>\n",
       "      <th id=\"T_1c09f_level0_col4\" class=\"col_heading level0 col4\" >F1</th>\n",
       "      <th id=\"T_1c09f_level0_col5\" class=\"col_heading level0 col5\" >Kappa</th>\n",
       "      <th id=\"T_1c09f_level0_col6\" class=\"col_heading level0 col6\" >MCC</th>\n",
       "    </tr>\n",
       "    <tr>\n",
       "      <th class=\"index_name level0\" >Fold</th>\n",
       "      <th class=\"blank col0\" >&nbsp;</th>\n",
       "      <th class=\"blank col1\" >&nbsp;</th>\n",
       "      <th class=\"blank col2\" >&nbsp;</th>\n",
       "      <th class=\"blank col3\" >&nbsp;</th>\n",
       "      <th class=\"blank col4\" >&nbsp;</th>\n",
       "      <th class=\"blank col5\" >&nbsp;</th>\n",
       "      <th class=\"blank col6\" >&nbsp;</th>\n",
       "    </tr>\n",
       "  </thead>\n",
       "  <tbody>\n",
       "    <tr>\n",
       "      <th id=\"T_1c09f_level0_row0\" class=\"row_heading level0 row0\" >0</th>\n",
       "      <td id=\"T_1c09f_row0_col0\" class=\"data row0 col0\" >0.8177</td>\n",
       "      <td id=\"T_1c09f_row0_col1\" class=\"data row0 col1\" >0.7544</td>\n",
       "      <td id=\"T_1c09f_row0_col2\" class=\"data row0 col2\" >0.3966</td>\n",
       "      <td id=\"T_1c09f_row0_col3\" class=\"data row0 col3\" >0.6422</td>\n",
       "      <td id=\"T_1c09f_row0_col4\" class=\"data row0 col4\" >0.4904</td>\n",
       "      <td id=\"T_1c09f_row0_col5\" class=\"data row0 col5\" >0.3868</td>\n",
       "      <td id=\"T_1c09f_row0_col6\" class=\"data row0 col6\" >0.4035</td>\n",
       "    </tr>\n",
       "    <tr>\n",
       "      <th id=\"T_1c09f_level0_row1\" class=\"row_heading level0 row1\" >1</th>\n",
       "      <td id=\"T_1c09f_row1_col0\" class=\"data row1 col0\" >0.8083</td>\n",
       "      <td id=\"T_1c09f_row1_col1\" class=\"data row1 col1\" >0.7766</td>\n",
       "      <td id=\"T_1c09f_row1_col2\" class=\"data row1 col2\" >0.3569</td>\n",
       "      <td id=\"T_1c09f_row1_col3\" class=\"data row1 col3\" >0.6146</td>\n",
       "      <td id=\"T_1c09f_row1_col4\" class=\"data row1 col4\" >0.4516</td>\n",
       "      <td id=\"T_1c09f_row1_col5\" class=\"data row1 col5\" >0.3452</td>\n",
       "      <td id=\"T_1c09f_row1_col6\" class=\"data row1 col6\" >0.3639</td>\n",
       "    </tr>\n",
       "    <tr>\n",
       "      <th id=\"T_1c09f_level0_row2\" class=\"row_heading level0 row2\" >2</th>\n",
       "      <td id=\"T_1c09f_row2_col0\" class=\"data row2 col0\" >0.8102</td>\n",
       "      <td id=\"T_1c09f_row2_col1\" class=\"data row2 col1\" >0.7824</td>\n",
       "      <td id=\"T_1c09f_row2_col2\" class=\"data row2 col2\" >0.3796</td>\n",
       "      <td id=\"T_1c09f_row2_col3\" class=\"data row2 col3\" >0.6147</td>\n",
       "      <td id=\"T_1c09f_row2_col4\" class=\"data row2 col4\" >0.4694</td>\n",
       "      <td id=\"T_1c09f_row2_col5\" class=\"data row2 col5\" >0.3615</td>\n",
       "      <td id=\"T_1c09f_row2_col6\" class=\"data row2 col6\" >0.3771</td>\n",
       "    </tr>\n",
       "    <tr>\n",
       "      <th id=\"T_1c09f_level0_row3\" class=\"row_heading level0 row3\" >3</th>\n",
       "      <td id=\"T_1c09f_row3_col0\" class=\"data row3 col0\" >0.8127</td>\n",
       "      <td id=\"T_1c09f_row3_col1\" class=\"data row3 col1\" >0.7484</td>\n",
       "      <td id=\"T_1c09f_row3_col2\" class=\"data row3 col2\" >0.3739</td>\n",
       "      <td id=\"T_1c09f_row3_col3\" class=\"data row3 col3\" >0.6286</td>\n",
       "      <td id=\"T_1c09f_row3_col4\" class=\"data row3 col4\" >0.4689</td>\n",
       "      <td id=\"T_1c09f_row3_col5\" class=\"data row3 col5\" >0.3640</td>\n",
       "      <td id=\"T_1c09f_row3_col6\" class=\"data row3 col6\" >0.3821</td>\n",
       "    </tr>\n",
       "    <tr>\n",
       "      <th id=\"T_1c09f_level0_row4\" class=\"row_heading level0 row4\" >4</th>\n",
       "      <td id=\"T_1c09f_row4_col0\" class=\"data row4 col0\" >0.8114</td>\n",
       "      <td id=\"T_1c09f_row4_col1\" class=\"data row4 col1\" >0.7563</td>\n",
       "      <td id=\"T_1c09f_row4_col2\" class=\"data row4 col2\" >0.3456</td>\n",
       "      <td id=\"T_1c09f_row4_col3\" class=\"data row4 col3\" >0.6354</td>\n",
       "      <td id=\"T_1c09f_row4_col4\" class=\"data row4 col4\" >0.4477</td>\n",
       "      <td id=\"T_1c09f_row4_col5\" class=\"data row4 col5\" >0.3457</td>\n",
       "      <td id=\"T_1c09f_row4_col6\" class=\"data row4 col6\" >0.3691</td>\n",
       "    </tr>\n",
       "    <tr>\n",
       "      <th id=\"T_1c09f_level0_row5\" class=\"row_heading level0 row5\" >5</th>\n",
       "      <td id=\"T_1c09f_row5_col0\" class=\"data row5 col0\" >0.8070</td>\n",
       "      <td id=\"T_1c09f_row5_col1\" class=\"data row5 col1\" >0.7685</td>\n",
       "      <td id=\"T_1c09f_row5_col2\" class=\"data row5 col2\" >0.3541</td>\n",
       "      <td id=\"T_1c09f_row5_col3\" class=\"data row5 col3\" >0.6098</td>\n",
       "      <td id=\"T_1c09f_row5_col4\" class=\"data row5 col4\" >0.4480</td>\n",
       "      <td id=\"T_1c09f_row5_col5\" class=\"data row5 col5\" >0.3409</td>\n",
       "      <td id=\"T_1c09f_row5_col6\" class=\"data row5 col6\" >0.3594</td>\n",
       "    </tr>\n",
       "    <tr>\n",
       "      <th id=\"T_1c09f_level0_row6\" class=\"row_heading level0 row6\" >6</th>\n",
       "      <td id=\"T_1c09f_row6_col0\" class=\"data row6 col0\" >0.8020</td>\n",
       "      <td id=\"T_1c09f_row6_col1\" class=\"data row6 col1\" >0.7377</td>\n",
       "      <td id=\"T_1c09f_row6_col2\" class=\"data row6 col2\" >0.3541</td>\n",
       "      <td id=\"T_1c09f_row6_col3\" class=\"data row6 col3\" >0.5869</td>\n",
       "      <td id=\"T_1c09f_row6_col4\" class=\"data row6 col4\" >0.4417</td>\n",
       "      <td id=\"T_1c09f_row6_col5\" class=\"data row6 col5\" >0.3302</td>\n",
       "      <td id=\"T_1c09f_row6_col6\" class=\"data row6 col6\" >0.3458</td>\n",
       "    </tr>\n",
       "    <tr>\n",
       "      <th id=\"T_1c09f_level0_row7\" class=\"row_heading level0 row7\" >7</th>\n",
       "      <td id=\"T_1c09f_row7_col0\" class=\"data row7 col0\" >0.8271</td>\n",
       "      <td id=\"T_1c09f_row7_col1\" class=\"data row7 col1\" >0.7823</td>\n",
       "      <td id=\"T_1c09f_row7_col2\" class=\"data row7 col2\" >0.4136</td>\n",
       "      <td id=\"T_1c09f_row7_col3\" class=\"data row7 col3\" >0.6791</td>\n",
       "      <td id=\"T_1c09f_row7_col4\" class=\"data row7 col4\" >0.5141</td>\n",
       "      <td id=\"T_1c09f_row7_col5\" class=\"data row7 col5\" >0.4164</td>\n",
       "      <td id=\"T_1c09f_row7_col6\" class=\"data row7 col6\" >0.4353</td>\n",
       "    </tr>\n",
       "    <tr>\n",
       "      <th id=\"T_1c09f_level0_row8\" class=\"row_heading level0 row8\" >8</th>\n",
       "      <td id=\"T_1c09f_row8_col0\" class=\"data row8 col0\" >0.8221</td>\n",
       "      <td id=\"T_1c09f_row8_col1\" class=\"data row8 col1\" >0.7376</td>\n",
       "      <td id=\"T_1c09f_row8_col2\" class=\"data row8 col2\" >0.3796</td>\n",
       "      <td id=\"T_1c09f_row8_col3\" class=\"data row8 col3\" >0.6734</td>\n",
       "      <td id=\"T_1c09f_row8_col4\" class=\"data row8 col4\" >0.4855</td>\n",
       "      <td id=\"T_1c09f_row8_col5\" class=\"data row8 col5\" >0.3879</td>\n",
       "      <td id=\"T_1c09f_row8_col6\" class=\"data row8 col6\" >0.4112</td>\n",
       "    </tr>\n",
       "    <tr>\n",
       "      <th id=\"T_1c09f_level0_row9\" class=\"row_heading level0 row9\" >9</th>\n",
       "      <td id=\"T_1c09f_row9_col0\" class=\"data row9 col0\" >0.8056</td>\n",
       "      <td id=\"T_1c09f_row9_col1\" class=\"data row9 col1\" >0.7655</td>\n",
       "      <td id=\"T_1c09f_row9_col2\" class=\"data row9 col2\" >0.3598</td>\n",
       "      <td id=\"T_1c09f_row9_col3\" class=\"data row9 col3\" >0.6019</td>\n",
       "      <td id=\"T_1c09f_row9_col4\" class=\"data row9 col4\" >0.4504</td>\n",
       "      <td id=\"T_1c09f_row9_col5\" class=\"data row9 col5\" >0.3413</td>\n",
       "      <td id=\"T_1c09f_row9_col6\" class=\"data row9 col6\" >0.3580</td>\n",
       "    </tr>\n",
       "    <tr>\n",
       "      <th id=\"T_1c09f_level0_row10\" class=\"row_heading level0 row10\" >Mean</th>\n",
       "      <td id=\"T_1c09f_row10_col0\" class=\"data row10 col0\" >0.8124</td>\n",
       "      <td id=\"T_1c09f_row10_col1\" class=\"data row10 col1\" >0.7610</td>\n",
       "      <td id=\"T_1c09f_row10_col2\" class=\"data row10 col2\" >0.3714</td>\n",
       "      <td id=\"T_1c09f_row10_col3\" class=\"data row10 col3\" >0.6286</td>\n",
       "      <td id=\"T_1c09f_row10_col4\" class=\"data row10 col4\" >0.4668</td>\n",
       "      <td id=\"T_1c09f_row10_col5\" class=\"data row10 col5\" >0.3620</td>\n",
       "      <td id=\"T_1c09f_row10_col6\" class=\"data row10 col6\" >0.3805</td>\n",
       "    </tr>\n",
       "    <tr>\n",
       "      <th id=\"T_1c09f_level0_row11\" class=\"row_heading level0 row11\" >Std</th>\n",
       "      <td id=\"T_1c09f_row11_col0\" class=\"data row11 col0\" >0.0074</td>\n",
       "      <td id=\"T_1c09f_row11_col1\" class=\"data row11 col1\" >0.0160</td>\n",
       "      <td id=\"T_1c09f_row11_col2\" class=\"data row11 col2\" >0.0204</td>\n",
       "      <td id=\"T_1c09f_row11_col3\" class=\"data row11 col3\" >0.0283</td>\n",
       "      <td id=\"T_1c09f_row11_col4\" class=\"data row11 col4\" >0.0224</td>\n",
       "      <td id=\"T_1c09f_row11_col5\" class=\"data row11 col5\" >0.0258</td>\n",
       "      <td id=\"T_1c09f_row11_col6\" class=\"data row11 col6\" >0.0266</td>\n",
       "    </tr>\n",
       "  </tbody>\n",
       "</table>\n"
      ],
      "text/plain": [
       "<pandas.io.formats.style.Styler at 0x267a49ddc40>"
      ]
     },
     "metadata": {},
     "output_type": "display_data"
    },
    {
     "data": {
      "text/html": [],
      "text/plain": [
       "<IPython.core.display.HTML object>"
      ]
     },
     "metadata": {},
     "output_type": "display_data"
    }
   ],
   "source": [
    "xgboost = create_model('xgboost')\n",
    "stack_soft2 = stack_models(top3, meta_model=xgboost)"
   ]
  },
  {
   "cell_type": "markdown",
   "metadata": {
    "colab_type": "text",
    "id": "Yom7721D4Eo0",
    "pycharm": {
     "name": "#%% md\n"
    }
   },
   "source": [
    "Selecting which `method` and `models` to use in stacking depends on the statistical properties of the dataset. Experimenting with different models and methods is the best way to find out which configuration will work best. However as a general rule of thumb, models with strong yet diverse performance tend to improve results when used in stacking. </br>\n",
    "\n",
    "Before we wrap up this section, there is another parameter in `stack_models()` that we haven't seen yet called `restack`. This parameter controls the ability to expose the raw data to the meta model. When set to `True`, it exposes the raw data to the meta model along with all the predictions of the base level models. By default it is set to `True`."
   ]
  },
  {
   "cell_type": "markdown",
   "metadata": {
    "colab_type": "text",
    "id": "bhtJHidg4EpR",
    "pycharm": {
     "name": "#%% md\n"
    }
   },
   "source": [
    "# Calibrate Model"
   ]
  },
  {
   "cell_type": "markdown",
   "metadata": {
    "colab_type": "text",
    "id": "91jxBYw-4EpV",
    "pycharm": {
     "name": "#%% md\n"
    }
   },
   "source": [
    "When performing classification you often not only want to predict the class label (outcome such as 0 or 1), but also obtain the probability of the respective outcome which provides a level of confidence on the prediction. Some models can give you poor estimates of the class probabilities and some do not even support probability prediction. Well calibrated classifiers are probabilistic and provide outputs in the form of probabilities that can be directly interpreted as a confidence level. PyCaret allows you to calibrate the probabilities of a given model through the `calibrate_model()` function. See an example below:"
   ]
  },
  {
   "cell_type": "code",
   "execution_count": 28,
   "metadata": {
    "colab": {},
    "colab_type": "code",
    "id": "-_SM3psW4Epi",
    "outputId": "0589cc46-384f-4461-8ad1-8b857c271937",
    "pycharm": {
     "name": "#%%\n"
    }
   },
   "outputs": [
    {
     "data": {
      "text/html": [],
      "text/plain": [
       "<IPython.core.display.HTML object>"
      ]
     },
     "metadata": {},
     "output_type": "display_data"
    },
    {
     "data": {
      "text/html": [
       "<style type=\"text/css\">\n",
       "#T_b8e8f_row10_col0, #T_b8e8f_row10_col1, #T_b8e8f_row10_col2, #T_b8e8f_row10_col3, #T_b8e8f_row10_col4, #T_b8e8f_row10_col5, #T_b8e8f_row10_col6 {\n",
       "  background: yellow;\n",
       "}\n",
       "</style>\n",
       "<table id=\"T_b8e8f\">\n",
       "  <thead>\n",
       "    <tr>\n",
       "      <th class=\"blank level0\" >&nbsp;</th>\n",
       "      <th id=\"T_b8e8f_level0_col0\" class=\"col_heading level0 col0\" >Accuracy</th>\n",
       "      <th id=\"T_b8e8f_level0_col1\" class=\"col_heading level0 col1\" >AUC</th>\n",
       "      <th id=\"T_b8e8f_level0_col2\" class=\"col_heading level0 col2\" >Recall</th>\n",
       "      <th id=\"T_b8e8f_level0_col3\" class=\"col_heading level0 col3\" >Prec.</th>\n",
       "      <th id=\"T_b8e8f_level0_col4\" class=\"col_heading level0 col4\" >F1</th>\n",
       "      <th id=\"T_b8e8f_level0_col5\" class=\"col_heading level0 col5\" >Kappa</th>\n",
       "      <th id=\"T_b8e8f_level0_col6\" class=\"col_heading level0 col6\" >MCC</th>\n",
       "    </tr>\n",
       "    <tr>\n",
       "      <th class=\"index_name level0\" >Fold</th>\n",
       "      <th class=\"blank col0\" >&nbsp;</th>\n",
       "      <th class=\"blank col1\" >&nbsp;</th>\n",
       "      <th class=\"blank col2\" >&nbsp;</th>\n",
       "      <th class=\"blank col3\" >&nbsp;</th>\n",
       "      <th class=\"blank col4\" >&nbsp;</th>\n",
       "      <th class=\"blank col5\" >&nbsp;</th>\n",
       "      <th class=\"blank col6\" >&nbsp;</th>\n",
       "    </tr>\n",
       "  </thead>\n",
       "  <tbody>\n",
       "    <tr>\n",
       "      <th id=\"T_b8e8f_level0_row0\" class=\"row_heading level0 row0\" >0</th>\n",
       "      <td id=\"T_b8e8f_row0_col0\" class=\"data row0 col0\" >0.8158</td>\n",
       "      <td id=\"T_b8e8f_row0_col1\" class=\"data row0 col1\" >0.7702</td>\n",
       "      <td id=\"T_b8e8f_row0_col2\" class=\"data row0 col2\" >0.3909</td>\n",
       "      <td id=\"T_b8e8f_row0_col3\" class=\"data row0 col3\" >0.6359</td>\n",
       "      <td id=\"T_b8e8f_row0_col4\" class=\"data row0 col4\" >0.4842</td>\n",
       "      <td id=\"T_b8e8f_row0_col5\" class=\"data row0 col5\" >0.3798</td>\n",
       "      <td id=\"T_b8e8f_row0_col6\" class=\"data row0 col6\" >0.3964</td>\n",
       "    </tr>\n",
       "    <tr>\n",
       "      <th id=\"T_b8e8f_level0_row1\" class=\"row_heading level0 row1\" >1</th>\n",
       "      <td id=\"T_b8e8f_row1_col0\" class=\"data row1 col0\" >0.8133</td>\n",
       "      <td id=\"T_b8e8f_row1_col1\" class=\"data row1 col1\" >0.7676</td>\n",
       "      <td id=\"T_b8e8f_row1_col2\" class=\"data row1 col2\" >0.3598</td>\n",
       "      <td id=\"T_b8e8f_row1_col3\" class=\"data row1 col3\" >0.6382</td>\n",
       "      <td id=\"T_b8e8f_row1_col4\" class=\"data row1 col4\" >0.4601</td>\n",
       "      <td id=\"T_b8e8f_row1_col5\" class=\"data row1 col5\" >0.3577</td>\n",
       "      <td id=\"T_b8e8f_row1_col6\" class=\"data row1 col6\" >0.3792</td>\n",
       "    </tr>\n",
       "    <tr>\n",
       "      <th id=\"T_b8e8f_level0_row2\" class=\"row_heading level0 row2\" >2</th>\n",
       "      <td id=\"T_b8e8f_row2_col0\" class=\"data row2 col0\" >0.8233</td>\n",
       "      <td id=\"T_b8e8f_row2_col1\" class=\"data row2 col1\" >0.7998</td>\n",
       "      <td id=\"T_b8e8f_row2_col2\" class=\"data row2 col2\" >0.4136</td>\n",
       "      <td id=\"T_b8e8f_row2_col3\" class=\"data row2 col3\" >0.6606</td>\n",
       "      <td id=\"T_b8e8f_row2_col4\" class=\"data row2 col4\" >0.5087</td>\n",
       "      <td id=\"T_b8e8f_row2_col5\" class=\"data row2 col5\" >0.4079</td>\n",
       "      <td id=\"T_b8e8f_row2_col6\" class=\"data row2 col6\" >0.4245</td>\n",
       "    </tr>\n",
       "    <tr>\n",
       "      <th id=\"T_b8e8f_level0_row3\" class=\"row_heading level0 row3\" >3</th>\n",
       "      <td id=\"T_b8e8f_row3_col0\" class=\"data row3 col0\" >0.8120</td>\n",
       "      <td id=\"T_b8e8f_row3_col1\" class=\"data row3 col1\" >0.7430</td>\n",
       "      <td id=\"T_b8e8f_row3_col2\" class=\"data row3 col2\" >0.3598</td>\n",
       "      <td id=\"T_b8e8f_row3_col3\" class=\"data row3 col3\" >0.6318</td>\n",
       "      <td id=\"T_b8e8f_row3_col4\" class=\"data row3 col4\" >0.4585</td>\n",
       "      <td id=\"T_b8e8f_row3_col5\" class=\"data row3 col5\" >0.3550</td>\n",
       "      <td id=\"T_b8e8f_row3_col6\" class=\"data row3 col6\" >0.3756</td>\n",
       "    </tr>\n",
       "    <tr>\n",
       "      <th id=\"T_b8e8f_level0_row4\" class=\"row_heading level0 row4\" >4</th>\n",
       "      <td id=\"T_b8e8f_row4_col0\" class=\"data row4 col0\" >0.8089</td>\n",
       "      <td id=\"T_b8e8f_row4_col1\" class=\"data row4 col1\" >0.7607</td>\n",
       "      <td id=\"T_b8e8f_row4_col2\" class=\"data row4 col2\" >0.3258</td>\n",
       "      <td id=\"T_b8e8f_row4_col3\" class=\"data row4 col3\" >0.6319</td>\n",
       "      <td id=\"T_b8e8f_row4_col4\" class=\"data row4 col4\" >0.4299</td>\n",
       "      <td id=\"T_b8e8f_row4_col5\" class=\"data row4 col5\" >0.3289</td>\n",
       "      <td id=\"T_b8e8f_row4_col6\" class=\"data row4 col6\" >0.3550</td>\n",
       "    </tr>\n",
       "    <tr>\n",
       "      <th id=\"T_b8e8f_level0_row5\" class=\"row_heading level0 row5\" >5</th>\n",
       "      <td id=\"T_b8e8f_row5_col0\" class=\"data row5 col0\" >0.8133</td>\n",
       "      <td id=\"T_b8e8f_row5_col1\" class=\"data row5 col1\" >0.7765</td>\n",
       "      <td id=\"T_b8e8f_row5_col2\" class=\"data row5 col2\" >0.3513</td>\n",
       "      <td id=\"T_b8e8f_row5_col3\" class=\"data row5 col3\" >0.6425</td>\n",
       "      <td id=\"T_b8e8f_row5_col4\" class=\"data row5 col4\" >0.4542</td>\n",
       "      <td id=\"T_b8e8f_row5_col5\" class=\"data row5 col5\" >0.3531</td>\n",
       "      <td id=\"T_b8e8f_row5_col6\" class=\"data row5 col6\" >0.3765</td>\n",
       "    </tr>\n",
       "    <tr>\n",
       "      <th id=\"T_b8e8f_level0_row6\" class=\"row_heading level0 row6\" >6</th>\n",
       "      <td id=\"T_b8e8f_row6_col0\" class=\"data row6 col0\" >0.8076</td>\n",
       "      <td id=\"T_b8e8f_row6_col1\" class=\"data row6 col1\" >0.7496</td>\n",
       "      <td id=\"T_b8e8f_row6_col2\" class=\"data row6 col2\" >0.3654</td>\n",
       "      <td id=\"T_b8e8f_row6_col3\" class=\"data row6 col3\" >0.6085</td>\n",
       "      <td id=\"T_b8e8f_row6_col4\" class=\"data row6 col4\" >0.4566</td>\n",
       "      <td id=\"T_b8e8f_row6_col5\" class=\"data row6 col5\" >0.3485</td>\n",
       "      <td id=\"T_b8e8f_row6_col6\" class=\"data row6 col6\" >0.3652</td>\n",
       "    </tr>\n",
       "    <tr>\n",
       "      <th id=\"T_b8e8f_level0_row7\" class=\"row_heading level0 row7\" >7</th>\n",
       "      <td id=\"T_b8e8f_row7_col0\" class=\"data row7 col0\" >0.8208</td>\n",
       "      <td id=\"T_b8e8f_row7_col1\" class=\"data row7 col1\" >0.7816</td>\n",
       "      <td id=\"T_b8e8f_row7_col2\" class=\"data row7 col2\" >0.3739</td>\n",
       "      <td id=\"T_b8e8f_row7_col3\" class=\"data row7 col3\" >0.6701</td>\n",
       "      <td id=\"T_b8e8f_row7_col4\" class=\"data row7 col4\" >0.4800</td>\n",
       "      <td id=\"T_b8e8f_row7_col5\" class=\"data row7 col5\" >0.3821</td>\n",
       "      <td id=\"T_b8e8f_row7_col6\" class=\"data row7 col6\" >0.4058</td>\n",
       "    </tr>\n",
       "    <tr>\n",
       "      <th id=\"T_b8e8f_level0_row8\" class=\"row_heading level0 row8\" >8</th>\n",
       "      <td id=\"T_b8e8f_row8_col0\" class=\"data row8 col0\" >0.8177</td>\n",
       "      <td id=\"T_b8e8f_row8_col1\" class=\"data row8 col1\" >0.7573</td>\n",
       "      <td id=\"T_b8e8f_row8_col2\" class=\"data row8 col2\" >0.3654</td>\n",
       "      <td id=\"T_b8e8f_row8_col3\" class=\"data row8 col3\" >0.6582</td>\n",
       "      <td id=\"T_b8e8f_row8_col4\" class=\"data row8 col4\" >0.4699</td>\n",
       "      <td id=\"T_b8e8f_row8_col5\" class=\"data row8 col5\" >0.3705</td>\n",
       "      <td id=\"T_b8e8f_row8_col6\" class=\"data row8 col6\" >0.3939</td>\n",
       "    </tr>\n",
       "    <tr>\n",
       "      <th id=\"T_b8e8f_level0_row9\" class=\"row_heading level0 row9\" >9</th>\n",
       "      <td id=\"T_b8e8f_row9_col0\" class=\"data row9 col0\" >0.8075</td>\n",
       "      <td id=\"T_b8e8f_row9_col1\" class=\"data row9 col1\" >0.7709</td>\n",
       "      <td id=\"T_b8e8f_row9_col2\" class=\"data row9 col2\" >0.3796</td>\n",
       "      <td id=\"T_b8e8f_row9_col3\" class=\"data row9 col3\" >0.6036</td>\n",
       "      <td id=\"T_b8e8f_row9_col4\" class=\"data row9 col4\" >0.4661</td>\n",
       "      <td id=\"T_b8e8f_row9_col5\" class=\"data row9 col5\" >0.3560</td>\n",
       "      <td id=\"T_b8e8f_row9_col6\" class=\"data row9 col6\" >0.3703</td>\n",
       "    </tr>\n",
       "    <tr>\n",
       "      <th id=\"T_b8e8f_level0_row10\" class=\"row_heading level0 row10\" >Mean</th>\n",
       "      <td id=\"T_b8e8f_row10_col0\" class=\"data row10 col0\" >0.8140</td>\n",
       "      <td id=\"T_b8e8f_row10_col1\" class=\"data row10 col1\" >0.7677</td>\n",
       "      <td id=\"T_b8e8f_row10_col2\" class=\"data row10 col2\" >0.3686</td>\n",
       "      <td id=\"T_b8e8f_row10_col3\" class=\"data row10 col3\" >0.6381</td>\n",
       "      <td id=\"T_b8e8f_row10_col4\" class=\"data row10 col4\" >0.4668</td>\n",
       "      <td id=\"T_b8e8f_row10_col5\" class=\"data row10 col5\" >0.3639</td>\n",
       "      <td id=\"T_b8e8f_row10_col6\" class=\"data row10 col6\" >0.3843</td>\n",
       "    </tr>\n",
       "    <tr>\n",
       "      <th id=\"T_b8e8f_level0_row11\" class=\"row_heading level0 row11\" >Std</th>\n",
       "      <td id=\"T_b8e8f_row11_col0\" class=\"data row11 col0\" >0.0051</td>\n",
       "      <td id=\"T_b8e8f_row11_col1\" class=\"data row11 col1\" >0.0155</td>\n",
       "      <td id=\"T_b8e8f_row11_col2\" class=\"data row11 col2\" >0.0223</td>\n",
       "      <td id=\"T_b8e8f_row11_col3\" class=\"data row11 col3\" >0.0202</td>\n",
       "      <td id=\"T_b8e8f_row11_col4\" class=\"data row11 col4\" >0.0200</td>\n",
       "      <td id=\"T_b8e8f_row11_col5\" class=\"data row11 col5\" >0.0208</td>\n",
       "      <td id=\"T_b8e8f_row11_col6\" class=\"data row11 col6\" >0.0197</td>\n",
       "    </tr>\n",
       "  </tbody>\n",
       "</table>\n"
      ],
      "text/plain": [
       "<pandas.io.formats.style.Styler at 0x267a4aecb50>"
      ]
     },
     "metadata": {},
     "output_type": "display_data"
    },
    {
     "data": {
      "text/html": [],
      "text/plain": [
       "<IPython.core.display.HTML object>"
      ]
     },
     "metadata": {},
     "output_type": "display_data"
    }
   ],
   "source": [
    "rf = create_model('rf')"
   ]
  },
  {
   "cell_type": "code",
   "execution_count": 29,
   "metadata": {
    "colab": {},
    "colab_type": "code",
    "id": "NS2vjyxl4Ep4",
    "outputId": "45762432-0575-49e2-e5a9-712b02d4d916",
    "pycharm": {
     "name": "#%%\n"
    }
   },
   "outputs": [
    {
     "data": {
      "text/html": [],
      "text/plain": [
       "<IPython.core.display.HTML object>"
      ]
     },
     "metadata": {},
     "output_type": "display_data"
    },
    {
     "data": {
      "image/png": "[encoded data removed]",
      "text/plain": [
       "<Figure size 700x600 with 1 Axes>"
      ]
     },
     "metadata": {},
     "output_type": "display_data"
    }
   ],
   "source": [
    "plot_model(rf, plot='calibration')"
   ]
  },
  {
   "cell_type": "code",
   "execution_count": 30,
   "metadata": {
    "colab": {},
    "colab_type": "code",
    "id": "mVB60azT4EqJ",
    "outputId": "ec5f17d2-267e-44ad-d828-40d9b91b70f1",
    "pycharm": {
     "name": "#%%\n"
    }
   },
   "outputs": [
    {
     "data": {
      "text/html": [],
      "text/plain": [
       "<IPython.core.display.HTML object>"
      ]
     },
     "metadata": {},
     "output_type": "display_data"
    },
    {
     "data": {
      "text/html": [
       "<style type=\"text/css\">\n",
       "#T_be868_row10_col0, #T_be868_row10_col1, #T_be868_row10_col2, #T_be868_row10_col3, #T_be868_row10_col4, #T_be868_row10_col5, #T_be868_row10_col6 {\n",
       "  background: yellow;\n",
       "}\n",
       "</style>\n",
       "<table id=\"T_be868\">\n",
       "  <thead>\n",
       "    <tr>\n",
       "      <th class=\"blank level0\" >&nbsp;</th>\n",
       "      <th id=\"T_be868_level0_col0\" class=\"col_heading level0 col0\" >Accuracy</th>\n",
       "      <th id=\"T_be868_level0_col1\" class=\"col_heading level0 col1\" >AUC</th>\n",
       "      <th id=\"T_be868_level0_col2\" class=\"col_heading level0 col2\" >Recall</th>\n",
       "      <th id=\"T_be868_level0_col3\" class=\"col_heading level0 col3\" >Prec.</th>\n",
       "      <th id=\"T_be868_level0_col4\" class=\"col_heading level0 col4\" >F1</th>\n",
       "      <th id=\"T_be868_level0_col5\" class=\"col_heading level0 col5\" >Kappa</th>\n",
       "      <th id=\"T_be868_level0_col6\" class=\"col_heading level0 col6\" >MCC</th>\n",
       "    </tr>\n",
       "    <tr>\n",
       "      <th class=\"index_name level0\" >Fold</th>\n",
       "      <th class=\"blank col0\" >&nbsp;</th>\n",
       "      <th class=\"blank col1\" >&nbsp;</th>\n",
       "      <th class=\"blank col2\" >&nbsp;</th>\n",
       "      <th class=\"blank col3\" >&nbsp;</th>\n",
       "      <th class=\"blank col4\" >&nbsp;</th>\n",
       "      <th class=\"blank col5\" >&nbsp;</th>\n",
       "      <th class=\"blank col6\" >&nbsp;</th>\n",
       "    </tr>\n",
       "  </thead>\n",
       "  <tbody>\n",
       "    <tr>\n",
       "      <th id=\"T_be868_level0_row0\" class=\"row_heading level0 row0\" >0</th>\n",
       "      <td id=\"T_be868_row0_col0\" class=\"data row0 col0\" >0.8227</td>\n",
       "      <td id=\"T_be868_row0_col1\" class=\"data row0 col1\" >0.7760</td>\n",
       "      <td id=\"T_be868_row0_col2\" class=\"data row0 col2\" >0.3626</td>\n",
       "      <td id=\"T_be868_row0_col3\" class=\"data row0 col3\" >0.6882</td>\n",
       "      <td id=\"T_be868_row0_col4\" class=\"data row0 col4\" >0.4750</td>\n",
       "      <td id=\"T_be868_row0_col5\" class=\"data row0 col5\" >0.3804</td>\n",
       "      <td id=\"T_be868_row0_col6\" class=\"data row0 col6\" >0.4087</td>\n",
       "    </tr>\n",
       "    <tr>\n",
       "      <th id=\"T_be868_level0_row1\" class=\"row_heading level0 row1\" >1</th>\n",
       "      <td id=\"T_be868_row1_col0\" class=\"data row1 col0\" >0.8139</td>\n",
       "      <td id=\"T_be868_row1_col1\" class=\"data row1 col1\" >0.7777</td>\n",
       "      <td id=\"T_be868_row1_col2\" class=\"data row1 col2\" >0.3201</td>\n",
       "      <td id=\"T_be868_row1_col3\" class=\"data row1 col3\" >0.6647</td>\n",
       "      <td id=\"T_be868_row1_col4\" class=\"data row1 col4\" >0.4321</td>\n",
       "      <td id=\"T_be868_row1_col5\" class=\"data row1 col5\" >0.3368</td>\n",
       "      <td id=\"T_be868_row1_col6\" class=\"data row1 col6\" >0.3690</td>\n",
       "    </tr>\n",
       "    <tr>\n",
       "      <th id=\"T_be868_level0_row2\" class=\"row_heading level0 row2\" >2</th>\n",
       "      <td id=\"T_be868_row2_col0\" class=\"data row2 col0\" >0.8164</td>\n",
       "      <td id=\"T_be868_row2_col1\" class=\"data row2 col1\" >0.8033</td>\n",
       "      <td id=\"T_be868_row2_col2\" class=\"data row2 col2\" >0.3626</td>\n",
       "      <td id=\"T_be868_row2_col3\" class=\"data row2 col3\" >0.6531</td>\n",
       "      <td id=\"T_be868_row2_col4\" class=\"data row2 col4\" >0.4663</td>\n",
       "      <td id=\"T_be868_row2_col5\" class=\"data row2 col5\" >0.3662</td>\n",
       "      <td id=\"T_be868_row2_col6\" class=\"data row2 col6\" >0.3894</td>\n",
       "    </tr>\n",
       "    <tr>\n",
       "      <th id=\"T_be868_level0_row3\" class=\"row_heading level0 row3\" >3</th>\n",
       "      <td id=\"T_be868_row3_col0\" class=\"data row3 col0\" >0.8133</td>\n",
       "      <td id=\"T_be868_row3_col1\" class=\"data row3 col1\" >0.7541</td>\n",
       "      <td id=\"T_be868_row3_col2\" class=\"data row3 col2\" >0.3286</td>\n",
       "      <td id=\"T_be868_row3_col3\" class=\"data row3 col3\" >0.6554</td>\n",
       "      <td id=\"T_be868_row3_col4\" class=\"data row3 col4\" >0.4377</td>\n",
       "      <td id=\"T_be868_row3_col5\" class=\"data row3 col5\" >0.3403</td>\n",
       "      <td id=\"T_be868_row3_col6\" class=\"data row3 col6\" >0.3695</td>\n",
       "    </tr>\n",
       "    <tr>\n",
       "      <th id=\"T_be868_level0_row4\" class=\"row_heading level0 row4\" >4</th>\n",
       "      <td id=\"T_be868_row4_col0\" class=\"data row4 col0\" >0.8127</td>\n",
       "      <td id=\"T_be868_row4_col1\" class=\"data row4 col1\" >0.7639</td>\n",
       "      <td id=\"T_be868_row4_col2\" class=\"data row4 col2\" >0.3144</td>\n",
       "      <td id=\"T_be868_row4_col3\" class=\"data row4 col3\" >0.6607</td>\n",
       "      <td id=\"T_be868_row4_col4\" class=\"data row4 col4\" >0.4261</td>\n",
       "      <td id=\"T_be868_row4_col5\" class=\"data row4 col5\" >0.3306</td>\n",
       "      <td id=\"T_be868_row4_col6\" class=\"data row4 col6\" >0.3632</td>\n",
       "    </tr>\n",
       "    <tr>\n",
       "      <th id=\"T_be868_level0_row5\" class=\"row_heading level0 row5\" >5</th>\n",
       "      <td id=\"T_be868_row5_col0\" class=\"data row5 col0\" >0.8145</td>\n",
       "      <td id=\"T_be868_row5_col1\" class=\"data row5 col1\" >0.7804</td>\n",
       "      <td id=\"T_be868_row5_col2\" class=\"data row5 col2\" >0.3116</td>\n",
       "      <td id=\"T_be868_row5_col3\" class=\"data row5 col3\" >0.6748</td>\n",
       "      <td id=\"T_be868_row5_col4\" class=\"data row5 col4\" >0.4264</td>\n",
       "      <td id=\"T_be868_row5_col5\" class=\"data row5 col5\" >0.3332</td>\n",
       "      <td id=\"T_be868_row5_col6\" class=\"data row5 col6\" >0.3687</td>\n",
       "    </tr>\n",
       "    <tr>\n",
       "      <th id=\"T_be868_level0_row6\" class=\"row_heading level0 row6\" >6</th>\n",
       "      <td id=\"T_be868_row6_col0\" class=\"data row6 col0\" >0.8152</td>\n",
       "      <td id=\"T_be868_row6_col1\" class=\"data row6 col1\" >0.7477</td>\n",
       "      <td id=\"T_be868_row6_col2\" class=\"data row6 col2\" >0.3399</td>\n",
       "      <td id=\"T_be868_row6_col3\" class=\"data row6 col3\" >0.6593</td>\n",
       "      <td id=\"T_be868_row6_col4\" class=\"data row6 col4\" >0.4486</td>\n",
       "      <td id=\"T_be868_row6_col5\" class=\"data row6 col5\" >0.3509</td>\n",
       "      <td id=\"T_be868_row6_col6\" class=\"data row6 col6\" >0.3788</td>\n",
       "    </tr>\n",
       "    <tr>\n",
       "      <th id=\"T_be868_level0_row7\" class=\"row_heading level0 row7\" >7</th>\n",
       "      <td id=\"T_be868_row7_col0\" class=\"data row7 col0\" >0.8233</td>\n",
       "      <td id=\"T_be868_row7_col1\" class=\"data row7 col1\" >0.7904</td>\n",
       "      <td id=\"T_be868_row7_col2\" class=\"data row7 col2\" >0.3286</td>\n",
       "      <td id=\"T_be868_row7_col3\" class=\"data row7 col3\" >0.7205</td>\n",
       "      <td id=\"T_be868_row7_col4\" class=\"data row7 col4\" >0.4514</td>\n",
       "      <td id=\"T_be868_row7_col5\" class=\"data row7 col5\" >0.3631</td>\n",
       "      <td id=\"T_be868_row7_col6\" class=\"data row7 col6\" >0.4030</td>\n",
       "    </tr>\n",
       "    <tr>\n",
       "      <th id=\"T_be868_level0_row8\" class=\"row_heading level0 row8\" >8</th>\n",
       "      <td id=\"T_be868_row8_col0\" class=\"data row8 col0\" >0.8158</td>\n",
       "      <td id=\"T_be868_row8_col1\" class=\"data row8 col1\" >0.7609</td>\n",
       "      <td id=\"T_be868_row8_col2\" class=\"data row8 col2\" >0.3173</td>\n",
       "      <td id=\"T_be868_row8_col3\" class=\"data row8 col3\" >0.6788</td>\n",
       "      <td id=\"T_be868_row8_col4\" class=\"data row8 col4\" >0.4324</td>\n",
       "      <td id=\"T_be868_row8_col5\" class=\"data row8 col5\" >0.3393</td>\n",
       "      <td id=\"T_be868_row8_col6\" class=\"data row8 col6\" >0.3744</td>\n",
       "    </tr>\n",
       "    <tr>\n",
       "      <th id=\"T_be868_level0_row9\" class=\"row_heading level0 row9\" >9</th>\n",
       "      <td id=\"T_be868_row9_col0\" class=\"data row9 col0\" >0.8119</td>\n",
       "      <td id=\"T_be868_row9_col1\" class=\"data row9 col1\" >0.7710</td>\n",
       "      <td id=\"T_be868_row9_col2\" class=\"data row9 col2\" >0.3371</td>\n",
       "      <td id=\"T_be868_row9_col3\" class=\"data row9 col3\" >0.6432</td>\n",
       "      <td id=\"T_be868_row9_col4\" class=\"data row9 col4\" >0.4424</td>\n",
       "      <td id=\"T_be868_row9_col5\" class=\"data row9 col5\" >0.3423</td>\n",
       "      <td id=\"T_be868_row9_col6\" class=\"data row9 col6\" >0.3682</td>\n",
       "    </tr>\n",
       "    <tr>\n",
       "      <th id=\"T_be868_level0_row10\" class=\"row_heading level0 row10\" >Mean</th>\n",
       "      <td id=\"T_be868_row10_col0\" class=\"data row10 col0\" >0.8160</td>\n",
       "      <td id=\"T_be868_row10_col1\" class=\"data row10 col1\" >0.7726</td>\n",
       "      <td id=\"T_be868_row10_col2\" class=\"data row10 col2\" >0.3323</td>\n",
       "      <td id=\"T_be868_row10_col3\" class=\"data row10 col3\" >0.6699</td>\n",
       "      <td id=\"T_be868_row10_col4\" class=\"data row10 col4\" >0.4438</td>\n",
       "      <td id=\"T_be868_row10_col5\" class=\"data row10 col5\" >0.3483</td>\n",
       "      <td id=\"T_be868_row10_col6\" class=\"data row10 col6\" >0.3793</td>\n",
       "    </tr>\n",
       "    <tr>\n",
       "      <th id=\"T_be868_level0_row11\" class=\"row_heading level0 row11\" >Std</th>\n",
       "      <td id=\"T_be868_row11_col0\" class=\"data row11 col0\" >0.0038</td>\n",
       "      <td id=\"T_be868_row11_col1\" class=\"data row11 col1\" >0.0159</td>\n",
       "      <td id=\"T_be868_row11_col2\" class=\"data row11 col2\" >0.0175</td>\n",
       "      <td id=\"T_be868_row11_col3\" class=\"data row11 col3\" >0.0210</td>\n",
       "      <td id=\"T_be868_row11_col4\" class=\"data row11 col4\" >0.0157</td>\n",
       "      <td id=\"T_be868_row11_col5\" class=\"data row11 col5\" >0.0156</td>\n",
       "      <td id=\"T_be868_row11_col6\" class=\"data row11 col6\" >0.0150</td>\n",
       "    </tr>\n",
       "  </tbody>\n",
       "</table>\n"
      ],
      "text/plain": [
       "<pandas.io.formats.style.Styler at 0x267a4a524c0>"
      ]
     },
     "metadata": {},
     "output_type": "display_data"
    },
    {
     "data": {
      "text/html": [],
      "text/plain": [
       "<IPython.core.display.HTML object>"
      ]
     },
     "metadata": {},
     "output_type": "display_data"
    }
   ],
   "source": [
    "calibrated_rf = calibrate_model(rf)"
   ]
  },
  {
   "cell_type": "code",
   "execution_count": 31,
   "metadata": {
    "colab": {},
    "colab_type": "code",
    "id": "hE6y4LlG4Eqb",
    "outputId": "25c6a67d-da1c-465d-ab8f-9953664adda8",
    "pycharm": {
     "name": "#%%\n"
    }
   },
   "outputs": [
    {
     "data": {
      "text/html": [],
      "text/plain": [
       "<IPython.core.display.HTML object>"
      ]
     },
     "metadata": {},
     "output_type": "display_data"
    },
    {
     "data": {
      "image/png": "[encoded data removed]",
      "text/plain": [
       "<Figure size 700x600 with 1 Axes>"
      ]
     },
     "metadata": {},
     "output_type": "display_data"
    }
   ],
   "source": [
    "plot_model(calibrated_rf, plot='calibration')"
   ]
  },
  {
   "cell_type": "markdown",
   "metadata": {
    "colab_type": "text",
    "id": "k9pb2gWR4Eqw",
    "pycharm": {
     "name": "#%% md\n"
    }
   },
   "source": [
    "Notice how different the above 2 plots look. One is before calibration and one is after. A perfectly calibrated classifier will follow the black dotted line in the above plots. Not only is `calibrated_rf` better calibrated but the `AUC` has also improved from `0.7591` to `0.7646`. By default, `calibrate_model()` uses the `sigmoid` method which corresponds to Platt's approach. The other available method is `isotonic` which is a non-parametric approach. See an example of calibration using the `isotonic` method below:  "
   ]
  },
  {
   "cell_type": "code",
   "execution_count": 32,
   "metadata": {
    "colab": {},
    "colab_type": "code",
    "id": "I0WKZOK14Eqy",
    "outputId": "a7144f54-0260-470b-dd0a-0ebb512894d4",
    "pycharm": {
     "name": "#%%\n"
    }
   },
   "outputs": [
    {
     "data": {
      "text/html": [],
      "text/plain": [
       "<IPython.core.display.HTML object>"
      ]
     },
     "metadata": {},
     "output_type": "display_data"
    },
    {
     "data": {
      "text/html": [
       "<style type=\"text/css\">\n",
       "#T_37978_row10_col0, #T_37978_row10_col1, #T_37978_row10_col2, #T_37978_row10_col3, #T_37978_row10_col4, #T_37978_row10_col5, #T_37978_row10_col6 {\n",
       "  background: yellow;\n",
       "}\n",
       "</style>\n",
       "<table id=\"T_37978\">\n",
       "  <thead>\n",
       "    <tr>\n",
       "      <th class=\"blank level0\" >&nbsp;</th>\n",
       "      <th id=\"T_37978_level0_col0\" class=\"col_heading level0 col0\" >Accuracy</th>\n",
       "      <th id=\"T_37978_level0_col1\" class=\"col_heading level0 col1\" >AUC</th>\n",
       "      <th id=\"T_37978_level0_col2\" class=\"col_heading level0 col2\" >Recall</th>\n",
       "      <th id=\"T_37978_level0_col3\" class=\"col_heading level0 col3\" >Prec.</th>\n",
       "      <th id=\"T_37978_level0_col4\" class=\"col_heading level0 col4\" >F1</th>\n",
       "      <th id=\"T_37978_level0_col5\" class=\"col_heading level0 col5\" >Kappa</th>\n",
       "      <th id=\"T_37978_level0_col6\" class=\"col_heading level0 col6\" >MCC</th>\n",
       "    </tr>\n",
       "    <tr>\n",
       "      <th class=\"index_name level0\" >Fold</th>\n",
       "      <th class=\"blank col0\" >&nbsp;</th>\n",
       "      <th class=\"blank col1\" >&nbsp;</th>\n",
       "      <th class=\"blank col2\" >&nbsp;</th>\n",
       "      <th class=\"blank col3\" >&nbsp;</th>\n",
       "      <th class=\"blank col4\" >&nbsp;</th>\n",
       "      <th class=\"blank col5\" >&nbsp;</th>\n",
       "      <th class=\"blank col6\" >&nbsp;</th>\n",
       "    </tr>\n",
       "  </thead>\n",
       "  <tbody>\n",
       "    <tr>\n",
       "      <th id=\"T_37978_level0_row0\" class=\"row_heading level0 row0\" >0</th>\n",
       "      <td id=\"T_37978_row0_col0\" class=\"data row0 col0\" >0.8221</td>\n",
       "      <td id=\"T_37978_row0_col1\" class=\"data row0 col1\" >0.7758</td>\n",
       "      <td id=\"T_37978_row0_col2\" class=\"data row0 col2\" >0.3711</td>\n",
       "      <td id=\"T_37978_row0_col3\" class=\"data row0 col3\" >0.6788</td>\n",
       "      <td id=\"T_37978_row0_col4\" class=\"data row0 col4\" >0.4799</td>\n",
       "      <td id=\"T_37978_row0_col5\" class=\"data row0 col5\" >0.3834</td>\n",
       "      <td id=\"T_37978_row0_col6\" class=\"data row0 col6\" >0.4089</td>\n",
       "    </tr>\n",
       "    <tr>\n",
       "      <th id=\"T_37978_level0_row1\" class=\"row_heading level0 row1\" >1</th>\n",
       "      <td id=\"T_37978_row1_col0\" class=\"data row1 col0\" >0.8177</td>\n",
       "      <td id=\"T_37978_row1_col1\" class=\"data row1 col1\" >0.7755</td>\n",
       "      <td id=\"T_37978_row1_col2\" class=\"data row1 col2\" >0.3569</td>\n",
       "      <td id=\"T_37978_row1_col3\" class=\"data row1 col3\" >0.6632</td>\n",
       "      <td id=\"T_37978_row1_col4\" class=\"data row1 col4\" >0.4641</td>\n",
       "      <td id=\"T_37978_row1_col5\" class=\"data row1 col5\" >0.3659</td>\n",
       "      <td id=\"T_37978_row1_col6\" class=\"data row1 col6\" >0.3915</td>\n",
       "    </tr>\n",
       "    <tr>\n",
       "      <th id=\"T_37978_level0_row2\" class=\"row_heading level0 row2\" >2</th>\n",
       "      <td id=\"T_37978_row2_col0\" class=\"data row2 col0\" >0.8202</td>\n",
       "      <td id=\"T_37978_row2_col1\" class=\"data row2 col1\" >0.8019</td>\n",
       "      <td id=\"T_37978_row2_col2\" class=\"data row2 col2\" >0.4023</td>\n",
       "      <td id=\"T_37978_row2_col3\" class=\"data row2 col3\" >0.6514</td>\n",
       "      <td id=\"T_37978_row2_col4\" class=\"data row2 col4\" >0.4974</td>\n",
       "      <td id=\"T_37978_row2_col5\" class=\"data row2 col5\" >0.3952</td>\n",
       "      <td id=\"T_37978_row2_col6\" class=\"data row2 col6\" >0.4123</td>\n",
       "    </tr>\n",
       "    <tr>\n",
       "      <th id=\"T_37978_level0_row3\" class=\"row_heading level0 row3\" >3</th>\n",
       "      <td id=\"T_37978_row3_col0\" class=\"data row3 col0\" >0.8139</td>\n",
       "      <td id=\"T_37978_row3_col1\" class=\"data row3 col1\" >0.7529</td>\n",
       "      <td id=\"T_37978_row3_col2\" class=\"data row3 col2\" >0.3428</td>\n",
       "      <td id=\"T_37978_row3_col3\" class=\"data row3 col3\" >0.6505</td>\n",
       "      <td id=\"T_37978_row3_col4\" class=\"data row3 col4\" >0.4490</td>\n",
       "      <td id=\"T_37978_row3_col5\" class=\"data row3 col5\" >0.3497</td>\n",
       "      <td id=\"T_37978_row3_col6\" class=\"data row3 col6\" >0.3757</td>\n",
       "    </tr>\n",
       "    <tr>\n",
       "      <th id=\"T_37978_level0_row4\" class=\"row_heading level0 row4\" >4</th>\n",
       "      <td id=\"T_37978_row4_col0\" class=\"data row4 col0\" >0.8114</td>\n",
       "      <td id=\"T_37978_row4_col1\" class=\"data row4 col1\" >0.7656</td>\n",
       "      <td id=\"T_37978_row4_col2\" class=\"data row4 col2\" >0.3371</td>\n",
       "      <td id=\"T_37978_row4_col3\" class=\"data row4 col3\" >0.6398</td>\n",
       "      <td id=\"T_37978_row4_col4\" class=\"data row4 col4\" >0.4416</td>\n",
       "      <td id=\"T_37978_row4_col5\" class=\"data row4 col5\" >0.3410</td>\n",
       "      <td id=\"T_37978_row4_col6\" class=\"data row4 col6\" >0.3663</td>\n",
       "    </tr>\n",
       "    <tr>\n",
       "      <th id=\"T_37978_level0_row5\" class=\"row_heading level0 row5\" >5</th>\n",
       "      <td id=\"T_37978_row5_col0\" class=\"data row5 col0\" >0.8164</td>\n",
       "      <td id=\"T_37978_row5_col1\" class=\"data row5 col1\" >0.7807</td>\n",
       "      <td id=\"T_37978_row5_col2\" class=\"data row5 col2\" >0.3371</td>\n",
       "      <td id=\"T_37978_row5_col3\" class=\"data row5 col3\" >0.6685</td>\n",
       "      <td id=\"T_37978_row5_col4\" class=\"data row5 col4\" >0.4482</td>\n",
       "      <td id=\"T_37978_row5_col5\" class=\"data row5 col5\" >0.3521</td>\n",
       "      <td id=\"T_37978_row5_col6\" class=\"data row5 col6\" >0.3819</td>\n",
       "    </tr>\n",
       "    <tr>\n",
       "      <th id=\"T_37978_level0_row6\" class=\"row_heading level0 row6\" >6</th>\n",
       "      <td id=\"T_37978_row6_col0\" class=\"data row6 col0\" >0.8102</td>\n",
       "      <td id=\"T_37978_row6_col1\" class=\"data row6 col1\" >0.7477</td>\n",
       "      <td id=\"T_37978_row6_col2\" class=\"data row6 col2\" >0.3569</td>\n",
       "      <td id=\"T_37978_row6_col3\" class=\"data row6 col3\" >0.6238</td>\n",
       "      <td id=\"T_37978_row6_col4\" class=\"data row6 col4\" >0.4541</td>\n",
       "      <td id=\"T_37978_row6_col5\" class=\"data row6 col5\" >0.3493</td>\n",
       "      <td id=\"T_37978_row6_col6\" class=\"data row6 col6\" >0.3692</td>\n",
       "    </tr>\n",
       "    <tr>\n",
       "      <th id=\"T_37978_level0_row7\" class=\"row_heading level0 row7\" >7</th>\n",
       "      <td id=\"T_37978_row7_col0\" class=\"data row7 col0\" >0.8264</td>\n",
       "      <td id=\"T_37978_row7_col1\" class=\"data row7 col1\" >0.7893</td>\n",
       "      <td id=\"T_37978_row7_col2\" class=\"data row7 col2\" >0.3683</td>\n",
       "      <td id=\"T_37978_row7_col3\" class=\"data row7 col3\" >0.7065</td>\n",
       "      <td id=\"T_37978_row7_col4\" class=\"data row7 col4\" >0.4842</td>\n",
       "      <td id=\"T_37978_row7_col5\" class=\"data row7 col5\" >0.3920</td>\n",
       "      <td id=\"T_37978_row7_col6\" class=\"data row7 col6\" >0.4221</td>\n",
       "    </tr>\n",
       "    <tr>\n",
       "      <th id=\"T_37978_level0_row8\" class=\"row_heading level0 row8\" >8</th>\n",
       "      <td id=\"T_37978_row8_col0\" class=\"data row8 col0\" >0.8164</td>\n",
       "      <td id=\"T_37978_row8_col1\" class=\"data row8 col1\" >0.7590</td>\n",
       "      <td id=\"T_37978_row8_col2\" class=\"data row8 col2\" >0.3484</td>\n",
       "      <td id=\"T_37978_row8_col3\" class=\"data row8 col3\" >0.6613</td>\n",
       "      <td id=\"T_37978_row8_col4\" class=\"data row8 col4\" >0.4564</td>\n",
       "      <td id=\"T_37978_row8_col5\" class=\"data row8 col5\" >0.3585</td>\n",
       "      <td id=\"T_37978_row8_col6\" class=\"data row8 col6\" >0.3851</td>\n",
       "    </tr>\n",
       "    <tr>\n",
       "      <th id=\"T_37978_level0_row9\" class=\"row_heading level0 row9\" >9</th>\n",
       "      <td id=\"T_37978_row9_col0\" class=\"data row9 col0\" >0.8107</td>\n",
       "      <td id=\"T_37978_row9_col1\" class=\"data row9 col1\" >0.7716</td>\n",
       "      <td id=\"T_37978_row9_col2\" class=\"data row9 col2\" >0.3626</td>\n",
       "      <td id=\"T_37978_row9_col3\" class=\"data row9 col3\" >0.6244</td>\n",
       "      <td id=\"T_37978_row9_col4\" class=\"data row9 col4\" >0.4588</td>\n",
       "      <td id=\"T_37978_row9_col5\" class=\"data row9 col5\" >0.3537</td>\n",
       "      <td id=\"T_37978_row9_col6\" class=\"data row9 col6\" >0.3729</td>\n",
       "    </tr>\n",
       "    <tr>\n",
       "      <th id=\"T_37978_level0_row10\" class=\"row_heading level0 row10\" >Mean</th>\n",
       "      <td id=\"T_37978_row10_col0\" class=\"data row10 col0\" >0.8165</td>\n",
       "      <td id=\"T_37978_row10_col1\" class=\"data row10 col1\" >0.7720</td>\n",
       "      <td id=\"T_37978_row10_col2\" class=\"data row10 col2\" >0.3584</td>\n",
       "      <td id=\"T_37978_row10_col3\" class=\"data row10 col3\" >0.6568</td>\n",
       "      <td id=\"T_37978_row10_col4\" class=\"data row10 col4\" >0.4633</td>\n",
       "      <td id=\"T_37978_row10_col5\" class=\"data row10 col5\" >0.3641</td>\n",
       "      <td id=\"T_37978_row10_col6\" class=\"data row10 col6\" >0.3886</td>\n",
       "    </tr>\n",
       "    <tr>\n",
       "      <th id=\"T_37978_level0_row11\" class=\"row_heading level0 row11\" >Std</th>\n",
       "      <td id=\"T_37978_row11_col0\" class=\"data row11 col0\" >0.0050</td>\n",
       "      <td id=\"T_37978_row11_col1\" class=\"data row11 col1\" >0.0157</td>\n",
       "      <td id=\"T_37978_row11_col2\" class=\"data row11 col2\" >0.0186</td>\n",
       "      <td id=\"T_37978_row11_col3\" class=\"data row11 col3\" >0.0238</td>\n",
       "      <td id=\"T_37978_row11_col4\" class=\"data row11 col4\" >0.0171</td>\n",
       "      <td id=\"T_37978_row11_col5\" class=\"data row11 col5\" >0.0184</td>\n",
       "      <td id=\"T_37978_row11_col6\" class=\"data row11 col6\" >0.0186</td>\n",
       "    </tr>\n",
       "  </tbody>\n",
       "</table>\n"
      ],
      "text/plain": [
       "<pandas.io.formats.style.Styler at 0x267a3f9b040>"
      ]
     },
     "metadata": {},
     "output_type": "display_data"
    },
    {
     "data": {
      "text/html": [],
      "text/plain": [
       "<IPython.core.display.HTML object>"
      ]
     },
     "metadata": {},
     "output_type": "display_data"
    }
   ],
   "source": [
    "calibrated_rf_isotonic = calibrate_model(rf, method = 'isotonic')"
   ]
  },
  {
   "cell_type": "code",
   "execution_count": 33,
   "metadata": {
    "colab": {},
    "colab_type": "code",
    "id": "HIoNaLU14Eq_",
    "outputId": "05551e6f-f1e9-43c7-dcc2-96617424dcab",
    "pycharm": {
     "name": "#%%\n"
    }
   },
   "outputs": [
    {
     "data": {
      "text/html": [],
      "text/plain": [
       "<IPython.core.display.HTML object>"
      ]
     },
     "metadata": {},
     "output_type": "display_data"
    },
    {
     "data": {
      "image/png": "[encoded data removed]",
      "text/plain": [
       "<Figure size 700x600 with 1 Axes>"
      ]
     },
     "metadata": {},
     "output_type": "display_data"
    }
   ],
   "source": [
    "plot_model(calibrated_rf_isotonic, plot='calibration')"
   ]
  },
  {
   "cell_type": "markdown",
   "metadata": {
    "pycharm": {
     "name": "#%% md\n"
    }
   },
   "source": [
    "# Experiment Logging"
   ]
  },
  {
   "cell_type": "markdown",
   "metadata": {
    "pycharm": {
     "name": "#%% md\n"
    }
   },
   "source": [
    "PyCaret >= 2.0 embeds MLflow Tracking component as a backend API and UI for logging parameters, code versions, metrics, and output files when running your machine learning code and for later visualizing the results. To log your experiments in pycaret simply use `log_experiment` and `experiment_name` parameter in the `setup` function, as we did in this example.\n",
    "\n",
    "You can start the UI on `https://localhost:5000`. Simply initiate the MLFlow server from command line or from notebook. See example below:"
   ]
  },
  {
   "cell_type": "code",
   "execution_count": 34,
   "metadata": {
    "pycharm": {
     "name": "#%%\n"
    }
   },
   "outputs": [],
   "source": [
    "# to start the MLFlow server from notebook:\n",
    "# !mlflow ui "
   ]
  },
  {
   "cell_type": "markdown",
   "metadata": {
    "pycharm": {
     "name": "#%% md\n"
    }
   },
   "source": [
    "### Open localhost:5000 on your browser (below is example of how UI looks like)\n",
    "![title](https://i2.wp.com/pycaret.org/wp-content/uploads/2020/07/classification_mlflow_ui.png?resize=1080%2C508&ssl=1)"
   ]
  },
  {
   "cell_type": "markdown",
   "metadata": {
    "colab_type": "text",
    "id": "uWKoxcgK4EtG",
    "pycharm": {
     "name": "#%% md\n"
    }
   },
   "source": [
    "# Wrap-up / Next Steps?"
   ]
  },
  {
   "cell_type": "markdown",
   "metadata": {
    "colab_type": "text",
    "id": "RnmdZxsq4EtI",
    "pycharm": {
     "name": "#%% md\n"
    }
   },
   "source": [
    "We have covered a lot of new concepts in this tutorial. Most importantly we have seen how to use exploratory data analysis to customize a pipeline in `setup()` which has improved the results considerably when compared to what we saw earlier in __[Binary Classification Tutorial (CLF101) - Level Beginner](https://github.com/pycaret/pycaret/blob/master/tutorials/Binary%20Classification%20Tutorial%20Level%20Beginner%20-%20%20CLF101.ipynb)__. We have also learned how to perform and tune ensembling in PyCaret.\n",
    "\n",
    "There are however a few more advanced things to cover in `pycaret.classification` which include defining and optimizing custom cost functions, interpreting more complex tree based models using shapley values, advanced ensembling techniques such as multiple layer stacknet and more pre-processing pipeline methods. We will cover all of this in our next and final tutorial in the `pycaret.classification` series. \n",
    "\n",
    "See you at the next tutorial. Follow the link to __[Binary Classification Tutorial (CLF103) - Level Expert](https://github.com/pycaret/pycaret/blob/master/tutorials/Binary%20Classification%20Tutorial%20Level%20Expert%20-%20CLF103.ipynb)__"
   ]
  }
 ],
 "metadata": {
  "colab": {
   "collapsed_sections": [
    "2B2swEt84Ee1",
    "fGHO07ET4EfB",
    "GlddJmh74Eh4",
    "B4o2brP84Eih",
    "QxHq04mC4EjB",
    "ft5E6kE24EjJ",
    "7EBE1vve4EjZ",
    "n_Hp176K4Ejw",
    "eXWxVxQb4Ek5",
    "7e_JvjjK4ElM",
    "oz-x8Ms84Elr",
    "pDrdubjb4Emm",
    "HZw7sl394EoG",
    "bhtJHidg4EpR",
    "dh4lFCYB4ErJ",
    "oS3ag9Qs4Ero",
    "HbU3cy1H4Er5",
    "WJd6Vk7b4EsY",
    "ZwoqVfen4Esm",
    "uWKoxcgK4EtG"
   ],
   "name": "Binary Classification Tutorial (CLF102) - Level Intermediate (ACN_EDITS 2).ipynb",
   "provenance": []
  },
  "kernelspec": {
   "display_name": "pycaretrc5",
   "language": "python",
   "name": "pycaretrc5"
  },
  "language_info": {
   "codemirror_mode": {
    "name": "ipython",
    "version": 3
   },
   "file_extension": ".py",
   "mimetype": "text/x-python",
   "name": "python",
   "nbconvert_exporter": "python",
   "pygments_lexer": "ipython3",
   "version": "3.8.15"
  }
 },
 "nbformat": 4,
 "nbformat_minor": 1
}
